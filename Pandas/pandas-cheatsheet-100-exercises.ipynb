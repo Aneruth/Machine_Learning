{
 "cells": [
  {
   "cell_type": "code",
   "execution_count": 1,
   "metadata": {
    "_cell_guid": "b1076dfc-b9ad-4769-8c92-a6c4dae69d19",
    "_uuid": "8f2839f25d086af736a60e9eeb907d3b93b6e0e5",
    "execution": {
     "iopub.execute_input": "2020-09-23T01:20:26.602737Z",
     "iopub.status.busy": "2020-09-23T01:20:26.601934Z",
     "iopub.status.idle": "2020-09-23T01:20:26.620297Z",
     "shell.execute_reply": "2020-09-23T01:20:26.619800Z"
    },
    "papermill": {
     "duration": 0.106786,
     "end_time": "2020-09-23T01:20:26.620409",
     "exception": false,
     "start_time": "2020-09-23T01:20:26.513623",
     "status": "completed"
    },
    "tags": []
   },
   "outputs": [
    {
     "name": "stdout",
     "output_type": "stream",
     "text": [
      "/kaggle/input/consumer-complaints-financial-products/Consumer_Complaints.csv\n",
      "/kaggle/input/netflix-shows/netflix_titles.csv\n",
      "/kaggle/input/health-insurance-cross-sell-prediction/sample_submission.csv\n",
      "/kaggle/input/health-insurance-cross-sell-prediction/test.csv\n",
      "/kaggle/input/health-insurance-cross-sell-prediction/train.csv\n",
      "/kaggle/input/ipl-data-set/deliveries.csv\n",
      "/kaggle/input/ipl-data-set/teamwise_home_and_away.csv\n",
      "/kaggle/input/ipl-data-set/Players.xlsx\n",
      "/kaggle/input/ipl-data-set/teams.csv\n",
      "/kaggle/input/ipl-data-set/matches.csv\n",
      "/kaggle/input/ipl-data-set/most_runs_average_strikerate.csv\n",
      "/kaggle/input/arxiv/arxiv-metadata-oai-snapshot.json\n",
      "/kaggle/input/60k-stack-overflow-questions-with-quality-rate/data.csv\n",
      "/kaggle/input/healthcare-analytics/sample_submmission.csv\n",
      "/kaggle/input/healthcare-analytics/test.csv\n",
      "/kaggle/input/healthcare-analytics/Train/Train.csv\n",
      "/kaggle/input/healthcare-analytics/Train/Data_Dictionary.xlsx\n",
      "/kaggle/input/healthcare-analytics/Train/Second_Health_Camp_Attended.csv\n",
      "/kaggle/input/healthcare-analytics/Train/test.csv\n",
      "/kaggle/input/healthcare-analytics/Train/First_Health_Camp_Attended.csv\n",
      "/kaggle/input/healthcare-analytics/Train/Patient_Profile.csv\n",
      "/kaggle/input/healthcare-analytics/Train/Third_Health_Camp_Attended.csv\n",
      "/kaggle/input/healthcare-analytics/Train/Health_Camp_Detail.csv\n",
      "/kaggle/input/solar-power-generation-data/Plant_2_Weather_Sensor_Data.csv\n",
      "/kaggle/input/solar-power-generation-data/Plant_1_Generation_Data.csv\n",
      "/kaggle/input/solar-power-generation-data/Plant_2_Generation_Data.csv\n",
      "/kaggle/input/solar-power-generation-data/Plant_1_Weather_Sensor_Data.csv\n",
      "/kaggle/input/age-gender-and-ethnicity-face-data-csv/age_gender.csv\n",
      "/kaggle/input/us-elections-dataset/usa-2016-presidential-election-by-county.csv\n",
      "/kaggle/input/us-elections-dataset/us-2016-primary-results.csv\n",
      "/kaggle/input/us-elections-dataset/1976-2018-house2.csv\n",
      "/kaggle/input/us-elections-dataset/2016-precinct-house.csv\n",
      "/kaggle/input/us-elections-dataset/2012_US_elect_county.csv\n",
      "/kaggle/input/us-elections-dataset/president-1976-2016.csv\n",
      "/kaggle/input/us-elections-dataset/1976-2018-senate.csv\n",
      "/kaggle/input/datasets-for-pandas/uk-500.csv\n",
      "/kaggle/input/datasets-for-pandas/score.csv\n",
      "/kaggle/input/datasets-for-pandas/abc.csv\n",
      "/kaggle/input/datasets-for-pandas/data1.csv\n",
      "/kaggle/input/datasets-for-pandas/abc2.csv\n"
     ]
    }
   ],
   "source": [
    "# This Python 3 environment comes with many helpful analytics libraries installed\n",
    "# It is defined by the kaggle/python Docker image: https://github.com/kaggle/docker-python\n",
    "# For example, here's several helpful packages to load\n",
    "\n",
    "import numpy as np # linear algebra\n",
    "import pandas as pd # data processing, CSV file I/O (e.g. pd.read_csv)\n",
    "\n",
    "# Input data files are available in the read-only \"../input/\" directory\n",
    "# For example, running this (by clicking run or pressing Shift+Enter) will list all files under the input directory\n",
    "\n",
    "import os\n",
    "for dirname, _, filenames in os.walk('/kaggle/input'):\n",
    "    for filename in filenames:\n",
    "        print(os.path.join(dirname, filename))\n",
    "\n",
    "# You can write up to 5GB to the current directory (/kaggle/working/) that gets preserved as output when you create a version using \"Save & Run All\" \n",
    "# You can also write temporary files to /kaggle/temp/, but they won't be saved outside of the current session"
   ]
  },
  {
   "cell_type": "code",
   "execution_count": 2,
   "metadata": {
    "execution": {
     "iopub.execute_input": "2020-09-23T01:20:26.787827Z",
     "iopub.status.busy": "2020-09-23T01:20:26.787239Z",
     "iopub.status.idle": "2020-09-23T01:20:26.789939Z",
     "shell.execute_reply": "2020-09-23T01:20:26.789475Z"
    },
    "papermill": {
     "duration": 0.088839,
     "end_time": "2020-09-23T01:20:26.790063",
     "exception": false,
     "start_time": "2020-09-23T01:20:26.701224",
     "status": "completed"
    },
    "tags": []
   },
   "outputs": [],
   "source": [
    "import pandas\n",
    "import pandas as pd\n",
    "import numpy\n",
    "import numpy as np\n",
    "import random as rn\n",
    "import functools\n",
    "import re\n",
    "\n",
    "import warnings\n",
    "warnings.filterwarnings('ignore')"
   ]
  },
  {
   "cell_type": "markdown",
   "metadata": {
    "_cell_guid": "79c7e3d0-c299-4dcb-8224-4455121ee9b0",
    "_uuid": "d629ff2d2480ee46fbb7e2d37f6b5fab8052498a",
    "collapsed": true,
    "papermill": {
     "duration": 0.080972,
     "end_time": "2020-09-23T01:20:26.952557",
     "exception": false,
     "start_time": "2020-09-23T01:20:26.871585",
     "status": "completed"
    },
    "tags": []
   },
   "source": [
    "\n",
    "<a id=\"top\"></a>\n",
    "\n",
    "<div class=\"list-group\" id=\"list-tab\" role=\"tablist\">\n",
    "\n",
    "<font color=\"teal\" size=+1><b>Content List</b></font>\n",
    "    \n",
    "* [1. Check Pandas Version](#1)\n",
    "* [2. Create Numpy Array: Create three columns with Zero values](#2)\n",
    "* [3. iLoc in Pandas : Print first five rows](#3)\n",
    "* [4. Create Random integer between 2 to 10 with 4 items](#4)\n",
    "* [5. Create Random integer between 0 to 100](#5)\n",
    "* [6. Create Random integer between 2 to 10 with 4 columns](#6)\n",
    "* [7. 2D array with random between 0 and 5](#7)\n",
    "* [8. Create Random integer between 0 to 100 with 10 itmes (2 rows, 5 columns)](#8)\n",
    "* [9. 3 rows, 2 columns in pandas](#9)\n",
    "* [10. Fill Random Science and Math Marks](#10)\n",
    "* [11. CSV to DatRaframe (from_csv)](#11)\n",
    "* [12. CSV to Dataframe (from_csv)](#12)\n",
    "* [13. First 4 rows and 2 columns of CSV](#13)\n",
    "* [14. Show even rows and first three columns](#14)\n",
    "* [15. New columns as sum of all](#15)\n",
    "* [16. Delete Rows of one column where the value is less than 50](#16)\n",
    "* [17. Delete with Query](#17)\n",
    "* [18. Skip single row](#18)\n",
    "* [19. Skip multiple rows](#19)\n",
    "* [20. Select Column by Index](#20)\n",
    "* [21. Skip rows](#21)\n",
    "* [22. String to Dataframe](#22)\n",
    "* [23. New columns as max of other columns](#23)\n",
    "* [24. New columns as max of other columns](#24)\n",
    "* [25. New columns as max of other columns](#25)\n",
    "* [26. Fill with average](#26)\n",
    "* [27. New columns as sum of all](#27)\n",
    "* [28. Unicode issue and fix](#28)\n",
    "* [29. Fill with average](#29)\n",
    "* [30. Last 4 rows](#30)\n",
    "* [31. Expanding Apply](#31)\n",
    "* [32. Get 3 and 4th row](#32)\n",
    "* [33. Last 4th to 1st](#33)\n",
    "* [34. iloc position slice](#34)\n",
    "* [35. Loc - iloc - ix - at - iat](#35)\n",
    "* [36. Random data](#36)\n",
    "* [37. Filter with the value comparison](#37)\n",
    "* [38. Filter between 5 and 10 on col 1](#38)\n",
    "* [39. Filter between 15 to 20](#39)\n",
    "* [40. Filter between 15 to 33](#40)\n",
    "* [41. Custom method and xrnage on dataframe](#41)\n",
    "* [42. Set index with date column](#42)\n",
    "* [43. Change columns based on other columns](#43)\n",
    "* [44. Change multiple columns based on one column values](#44)\n",
    "* [45. Pandas Mask](#45)\n",
    "* [46. Check high or low comparing the column against 5](#46)\n",
    "* [47. Student Marks (Pass or Fail)](#47)\n",
    "* [48. Get passed grades](#48)\n",
    "* [49. Students passed in Language and Math](#49)\n",
    "* [50. Students passed in Language and Science](#50)\n",
    "* [51. Loc with Label oriented slicing](#51)\n",
    "* [52. iloc with positional slicing](#52)\n",
    "* [53. Label between numbers](#53)\n",
    "* [54. Stars with names](#54)\n",
    "* [55. Row label selection Age is above 25 and movies above 25](#55)\n",
    "* [56. Stars in in certain ages](#56)\n",
    "* [57. Inverse opeartor !( above one.45 and below two.50 )](#57)\n",
    "* [58. Apply custom function](#58)\n",
    "* [59. Group by single column](#59)\n",
    "* [60. Creating new Columns using Applymap Sides & applymap](#60)\n",
    "* [61. Replacing some values with mean of the rest of a group](#61)\n",
    "* [62. Students passed in Language or Science (any one subject)](#62)\n",
    "* [63. possible errors: TypeError: 'Series' objects are mutable, thus they cannot be hashed](#63)\n",
    "* [64. argsort Select rows with data closest to certain value using argsort](#64)\n",
    "* [65. argsort with stars](#65)\n",
    "* [66. Argsort with actors - young stars (near by 17)](#66)\n",
    "* [67. Binary operators - Stars with - younger than 19 - very young](#67)\n",
    "* [68. Young, Higher Salary, and Higher Position](#68)\n",
    "* [69. Rename columns](#69)\n",
    "* [70. Add a new column](#70)\n",
    "* [71. Drop a column](#71)\n",
    "* [72. Drop multiple columns](#72)\n",
    "* [73. Drop first and last column](#73)\n",
    "* [74. Delete by pop function](#74)\n",
    "* [75. DataFrame.from_items](#75)\n",
    "* [76. Pandas to list](#76)\n",
    "* [77. Pandas rows to list](#77)\n",
    "* [78. Pandas rows to array](#78)\n",
    "* [79. Pandas rows to map](#79)\n",
    "* [80. Pandas rows to map](#80)\n",
    "* [81. Drop duplicates](#81)\n",
    "* [82. Selecting multiple columns](#82)\n",
    "* [83. Selecting multiple columns](#83)\n",
    "* [84. Row and Column Slicing](#84)\n",
    "* [85. Iterating rows](#85)\n",
    "* [86. Iterating tuples](#86)\n",
    "* [87. Iterating rows and columns](#87)\n",
    "* [88. List of Dictionary to Dataframe](#88)\n",
    "* [89. Is Null](#89)\n",
    "* [90. Sum of all nan](#90)\n",
    "* [91. Sum of all nan rowwise](#91)\n",
    "* [92. Sum of all nan as list](#92)\n",
    "* [93. Change the order of columns](#93)\n",
    "* [94. Drop multiple rows](#94)\n",
    "* [95. Drop multiple rows by row name](#95)\n",
    "* [96. Get group](#96)\n",
    "* [97. Get the the odd row](#97)\n",
    "* [98. Get the even columns](#98)\n",
    "* [99. Odd rows and even columns](#99)\n",
    "* [100. Drop duplicates](#100)\n",
    "* [101. Drop all duplicates](#101)\n",
    "* [102. Basic group by](#102)\n",
    "* [103. Missing Data: Make A'th 3rd coulmn Nan](#103)\n",
    "* [104. Reindex](#104)   \n",
    "* [104. Column reset Nan](#105)       "
   ]
  },
  {
   "cell_type": "code",
   "execution_count": 3,
   "metadata": {
    "execution": {
     "iopub.execute_input": "2020-09-23T01:20:27.118760Z",
     "iopub.status.busy": "2020-09-23T01:20:27.118070Z",
     "iopub.status.idle": "2020-09-23T01:20:27.120745Z",
     "shell.execute_reply": "2020-09-23T01:20:27.120231Z"
    },
    "papermill": {
     "duration": 0.087799,
     "end_time": "2020-09-23T01:20:27.120846",
     "exception": false,
     "start_time": "2020-09-23T01:20:27.033047",
     "status": "completed"
    },
    "tags": []
   },
   "outputs": [],
   "source": [
    "import pandas\n",
    "import pandas as pd\n",
    "import numpy\n",
    "import numpy as np\n",
    "import random as rn\n",
    "import functools\n",
    "import re"
   ]
  },
  {
   "cell_type": "markdown",
   "metadata": {
    "papermill": {
     "duration": 0.078606,
     "end_time": "2020-09-23T01:20:27.278708",
     "exception": false,
     "start_time": "2020-09-23T01:20:27.200102",
     "status": "completed"
    },
    "tags": []
   },
   "source": [
    "\n",
    "\n"
   ]
  },
  {
   "cell_type": "markdown",
   "metadata": {
    "papermill": {
     "duration": 0.078441,
     "end_time": "2020-09-23T01:20:27.435818",
     "exception": false,
     "start_time": "2020-09-23T01:20:27.357377",
     "status": "completed"
    },
    "tags": []
   },
   "source": [
    "<div style=\"\">\n",
    "    <div style=\"float: left; width: 80%;\">\n",
    "        <a id=\"1\"></a>\n",
    "        <font><b>Task 1:</b></font>\n",
    "        <br><br>\n",
    "        Check Pandas Version\n",
    "    </div>\n",
    "    <div style=\"float: right;\">\n",
    "        <a href=\"#top\" class=\"btn btn-primary btn-sm\" role=\"button\" aria-pressed=\"true\" style=\"color:white\" data-toggle=\"popover\" title=\"go to Top\">Go to Top</a>\n",
    "    </div>\n",
    "    <br style=\"clear: left;\" />\n",
    "</div>"
   ]
  },
  {
   "cell_type": "code",
   "execution_count": 4,
   "metadata": {
    "execution": {
     "iopub.execute_input": "2020-09-23T01:20:27.599225Z",
     "iopub.status.busy": "2020-09-23T01:20:27.598552Z",
     "iopub.status.idle": "2020-09-23T01:20:27.601367Z",
     "shell.execute_reply": "2020-09-23T01:20:27.601778Z"
    },
    "papermill": {
     "duration": 0.086839,
     "end_time": "2020-09-23T01:20:27.601900",
     "exception": false,
     "start_time": "2020-09-23T01:20:27.515061",
     "status": "completed"
    },
    "tags": []
   },
   "outputs": [
    {
     "name": "stdout",
     "output_type": "stream",
     "text": [
      "Task 1:\n",
      "1.1.1\n"
     ]
    }
   ],
   "source": [
    "print('Task 1:')  \n",
    "print(pd.__version__)"
   ]
  },
  {
   "cell_type": "markdown",
   "metadata": {
    "papermill": {
     "duration": 0.079242,
     "end_time": "2020-09-23T01:20:27.760619",
     "exception": false,
     "start_time": "2020-09-23T01:20:27.681377",
     "status": "completed"
    },
    "tags": []
   },
   "source": [
    "<div style=\"\">\n",
    "    <div style=\"float: left; width: 80%;\">\n",
    "        <a id=\"2\"></a>\n",
    "        <font><b>Task 2:</b></font>\n",
    "        <br><br>\n",
    "        Create Numpy Array\n",
    "        <br>\n",
    "        Create three columns with Zero values\n",
    "    </div>\n",
    "    <div style=\"float: right;\">\n",
    "        <a href=\"#top\" class=\"btn btn-primary btn-sm\" role=\"button\" aria-pressed=\"true\" style=\"color:white\" data-toggle=\"popover\" title=\"go to Top\">Go to Top</a>\n",
    "    </div>\n",
    "    <br style=\"clear: left;\" />\n",
    "</div>"
   ]
  },
  {
   "cell_type": "code",
   "execution_count": 5,
   "metadata": {
    "execution": {
     "iopub.execute_input": "2020-09-23T01:20:27.926435Z",
     "iopub.status.busy": "2020-09-23T01:20:27.925587Z",
     "iopub.status.idle": "2020-09-23T01:20:27.949451Z",
     "shell.execute_reply": "2020-09-23T01:20:27.948995Z"
    },
    "papermill": {
     "duration": 0.106624,
     "end_time": "2020-09-23T01:20:27.949561",
     "exception": false,
     "start_time": "2020-09-23T01:20:27.842937",
     "status": "completed"
    },
    "tags": []
   },
   "outputs": [
    {
     "name": "stdout",
     "output_type": "stream",
     "text": [
      "Task 2:\n",
      "       Col1  Col2  Col3\n",
      "Row1      0   0.0   0.0\n",
      "Row2      0   0.0   0.0\n",
      "Row3      0   0.0   0.0\n",
      "Row4      0   0.0   0.0\n",
      "Row5      0   0.0   0.0\n",
      "Row6      0   0.0   0.0\n",
      "Row7      0   0.0   0.0\n",
      "Row8      0   0.0   0.0\n",
      "Row9      0   0.0   0.0\n",
      "Row10     0   0.0   0.0\n",
      "Row11     0   0.0   0.0\n",
      "Row12     0   0.0   0.0\n",
      "Row13     0   0.0   0.0\n",
      "Row14     0   0.0   0.0\n",
      "Row15     0   0.0   0.0\n",
      "Row16     0   0.0   0.0\n",
      "Row17     0   0.0   0.0\n",
      "Row18     0   0.0   0.0\n",
      "Row19     0   0.0   0.0\n",
      "Row20     0   0.0   0.0\n",
      "    Col1  Col2  Col3\n",
      "0      0   0.0   0.0\n",
      "1      0   0.0   0.0\n",
      "2      0   0.0   0.0\n",
      "3      0   0.0   0.0\n",
      "4      0   0.0   0.0\n",
      "5      0   0.0   0.0\n",
      "6      0   0.0   0.0\n",
      "7      0   0.0   0.0\n",
      "8      0   0.0   0.0\n",
      "9      0   0.0   0.0\n",
      "10     0   0.0   0.0\n",
      "11     0   0.0   0.0\n",
      "12     0   0.0   0.0\n",
      "13     0   0.0   0.0\n",
      "14     0   0.0   0.0\n",
      "15     0   0.0   0.0\n",
      "16     0   0.0   0.0\n",
      "17     0   0.0   0.0\n",
      "18     0   0.0   0.0\n",
      "19     0   0.0   0.0\n"
     ]
    }
   ],
   "source": [
    "print('Task 2:')\n",
    "dtype = [('Col1','int32'), ('Col2','float32'), ('Col3','float32')]\n",
    "values = numpy.zeros(20, dtype=dtype)\n",
    "index = ['Row'+str(i) for i in range(1, len(values)+1)]\n",
    "\n",
    "df = pandas.DataFrame(values, index=index)\n",
    "print(df)\n",
    "\n",
    "df = pandas.DataFrame(values)\n",
    "print(df)"
   ]
  },
  {
   "cell_type": "markdown",
   "metadata": {
    "papermill": {
     "duration": 0.079717,
     "end_time": "2020-09-23T01:20:28.108902",
     "exception": false,
     "start_time": "2020-09-23T01:20:28.029185",
     "status": "completed"
    },
    "tags": []
   },
   "source": [
    "<div style=\"\">\n",
    "    <div style=\"float: left; width: 80%;\">\n",
    "        <a id=\"3\"></a>\n",
    "        <font><b>Task 3:</b></font>\n",
    "        <br><br>\n",
    "        iLoc in Pandas\n",
    "        <br>\n",
    "        Print first five rows\n",
    "    </div>\n",
    "    <div style=\"float: right;\">\n",
    "        <a href=\"#top\" class=\"btn btn-primary btn-sm\" role=\"button\" aria-pressed=\"true\" style=\"color:white\" data-toggle=\"popover\" title=\"go to Top\">Go to Top</a>\n",
    "    </div>\n",
    "    <br style=\"clear: left;\" />\n",
    "</div>"
   ]
  },
  {
   "cell_type": "code",
   "execution_count": 6,
   "metadata": {
    "execution": {
     "iopub.execute_input": "2020-09-23T01:20:28.313223Z",
     "iopub.status.busy": "2020-09-23T01:20:28.312643Z",
     "iopub.status.idle": "2020-09-23T01:20:28.322720Z",
     "shell.execute_reply": "2020-09-23T01:20:28.322302Z"
    },
    "papermill": {
     "duration": 0.133377,
     "end_time": "2020-09-23T01:20:28.322827",
     "exception": false,
     "start_time": "2020-09-23T01:20:28.189450",
     "status": "completed"
    },
    "tags": []
   },
   "outputs": [
    {
     "name": "stdout",
     "output_type": "stream",
     "text": [
      "Task 3:\n",
      "                       0\n",
      "0  capacity,score,length\n",
      "1                1,10,30\n",
      "2                2,20,30\n",
      "3                3,30,40\n"
     ]
    }
   ],
   "source": [
    "print('Task 3:')\n",
    "df = pandas.read_csv('../input/datasets-for-pandas/data1.csv', sep=';', header=None)\n",
    "print(df.iloc[:4]) # 0 - 4 = 5 values"
   ]
  },
  {
   "cell_type": "markdown",
   "metadata": {
    "papermill": {
     "duration": 0.079212,
     "end_time": "2020-09-23T01:20:28.482922",
     "exception": false,
     "start_time": "2020-09-23T01:20:28.403710",
     "status": "completed"
    },
    "tags": []
   },
   "source": [
    "<div style=\"\">\n",
    "    <div style=\"float: left; width: 80%;\">\n",
    "        <a id=\"4\"></a>\n",
    "        <font><b>Task 4:</b></font>\n",
    "        <br><br>\n",
    "        Create Random integer between 2 to 10 with 4 items\n",
    "    </div>\n",
    "    <div style=\"float: right;\">\n",
    "        <a href=\"#top\" class=\"btn btn-primary btn-sm\" role=\"button\" aria-pressed=\"true\" style=\"color:white\" data-toggle=\"popover\" title=\"go to Top\">Go to Top</a>\n",
    "    </div>\n",
    "    <br style=\"clear: left;\" />\n",
    "</div> "
   ]
  },
  {
   "cell_type": "code",
   "execution_count": 7,
   "metadata": {
    "execution": {
     "iopub.execute_input": "2020-09-23T01:20:28.649453Z",
     "iopub.status.busy": "2020-09-23T01:20:28.648830Z",
     "iopub.status.idle": "2020-09-23T01:20:28.653504Z",
     "shell.execute_reply": "2020-09-23T01:20:28.653984Z"
    },
    "papermill": {
     "duration": 0.090549,
     "end_time": "2020-09-23T01:20:28.654131",
     "exception": false,
     "start_time": "2020-09-23T01:20:28.563582",
     "status": "completed"
    },
    "tags": []
   },
   "outputs": [
    {
     "name": "stdout",
     "output_type": "stream",
     "text": [
      "Task 4:\n",
      "[6 9 8 8]\n"
     ]
    }
   ],
   "source": [
    "print('Task 4:')\n",
    "values = np.random.randint(2, 10, size=4)\n",
    "print(values)"
   ]
  },
  {
   "cell_type": "markdown",
   "metadata": {
    "papermill": {
     "duration": 0.081,
     "end_time": "2020-09-23T01:20:28.815523",
     "exception": false,
     "start_time": "2020-09-23T01:20:28.734523",
     "status": "completed"
    },
    "tags": []
   },
   "source": [
    "<div style=\"\">\n",
    "    <div style=\"float: left; width: 80%;\">\n",
    "        <a id=\"5\"></a>\n",
    "        <font><b>Task 5:</b></font>\n",
    "        <br><br>\n",
    "        Create Random integer between 0 to 100 \n",
    "    </div>\n",
    "    <div style=\"float: right;\">\n",
    "        <a href=\"#top\" class=\"btn btn-primary btn-sm\" role=\"button\" aria-pressed=\"true\" style=\"color:white\" data-toggle=\"popover\" title=\"go to Top\">Go to Top</a>\n",
    "    </div>\n",
    "    <br style=\"clear: left;\" />\n",
    "</div>\n"
   ]
  },
  {
   "cell_type": "code",
   "execution_count": 8,
   "metadata": {
    "execution": {
     "iopub.execute_input": "2020-09-23T01:20:28.984201Z",
     "iopub.status.busy": "2020-09-23T01:20:28.983643Z",
     "iopub.status.idle": "2020-09-23T01:20:28.985892Z",
     "shell.execute_reply": "2020-09-23T01:20:28.986335Z"
    },
    "papermill": {
     "duration": 0.090149,
     "end_time": "2020-09-23T01:20:28.986469",
     "exception": false,
     "start_time": "2020-09-23T01:20:28.896320",
     "status": "completed"
    },
    "tags": []
   },
   "outputs": [
    {
     "name": "stdout",
     "output_type": "stream",
     "text": [
      "Task 5:\n",
      "    x   y\n",
      "0  10  32\n",
      "1   8  50\n",
      "2  81  57\n"
     ]
    }
   ],
   "source": [
    "print('Task 5:')\n",
    "df = pd.DataFrame(np.random.randint(0, 100, size=(3, 2)), columns=list('xy'))\n",
    "print(df)"
   ]
  },
  {
   "cell_type": "markdown",
   "metadata": {
    "papermill": {
     "duration": 0.08097,
     "end_time": "2020-09-23T01:20:29.148510",
     "exception": false,
     "start_time": "2020-09-23T01:20:29.067540",
     "status": "completed"
    },
    "tags": []
   },
   "source": [
    "<div style=\"\">\n",
    "    <div style=\"float: left; width: 80%;\">\n",
    "        <a id=\"6\"></a>\n",
    "        <font><b>Task 6:</b></font>\n",
    "        <br><br>\n",
    "        Create Random integer between 2 to 10 with 4 columns\n",
    "    </div>\n",
    "    <div style=\"float: right;\">\n",
    "        <a href=\"#top\" class=\"btn btn-primary btn-sm\" role=\"button\" aria-pressed=\"true\" style=\"color:white\" data-toggle=\"popover\" title=\"go to Top\">Go to Top</a>\n",
    "    </div>\n",
    "    <br style=\"clear: left;\" />\n",
    "</div>"
   ]
  },
  {
   "cell_type": "code",
   "execution_count": 9,
   "metadata": {
    "execution": {
     "iopub.execute_input": "2020-09-23T01:20:29.314364Z",
     "iopub.status.busy": "2020-09-23T01:20:29.313824Z",
     "iopub.status.idle": "2020-09-23T01:20:29.322207Z",
     "shell.execute_reply": "2020-09-23T01:20:29.321628Z"
    },
    "papermill": {
     "duration": 0.092452,
     "end_time": "2020-09-23T01:20:29.322310",
     "exception": false,
     "start_time": "2020-09-23T01:20:29.229858",
     "status": "completed"
    },
    "tags": []
   },
   "outputs": [
    {
     "name": "stdout",
     "output_type": "stream",
     "text": [
      "Task 6:\n",
      "    A   B   C   D\n",
      "0  40  95  19   3\n",
      "1  34  69  75  11\n"
     ]
    }
   ],
   "source": [
    "print('Task 6:')\n",
    "df = pd.DataFrame(np.random.randint(0, 100, size=(2, 4)), columns=['A', 'B', 'C', 'D'])\n",
    "print(df)"
   ]
  },
  {
   "cell_type": "markdown",
   "metadata": {
    "papermill": {
     "duration": 0.080721,
     "end_time": "2020-09-23T01:20:29.484711",
     "exception": false,
     "start_time": "2020-09-23T01:20:29.403990",
     "status": "completed"
    },
    "tags": []
   },
   "source": [
    "<div style=\"\">\n",
    "    <div style=\"float: left; width: 80%;\">\n",
    "        <a id=\"7\"></a>\n",
    "        <font><b>Task 7:</b></font>\n",
    "        <br><br>\n",
    "        2D array with random between 0 and 5\n",
    "    </div>\n",
    "    <div style=\"float: right;\">\n",
    "        <a href=\"#top\" class=\"btn btn-primary btn-sm\" role=\"button\" aria-pressed=\"true\" style=\"color:white\" data-toggle=\"popover\" title=\"go to Top\">Go to Top</a>\n",
    "    </div>\n",
    "    <br style=\"clear: left;\" />\n",
    "</div>"
   ]
  },
  {
   "cell_type": "code",
   "execution_count": 10,
   "metadata": {
    "execution": {
     "iopub.execute_input": "2020-09-23T01:20:29.654028Z",
     "iopub.status.busy": "2020-09-23T01:20:29.653447Z",
     "iopub.status.idle": "2020-09-23T01:20:29.655857Z",
     "shell.execute_reply": "2020-09-23T01:20:29.656717Z"
    },
    "papermill": {
     "duration": 0.090054,
     "end_time": "2020-09-23T01:20:29.656904",
     "exception": false,
     "start_time": "2020-09-23T01:20:29.566850",
     "status": "completed"
    },
    "tags": []
   },
   "outputs": [
    {
     "name": "stdout",
     "output_type": "stream",
     "text": [
      "Task 7:\n",
      "[[4 1 1 3]\n",
      " [3 4 4 3]]\n",
      "<class 'numpy.ndarray'>\n"
     ]
    }
   ],
   "source": [
    "print('Task 7:')\n",
    "values = np.random.randint(5, size=(2, 4))\n",
    "print(values)\n",
    "print(type(values))"
   ]
  },
  {
   "cell_type": "markdown",
   "metadata": {
    "papermill": {
     "duration": 0.082592,
     "end_time": "2020-09-23T01:20:29.822267",
     "exception": false,
     "start_time": "2020-09-23T01:20:29.739675",
     "status": "completed"
    },
    "tags": []
   },
   "source": [
    "<div style=\"\">\n",
    "    <div style=\"float: left; width: 80%;\">\n",
    "        <a id=\"8\"></a>\n",
    "        <font><b>Task 8:</b></font>\n",
    "        <br><br>\n",
    "        Create Random integer between 0 to 100 with 10 itmes (2 rows, 5 columns)\n",
    "    </div>\n",
    "    <div style=\"float: right;\">\n",
    "        <a href=\"#top\" class=\"btn btn-primary btn-sm\" role=\"button\" aria-pressed=\"true\" style=\"color:white\" data-toggle=\"popover\" title=\"go to Top\">Go to Top</a>\n",
    "    </div>\n",
    "    <br style=\"clear: left;\" />\n",
    "</div>"
   ]
  },
  {
   "cell_type": "code",
   "execution_count": 11,
   "metadata": {
    "execution": {
     "iopub.execute_input": "2020-09-23T01:20:29.992509Z",
     "iopub.status.busy": "2020-09-23T01:20:29.991871Z",
     "iopub.status.idle": "2020-09-23T01:20:29.999899Z",
     "shell.execute_reply": "2020-09-23T01:20:30.000356Z"
    },
    "papermill": {
     "duration": 0.094065,
     "end_time": "2020-09-23T01:20:30.000499",
     "exception": false,
     "start_time": "2020-09-23T01:20:29.906434",
     "status": "completed"
    },
    "tags": []
   },
   "outputs": [
    {
     "name": "stdout",
     "output_type": "stream",
     "text": [
      "Task 8:\n",
      "   Toronto  Ottawa  Calgary  Montreal  Quebec\n",
      "0       91      78       60        80      34\n",
      "1       63      11       50        66      65\n",
      "2       73      87       18        68      76\n"
     ]
    }
   ],
   "source": [
    "print('Task 8:')\n",
    "df = pd.DataFrame(np.random.randint(0, 100, size=(3, 5)), columns=['Toronto', 'Ottawa', 'Calgary', 'Montreal', 'Quebec'])\n",
    "print(df)"
   ]
  },
  {
   "cell_type": "markdown",
   "metadata": {
    "papermill": {
     "duration": 0.081983,
     "end_time": "2020-09-23T01:20:30.165114",
     "exception": false,
     "start_time": "2020-09-23T01:20:30.083131",
     "status": "completed"
    },
    "tags": []
   },
   "source": [
    "<div style=\"\">\n",
    "    <div style=\"float: left; width: 80%;\">\n",
    "        <a id=\"9\"></a>\n",
    "        <font><b>Task 9:</b></font>\n",
    "        <br><br>\n",
    "        3 rows, 2 columns in pandas\n",
    "        <br>\n",
    "        1st column = random between 10 to 20\n",
    "        <br>\n",
    "        2nd column = random between 80 and 90\n",
    "        <br>\n",
    "        3rd column = random between 40 and 50 \n",
    "    </div>\n",
    "    <div style=\"float: right;\">\n",
    "        <a href=\"#top\" class=\"btn btn-primary btn-sm\" role=\"button\" aria-pressed=\"true\" style=\"color:white\" data-toggle=\"popover\" title=\"go to Top\">Go to Top</a>\n",
    "    </div>\n",
    "    <br style=\"clear: left;\" />\n",
    "</div>"
   ]
  },
  {
   "cell_type": "code",
   "execution_count": 12,
   "metadata": {
    "execution": {
     "iopub.execute_input": "2020-09-23T01:20:30.361566Z",
     "iopub.status.busy": "2020-09-23T01:20:30.361042Z",
     "iopub.status.idle": "2020-09-23T01:20:30.370627Z",
     "shell.execute_reply": "2020-09-23T01:20:30.369937Z"
    },
    "papermill": {
     "duration": 0.117151,
     "end_time": "2020-09-23T01:20:30.370772",
     "exception": false,
     "start_time": "2020-09-23T01:20:30.253621",
     "status": "completed"
    },
    "tags": []
   },
   "outputs": [
    {
     "name": "stdout",
     "output_type": "stream",
     "text": [
      "Task 9:\n",
      "      One  Two\n",
      "Row1    0    0\n",
      "Row2    0    0\n",
      "Row3    0    0\n"
     ]
    }
   ],
   "source": [
    "print('Task 9:')  \n",
    "dtype = [('One','int32'), ('Two','int32')]\n",
    "values = np.zeros(3, dtype=dtype)\n",
    "index = ['Row'+str(i) for i in range(1, 4)]\n",
    "\n",
    "df = pandas.DataFrame(values, index=index)\n",
    "print(df)"
   ]
  },
  {
   "cell_type": "markdown",
   "metadata": {
    "papermill": {
     "duration": 0.08158,
     "end_time": "2020-09-23T01:20:30.545812",
     "exception": false,
     "start_time": "2020-09-23T01:20:30.464232",
     "status": "completed"
    },
    "tags": []
   },
   "source": [
    "<div style=\"\">\n",
    "    <div style=\"float: left; width: 80%;\">\n",
    "        <a id=\"10\"></a>\n",
    "        <font><b>Task 10:</b></font>\n",
    "        <br><br>\n",
    "        Fill Random Science and Math Marks\n",
    "        <br><br>\n",
    "        (has some bugs in it)\n",
    "    </div>\n",
    "    <div style=\"float: right;\">\n",
    "        <a href=\"#top\" class=\"btn btn-primary btn-sm\" role=\"button\" aria-pressed=\"true\" style=\"color:white\" data-toggle=\"popover\" title=\"go to Top\">Go to Top</a>\n",
    "    </div>\n",
    "    <br style=\"clear: left;\" />\n",
    "</div>\n"
   ]
  },
  {
   "cell_type": "code",
   "execution_count": 13,
   "metadata": {
    "execution": {
     "iopub.execute_input": "2020-09-23T01:20:30.718047Z",
     "iopub.status.busy": "2020-09-23T01:20:30.717429Z",
     "iopub.status.idle": "2020-09-23T01:20:30.720282Z",
     "shell.execute_reply": "2020-09-23T01:20:30.720920Z"
    },
    "papermill": {
     "duration": 0.093589,
     "end_time": "2020-09-23T01:20:30.721129",
     "exception": false,
     "start_time": "2020-09-23T01:20:30.627540",
     "status": "completed"
    },
    "tags": []
   },
   "outputs": [
    {
     "name": "stdout",
     "output_type": "stream",
     "text": [
      "Task 10:\n",
      "      Science  Maths\n",
      "Row1        0      0\n",
      "Row2        0      0\n",
      "Row3        0      0\n"
     ]
    }
   ],
   "source": [
    "print('Task 10:')  \n",
    "dtype = [('Science','int32'), ('Maths','int32')]\n",
    "values = np.zeros(3, dtype=dtype)\n",
    "\n",
    "#print(type(dtype))\n",
    "#values = np.random.randint(5, size=(3, 2))\n",
    "#print(values)\n",
    "#index = ['Row'+str(i) for i in range(1, 4)]\n",
    "\n",
    "df = pandas.DataFrame(values, index=index)\n",
    "print(df)"
   ]
  },
  {
   "cell_type": "markdown",
   "metadata": {
    "papermill": {
     "duration": 0.082764,
     "end_time": "2020-09-23T01:20:30.887628",
     "exception": false,
     "start_time": "2020-09-23T01:20:30.804864",
     "status": "completed"
    },
    "tags": []
   },
   "source": [
    "<div style=\"\">\n",
    "    <div style=\"float: left; width: 80%;\">\n",
    "        <a id=\"11\"></a>\n",
    "        <font><b>Task 11:</b></font>\n",
    "        <br><br>\n",
    "        CSV to DatRaframe (from_csv)\n",
    "        <br>\n",
    "        Note: from_csv is Deprecated since version 0.21.0: Use pandas.read_csv() instead.\n",
    "    </div>\n",
    "    <div style=\"float: right;\">\n",
    "        <a href=\"#top\" class=\"btn btn-primary btn-sm\" role=\"button\" aria-pressed=\"true\" style=\"color:white\" data-toggle=\"popover\" title=\"go to Top\">Go to Top</a>\n",
    "    </div>\n",
    "    <br style=\"clear: left;\" />\n",
    "</div>"
   ]
  },
  {
   "cell_type": "code",
   "execution_count": 14,
   "metadata": {
    "execution": {
     "iopub.execute_input": "2020-09-23T01:20:31.064180Z",
     "iopub.status.busy": "2020-09-23T01:20:31.063549Z",
     "iopub.status.idle": "2020-09-23T01:20:31.080503Z",
     "shell.execute_reply": "2020-09-23T01:20:31.079510Z"
    },
    "papermill": {
     "duration": 0.108933,
     "end_time": "2020-09-23T01:20:31.080695",
     "exception": false,
     "start_time": "2020-09-23T01:20:30.971762",
     "status": "completed"
    },
    "tags": []
   },
   "outputs": [
    {
     "name": "stdout",
     "output_type": "stream",
     "text": [
      "Task 11:\n",
      "  first_name   last_name             company_name            address  \\\n",
      "0    Aleshia  Tomkiewicz  Alan D Rosenburg Cpa Pc       14 Taylor St   \n",
      "1       Evan   Zigomalas       Cap Gemini America        5 Binney St   \n",
      "2     France     Andrade      Elliott, John W Esq       8 Moor Place   \n",
      "3    Ulysses   Mcwalters           Mcmahan, Ben L      505 Exeter Rd   \n",
      "4     Tyisha      Veness           Champagne Room  5396 Forth Street   \n",
      "\n",
      "                             city           county    postal        phone1  \\\n",
      "0               St. Stephens Ward             Kent   CT2 7PP  01835-703597   \n",
      "1                      Abbey Ward  Buckinghamshire  HP11 2AX  01937-864715   \n",
      "2  East Southbourne and Tuckton W      Bournemouth   BH6 3BE  01347-368222   \n",
      "3              Hawerby cum Beesby     Lincolnshire  DN36 5RP  01912-771311   \n",
      "4      Greets Green and Lyng Ward    West Midlands   B70 9DT  01547-429341   \n",
      "\n",
      "         phone2                       email  \\\n",
      "0  01944-369967     atomkiewicz@hotmail.com   \n",
      "1  01714-737668    evan.zigomalas@gmail.com   \n",
      "2  01935-821636  france.andrade@hotmail.com   \n",
      "3  01302-601380         ulysses@hotmail.com   \n",
      "4  01290-367248   tyisha.veness@hotmail.com   \n",
      "\n",
      "                                    web  \n",
      "0  http://www.alandrosenburgcpapc.co.uk  \n",
      "1     http://www.capgeminiamerica.co.uk  \n",
      "2      http://www.elliottjohnwesq.co.uk  \n",
      "3          http://www.mcmahanbenl.co.uk  \n",
      "4        http://www.champagneroom.co.uk  \n"
     ]
    }
   ],
   "source": [
    "print('Task 11:')  \n",
    "\n",
    "csv = pd.read_csv('../input/datasets-for-pandas/uk-500.csv')\n",
    "print(csv.head())"
   ]
  },
  {
   "cell_type": "markdown",
   "metadata": {
    "papermill": {
     "duration": 0.087187,
     "end_time": "2020-09-23T01:20:31.261292",
     "exception": false,
     "start_time": "2020-09-23T01:20:31.174105",
     "status": "completed"
    },
    "tags": []
   },
   "source": [
    "<div style=\"\">\n",
    "    <div style=\"float: left; width: 80%;\">\n",
    "        <a id=\"12\"></a>\n",
    "        <font><b>Task 12:</b></font>\n",
    "        <br><br>\n",
    "        CSV to Dataframe (from_csv\n",
    "    </div>\n",
    "    <div style=\"float: right;\">\n",
    "        <a href=\"#top\" class=\"btn btn-primary btn-sm\" role=\"button\" aria-pressed=\"true\" style=\"color:white\" data-toggle=\"popover\" title=\"go to Top\">Go to Top</a>\n",
    "    </div>\n",
    "    <br style=\"clear: left;\" />\n",
    "</div>"
   ]
  },
  {
   "cell_type": "code",
   "execution_count": 15,
   "metadata": {
    "execution": {
     "iopub.execute_input": "2020-09-23T01:20:31.438792Z",
     "iopub.status.busy": "2020-09-23T01:20:31.437862Z",
     "iopub.status.idle": "2020-09-23T01:20:31.453516Z",
     "shell.execute_reply": "2020-09-23T01:20:31.453996Z"
    },
    "papermill": {
     "duration": 0.105751,
     "end_time": "2020-09-23T01:20:31.454160",
     "exception": false,
     "start_time": "2020-09-23T01:20:31.348409",
     "status": "completed"
    },
    "tags": []
   },
   "outputs": [
    {
     "name": "stdout",
     "output_type": "stream",
     "text": [
      "Task 12:\n",
      "  first_name   last_name             company_name            address  \\\n",
      "0    Aleshia  Tomkiewicz  Alan D Rosenburg Cpa Pc       14 Taylor St   \n",
      "1       Evan   Zigomalas       Cap Gemini America        5 Binney St   \n",
      "2     France     Andrade      Elliott, John W Esq       8 Moor Place   \n",
      "3    Ulysses   Mcwalters           Mcmahan, Ben L      505 Exeter Rd   \n",
      "4     Tyisha      Veness           Champagne Room  5396 Forth Street   \n",
      "\n",
      "                             city           county    postal        phone1  \\\n",
      "0               St. Stephens Ward             Kent   CT2 7PP  01835-703597   \n",
      "1                      Abbey Ward  Buckinghamshire  HP11 2AX  01937-864715   \n",
      "2  East Southbourne and Tuckton W      Bournemouth   BH6 3BE  01347-368222   \n",
      "3              Hawerby cum Beesby     Lincolnshire  DN36 5RP  01912-771311   \n",
      "4      Greets Green and Lyng Ward    West Midlands   B70 9DT  01547-429341   \n",
      "\n",
      "         phone2                       email  \\\n",
      "0  01944-369967     atomkiewicz@hotmail.com   \n",
      "1  01714-737668    evan.zigomalas@gmail.com   \n",
      "2  01935-821636  france.andrade@hotmail.com   \n",
      "3  01302-601380         ulysses@hotmail.com   \n",
      "4  01290-367248   tyisha.veness@hotmail.com   \n",
      "\n",
      "                                    web  \n",
      "0  http://www.alandrosenburgcpapc.co.uk  \n",
      "1     http://www.capgeminiamerica.co.uk  \n",
      "2      http://www.elliottjohnwesq.co.uk  \n",
      "3          http://www.mcmahanbenl.co.uk  \n",
      "4        http://www.champagneroom.co.uk  \n"
     ]
    }
   ],
   "source": [
    "print('Task 12:')  \n",
    "#df = df.from_csv(path, header, sep, index_col, parse_dates, encoding, tupleize_cols, infer_datetime_format)\n",
    "df = pd.read_csv('../input/datasets-for-pandas/uk-500.csv')\n",
    "print(df.head())"
   ]
  },
  {
   "cell_type": "markdown",
   "metadata": {
    "papermill": {
     "duration": 0.083445,
     "end_time": "2020-09-23T01:20:31.620843",
     "exception": false,
     "start_time": "2020-09-23T01:20:31.537398",
     "status": "completed"
    },
    "tags": []
   },
   "source": [
    "<div style=\"\">\n",
    "    <div style=\"float: left; width: 80%;\">\n",
    "        <a id=\"13\"></a>\n",
    "        <font><b>Task 13:</b></font>\n",
    "        <br><br>\n",
    "        First 4 rows and 2 columns of CSV\n",
    "    </div>\n",
    "    <div style=\"float: right;\">\n",
    "        <a href=\"#top\" class=\"btn btn-primary btn-sm\" role=\"button\" aria-pressed=\"true\" style=\"color:white\" data-toggle=\"popover\" title=\"go to Top\">Go to Top</a>\n",
    "    </div>\n",
    "    <br style=\"clear: left;\" />\n",
    "</div>"
   ]
  },
  {
   "cell_type": "code",
   "execution_count": 16,
   "metadata": {
    "execution": {
     "iopub.execute_input": "2020-09-23T01:20:31.801048Z",
     "iopub.status.busy": "2020-09-23T01:20:31.800292Z",
     "iopub.status.idle": "2020-09-23T01:20:31.803526Z",
     "shell.execute_reply": "2020-09-23T01:20:31.804169Z"
    },
    "papermill": {
     "duration": 0.098233,
     "end_time": "2020-09-23T01:20:31.804341",
     "exception": false,
     "start_time": "2020-09-23T01:20:31.706108",
     "status": "completed"
    },
    "tags": []
   },
   "outputs": [
    {
     "name": "stdout",
     "output_type": "stream",
     "text": [
      "Task 13:\n",
      "(9, 3)\n",
      "   capacity  score\n",
      "0         1     10\n",
      "1         2     20\n",
      "2         3     30\n",
      "3         3     40\n"
     ]
    }
   ],
   "source": [
    "print('Task 13:') \n",
    "df = pandas.read_csv('../input/datasets-for-pandas/data1.csv', sep=',')\n",
    "print(df.shape) \n",
    "#print(df[2:14])\n",
    "print(df.iloc[0:4,0:2])\n",
    "#print(df[df.columns[0]])"
   ]
  },
  {
   "cell_type": "markdown",
   "metadata": {
    "papermill": {
     "duration": 0.083848,
     "end_time": "2020-09-23T01:20:31.973915",
     "exception": false,
     "start_time": "2020-09-23T01:20:31.890067",
     "status": "completed"
    },
    "tags": []
   },
   "source": [
    "<div style=\"\">\n",
    "    <div style=\"float: left; width: 80%;\">\n",
    "        <a id=\"14\"></a>\n",
    "        <font><b>Task 14:</b></font>\n",
    "        <br><br>\n",
    "        Show even rows and first three columns\n",
    "    </div>\n",
    "    <div style=\"float: right;\">\n",
    "        <a href=\"#top\" class=\"btn btn-primary btn-sm\" role=\"button\" aria-pressed=\"true\" style=\"color:white\" data-toggle=\"popover\" title=\"go to Top\">Go to Top</a>\n",
    "    </div>\n",
    "    <br style=\"clear: left;\" />\n",
    "</div>"
   ]
  },
  {
   "cell_type": "code",
   "execution_count": 17,
   "metadata": {
    "execution": {
     "iopub.execute_input": "2020-09-23T01:20:32.148547Z",
     "iopub.status.busy": "2020-09-23T01:20:32.147946Z",
     "iopub.status.idle": "2020-09-23T01:20:32.158781Z",
     "shell.execute_reply": "2020-09-23T01:20:32.158350Z"
    },
    "papermill": {
     "duration": 0.099765,
     "end_time": "2020-09-23T01:20:32.158874",
     "exception": false,
     "start_time": "2020-09-23T01:20:32.059109",
     "status": "completed"
    },
    "tags": []
   },
   "outputs": [
    {
     "name": "stdout",
     "output_type": "stream",
     "text": [
      "Task 14:\n",
      "(7, 5)\n",
      "  student  language  science\n",
      "0   kumar        90       56\n",
      "2   sammy        90       23\n",
      "4   peter        30       56\n",
      "6  carrol        50       90\n"
     ]
    }
   ],
   "source": [
    "print('Task 14:') \n",
    "df = pandas.read_csv('/kaggle/input/datasets-for-pandas/abc.csv', sep=',', encoding = \"utf-8\")\n",
    "print(df.shape)\n",
    "\n",
    "print(df.iloc[::2, 0:3])    "
   ]
  },
  {
   "cell_type": "markdown",
   "metadata": {
    "papermill": {
     "duration": 0.083624,
     "end_time": "2020-09-23T01:20:32.326942",
     "exception": false,
     "start_time": "2020-09-23T01:20:32.243318",
     "status": "completed"
    },
    "tags": []
   },
   "source": [
    "<div style=\"\">\n",
    "    <div style=\"float: left; width: 80%;\">\n",
    "        <a id=\"15\"></a>\n",
    "        <font><b>Task 15:</b></font>\n",
    "        <br><br>\n",
    "        New columns as sum of all\n",
    "    </div>\n",
    "    <div style=\"float: right;\">\n",
    "        <a href=\"#top\" class=\"btn btn-primary btn-sm\" role=\"button\" aria-pressed=\"true\" style=\"color:white\" data-toggle=\"popover\" title=\"go to Top\">Go to Top</a>\n",
    "    </div>\n",
    "    <br style=\"clear: left;\" />\n",
    "</div>"
   ]
  },
  {
   "cell_type": "code",
   "execution_count": 18,
   "metadata": {
    "execution": {
     "iopub.execute_input": "2020-09-23T01:20:32.501982Z",
     "iopub.status.busy": "2020-09-23T01:20:32.501458Z",
     "iopub.status.idle": "2020-09-23T01:20:32.515442Z",
     "shell.execute_reply": "2020-09-23T01:20:32.514870Z"
    },
    "papermill": {
     "duration": 0.104108,
     "end_time": "2020-09-23T01:20:32.515549",
     "exception": false,
     "start_time": "2020-09-23T01:20:32.411441",
     "status": "completed"
    },
    "tags": []
   },
   "outputs": [
    {
     "name": "stdout",
     "output_type": "stream",
     "text": [
      "Task 15:\n",
      "(7, 5)\n",
      "  student  language  science  maths  history\n",
      "0   kumar        90       56     34       34\n",
      "1   kevin        10       34     32       67\n",
      "2   sammy        90       23     12       32\n",
      "3  janice        20       67     90       45\n",
      "4   peter        30       56     45       65\n",
      "5    prem        90       45     45       34\n",
      "6  carrol        50       90     45       23\n",
      "  student  language  science  maths  history  total\n",
      "0   kumar        90       56     34       34    214\n",
      "1   kevin        10       34     32       67    143\n",
      "2   sammy        90       23     12       32    157\n",
      "3  janice        20       67     90       45    222\n",
      "4   peter        30       56     45       65    196\n",
      "5    prem        90       45     45       34    214\n",
      "6  carrol        50       90     45       23    208\n"
     ]
    }
   ],
   "source": [
    "print('Task 15:') \n",
    "df = pandas.read_csv('/kaggle/input/datasets-for-pandas/abc.csv', sep=',', encoding = \"utf-8\")\n",
    "print(df.shape)\n",
    "print(df) \n",
    "df['total'] = df.sum(axis=1)\n",
    "\n",
    "print(df)"
   ]
  },
  {
   "cell_type": "markdown",
   "metadata": {
    "papermill": {
     "duration": 0.085031,
     "end_time": "2020-09-23T01:20:32.686163",
     "exception": false,
     "start_time": "2020-09-23T01:20:32.601132",
     "status": "completed"
    },
    "tags": []
   },
   "source": [
    "<div style=\"\">\n",
    "    <div style=\"float: left; width: 80%;\">\n",
    "        <a id=\"16\"></a>\n",
    "        <font><b>Task 16:</b></font>\n",
    "        <br><br>\n",
    "        Delete Rows of one column where the value is less than 50\n",
    "    </div>\n",
    "    <div style=\"float: right;\">\n",
    "        <a href=\"#top\" class=\"btn btn-primary btn-sm\" role=\"button\" aria-pressed=\"true\" style=\"color:white\" data-toggle=\"popover\" title=\"go to Top\">Go to Top</a>\n",
    "    </div>\n",
    "    <br style=\"clear: left;\" />\n",
    "</div>"
   ]
  },
  {
   "cell_type": "code",
   "execution_count": 19,
   "metadata": {
    "execution": {
     "iopub.execute_input": "2020-09-23T01:20:32.867160Z",
     "iopub.status.busy": "2020-09-23T01:20:32.866580Z",
     "iopub.status.idle": "2020-09-23T01:20:32.896416Z",
     "shell.execute_reply": "2020-09-23T01:20:32.895495Z"
    },
    "papermill": {
     "duration": 0.122397,
     "end_time": "2020-09-23T01:20:32.896581",
     "exception": false,
     "start_time": "2020-09-23T01:20:32.774184",
     "status": "completed"
    },
    "tags": []
   },
   "outputs": [
    {
     "name": "stdout",
     "output_type": "stream",
     "text": [
      "Task 16:\n",
      "(7, 5)\n",
      "  student  language  science  maths  history\n",
      "0   kumar        90       56     34       34\n",
      "1   kevin        10       34     32       67\n",
      "2   sammy        90       23     12       32\n",
      "3  janice        20       67     90       45\n",
      "4   peter        30       56     45       65\n",
      "5    prem        90       45     45       34\n",
      "6  carrol        50       90     45       23\n",
      "  student  language  science  maths  history\n",
      "0   kumar        90       56     34       34\n",
      "3  janice        20       67     90       45\n",
      "4   peter        30       56     45       65\n",
      "6  carrol        50       90     45       23\n"
     ]
    }
   ],
   "source": [
    "print('Task 16:') \n",
    "df = pandas.read_csv('/kaggle/input/datasets-for-pandas/abc.csv', sep=',', encoding = \"utf-8\")\n",
    "print(df.shape)\n",
    "print(df) \n",
    "\n",
    "df = df[df.science > 50]\n",
    "print(df)"
   ]
  },
  {
   "cell_type": "markdown",
   "metadata": {
    "papermill": {
     "duration": 0.085538,
     "end_time": "2020-09-23T01:20:33.070671",
     "exception": false,
     "start_time": "2020-09-23T01:20:32.985133",
     "status": "completed"
    },
    "tags": []
   },
   "source": [
    "<div style=\"\">\n",
    "    <div style=\"float: left; width: 80%;\">\n",
    "        <a id=\"17\"></a>\n",
    "        <font><b>Task 17:</b></font>\n",
    "        <br><br>\n",
    "        Delete with Query\n",
    "        <br>Note: Query doesn't work if your column has space in it\n",
    "    </div>\n",
    "    <div style=\"float: right;\">\n",
    "        <a href=\"#top\" class=\"btn btn-primary btn-sm\" role=\"button\" aria-pressed=\"true\" style=\"color:white\" data-toggle=\"popover\" title=\"go to Top\">Go to Top</a>\n",
    "    </div>\n",
    "    <br style=\"clear: left;\" />\n",
    "</div>"
   ]
  },
  {
   "cell_type": "code",
   "execution_count": 20,
   "metadata": {
    "execution": {
     "iopub.execute_input": "2020-09-23T01:20:33.247189Z",
     "iopub.status.busy": "2020-09-23T01:20:33.246563Z",
     "iopub.status.idle": "2020-09-23T01:20:33.260730Z",
     "shell.execute_reply": "2020-09-23T01:20:33.260286Z"
    },
    "papermill": {
     "duration": 0.104174,
     "end_time": "2020-09-23T01:20:33.260824",
     "exception": false,
     "start_time": "2020-09-23T01:20:33.156650",
     "status": "completed"
    },
    "tags": []
   },
   "outputs": [
    {
     "name": "stdout",
     "output_type": "stream",
     "text": [
      "Task 17:\n",
      "(7, 5)\n",
      "  student  language  science  maths  history\n",
      "0   kumar        90       56     34       34\n",
      "1   kevin        10       34     32       67\n",
      "2   sammy        90       23     12       32\n",
      "3  janice        20       67     90       45\n",
      "4   peter        30       56     45       65\n",
      "5    prem        90       45     45       34\n",
      "6  carrol        50       90     45       23\n",
      "  student  language  science  maths  history\n",
      "0   kumar        90       56     34       34\n",
      "3  janice        20       67     90       45\n",
      "4   peter        30       56     45       65\n",
      "6  carrol        50       90     45       23\n"
     ]
    }
   ],
   "source": [
    "print('Task 17:') \n",
    "df = pandas.read_csv('/kaggle/input/datasets-for-pandas/abc.csv', sep=',', encoding = \"utf-8\")\n",
    "print(df.shape)\n",
    "print(df) \n",
    "\n",
    "df = df.query('science > 45')\n",
    "print(df)"
   ]
  },
  {
   "cell_type": "markdown",
   "metadata": {
    "papermill": {
     "duration": 0.083965,
     "end_time": "2020-09-23T01:20:33.429242",
     "exception": false,
     "start_time": "2020-09-23T01:20:33.345277",
     "status": "completed"
    },
    "tags": []
   },
   "source": [
    "<div style=\"\">\n",
    "    <div style=\"float: left; width: 80%;\">\n",
    "        <a id=\"18\"></a>\n",
    "        <font><b>Task 18:</b></font>\n",
    "        <br><br>\n",
    "        Skip single row\n",
    "    </div>\n",
    "    <div style=\"float: right;\">\n",
    "        <a href=\"#top\" class=\"btn btn-primary btn-sm\" role=\"button\" aria-pressed=\"true\" style=\"color:white\" data-toggle=\"popover\" title=\"go to Top\">Go to Top</a>\n",
    "    </div>\n",
    "    <br style=\"clear: left;\" />\n",
    "</div>"
   ]
  },
  {
   "cell_type": "code",
   "execution_count": 21,
   "metadata": {
    "execution": {
     "iopub.execute_input": "2020-09-23T01:20:33.603959Z",
     "iopub.status.busy": "2020-09-23T01:20:33.603465Z",
     "iopub.status.idle": "2020-09-23T01:20:33.612546Z",
     "shell.execute_reply": "2020-09-23T01:20:33.612062Z"
    },
    "papermill": {
     "duration": 0.098838,
     "end_time": "2020-09-23T01:20:33.612660",
     "exception": false,
     "start_time": "2020-09-23T01:20:33.513822",
     "status": "completed"
    },
    "tags": []
   },
   "outputs": [
    {
     "name": "stdout",
     "output_type": "stream",
     "text": [
      "Task 18:\n",
      "(6, 5)\n",
      "  student  language  science  maths  history\n",
      "0   kumar        90       56     34       34\n",
      "1   kevin        10       34     32       67\n",
      "2   sammy        90       23     12       32\n",
      "3  janice        20       67     90       45\n",
      "4    prem        90       45     45       34\n",
      "5  carrol        50       90     45       23\n"
     ]
    }
   ],
   "source": [
    "print('Task 18:') \n",
    "df = pandas.read_csv('/kaggle/input/datasets-for-pandas/abc.csv', sep=',', encoding = \"utf-8\", skiprows=[5])\n",
    "print(df.shape)\n",
    "print(df)"
   ]
  },
  {
   "cell_type": "markdown",
   "metadata": {
    "papermill": {
     "duration": 0.091953,
     "end_time": "2020-09-23T01:20:33.790065",
     "exception": false,
     "start_time": "2020-09-23T01:20:33.698112",
     "status": "completed"
    },
    "tags": []
   },
   "source": [
    "<div style=\"\">\n",
    "    <div style=\"float: left; width: 80%;\">\n",
    "        <a id=\"19\"></a>\n",
    "        <font><b>Task 19:</b></font>\n",
    "        <br><br>\n",
    "        Skip multiple rows\n",
    "    </div>\n",
    "    <div style=\"float: right;\">\n",
    "        <a href=\"#top\" class=\"btn btn-primary btn-sm\" role=\"button\" aria-pressed=\"true\" style=\"color:white\" data-toggle=\"popover\" title=\"go to Top\">Go to Top</a>\n",
    "    </div>\n",
    "    <br style=\"clear: left;\" />\n",
    "</div>"
   ]
  },
  {
   "cell_type": "code",
   "execution_count": 22,
   "metadata": {
    "execution": {
     "iopub.execute_input": "2020-09-23T01:20:34.001885Z",
     "iopub.status.busy": "2020-09-23T01:20:34.001282Z",
     "iopub.status.idle": "2020-09-23T01:20:34.009500Z",
     "shell.execute_reply": "2020-09-23T01:20:34.009928Z"
    },
    "papermill": {
     "duration": 0.100541,
     "end_time": "2020-09-23T01:20:34.010088",
     "exception": false,
     "start_time": "2020-09-23T01:20:33.909547",
     "status": "completed"
    },
    "tags": []
   },
   "outputs": [
    {
     "name": "stdout",
     "output_type": "stream",
     "text": [
      "Task 19:\n",
      "(4, 5)\n",
      "  student  language  science  maths  history\n",
      "0   kevin        10       34     32       67\n",
      "1   sammy        90       23     12       32\n",
      "2  janice        20       67     90       45\n",
      "3    prem        90       45     45       34\n"
     ]
    }
   ],
   "source": [
    "print('Task 19:') \n",
    "df = pandas.read_csv('/kaggle/input/datasets-for-pandas/abc.csv', sep=',', encoding = \"utf-8\", skiprows=[1, 5, 7])\n",
    "print(df.shape)\n",
    "#print(df) \n",
    "\n",
    "#df = df[df[[1]] > 45]\n",
    "print(df)"
   ]
  },
  {
   "cell_type": "markdown",
   "metadata": {
    "papermill": {
     "duration": 0.085775,
     "end_time": "2020-09-23T01:20:34.192303",
     "exception": false,
     "start_time": "2020-09-23T01:20:34.106528",
     "status": "completed"
    },
    "tags": []
   },
   "source": [
    "<div style=\"\">\n",
    "    <div style=\"float: left; width: 80%;\">\n",
    "        <a id=\"20\"></a>\n",
    "        <font><b>Task 20:</b></font>\n",
    "        <br><br>\n",
    "        Select Column by Index\n",
    "        <br>\n",
    "        <br>Note:\n",
    "        <br>df[[1]] doesn't work in Pandas updated version (need to double check)\n",
    "        <br>\n",
    "        New columns as sum of all\n",
    "    </div>\n",
    "    <div style=\"float: right;\">\n",
    "        <a href=\"#top\" class=\"btn btn-primary btn-sm\" role=\"button\" aria-pressed=\"true\" style=\"color:white\" data-toggle=\"popover\" title=\"go to Top\">Go to Top</a>\n",
    "    </div>\n",
    "    <br style=\"clear: left;\" />\n",
    "</div>"
   ]
  },
  {
   "cell_type": "code",
   "execution_count": 23,
   "metadata": {
    "execution": {
     "iopub.execute_input": "2020-09-23T01:20:34.368923Z",
     "iopub.status.busy": "2020-09-23T01:20:34.368361Z",
     "iopub.status.idle": "2020-09-23T01:20:34.378653Z",
     "shell.execute_reply": "2020-09-23T01:20:34.379154Z"
    },
    "papermill": {
     "duration": 0.100846,
     "end_time": "2020-09-23T01:20:34.379336",
     "exception": false,
     "start_time": "2020-09-23T01:20:34.278490",
     "status": "completed"
    },
    "tags": []
   },
   "outputs": [
    {
     "name": "stdout",
     "output_type": "stream",
     "text": [
      "Task 20:\n",
      "(7, 5)\n",
      "  student  language  science  maths  history\n",
      "0   kumar        90       56     34       34\n",
      "1   kevin        10       34     32       67\n",
      "2   sammy        90       23     12       32\n",
      "3  janice        20       67     90       45\n",
      "4   peter        30       56     45       65\n",
      "5    prem        90       45     45       34\n",
      "6  carrol        50       90     45       23\n",
      "  student  language  science  maths  history\n",
      "0   kumar        90       56     34       34\n",
      "1   kevin        10       34     32       67\n",
      "2   sammy        90       23     12       32\n",
      "3  janice        20       67     90       45\n",
      "4   peter        30       56     45       65\n",
      "5    prem        90       45     45       34\n",
      "6  carrol        50       90     45       23\n",
      "<class 'str'>\n"
     ]
    }
   ],
   "source": [
    "print('Task 20:') \n",
    "df = pandas.read_csv('/kaggle/input/datasets-for-pandas/abc.csv', sep=',', encoding = \"utf-8\")\n",
    "print(df.shape)\n",
    "print(df) \n",
    "\n",
    "#df = df[int(df.columns[2]) > 45]\n",
    "print(df)\n",
    "print(type(df.columns[2]))"
   ]
  },
  {
   "cell_type": "markdown",
   "metadata": {
    "papermill": {
     "duration": 0.085828,
     "end_time": "2020-09-23T01:20:34.553378",
     "exception": false,
     "start_time": "2020-09-23T01:20:34.467550",
     "status": "completed"
    },
    "tags": []
   },
   "source": [
    "<div style=\"\">\n",
    "    <div style=\"float: left; width: 80%;\">\n",
    "        <a id=\"21\"></a>\n",
    "        <font><b>Task 21:</b></font>\n",
    "        <br><br>\n",
    "        Skip rows\n",
    "        <br>Note:\n",
    "        <br>df[[1]] doesn't work in Pandas updated version (need to double check)\n",
    "    </div>\n",
    "    <div style=\"float: right;\">\n",
    "        <a href=\"#top\" class=\"btn btn-primary btn-sm\" role=\"button\" aria-pressed=\"true\" style=\"color:white\" data-toggle=\"popover\" title=\"go to Top\">Go to Top</a>\n",
    "    </div>\n",
    "    <br style=\"clear: left;\" />\n",
    "</div>"
   ]
  },
  {
   "cell_type": "code",
   "execution_count": 24,
   "metadata": {
    "execution": {
     "iopub.execute_input": "2020-09-23T01:20:34.731485Z",
     "iopub.status.busy": "2020-09-23T01:20:34.730564Z",
     "iopub.status.idle": "2020-09-23T01:20:34.738882Z",
     "shell.execute_reply": "2020-09-23T01:20:34.739419Z"
    },
    "papermill": {
     "duration": 0.099591,
     "end_time": "2020-09-23T01:20:34.739547",
     "exception": false,
     "start_time": "2020-09-23T01:20:34.639956",
     "status": "completed"
    },
    "tags": []
   },
   "outputs": [
    {
     "name": "stdout",
     "output_type": "stream",
     "text": [
      "Task 21:\n",
      "(6, 5)\n",
      "    kumar  90  56  34  34.1\n",
      "0   kevin  10  34  32    67\n",
      "1   sammy  90  23  12    32\n",
      "2  janice  20  67  90    45\n",
      "3   peter  30  56  45    65\n",
      "4    prem  90  45  45    34\n",
      "5  carrol  50  90  45    23\n",
      "56\n"
     ]
    }
   ],
   "source": [
    "print('Task 21:') \n",
    "df = pandas.read_csv('/kaggle/input/datasets-for-pandas/abc.csv', sep=',', encoding = \"utf-8\", skiprows=[0])\n",
    "print(df.shape)\n",
    "print(df) \n",
    "\n",
    "#df = df[int(df.columns[2]) > 45]\n",
    "#print(df)\n",
    "print(df.columns[2])"
   ]
  },
  {
   "cell_type": "markdown",
   "metadata": {
    "papermill": {
     "duration": 0.087806,
     "end_time": "2020-09-23T01:20:34.914953",
     "exception": false,
     "start_time": "2020-09-23T01:20:34.827147",
     "status": "completed"
    },
    "tags": []
   },
   "source": [
    "<div style=\"\">\n",
    "    <div style=\"float: left; width: 80%;\">\n",
    "        <a id=\"22\"></a>\n",
    "        <font><b>Task 22:</b></font>\n",
    "        <br><br>\n",
    "        String to Dataframe\n",
    "        <br>Note:\n",
    "        <br>df[[1]] doesn't work in Pandas updated version (need to double check)\n",
    "    </div>\n",
    "    <div style=\"float: right;\">\n",
    "        <a href=\"#top\" class=\"btn btn-primary btn-sm\" role=\"button\" aria-pressed=\"true\" style=\"color:white\" data-toggle=\"popover\" title=\"go to Top\">Go to Top</a>\n",
    "    </div>\n",
    "    <br style=\"clear: left;\" />\n",
    "</div>"
   ]
  },
  {
   "cell_type": "code",
   "execution_count": 25,
   "metadata": {
    "execution": {
     "iopub.execute_input": "2020-09-23T01:20:35.090678Z",
     "iopub.status.busy": "2020-09-23T01:20:35.090119Z",
     "iopub.status.idle": "2020-09-23T01:20:35.099682Z",
     "shell.execute_reply": "2020-09-23T01:20:35.099098Z"
    },
    "papermill": {
     "duration": 0.099113,
     "end_time": "2020-09-23T01:20:35.099794",
     "exception": false,
     "start_time": "2020-09-23T01:20:35.000681",
     "status": "completed"
    },
    "tags": []
   },
   "outputs": [
    {
     "name": "stdout",
     "output_type": "stream",
     "text": [
      "Task 22:\n",
      "(3, 2)\n",
      "   0  1\n",
      "0  1  2\n",
      "1  3  4\n",
      "2  5  6\n"
     ]
    }
   ],
   "source": [
    "print('Task 22:')\n",
    "from io import StringIO\n",
    "\n",
    "s = \"\"\"\n",
    "        1, 2\n",
    "        3, 4\n",
    "        5, 6\n",
    "    \"\"\"\n",
    "\n",
    "df = pd.read_csv(StringIO(s), header=None)\n",
    "\n",
    "print(df.shape)\n",
    "print(df)"
   ]
  },
  {
   "cell_type": "markdown",
   "metadata": {
    "papermill": {
     "duration": 0.087149,
     "end_time": "2020-09-23T01:20:35.274714",
     "exception": false,
     "start_time": "2020-09-23T01:20:35.187565",
     "status": "completed"
    },
    "tags": []
   },
   "source": [
    "<div style=\"\">\n",
    "    <div style=\"float: left; width: 80%;\">\n",
    "        <a id=\"23\"></a>\n",
    "        <font><b>Task 23:</b></font>\n",
    "        <br><br>\n",
    "        New columns as max of other columns\n",
    "        <br>float to int used\n",
    "    </div>\n",
    "    <div style=\"float: right;\">\n",
    "        <a href=\"#top\" class=\"btn btn-primary btn-sm\" role=\"button\" aria-pressed=\"true\" style=\"color:white\" data-toggle=\"popover\" title=\"go to Top\">Go to Top</a>\n",
    "    </div>\n",
    "    <br style=\"clear: left;\" />\n",
    "</div>"
   ]
  },
  {
   "cell_type": "code",
   "execution_count": 26,
   "metadata": {
    "execution": {
     "iopub.execute_input": "2020-09-23T01:20:35.453739Z",
     "iopub.status.busy": "2020-09-23T01:20:35.453069Z",
     "iopub.status.idle": "2020-09-23T01:20:35.469227Z",
     "shell.execute_reply": "2020-09-23T01:20:35.468760Z"
    },
    "papermill": {
     "duration": 0.106873,
     "end_time": "2020-09-23T01:20:35.469327",
     "exception": false,
     "start_time": "2020-09-23T01:20:35.362454",
     "status": "completed"
    },
    "tags": []
   },
   "outputs": [
    {
     "name": "stdout",
     "output_type": "stream",
     "text": [
      "Task 23:\n",
      "(7, 5)\n",
      "  student  language  science  maths  history  sum  max  min  average\n",
      "0   kumar        90       56     34       34  214  214   34       96\n",
      "1   kevin        10       34     32       67  143  143   10       62\n",
      "2   sammy        90       23     12       32  157  157   12       69\n",
      "3  janice        20       67     90       45  222  222   20       98\n",
      "4   peter        30       56     45       65  196  196   30       88\n",
      "5    prem        90       45     45       34  214  214   34       96\n",
      "6  carrol        50       90     45       23  208  208   23       92\n"
     ]
    }
   ],
   "source": [
    "print('Task 23:') \n",
    "df = pandas.read_csv('/kaggle/input/datasets-for-pandas/abc.csv', sep=',', encoding = \"utf-8\")\n",
    "print(df.shape)\n",
    "df['sum'] = df.sum(axis=1)\n",
    "df['max'] = df.max(axis=1)\n",
    "df['min'] = df.min(axis=1)\n",
    "df['average'] = df.mean(axis=1).astype(int)\n",
    "print(df)"
   ]
  },
  {
   "cell_type": "markdown",
   "metadata": {
    "papermill": {
     "duration": 0.087658,
     "end_time": "2020-09-23T01:20:35.644420",
     "exception": false,
     "start_time": "2020-09-23T01:20:35.556762",
     "status": "completed"
    },
    "tags": []
   },
   "source": [
    "<div style=\"\">\n",
    "    <div style=\"float: left; width: 80%;\">\n",
    "        <a id=\"24\"></a>\n",
    "        <font><b>Task 24:</b></font>\n",
    "        <br><br>\n",
    "        New columns as max of other columns\n",
    "<br>float to int used\n",
    "<br>Math is considered more, so double the marks for maths\n",
    "    </div>\n",
    "    <div style=\"float: right;\">\n",
    "        <a href=\"#top\" class=\"btn btn-primary btn-sm\" role=\"button\" aria-pressed=\"true\" style=\"color:white\" data-toggle=\"popover\" title=\"go to Top\">Go to Top</a>\n",
    "    </div>\n",
    "    <br style=\"clear: left;\" />\n",
    "</div>"
   ]
  },
  {
   "cell_type": "code",
   "execution_count": 27,
   "metadata": {
    "execution": {
     "iopub.execute_input": "2020-09-23T01:20:35.824657Z",
     "iopub.status.busy": "2020-09-23T01:20:35.823811Z",
     "iopub.status.idle": "2020-09-23T01:20:35.846877Z",
     "shell.execute_reply": "2020-09-23T01:20:35.846412Z"
    },
    "papermill": {
     "duration": 0.114326,
     "end_time": "2020-09-23T01:20:35.846983",
     "exception": false,
     "start_time": "2020-09-23T01:20:35.732657",
     "status": "completed"
    },
    "tags": []
   },
   "outputs": [
    {
     "name": "stdout",
     "output_type": "stream",
     "text": [
      "Task 24:\n",
      "(7, 5)\n",
      "  student  language  science  maths  history  sum  max  min  average  \\\n",
      "0   kumar        90       56     34       34  214  214   34       96   \n",
      "1   kevin        10       34     32       67  143  143   10       62   \n",
      "2   sammy        90       23     12       32  157  157   12       69   \n",
      "3  janice        20       67     90       45  222  222   20       98   \n",
      "4   peter        30       56     45       65  196  196   30       88   \n",
      "5    prem        90       45     45       34  214  214   34       96   \n",
      "6  carrol        50       90     45       23  208  208   23       92   \n",
      "\n",
      "   math_special  \n",
      "0            45  \n",
      "1            31  \n",
      "2            25  \n",
      "3            68  \n",
      "4            45  \n",
      "5            47  \n",
      "6            53  \n"
     ]
    }
   ],
   "source": [
    "def apply_math_special(row):\n",
    "    return (row.maths * 2 + row.language / 2 + row.history / 3 + row.science) / 4                \n",
    "\n",
    "print('Task 24:') \n",
    "df = pandas.read_csv('/kaggle/input/datasets-for-pandas/abc.csv', sep=',', encoding = \"utf-8\")\n",
    "print(df.shape)\n",
    "df['sum'] = df.sum(axis=1)\n",
    "df['max'] = df.max(axis=1)\n",
    "df['min'] = df.min(axis=1)\n",
    "df['average'] = df.mean(axis=1).astype(int)\n",
    "df['math_special'] = df.apply(apply_math_special, axis=1).astype(int)\n",
    "print(df)"
   ]
  },
  {
   "cell_type": "markdown",
   "metadata": {
    "papermill": {
     "duration": 0.089615,
     "end_time": "2020-09-23T01:20:36.024517",
     "exception": false,
     "start_time": "2020-09-23T01:20:35.934902",
     "status": "completed"
    },
    "tags": []
   },
   "source": [
    "<div style=\"\">\n",
    "    <div style=\"float: left; width: 80%;\">\n",
    "        <a id=\"25\"></a>\n",
    "        <font><b>Task 25:</b></font>\n",
    "        <br><br>\n",
    "        New columns as max of other columns\n",
    "<br>35 marks considered as pass \n",
    "<br>If the student fails in math, consider fail\n",
    "<br>If the student passes in language and science, consider as pass\n",
    "    </div>\n",
    "    <div style=\"float: right;\">\n",
    "        <a href=\"#top\" class=\"btn btn-primary btn-sm\" role=\"button\" aria-pressed=\"true\" style=\"color:white\" data-toggle=\"popover\" title=\"go to Top\">Go to Top</a>\n",
    "    </div>\n",
    "    <br style=\"clear: left;\" />\n",
    "</div>"
   ]
  },
  {
   "cell_type": "code",
   "execution_count": 28,
   "metadata": {
    "execution": {
     "iopub.execute_input": "2020-09-23T01:20:36.210712Z",
     "iopub.status.busy": "2020-09-23T01:20:36.210173Z",
     "iopub.status.idle": "2020-09-23T01:20:36.220617Z",
     "shell.execute_reply": "2020-09-23T01:20:36.221073Z"
    },
    "papermill": {
     "duration": 0.106323,
     "end_time": "2020-09-23T01:20:36.221302",
     "exception": false,
     "start_time": "2020-09-23T01:20:36.114979",
     "status": "completed"
    },
    "tags": []
   },
   "outputs": [
    {
     "name": "stdout",
     "output_type": "stream",
     "text": [
      "Task 25:\n",
      "(7, 5)\n",
      "  student  language  science  maths  history pass_one\n",
      "0   kumar        90       56     34       34     Pass\n",
      "1   kevin        10       34     32       67     Fail\n",
      "2   sammy        90       23     12       32     Fail\n",
      "3  janice        20       67     90       45     Pass\n",
      "4   peter        30       56     45       65     Pass\n",
      "5    prem        90       45     45       34     Pass\n",
      "6  carrol        50       90     45       23     Pass\n"
     ]
    }
   ],
   "source": [
    "def pass_one_subject(row):\n",
    "    if(row.maths > 34):\n",
    "        return 'Pass'\n",
    "    if(row.language > 34 and row.science > 34):\n",
    "        return 'Pass'\n",
    "    \n",
    "    return 'Fail'                \n",
    "\n",
    "print('Task 25:') \n",
    "df = pandas.read_csv('/kaggle/input/datasets-for-pandas/abc.csv', sep=',', encoding = \"utf-8\")\n",
    "print(df.shape)   \n",
    "\n",
    "df['pass_one'] = df.apply(pass_one_subject, axis=1)\n",
    "print(df)"
   ]
  },
  {
   "cell_type": "markdown",
   "metadata": {
    "papermill": {
     "duration": 0.088158,
     "end_time": "2020-09-23T01:20:36.397248",
     "exception": false,
     "start_time": "2020-09-23T01:20:36.309090",
     "status": "completed"
    },
    "tags": []
   },
   "source": [
    "<div style=\"\">\n",
    "    <div style=\"float: left; width: 80%;\">\n",
    "        <a id=\"26\"></a>\n",
    "        <font><b>Task 26:</b></font>\n",
    "        <br><br>\n",
    "        Fill with average\n",
    "    </div>\n",
    "    <div style=\"float: right;\">\n",
    "        <a href=\"#top\" class=\"btn btn-primary btn-sm\" role=\"button\" aria-pressed=\"true\" style=\"color:white\" data-toggle=\"popover\" title=\"go to Top\">Go to Top</a>\n",
    "    </div>\n",
    "    <br style=\"clear: left;\" />\n",
    "</div> "
   ]
  },
  {
   "cell_type": "code",
   "execution_count": 29,
   "metadata": {
    "execution": {
     "iopub.execute_input": "2020-09-23T01:20:36.580358Z",
     "iopub.status.busy": "2020-09-23T01:20:36.579476Z",
     "iopub.status.idle": "2020-09-23T01:20:36.593480Z",
     "shell.execute_reply": "2020-09-23T01:20:36.592811Z"
    },
    "papermill": {
     "duration": 0.10697,
     "end_time": "2020-09-23T01:20:36.593586",
     "exception": false,
     "start_time": "2020-09-23T01:20:36.486616",
     "status": "completed"
    },
    "tags": []
   },
   "outputs": [
    {
     "name": "stdout",
     "output_type": "stream",
     "text": [
      "Task 26:\n",
      "(7, 5)\n",
      "  student  language  science  maths  history\n",
      "0   kumar        90     56.0   34.0       34\n",
      "1   kevin        10      NaN   32.0       67\n",
      "2   sammy        90     23.0   12.0       32\n",
      "3  janice        20      NaN   90.0       45\n",
      "4   peter        30     56.0   45.0       65\n",
      "5    prem        90     45.0    NaN       34\n",
      "6  carrol        50     90.0   45.0       23\n",
      "  student  language  science  maths  history\n",
      "0   kumar        90     56.0   34.0       34\n",
      "1   kevin        10     54.0   32.0       67\n",
      "2   sammy        90     23.0   12.0       32\n",
      "3  janice        20     54.0   90.0       45\n",
      "4   peter        30     56.0   45.0       65\n",
      "5    prem        90     45.0   43.0       34\n",
      "6  carrol        50     90.0   45.0       23\n"
     ]
    }
   ],
   "source": [
    "print('Task 26:') \n",
    "df = pandas.read_csv('/kaggle/input/datasets-for-pandas/abc2.csv', sep=',', encoding = \"utf-8\")\n",
    "print(df.shape)   \n",
    "print(df)\n",
    "df.fillna(df.mean(), inplace=True)\n",
    "\n",
    "#df['pass_one'] = df.apply(pass_one_subject, axis=1)\n",
    "print(df)"
   ]
  },
  {
   "cell_type": "markdown",
   "metadata": {
    "papermill": {
     "duration": 0.096914,
     "end_time": "2020-09-23T01:20:36.779526",
     "exception": false,
     "start_time": "2020-09-23T01:20:36.682612",
     "status": "completed"
    },
    "tags": []
   },
   "source": [
    "<div style=\"\">\n",
    "    <div style=\"float: left; width: 80%;\">\n",
    "        <a id=\"27\"></a>\n",
    "        <font><b>Task 27:</b></font>\n",
    "        <br><br>\n",
    "        New columns as sum of all\n",
    "    </div>\n",
    "    <div style=\"float: right;\">\n",
    "        <a href=\"#top\" class=\"btn btn-primary btn-sm\" role=\"button\" aria-pressed=\"true\" style=\"color:white\" data-toggle=\"popover\" title=\"go to Top\">Go to Top</a>\n",
    "    </div>\n",
    "    <br style=\"clear: left;\" />\n",
    "</div> "
   ]
  },
  {
   "cell_type": "code",
   "execution_count": 30,
   "metadata": {
    "execution": {
     "iopub.execute_input": "2020-09-23T01:20:36.971750Z",
     "iopub.status.busy": "2020-09-23T01:20:36.971169Z",
     "iopub.status.idle": "2020-09-23T01:20:36.974190Z",
     "shell.execute_reply": "2020-09-23T01:20:36.974666Z"
    },
    "papermill": {
     "duration": 0.105984,
     "end_time": "2020-09-23T01:20:36.974795",
     "exception": false,
     "start_time": "2020-09-23T01:20:36.868811",
     "status": "completed"
    },
    "tags": []
   },
   "outputs": [
    {
     "name": "stdout",
     "output_type": "stream",
     "text": [
      "Task 27:\n",
      "          0         1         2         3         4\n",
      "0       NaN       NaN       NaN       NaN  0.248350\n",
      "1       NaN       NaN       NaN       NaN  0.138940\n",
      "2       NaN       NaN       NaN       NaN  0.930760\n",
      "3  0.340992  0.879864  0.061825  0.983162  0.005422\n",
      "4  0.316613  0.700211  0.184627  0.715929  0.927040\n",
      "5  0.561518  0.422750  0.036698  0.027706  0.080969\n",
      "6  0.713910  0.506406  0.208850  0.284776  0.294153\n",
      "7  0.540469  0.576655  0.296594  0.354670  0.344271\n",
      "8  0.794732  0.901686  0.082063  0.654967  0.031930\n",
      "9  0.307044  0.981922  0.409869  0.300806  0.204455\n",
      "          0         1         2         3         4      test\n",
      "0       NaN       NaN       NaN       NaN  0.248350  0.248350\n",
      "1       NaN       NaN       NaN       NaN  0.138940  0.138940\n",
      "2       NaN       NaN       NaN       NaN  0.930760  0.930760\n",
      "3  0.340992  0.879864  0.061825  0.983162  0.005422  1.050409\n",
      "4  0.316613  0.700211  0.184627  0.715929  0.927040  1.827596\n",
      "5  0.561518  0.422750  0.036698  0.027706  0.080969  0.145372\n",
      "6  0.713910  0.506406  0.208850  0.284776  0.294153  0.787779\n",
      "7  0.540469  0.576655  0.296594  0.354670  0.344271  0.995536\n",
      "8  0.794732  0.901686  0.082063  0.654967  0.031930  0.768960\n",
      "9  0.307044  0.981922  0.409869  0.300806  0.204455  0.915130\n"
     ]
    }
   ],
   "source": [
    "print('Task 27:')\n",
    "df = pd.DataFrame(np.random.rand(10, 5))\n",
    "df.iloc[0:3, 0:4] = np.nan # throw in some na values\n",
    "print(df)\n",
    "df.loc[:, 'test'] = df.iloc[:, 2:].sum(axis=1)\n",
    "print(df)"
   ]
  },
  {
   "cell_type": "markdown",
   "metadata": {
    "papermill": {
     "duration": 0.090268,
     "end_time": "2020-09-23T01:20:37.157356",
     "exception": false,
     "start_time": "2020-09-23T01:20:37.067088",
     "status": "completed"
    },
    "tags": []
   },
   "source": [
    "<div style=\"\">\n",
    "    <div style=\"float: left; width: 80%;\">\n",
    "        <a id=\"28\"></a>\n",
    "        <font><b>Task 28:</b></font>\n",
    "        <br><br>\n",
    "        Unicode issue and fix\n",
    "    </div>\n",
    "    <div style=\"float: right;\">\n",
    "        <a href=\"#top\" class=\"btn btn-primary btn-sm\" role=\"button\" aria-pressed=\"true\" style=\"color:white\" data-toggle=\"popover\" title=\"go to Top\">Go to Top</a>\n",
    "    </div>\n",
    "    <br style=\"clear: left;\" />\n",
    "</div> "
   ]
  },
  {
   "cell_type": "code",
   "execution_count": 31,
   "metadata": {
    "execution": {
     "iopub.execute_input": "2020-09-23T01:20:37.343919Z",
     "iopub.status.busy": "2020-09-23T01:20:37.343308Z",
     "iopub.status.idle": "2020-09-23T01:20:37.349689Z",
     "shell.execute_reply": "2020-09-23T01:20:37.350535Z"
    },
    "papermill": {
     "duration": 0.102489,
     "end_time": "2020-09-23T01:20:37.350732",
     "exception": false,
     "start_time": "2020-09-23T01:20:37.248243",
     "status": "completed"
    },
    "tags": []
   },
   "outputs": [
    {
     "name": "stdout",
     "output_type": "stream",
     "text": [
      "Task 28:\n",
      "(16, 5)\n"
     ]
    }
   ],
   "source": [
    "print('Task 28:') \n",
    "df = pandas.read_csv('/kaggle/input/datasets-for-pandas/score.csv', sep=',', encoding = \"ISO-8859-1\")\n",
    "print(df.shape) "
   ]
  },
  {
   "cell_type": "markdown",
   "metadata": {
    "papermill": {
     "duration": 0.088777,
     "end_time": "2020-09-23T01:20:37.530969",
     "exception": false,
     "start_time": "2020-09-23T01:20:37.442192",
     "status": "completed"
    },
    "tags": []
   },
   "source": [
    "<div style=\"\">\n",
    "    <div style=\"float: left; width: 80%;\">\n",
    "        <a id=\"29\"></a>\n",
    "        <font><b>Task 29:</b></font>\n",
    "        <br><br>\n",
    "        Fill with average\n",
    "    </div>\n",
    "    <div style=\"float: right;\">\n",
    "        <a href=\"#top\" class=\"btn btn-primary btn-sm\" role=\"button\" aria-pressed=\"true\" style=\"color:white\" data-toggle=\"popover\" title=\"go to Top\">Go to Top</a>\n",
    "    </div>\n",
    "    <br style=\"clear: left;\" />\n",
    "</div> "
   ]
  },
  {
   "cell_type": "code",
   "execution_count": 32,
   "metadata": {
    "execution": {
     "iopub.execute_input": "2020-09-23T01:20:37.723399Z",
     "iopub.status.busy": "2020-09-23T01:20:37.722499Z",
     "iopub.status.idle": "2020-09-23T01:20:37.726884Z",
     "shell.execute_reply": "2020-09-23T01:20:37.727645Z"
    },
    "papermill": {
     "duration": 0.105765,
     "end_time": "2020-09-23T01:20:37.727863",
     "exception": false,
     "start_time": "2020-09-23T01:20:37.622098",
     "status": "completed"
    },
    "tags": []
   },
   "outputs": [
    {
     "name": "stdout",
     "output_type": "stream",
     "text": [
      "Task 29:\n",
      "(3, 4)\n",
      "          A         B         C         D\n",
      "0  0.573882  0.534512  0.002363  0.271084\n",
      "1  0.887741  0.742232  0.484254  0.709675\n",
      "2  0.214312  0.391240  0.198082  0.274212\n",
      "          A         B         C         D\n",
      "0  0.573882  0.534512  0.002363  0.271084\n",
      "1  0.887741  0.742232  0.484254  0.709675\n",
      "2  0.214312  0.391240  0.198082  0.274212\n"
     ]
    }
   ],
   "source": [
    "print('Task 29:') \n",
    "df = pd.DataFrame(np.random.rand(3,4), columns=list(\"ABCD\"))\n",
    "print(df.shape)   \n",
    "print(df)\n",
    "df.fillna(df.mean(), inplace=True)\n",
    "\n",
    "print(df)"
   ]
  },
  {
   "cell_type": "markdown",
   "metadata": {
    "papermill": {
     "duration": 0.090904,
     "end_time": "2020-09-23T01:20:37.911247",
     "exception": false,
     "start_time": "2020-09-23T01:20:37.820343",
     "status": "completed"
    },
    "tags": []
   },
   "source": [
    "<div style=\"\">\n",
    "    <div style=\"float: left; width: 80%;\">\n",
    "        <a id=\"30\"></a>\n",
    "        <font><b>Task 30:</b></font>\n",
    "        <br><br>\n",
    "        Last 4 rows\n",
    "    </div>\n",
    "    <div style=\"float: right;\">\n",
    "        <a href=\"#top\" class=\"btn btn-primary btn-sm\" role=\"button\" aria-pressed=\"true\" style=\"color:white\" data-toggle=\"popover\" title=\"go to Top\">Go to Top</a>\n",
    "    </div>\n",
    "    <br style=\"clear: left;\" />\n",
    "</div>"
   ]
  },
  {
   "cell_type": "code",
   "execution_count": 33,
   "metadata": {
    "execution": {
     "iopub.execute_input": "2020-09-23T01:20:38.098895Z",
     "iopub.status.busy": "2020-09-23T01:20:38.098044Z",
     "iopub.status.idle": "2020-09-23T01:20:38.101689Z",
     "shell.execute_reply": "2020-09-23T01:20:38.100902Z"
    },
    "papermill": {
     "duration": 0.101431,
     "end_time": "2020-09-23T01:20:38.101826",
     "exception": false,
     "start_time": "2020-09-23T01:20:38.000395",
     "status": "completed"
    },
    "tags": []
   },
   "outputs": [
    {
     "name": "stdout",
     "output_type": "stream",
     "text": [
      "Task 30:\n",
      "  capacity,score,length\n",
      "5               7,10,23\n",
      "6               3,20,22\n",
      "7               8,20,11\n",
      "8                2,30,2\n"
     ]
    }
   ],
   "source": [
    "print('Task 30:')  \n",
    "df = pandas.read_csv('/kaggle/input/datasets-for-pandas/data1.csv', sep=';') \n",
    "print(df[-4:])"
   ]
  },
  {
   "cell_type": "markdown",
   "metadata": {
    "papermill": {
     "duration": 0.08895,
     "end_time": "2020-09-23T01:20:38.281248",
     "exception": false,
     "start_time": "2020-09-23T01:20:38.192298",
     "status": "completed"
    },
    "tags": []
   },
   "source": [
    "<div style=\"\">\n",
    "    <div style=\"float: left; width: 80%;\">\n",
    "        <a id=\"31\"></a>\n",
    "        <font><b>Task 31:</b></font>\n",
    "        <br><br>\n",
    "        Expanding Apply\n",
    "    </div>\n",
    "    <div style=\"float: right;\">\n",
    "        <a href=\"#top\" class=\"btn btn-primary btn-sm\" role=\"button\" aria-pressed=\"true\" style=\"color:white\" data-toggle=\"popover\" title=\"go to Top\">Go to Top</a>\n",
    "    </div>\n",
    "    <br style=\"clear: left;\" />\n",
    "</div> "
   ]
  },
  {
   "cell_type": "code",
   "execution_count": 34,
   "metadata": {
    "execution": {
     "iopub.execute_input": "2020-09-23T01:20:38.469422Z",
     "iopub.status.busy": "2020-09-23T01:20:38.468814Z",
     "iopub.status.idle": "2020-09-23T01:20:38.472358Z",
     "shell.execute_reply": "2020-09-23T01:20:38.471795Z"
    },
    "papermill": {
     "duration": 0.101928,
     "end_time": "2020-09-23T01:20:38.472463",
     "exception": false,
     "start_time": "2020-09-23T01:20:38.370535",
     "status": "completed"
    },
    "tags": []
   },
   "outputs": [
    {
     "name": "stdout",
     "output_type": "stream",
     "text": [
      "Task 31:\n",
      "0    0.01\n",
      "1    0.02\n",
      "2    0.03\n",
      "3    0.04\n",
      "4    0.05\n",
      "dtype: float64\n",
      "0    1.010000\n",
      "1    1.030200\n",
      "2    1.061106\n",
      "3    1.103550\n",
      "4    1.158728\n",
      "dtype: float64\n"
     ]
    }
   ],
   "source": [
    "print('Task 31:')\n",
    "series1 = pd.Series([i / 100.0 for i in range(1,6)])\n",
    "print(series1)\n",
    "def CumRet(x,y):\n",
    "    return x * (1 + y)\n",
    "def Red(x):\n",
    "    return functools.reduce(CumRet,x,1.0)\n",
    "s2 = series1.expanding().apply(Red)\n",
    "# s2 = series1.expanding().apply(Red, raw=True) # is not working\n",
    "print(s2)"
   ]
  },
  {
   "cell_type": "markdown",
   "metadata": {
    "papermill": {
     "duration": 0.090994,
     "end_time": "2020-09-23T01:20:38.653209",
     "exception": false,
     "start_time": "2020-09-23T01:20:38.562215",
     "status": "completed"
    },
    "tags": []
   },
   "source": [
    "<div style=\"\">\n",
    "    <div style=\"float: left; width: 80%;\">\n",
    "        <a id=\"32\"></a>\n",
    "        <font><b>Task 32:</b></font>\n",
    "        <br><br>\n",
    "        Get 3 and 4th row\n",
    "    </div>\n",
    "    <div style=\"float: right;\">\n",
    "        <a href=\"#top\" class=\"btn btn-primary btn-sm\" role=\"button\" aria-pressed=\"true\" style=\"color:white\" data-toggle=\"popover\" title=\"go to Top\">Go to Top</a>\n",
    "    </div>\n",
    "    <br style=\"clear: left;\" />\n",
    "</div> "
   ]
  },
  {
   "cell_type": "code",
   "execution_count": 35,
   "metadata": {
    "execution": {
     "iopub.execute_input": "2020-09-23T01:20:38.841852Z",
     "iopub.status.busy": "2020-09-23T01:20:38.841313Z",
     "iopub.status.idle": "2020-09-23T01:20:38.844535Z",
     "shell.execute_reply": "2020-09-23T01:20:38.843954Z"
    },
    "papermill": {
     "duration": 0.101437,
     "end_time": "2020-09-23T01:20:38.844636",
     "exception": false,
     "start_time": "2020-09-23T01:20:38.743199",
     "status": "completed"
    },
    "tags": []
   },
   "outputs": [
    {
     "name": "stdout",
     "output_type": "stream",
     "text": [
      "Task 32:\n",
      "  capacity,score,length\n",
      "2               3,30,40\n",
      "3               3,40,30\n"
     ]
    }
   ],
   "source": [
    "print('Task 32:')  \n",
    "df = pandas.read_csv('/kaggle/input/datasets-for-pandas/data1.csv', sep=';') \n",
    "print(df[2:4])"
   ]
  },
  {
   "cell_type": "markdown",
   "metadata": {
    "papermill": {
     "duration": 0.090129,
     "end_time": "2020-09-23T01:20:39.025179",
     "exception": false,
     "start_time": "2020-09-23T01:20:38.935050",
     "status": "completed"
    },
    "tags": []
   },
   "source": [
    "<div style=\"\">\n",
    "    <div style=\"float: left; width: 80%;\">\n",
    "        <a id=\"33\"></a>\n",
    "        <font><b>Task 33:</b></font>\n",
    "        <br><br>\n",
    "        Last 4th to 1st\n",
    "    </div>\n",
    "    <div style=\"float: right;\">\n",
    "        <a href=\"#top\" class=\"btn btn-primary btn-sm\" role=\"button\" aria-pressed=\"true\" style=\"color:white\" data-toggle=\"popover\" title=\"go to Top\">Go to Top</a>\n",
    "    </div>\n",
    "    <br style=\"clear: left;\" />\n",
    "</div> "
   ]
  },
  {
   "cell_type": "code",
   "execution_count": 36,
   "metadata": {
    "execution": {
     "iopub.execute_input": "2020-09-23T01:20:39.209188Z",
     "iopub.status.busy": "2020-09-23T01:20:39.208663Z",
     "iopub.status.idle": "2020-09-23T01:20:39.217914Z",
     "shell.execute_reply": "2020-09-23T01:20:39.218689Z"
    },
    "papermill": {
     "duration": 0.102978,
     "end_time": "2020-09-23T01:20:39.218864",
     "exception": false,
     "start_time": "2020-09-23T01:20:39.115886",
     "status": "completed"
    },
    "tags": []
   },
   "outputs": [
    {
     "name": "stdout",
     "output_type": "stream",
     "text": [
      "Task 33:\n",
      "  capacity,score,length\n",
      "5               7,10,23\n",
      "6               3,20,22\n",
      "7               8,20,11\n"
     ]
    }
   ],
   "source": [
    "print('Task 33:')  \n",
    "df = pandas.read_csv('/kaggle/input/datasets-for-pandas/data1.csv', sep=';') \n",
    "print(df[-4:-1])"
   ]
  },
  {
   "cell_type": "markdown",
   "metadata": {
    "papermill": {
     "duration": 0.09032,
     "end_time": "2020-09-23T01:20:39.401105",
     "exception": false,
     "start_time": "2020-09-23T01:20:39.310785",
     "status": "completed"
    },
    "tags": []
   },
   "source": [
    "<div style=\"\">\n",
    "    <div style=\"float: left; width: 80%;\">\n",
    "        <a id=\"34\"></a>\n",
    "        <font><b>Task 34:</b></font>\n",
    "        <br><br>\n",
    "        iloc position slice\n",
    "    </div>\n",
    "    <div style=\"float: right;\">\n",
    "        <a href=\"#top\" class=\"btn btn-primary btn-sm\" role=\"button\" aria-pressed=\"true\" style=\"color:white\" data-toggle=\"popover\" title=\"go to Top\">Go to Top</a>\n",
    "    </div>\n",
    "    <br style=\"clear: left;\" />\n",
    "</div> "
   ]
  },
  {
   "cell_type": "code",
   "execution_count": 37,
   "metadata": {
    "execution": {
     "iopub.execute_input": "2020-09-23T01:20:39.592690Z",
     "iopub.status.busy": "2020-09-23T01:20:39.591939Z",
     "iopub.status.idle": "2020-09-23T01:20:39.594831Z",
     "shell.execute_reply": "2020-09-23T01:20:39.595475Z"
    },
    "papermill": {
     "duration": 0.103365,
     "end_time": "2020-09-23T01:20:39.595642",
     "exception": false,
     "start_time": "2020-09-23T01:20:39.492277",
     "status": "completed"
    },
    "tags": []
   },
   "outputs": [
    {
     "name": "stdout",
     "output_type": "stream",
     "text": [
      "Task 34:\n",
      "  capacity,score,length\n",
      "1               2,20,30\n",
      "2               3,30,40\n",
      "3               3,40,30\n",
      "4               2,30,40\n",
      "5               7,10,23\n",
      "6               3,20,22\n",
      "7               8,20,11\n",
      "8                2,30,2\n"
     ]
    }
   ],
   "source": [
    "print('Task 34:')  \n",
    "df = pandas.read_csv('/kaggle/input/datasets-for-pandas/data1.csv', sep=';') \n",
    "print(df.iloc[1:9])"
   ]
  },
  {
   "cell_type": "markdown",
   "metadata": {
    "papermill": {
     "duration": 0.090689,
     "end_time": "2020-09-23T01:20:39.780206",
     "exception": false,
     "start_time": "2020-09-23T01:20:39.689517",
     "status": "completed"
    },
    "tags": []
   },
   "source": [
    "<div style=\"\">\n",
    "    <div style=\"float: left; width: 80%;\">\n",
    "        <a id=\"35\"></a>\n",
    "        <font><b>Task 35:</b></font>\n",
    "        <br><br>\n",
    "        Loc - iloc - ix - at - iat\n",
    "    </div>\n",
    "    <div style=\"float: right;\">\n",
    "        <a href=\"#top\" class=\"btn btn-primary btn-sm\" role=\"button\" aria-pressed=\"true\" style=\"color:white\" data-toggle=\"popover\" title=\"go to Top\">Go to Top</a>\n",
    "    </div>\n",
    "    <br style=\"clear: left;\" />\n",
    "</div>"
   ]
  },
  {
   "cell_type": "code",
   "execution_count": 38,
   "metadata": {
    "execution": {
     "iopub.execute_input": "2020-09-23T01:20:39.971513Z",
     "iopub.status.busy": "2020-09-23T01:20:39.970774Z",
     "iopub.status.idle": "2020-09-23T01:20:39.973840Z",
     "shell.execute_reply": "2020-09-23T01:20:39.974256Z"
    },
    "papermill": {
     "duration": 0.102567,
     "end_time": "2020-09-23T01:20:39.974407",
     "exception": false,
     "start_time": "2020-09-23T01:20:39.871840",
     "status": "completed"
    },
    "tags": []
   },
   "outputs": [
    {
     "name": "stdout",
     "output_type": "stream",
     "text": [
      "Task 35:\n"
     ]
    }
   ],
   "source": [
    "print('Task 35:')  \n",
    "df = pandas.read_csv('/kaggle/input/datasets-for-pandas/data1.csv', sep=';')"
   ]
  },
  {
   "cell_type": "markdown",
   "metadata": {
    "papermill": {
     "duration": 0.091328,
     "end_time": "2020-09-23T01:20:40.157672",
     "exception": false,
     "start_time": "2020-09-23T01:20:40.066344",
     "status": "completed"
    },
    "tags": []
   },
   "source": [
    "<div style=\"\">\n",
    "    <div style=\"float: left; width: 80%;\">\n",
    "        <a id=\"36\"></a>\n",
    "        <font><b>Task 36:</b></font>\n",
    "        <br><br>\n",
    "        Random data\n",
    "    </div>\n",
    "    <div style=\"float: right;\">\n",
    "        <a href=\"#top\" class=\"btn btn-primary btn-sm\" role=\"button\" aria-pressed=\"true\" style=\"color:white\" data-toggle=\"popover\" title=\"go to Top\">Go to Top</a>\n",
    "    </div>\n",
    "    <br style=\"clear: left;\" />\n",
    "</div> "
   ]
  },
  {
   "cell_type": "code",
   "execution_count": 39,
   "metadata": {
    "execution": {
     "iopub.execute_input": "2020-09-23T01:20:40.361904Z",
     "iopub.status.busy": "2020-09-23T01:20:40.361323Z",
     "iopub.status.idle": "2020-09-23T01:20:40.368902Z",
     "shell.execute_reply": "2020-09-23T01:20:40.369323Z"
    },
    "papermill": {
     "duration": 0.118828,
     "end_time": "2020-09-23T01:20:40.369462",
     "exception": false,
     "start_time": "2020-09-23T01:20:40.250634",
     "status": "completed"
    },
    "tags": []
   },
   "outputs": [
    {
     "name": "stdout",
     "output_type": "stream",
     "text": [
      "Task 36:\n",
      "1000\n"
     ]
    },
    {
     "data": {
      "text/html": [
       "<div>\n",
       "<style scoped>\n",
       "    .dataframe tbody tr th:only-of-type {\n",
       "        vertical-align: middle;\n",
       "    }\n",
       "\n",
       "    .dataframe tbody tr th {\n",
       "        vertical-align: top;\n",
       "    }\n",
       "\n",
       "    .dataframe thead th {\n",
       "        text-align: right;\n",
       "    }\n",
       "</style>\n",
       "<table border=\"1\" class=\"dataframe\">\n",
       "  <thead>\n",
       "    <tr style=\"text-align: right;\">\n",
       "      <th></th>\n",
       "      <th>date</th>\n",
       "      <th>rnd_1</th>\n",
       "      <th>rnd_2</th>\n",
       "      <th>rnd_3</th>\n",
       "    </tr>\n",
       "  </thead>\n",
       "  <tbody>\n",
       "    <tr>\n",
       "      <th>0</th>\n",
       "      <td>2012-04-10</td>\n",
       "      <td>10</td>\n",
       "      <td>9</td>\n",
       "      <td>12</td>\n",
       "    </tr>\n",
       "    <tr>\n",
       "      <th>1</th>\n",
       "      <td>2012-04-11</td>\n",
       "      <td>7</td>\n",
       "      <td>11</td>\n",
       "      <td>9</td>\n",
       "    </tr>\n",
       "    <tr>\n",
       "      <th>2</th>\n",
       "      <td>2012-04-12</td>\n",
       "      <td>15</td>\n",
       "      <td>2</td>\n",
       "      <td>6</td>\n",
       "    </tr>\n",
       "    <tr>\n",
       "      <th>3</th>\n",
       "      <td>2012-04-13</td>\n",
       "      <td>13</td>\n",
       "      <td>13</td>\n",
       "      <td>10</td>\n",
       "    </tr>\n",
       "    <tr>\n",
       "      <th>4</th>\n",
       "      <td>2012-04-14</td>\n",
       "      <td>8</td>\n",
       "      <td>18</td>\n",
       "      <td>6</td>\n",
       "    </tr>\n",
       "  </tbody>\n",
       "</table>\n",
       "</div>"
      ],
      "text/plain": [
       "        date  rnd_1  rnd_2  rnd_3\n",
       "0 2012-04-10     10      9     12\n",
       "1 2012-04-11      7     11      9\n",
       "2 2012-04-12     15      2      6\n",
       "3 2012-04-13     13     13     10\n",
       "4 2012-04-14      8     18      6"
      ]
     },
     "execution_count": 39,
     "metadata": {},
     "output_type": "execute_result"
    }
   ],
   "source": [
    "print('Task 36:')  \n",
    "def xrange(x):\n",
    "    return iter(range(x))\n",
    "\n",
    "rnd_1  =  [ rn.randrange ( 1 , 20 )  for  x  in  xrange ( 1000 )] \n",
    "rnd_2  =  [ rn.randrange ( 1 , 20 )  for  x  in  xrange ( 1000 )] \n",
    "rnd_3  =  [ rn.randrange ( 1 , 20 )  for  x in  xrange ( 1000 )] \n",
    "date  =  pd . date_range ( '2012-4-10' ,  '2015-1-4' )\n",
    "print(len(date))\n",
    "data  =  pd . DataFrame ({ 'date' : date ,  'rnd_1' :  rnd_1 ,  'rnd_2' :  rnd_2 ,  'rnd_3' :  rnd_3 })\n",
    "\n",
    "data.head()"
   ]
  },
  {
   "cell_type": "markdown",
   "metadata": {
    "papermill": {
     "duration": 0.092121,
     "end_time": "2020-09-23T01:20:40.553735",
     "exception": false,
     "start_time": "2020-09-23T01:20:40.461614",
     "status": "completed"
    },
    "tags": []
   },
   "source": [
    "<div style=\"\">\n",
    "    <div style=\"float: left; width: 80%;\">\n",
    "        <a id=\"37\"></a>\n",
    "        <font><b>Task 37:</b></font>\n",
    "        <br><br>\n",
    "        Filter with the value comparison\n",
    "    </div>\n",
    "    <div style=\"float: right;\">\n",
    "        <a href=\"#top\" class=\"btn btn-primary btn-sm\" role=\"button\" aria-pressed=\"true\" style=\"color:white\" data-toggle=\"popover\" title=\"go to Top\">Go to Top</a>\n",
    "    </div>\n",
    "    <br style=\"clear: left;\" />\n",
    "</div> "
   ]
  },
  {
   "cell_type": "code",
   "execution_count": 40,
   "metadata": {
    "execution": {
     "iopub.execute_input": "2020-09-23T01:20:40.748068Z",
     "iopub.status.busy": "2020-09-23T01:20:40.747515Z",
     "iopub.status.idle": "2020-09-23T01:20:40.750858Z",
     "shell.execute_reply": "2020-09-23T01:20:40.750438Z"
    },
    "papermill": {
     "duration": 0.103779,
     "end_time": "2020-09-23T01:20:40.750957",
     "exception": false,
     "start_time": "2020-09-23T01:20:40.647178",
     "status": "completed"
    },
    "tags": []
   },
   "outputs": [
    {
     "name": "stdout",
     "output_type": "stream",
     "text": [
      "Task 37:\n",
      "          date  rnd_1  rnd_2  rnd_3\n",
      "0   2012-04-10     10      9     12\n",
      "1   2012-04-11      7     11      9\n",
      "2   2012-04-12     15      2      6\n",
      "3   2012-04-13     13     13     10\n",
      "4   2012-04-14      8     18      6\n",
      "..         ...    ...    ...    ...\n",
      "995 2014-12-31     15      4      4\n",
      "996 2015-01-01      5      9      3\n",
      "997 2015-01-02     10     10     18\n",
      "998 2015-01-03     12      9      5\n",
      "999 2015-01-04     16     17     15\n",
      "\n",
      "[1000 rows x 4 columns]\n"
     ]
    }
   ],
   "source": [
    "print('Task 37:')\n",
    "below_20 = data[data['rnd_1'] < 20]    \n",
    "print(below_20)"
   ]
  },
  {
   "cell_type": "markdown",
   "metadata": {
    "papermill": {
     "duration": 0.09342,
     "end_time": "2020-09-23T01:20:40.937787",
     "exception": false,
     "start_time": "2020-09-23T01:20:40.844367",
     "status": "completed"
    },
    "tags": []
   },
   "source": [
    "<div style=\"\">\n",
    "    <div style=\"float: left; width: 80%;\">\n",
    "        <a id=\"38\"></a>\n",
    "        <font><b>Task 38:</b></font>\n",
    "        <br><br>\n",
    "        Filter between 5 and 10 on col 1\n",
    "    </div>\n",
    "    <div style=\"float: right;\">\n",
    "        <a href=\"#top\" class=\"btn btn-primary btn-sm\" role=\"button\" aria-pressed=\"true\" style=\"color:white\" data-toggle=\"popover\" title=\"go to Top\">Go to Top</a>\n",
    "    </div>\n",
    "    <br style=\"clear: left;\" />\n",
    "</div> "
   ]
  },
  {
   "cell_type": "code",
   "execution_count": 41,
   "metadata": {
    "execution": {
     "iopub.execute_input": "2020-09-23T01:20:41.173602Z",
     "iopub.status.busy": "2020-09-23T01:20:41.172077Z",
     "iopub.status.idle": "2020-09-23T01:20:41.177461Z",
     "shell.execute_reply": "2020-09-23T01:20:41.176982Z"
    },
    "papermill": {
     "duration": 0.115778,
     "end_time": "2020-09-23T01:20:41.177559",
     "exception": false,
     "start_time": "2020-09-23T01:20:41.061781",
     "status": "completed"
    },
    "tags": []
   },
   "outputs": [
    {
     "name": "stdout",
     "output_type": "stream",
     "text": [
      "Task 38:\n",
      "1000\n"
     ]
    }
   ],
   "source": [
    "print('Task 38:') \n",
    "def xrange(x):\n",
    "    return iter(range(x))\n",
    "rnd_1  =  [ rn.randrange ( 1 , 20 )  for  x  in  xrange ( 1000 )] \n",
    "rnd_2  =  [ rn.randrange ( 1 , 20 )  for  x  in  xrange ( 1000 )] \n",
    "rnd_3  =  [ rn.randrange ( 1 , 20 )  for  x in  xrange ( 1000 )] \n",
    "date  =  pd . date_range ( '2012-4-10' ,  '2015-1-4' )\n",
    "print(len(date))\n",
    "data  =  pd . DataFrame ({ 'date' : date ,  'rnd_1' :  rnd_1 ,  'rnd_2' :  rnd_2 ,  'rnd_3' :  rnd_3 })\n",
    "below_20 = data[data['rnd_1'] < 20]\n",
    "ten_to_20 = data[(data['rnd_1'] >= 5) & (data['rnd_1'] < 10)]\n",
    "#print(ten_to_20)"
   ]
  },
  {
   "cell_type": "markdown",
   "metadata": {
    "papermill": {
     "duration": 0.091647,
     "end_time": "2020-09-23T01:20:41.361099",
     "exception": false,
     "start_time": "2020-09-23T01:20:41.269452",
     "status": "completed"
    },
    "tags": []
   },
   "source": [
    "<div style=\"\">\n",
    "    <div style=\"float: left; width: 80%;\">\n",
    "        <a id=\"39\"></a>\n",
    "        <font><b>Task 39:</b></font>\n",
    "        <br><br>\n",
    "        Filter between 15 to 20\n",
    "    </div>\n",
    "    <div style=\"float: right;\">\n",
    "        <a href=\"#top\" class=\"btn btn-primary btn-sm\" role=\"button\" aria-pressed=\"true\" style=\"color:white\" data-toggle=\"popover\" title=\"go to Top\">Go to Top</a>\n",
    "    </div>\n",
    "    <br style=\"clear: left;\" />\n",
    "</div> "
   ]
  },
  {
   "cell_type": "code",
   "execution_count": 42,
   "metadata": {
    "execution": {
     "iopub.execute_input": "2020-09-23T01:20:41.557109Z",
     "iopub.status.busy": "2020-09-23T01:20:41.556519Z",
     "iopub.status.idle": "2020-09-23T01:20:41.559927Z",
     "shell.execute_reply": "2020-09-23T01:20:41.560365Z"
    },
    "papermill": {
     "duration": 0.107719,
     "end_time": "2020-09-23T01:20:41.560516",
     "exception": false,
     "start_time": "2020-09-23T01:20:41.452797",
     "status": "completed"
    },
    "tags": []
   },
   "outputs": [
    {
     "name": "stdout",
     "output_type": "stream",
     "text": [
      "Task 39:\n",
      "         date  rnd_1  rnd_2  rnd_3\n",
      "1  2018-08-02     19      1     15\n",
      "8  2018-08-09     17      3     14\n",
      "10 2018-08-11     19      3     13\n",
      "12 2018-08-13     18     10      6\n",
      "13 2018-08-14     18     17     15\n"
     ]
    }
   ],
   "source": [
    "print('Task 39:')      \n",
    "date  =  pd . date_range ( '2018-08-01' ,  '2018-08-15' )\n",
    "date_count = len(date)\n",
    "\n",
    "def fill_rand(start, end, count):\n",
    "    return [rn.randrange(1, 20 ) for x in xrange( count )]\n",
    "\n",
    "rnd_1 = fill_rand(1, 20, date_count) \n",
    "rnd_2 = fill_rand(1, 20, date_count) \n",
    "rnd_3 = fill_rand(1, 20, date_count)\n",
    "#print(len(date))\n",
    "data  =  pd . DataFrame ({ 'date' : date ,  'rnd_1' :  rnd_1 ,  'rnd_2' :  rnd_2 ,  'rnd_3' :  rnd_3 })\n",
    "#print(len(date))\n",
    "ten_to_20 = data[(data['rnd_1'] >= 15) & (data['rnd_1'] < 20)]\n",
    "print(ten_to_20)"
   ]
  },
  {
   "cell_type": "markdown",
   "metadata": {
    "papermill": {
     "duration": 0.092744,
     "end_time": "2020-09-23T01:20:41.746834",
     "exception": false,
     "start_time": "2020-09-23T01:20:41.654090",
     "status": "completed"
    },
    "tags": []
   },
   "source": [
    "<div style=\"\">\n",
    "    <div style=\"float: left; width: 80%;\">\n",
    "        <a id=\"40\"></a>\n",
    "        <font><b>Task 40:</b></font>\n",
    "        <br><br>\n",
    "        15 to 33\n",
    "    </div>\n",
    "    <div style=\"float: right;\">\n",
    "        <a href=\"#top\" class=\"btn btn-primary btn-sm\" role=\"button\" aria-pressed=\"true\" style=\"color:white\" data-toggle=\"popover\" title=\"go to Top\">Go to Top</a>\n",
    "    </div>\n",
    "    <br style=\"clear: left;\" />\n",
    "</div>"
   ]
  },
  {
   "cell_type": "code",
   "execution_count": 43,
   "metadata": {
    "execution": {
     "iopub.execute_input": "2020-09-23T01:20:41.945736Z",
     "iopub.status.busy": "2020-09-23T01:20:41.944974Z",
     "iopub.status.idle": "2020-09-23T01:20:41.948560Z",
     "shell.execute_reply": "2020-09-23T01:20:41.947989Z"
    },
    "papermill": {
     "duration": 0.109106,
     "end_time": "2020-09-23T01:20:41.948658",
     "exception": false,
     "start_time": "2020-09-23T01:20:41.839552",
     "status": "completed"
    },
    "tags": []
   },
   "outputs": [
    {
     "name": "stdout",
     "output_type": "stream",
     "text": [
      "Task 40:\n",
      "         date  rnd_1  rnd_2  rnd_3\n",
      "0  2018-08-01     19      8      6\n",
      "1  2018-08-02     15     11     17\n",
      "2  2018-08-03     17      9     17\n",
      "7  2018-08-08     18      6     18\n",
      "9  2018-08-10     17      5     18\n",
      "11 2018-08-12     19     18     17\n",
      "12 2018-08-13     19      5     14\n",
      "13 2018-08-14     15     18     13\n"
     ]
    }
   ],
   "source": [
    "print('Task 40:')      \n",
    "date  =  pd . date_range ( '2018-08-01' ,  '2018-08-15' )\n",
    "date_count = len(date)\n",
    "\n",
    "def fill_rand(start, end, count):\n",
    "    return [rn.randrange(1, 20 ) for x in xrange( count )]\n",
    "\n",
    "rnd_1 = fill_rand(1, 20, date_count) \n",
    "rnd_2 = fill_rand(1, 20, date_count) \n",
    "rnd_3 = fill_rand(1, 20, date_count)\n",
    "\n",
    "data  =  pd . DataFrame ({ 'date' : date ,  'rnd_1' :  rnd_1 ,  'rnd_2' :  rnd_2 ,  'rnd_3' :  rnd_3 })\n",
    "\n",
    "ten_to_20 = data[(data['rnd_1'] >= 15) & (data['rnd_1'] < 33)]\n",
    "print(ten_to_20)"
   ]
  },
  {
   "cell_type": "markdown",
   "metadata": {
    "papermill": {
     "duration": 0.092678,
     "end_time": "2020-09-23T01:20:42.134080",
     "exception": false,
     "start_time": "2020-09-23T01:20:42.041402",
     "status": "completed"
    },
    "tags": []
   },
   "source": [
    "<div style=\"\">\n",
    "    <div style=\"float: left; width: 80%;\">\n",
    "        <a id=\"41\"></a>\n",
    "        <font><b>Task 41:</b></font>\n",
    "        <br><br>\n",
    "        Custom method and xrnage on dataframe\n",
    "    </div>\n",
    "    <div style=\"float: right;\">\n",
    "        <a href=\"#top\" class=\"btn btn-primary btn-sm\" role=\"button\" aria-pressed=\"true\" style=\"color:white\" data-toggle=\"popover\" title=\"go to Top\">Go to Top</a>\n",
    "    </div>\n",
    "    <br style=\"clear: left;\" />\n",
    "</div> "
   ]
  },
  {
   "cell_type": "code",
   "execution_count": 44,
   "metadata": {
    "execution": {
     "iopub.execute_input": "2020-09-23T01:20:42.335266Z",
     "iopub.status.busy": "2020-09-23T01:20:42.334501Z",
     "iopub.status.idle": "2020-09-23T01:20:42.337536Z",
     "shell.execute_reply": "2020-09-23T01:20:42.337896Z"
    },
    "papermill": {
     "duration": 0.110829,
     "end_time": "2020-09-23T01:20:42.338035",
     "exception": false,
     "start_time": "2020-09-23T01:20:42.227206",
     "status": "completed"
    },
    "tags": []
   },
   "outputs": [
    {
     "name": "stdout",
     "output_type": "stream",
     "text": [
      "Task 41:\n",
      "   rnd_2       date\n",
      "2     12 2018-08-03\n",
      "3      4 2018-08-04\n",
      "4     11 2018-08-05\n"
     ]
    }
   ],
   "source": [
    "print('Task 41:')  \n",
    "date  =  pd . date_range ( '2018-08-01' ,  '2018-08-15' )\n",
    "date_count = len(date)\n",
    "\n",
    "def xrange(x):\n",
    "    return iter(range(x))\n",
    "\n",
    "def fill_rand(start, end, count):\n",
    "    return [rn.randrange(1, 20 ) for x in xrange( count )]\n",
    "\n",
    "rnd_1 = fill_rand(1, 20, date_count) \n",
    "rnd_2 = fill_rand(1, 20, date_count) \n",
    "rnd_3 = fill_rand(1, 20, date_count)\n",
    "\n",
    "data  =  pd . DataFrame ({ 'date' : date ,  'rnd_1' :  rnd_1 ,  'rnd_2' :  rnd_2 ,  'rnd_3' :  rnd_3 })\n",
    "filter_loc = data.loc[ 2 : 4 ,  [ 'rnd_2' ,  'date' ]]\n",
    "print(filter_loc)"
   ]
  },
  {
   "cell_type": "markdown",
   "metadata": {
    "papermill": {
     "duration": 0.094441,
     "end_time": "2020-09-23T01:20:42.525425",
     "exception": false,
     "start_time": "2020-09-23T01:20:42.430984",
     "status": "completed"
    },
    "tags": []
   },
   "source": [
    "<div style=\"\">\n",
    "    <div style=\"float: left; width: 80%;\">\n",
    "        <a id=\"42\"></a>\n",
    "        <font><b>Task 42:</b></font>\n",
    "        <br><br>\n",
    "        Set index with date column\n",
    "    </div>\n",
    "    <div style=\"float: right;\">\n",
    "        <a href=\"#top\" class=\"btn btn-primary btn-sm\" role=\"button\" aria-pressed=\"true\" style=\"color:white\" data-toggle=\"popover\" title=\"go to Top\">Go to Top</a>\n",
    "    </div>\n",
    "    <br style=\"clear: left;\" />\n",
    "</div> "
   ]
  },
  {
   "cell_type": "code",
   "execution_count": 45,
   "metadata": {
    "execution": {
     "iopub.execute_input": "2020-09-23T01:20:42.722100Z",
     "iopub.status.busy": "2020-09-23T01:20:42.721367Z",
     "iopub.status.idle": "2020-09-23T01:20:42.724240Z",
     "shell.execute_reply": "2020-09-23T01:20:42.724718Z"
    },
    "papermill": {
     "duration": 0.105399,
     "end_time": "2020-09-23T01:20:42.724846",
     "exception": false,
     "start_time": "2020-09-23T01:20:42.619447",
     "status": "completed"
    },
    "tags": []
   },
   "outputs": [
    {
     "name": "stdout",
     "output_type": "stream",
     "text": [
      "Task 42:\n",
      "            rnd_1  rnd_2  rnd_3\n",
      "date                           \n",
      "2018-08-01      8     18     16\n",
      "2018-08-02     11      3      7\n",
      "2018-08-03      6     12     17\n",
      "2018-08-04     12      4     19\n",
      "2018-08-05     17     11     16\n"
     ]
    }
   ],
   "source": [
    "print('Task 42:')\n",
    "date_date = data.set_index( 'date' ) \n",
    "print(date_date.head())"
   ]
  },
  {
   "cell_type": "markdown",
   "metadata": {
    "papermill": {
     "duration": 0.093749,
     "end_time": "2020-09-23T01:20:42.912430",
     "exception": false,
     "start_time": "2020-09-23T01:20:42.818681",
     "status": "completed"
    },
    "tags": []
   },
   "source": [
    "<div style=\"\">\n",
    "    <div style=\"float: left; width: 80%;\">\n",
    "        <a id=\"43\"></a>\n",
    "        <font><b>Task 43:</b></font>\n",
    "        <br><br>\n",
    "        Change columns based on other columns\n",
    "    </div>\n",
    "    <div style=\"float: right;\">\n",
    "        <a href=\"#top\" class=\"btn btn-primary btn-sm\" role=\"button\" aria-pressed=\"true\" style=\"color:white\" data-toggle=\"popover\" title=\"go to Top\">Go to Top</a>\n",
    "    </div>\n",
    "    <br style=\"clear: left;\" />\n",
    "</div> "
   ]
  },
  {
   "cell_type": "code",
   "execution_count": 46,
   "metadata": {
    "execution": {
     "iopub.execute_input": "2020-09-23T01:20:43.116575Z",
     "iopub.status.busy": "2020-09-23T01:20:43.115877Z",
     "iopub.status.idle": "2020-09-23T01:20:43.119778Z",
     "shell.execute_reply": "2020-09-23T01:20:43.120425Z"
    },
    "papermill": {
     "duration": 0.109548,
     "end_time": "2020-09-23T01:20:43.120608",
     "exception": false,
     "start_time": "2020-09-23T01:20:43.011060",
     "status": "completed"
    },
    "tags": []
   },
   "outputs": [
    {
     "name": "stdout",
     "output_type": "stream",
     "text": [
      "Task 43:\n",
      "   a  b   c\n",
      "0  1  9  11\n",
      "1  2  8  12\n",
      "2  3  7  13\n",
      "3  4  6  14\n",
      "changing on one column\n",
      "   a  b   c\n",
      "0  1  9  11\n",
      "1  2  9  12\n",
      "2  3  9  13\n",
      "3  4  9  14\n"
     ]
    }
   ],
   "source": [
    "print('Task 43:') \n",
    "df = pd.DataFrame({\n",
    "    'a' : [1,2,3,4], \n",
    "    'b' : [9,8,7,6],\n",
    "    'c' : [11,12,13,14]\n",
    "});\n",
    "print(df) \n",
    "\n",
    "print('changing on one column')\n",
    "# Change columns\n",
    "df.loc[df.a >= 2,'b'] = 9\n",
    "print(df)"
   ]
  },
  {
   "cell_type": "markdown",
   "metadata": {
    "papermill": {
     "duration": 0.093385,
     "end_time": "2020-09-23T01:20:43.308890",
     "exception": false,
     "start_time": "2020-09-23T01:20:43.215505",
     "status": "completed"
    },
    "tags": []
   },
   "source": [
    "<div style=\"\">\n",
    "    <div style=\"float: left; width: 80%;\">\n",
    "        <a id=\"44\"></a>\n",
    "        <font><b>Task 44:</b></font>\n",
    "        <br><br>\n",
    "        Change multiple columns based on one column values\n",
    "    </div>\n",
    "    <div style=\"float: right;\">\n",
    "        <a href=\"#top\" class=\"btn btn-primary btn-sm\" role=\"button\" aria-pressed=\"true\" style=\"color:white\" data-toggle=\"popover\" title=\"go to Top\">Go to Top</a>\n",
    "    </div>\n",
    "    <br style=\"clear: left;\" />\n",
    "</div> "
   ]
  },
  {
   "cell_type": "code",
   "execution_count": 47,
   "metadata": {
    "execution": {
     "iopub.execute_input": "2020-09-23T01:20:43.505217Z",
     "iopub.status.busy": "2020-09-23T01:20:43.504367Z",
     "iopub.status.idle": "2020-09-23T01:20:43.507513Z",
     "shell.execute_reply": "2020-09-23T01:20:43.507904Z"
    },
    "papermill": {
     "duration": 0.105339,
     "end_time": "2020-09-23T01:20:43.508041",
     "exception": false,
     "start_time": "2020-09-23T01:20:43.402702",
     "status": "completed"
    },
    "tags": []
   },
   "outputs": [
    {
     "name": "stdout",
     "output_type": "stream",
     "text": [
      "Task 44:\n",
      "changing on multipe columns\n",
      "   a   b   c\n",
      "0  1   9  11\n",
      "1  2   9  12\n",
      "2  3  45  45\n",
      "3  4  45  45\n"
     ]
    }
   ],
   "source": [
    "print('Task 44:')  \n",
    "print('changing on multipe columns')\n",
    "df.loc[df.a > 2,['b', 'c']] = 45\n",
    "print(df)"
   ]
  },
  {
   "cell_type": "markdown",
   "metadata": {
    "papermill": {
     "duration": 0.096699,
     "end_time": "2020-09-23T01:20:43.697896",
     "exception": false,
     "start_time": "2020-09-23T01:20:43.601197",
     "status": "completed"
    },
    "tags": []
   },
   "source": [
    "<div style=\"\">\n",
    "    <div style=\"float: left; width: 80%;\">\n",
    "        <a id=\"45\"></a>\n",
    "        <font><b>Task 45:</b></font>\n",
    "        <br><br>\n",
    "        Pandas Mask\n",
    "    </div>\n",
    "    <div style=\"float: right;\">\n",
    "        <a href=\"#top\" class=\"btn btn-primary btn-sm\" role=\"button\" aria-pressed=\"true\" style=\"color:white\" data-toggle=\"popover\" title=\"go to Top\">Go to Top</a>\n",
    "    </div>\n",
    "    <br style=\"clear: left;\" />\n",
    "</div>"
   ]
  },
  {
   "cell_type": "code",
   "execution_count": 48,
   "metadata": {
    "execution": {
     "iopub.execute_input": "2020-09-23T01:20:43.893394Z",
     "iopub.status.busy": "2020-09-23T01:20:43.892814Z",
     "iopub.status.idle": "2020-09-23T01:20:43.904206Z",
     "shell.execute_reply": "2020-09-23T01:20:43.903491Z"
    },
    "papermill": {
     "duration": 0.109798,
     "end_time": "2020-09-23T01:20:43.904367",
     "exception": false,
     "start_time": "2020-09-23T01:20:43.794569",
     "status": "completed"
    },
    "tags": []
   },
   "outputs": [
    {
     "name": "stdout",
     "output_type": "stream",
     "text": [
      "Task 45:\n",
      "   a   b   c\n",
      "0  1   9  11\n",
      "1  2   9  12\n",
      "2  3  45  45\n",
      "3  4  45  45\n",
      "   a     b     c\n",
      "0  1 -1000    11\n",
      "1  2 -1000 -1000\n",
      "2  3 -1000    45\n",
      "3  4 -1000 -1000\n"
     ]
    }
   ],
   "source": [
    "print('Task 45:')  \n",
    "print(df)\n",
    "df_mask = pd.DataFrame({\n",
    "    'a' : [True] * 4, \n",
    "    'b' : [False] * 4,\n",
    "    'c' : [True, False] * 2\n",
    "})\n",
    "print(df.where(df_mask,-1000))"
   ]
  },
  {
   "cell_type": "markdown",
   "metadata": {
    "papermill": {
     "duration": 0.09337,
     "end_time": "2020-09-23T01:20:44.091928",
     "exception": false,
     "start_time": "2020-09-23T01:20:43.998558",
     "status": "completed"
    },
    "tags": []
   },
   "source": [
    "<div style=\"\">\n",
    "    <div style=\"float: left; width: 80%;\">\n",
    "        <a id=\"46\"></a>\n",
    "        <font><b>Task 46:</b></font>\n",
    "        <br><br>\n",
    "        Check high or low comparing the column against 5\n",
    "    </div>\n",
    "    <div style=\"float: right;\">\n",
    "        <a href=\"#top\" class=\"btn btn-primary btn-sm\" role=\"button\" aria-pressed=\"true\" style=\"color:white\" data-toggle=\"popover\" title=\"go to Top\">Go to Top</a>\n",
    "    </div>\n",
    "    <br style=\"clear: left;\" />\n",
    "</div>"
   ]
  },
  {
   "cell_type": "code",
   "execution_count": 49,
   "metadata": {
    "execution": {
     "iopub.execute_input": "2020-09-23T01:20:44.287041Z",
     "iopub.status.busy": "2020-09-23T01:20:44.286382Z",
     "iopub.status.idle": "2020-09-23T01:20:44.290754Z",
     "shell.execute_reply": "2020-09-23T01:20:44.290297Z"
    },
    "papermill": {
     "duration": 0.105104,
     "end_time": "2020-09-23T01:20:44.290873",
     "exception": false,
     "start_time": "2020-09-23T01:20:44.185769",
     "status": "completed"
    },
    "tags": []
   },
   "outputs": [
    {
     "name": "stdout",
     "output_type": "stream",
     "text": [
      "Task 46:\n",
      "   a   b   c\n",
      "0  1   9  11\n",
      "1  2   9  12\n",
      "2  3  45  45\n",
      "3  4  45  45\n",
      "   a   b   c logic\n",
      "0  1   9  11   low\n",
      "1  2   9  12   low\n",
      "2  3  45  45   low\n",
      "3  4  45  45   low\n"
     ]
    }
   ],
   "source": [
    "print('Task 46:')\n",
    "print(df)  \n",
    "df['logic'] = np.where(df['a'] > 5, 'high', 'low')\n",
    "print(df)"
   ]
  },
  {
   "cell_type": "markdown",
   "metadata": {
    "papermill": {
     "duration": 0.094425,
     "end_time": "2020-09-23T01:20:44.480029",
     "exception": false,
     "start_time": "2020-09-23T01:20:44.385604",
     "status": "completed"
    },
    "tags": []
   },
   "source": [
    "<div style=\"\">\n",
    "    <div style=\"float: left; width: 80%;\">\n",
    "        <a id=\"47\"></a>\n",
    "        <font><b>Task 47:</b></font>\n",
    "        <br><br>\n",
    "        Student Marks (Pass or Fail)\n",
    "    </div>\n",
    "    <div style=\"float: right;\">\n",
    "        <a href=\"#top\" class=\"btn btn-primary btn-sm\" role=\"button\" aria-pressed=\"true\" style=\"color:white\" data-toggle=\"popover\" title=\"go to Top\">Go to Top</a>\n",
    "    </div>\n",
    "    <br style=\"clear: left;\" />\n",
    "</div>"
   ]
  },
  {
   "cell_type": "code",
   "execution_count": 50,
   "metadata": {
    "execution": {
     "iopub.execute_input": "2020-09-23T01:20:44.686530Z",
     "iopub.status.busy": "2020-09-23T01:20:44.685906Z",
     "iopub.status.idle": "2020-09-23T01:20:44.688399Z",
     "shell.execute_reply": "2020-09-23T01:20:44.688834Z"
    },
    "papermill": {
     "duration": 0.113617,
     "end_time": "2020-09-23T01:20:44.688965",
     "exception": false,
     "start_time": "2020-09-23T01:20:44.575348",
     "status": "completed"
    },
    "tags": []
   },
   "outputs": [
    {
     "name": "stdout",
     "output_type": "stream",
     "text": [
      "Task 47:\n",
      "   Language  Math  Science\n",
      "0        60    90       45\n",
      "1        45    80       90\n",
      "2        78    23       95\n",
      "3         4    60       20\n",
      "   Language  Math  Science language_grade math_grade science_grade\n",
      "0        60    90       45           Pass       Pass          Fail\n",
      "1        45    80       90           Fail       Pass          Pass\n",
      "2        78    23       95           Pass       Fail          Pass\n",
      "3         4    60       20           Fail       Pass          Fail\n"
     ]
    }
   ],
   "source": [
    "print('Task 47:')\n",
    "marks_df = pd.DataFrame({\n",
    "    'Language' : [60, 45, 78, 4], \n",
    "    'Math' : [90, 80, 23, 60],\n",
    "    'Science' : [45, 90, 95, 20]\n",
    "});\n",
    "print(marks_df)\n",
    "marks_df['language_grade'] = np.where(marks_df['Language'] >= 50, 'Pass', 'Fail')\n",
    "marks_df['math_grade'] = np.where(marks_df['Math'] >= 50, 'Pass', 'Fail')\n",
    "marks_df['science_grade'] = np.where(marks_df['Science'] >= 50, 'Pass', 'Fail')\n",
    "print(marks_df)"
   ]
  },
  {
   "cell_type": "markdown",
   "metadata": {
    "papermill": {
     "duration": 0.14685,
     "end_time": "2020-09-23T01:20:44.935912",
     "exception": false,
     "start_time": "2020-09-23T01:20:44.789062",
     "status": "completed"
    },
    "tags": []
   },
   "source": [
    "<div style=\"\">\n",
    "    <div style=\"float: left; width: 80%;\">\n",
    "        <a id=\"48\"></a>\n",
    "        <font><b>Task 48:</b></font>\n",
    "        <br><br>\n",
    "        Get passed grades\n",
    "    </div>\n",
    "    <div style=\"float: right;\">\n",
    "        <a href=\"#top\" class=\"btn btn-primary btn-sm\" role=\"button\" aria-pressed=\"true\" style=\"color:white\" data-toggle=\"popover\" title=\"go to Top\">Go to Top</a>\n",
    "    </div>\n",
    "    <br style=\"clear: left;\" />\n",
    "</div>"
   ]
  },
  {
   "cell_type": "code",
   "execution_count": 51,
   "metadata": {
    "execution": {
     "iopub.execute_input": "2020-09-23T01:20:45.148033Z",
     "iopub.status.busy": "2020-09-23T01:20:45.147220Z",
     "iopub.status.idle": "2020-09-23T01:20:45.150835Z",
     "shell.execute_reply": "2020-09-23T01:20:45.151625Z"
    },
    "papermill": {
     "duration": 0.119793,
     "end_time": "2020-09-23T01:20:45.151847",
     "exception": false,
     "start_time": "2020-09-23T01:20:45.032054",
     "status": "completed"
    },
    "tags": []
   },
   "outputs": [
    {
     "name": "stdout",
     "output_type": "stream",
     "text": [
      "Task 48:\n",
      "   Language  Math  Science\n",
      "0        60    90       45\n",
      "1        45    80       90\n",
      "2        78    23       95\n",
      "3         4    60       20\n",
      "   Language  Math  Science\n",
      "0        60    90       45\n",
      "2        78    23       95\n"
     ]
    }
   ],
   "source": [
    "print('Task 48:')  \n",
    "marks_df = pd.DataFrame({\n",
    "    'Language' : [60, 45, 78, 4], \n",
    "    'Math' : [90, 80, 23, 60],\n",
    "    'Science' : [45, 90, 95, 20]\n",
    "});\n",
    "print(marks_df)\n",
    "marks_df_passed_in_language = marks_df[marks_df.Language >=50 ]\n",
    "print(marks_df_passed_in_language)"
   ]
  },
  {
   "cell_type": "markdown",
   "metadata": {
    "papermill": {
     "duration": 0.09432,
     "end_time": "2020-09-23T01:20:45.342782",
     "exception": false,
     "start_time": "2020-09-23T01:20:45.248462",
     "status": "completed"
    },
    "tags": []
   },
   "source": [
    "<div style=\"\">\n",
    "    <div style=\"float: left; width: 80%;\">\n",
    "        <a id=\"49\"></a>\n",
    "        <font><b>Task 49:</b></font>\n",
    "        <br><br>\n",
    "        Students passed in Language and Math\n",
    "    </div>\n",
    "    <div style=\"float: right;\">\n",
    "        <a href=\"#top\" class=\"btn btn-primary btn-sm\" role=\"button\" aria-pressed=\"true\" style=\"color:white\" data-toggle=\"popover\" title=\"go to Top\">Go to Top</a>\n",
    "    </div>\n",
    "    <br style=\"clear: left;\" />\n",
    "</div> "
   ]
  },
  {
   "cell_type": "code",
   "execution_count": 52,
   "metadata": {
    "execution": {
     "iopub.execute_input": "2020-09-23T01:20:45.535261Z",
     "iopub.status.busy": "2020-09-23T01:20:45.534404Z",
     "iopub.status.idle": "2020-09-23T01:20:45.542666Z",
     "shell.execute_reply": "2020-09-23T01:20:45.543187Z"
    },
    "papermill": {
     "duration": 0.105907,
     "end_time": "2020-09-23T01:20:45.543312",
     "exception": false,
     "start_time": "2020-09-23T01:20:45.437405",
     "status": "completed"
    },
    "tags": []
   },
   "outputs": [
    {
     "name": "stdout",
     "output_type": "stream",
     "text": [
      "Task 49:\n",
      "   Language  Math  Science\n",
      "0        60    90       45\n"
     ]
    }
   ],
   "source": [
    "print('Task 49:')  \n",
    "marks_df_passed_in_lang_math = marks_df[(marks_df.Language >=50) & (marks_df.Math >= 50)]\n",
    "print(marks_df_passed_in_lang_math)"
   ]
  },
  {
   "cell_type": "markdown",
   "metadata": {
    "papermill": {
     "duration": 0.096305,
     "end_time": "2020-09-23T01:20:45.735236",
     "exception": false,
     "start_time": "2020-09-23T01:20:45.638931",
     "status": "completed"
    },
    "tags": []
   },
   "source": [
    "<div style=\"\">\n",
    "    <div style=\"float: left; width: 80%;\">\n",
    "        <a id=\"50\"></a>\n",
    "        <font><b>Task 50:</b></font>\n",
    "        <br><br>\n",
    "        Students passed in Language and Science\n",
    "    </div>\n",
    "    <div style=\"float: right;\">\n",
    "        <a href=\"#top\" class=\"btn btn-primary btn-sm\" role=\"button\" aria-pressed=\"true\" style=\"color:white\" data-toggle=\"popover\" title=\"go to Top\">Go to Top</a>\n",
    "    </div>\n",
    "    <br style=\"clear: left;\" />\n",
    "</div>"
   ]
  },
  {
   "cell_type": "code",
   "execution_count": 53,
   "metadata": {
    "execution": {
     "iopub.execute_input": "2020-09-23T01:20:45.930370Z",
     "iopub.status.busy": "2020-09-23T01:20:45.929470Z",
     "iopub.status.idle": "2020-09-23T01:20:45.937751Z",
     "shell.execute_reply": "2020-09-23T01:20:45.937292Z"
    },
    "papermill": {
     "duration": 0.1066,
     "end_time": "2020-09-23T01:20:45.937842",
     "exception": false,
     "start_time": "2020-09-23T01:20:45.831242",
     "status": "completed"
    },
    "tags": []
   },
   "outputs": [
    {
     "name": "stdout",
     "output_type": "stream",
     "text": [
      "Task 50:\n",
      "   Language  Math  Science\n",
      "2        78    23       95\n"
     ]
    }
   ],
   "source": [
    "print('Task 50:')  \n",
    "marks_df_passed_in_lang_and_sc = marks_df.loc[(marks_df.Language >=50) & (marks_df.Science >= 50)]\n",
    "print(marks_df_passed_in_lang_and_sc)"
   ]
  },
  {
   "cell_type": "markdown",
   "metadata": {
    "papermill": {
     "duration": 0.095693,
     "end_time": "2020-09-23T01:20:46.129042",
     "exception": false,
     "start_time": "2020-09-23T01:20:46.033349",
     "status": "completed"
    },
    "tags": []
   },
   "source": [
    "<div style=\"\">\n",
    "    <div style=\"float: left; width: 80%;\">\n",
    "        <a id=\"51\"></a>\n",
    "        <font><b>Task 51:</b></font>\n",
    "        <br><br>\n",
    "        Loc with Label oriented slicing\n",
    "<br>possible error:\n",
    "<br>pandas.errors.UnsortedIndexError\n",
    "    </div>\n",
    "    <div style=\"float: right;\">\n",
    "        <a href=\"#top\" class=\"btn btn-primary btn-sm\" role=\"button\" aria-pressed=\"true\" style=\"color:white\" data-toggle=\"popover\" title=\"go to Top\">Go to Top</a>\n",
    "    </div>\n",
    "    <br style=\"clear: left;\" />\n",
    "</div> "
   ]
  },
  {
   "cell_type": "code",
   "execution_count": 54,
   "metadata": {
    "execution": {
     "iopub.execute_input": "2020-09-23T01:20:46.323185Z",
     "iopub.status.busy": "2020-09-23T01:20:46.322329Z",
     "iopub.status.idle": "2020-09-23T01:20:46.332147Z",
     "shell.execute_reply": "2020-09-23T01:20:46.331608Z"
    },
    "papermill": {
     "duration": 0.107681,
     "end_time": "2020-09-23T01:20:46.332245",
     "exception": false,
     "start_time": "2020-09-23T01:20:46.224564",
     "status": "completed"
    },
    "tags": []
   },
   "outputs": [
    {
     "name": "stdout",
     "output_type": "stream",
     "text": [
      "Task 51:\n",
      "         age  movies  awards\n",
      "dhanush   31      51      42\n",
      "simbu     23      23      12\n",
      "kamal     65      87       4\n",
      "vikram    50     200      78\n"
     ]
    }
   ],
   "source": [
    "print('Task 51:')\n",
    "stars = {\n",
    "    'age' : [31, 23, 65, 50],\n",
    "    'movies' : [51, 23, 87, 200],\n",
    "    'awards' : [42, 12, 4, 78]\n",
    "    }\n",
    "star_names = ['dhanush', 'simbu', 'kamal', 'vikram']\n",
    "stars_df = pd.DataFrame(data=stars, index=[star_names])\n",
    "print(stars_df)"
   ]
  },
  {
   "cell_type": "markdown",
   "metadata": {
    "papermill": {
     "duration": 0.095279,
     "end_time": "2020-09-23T01:20:46.523219",
     "exception": false,
     "start_time": "2020-09-23T01:20:46.427940",
     "status": "completed"
    },
    "tags": []
   },
   "source": [
    "<div style=\"\">\n",
    "    <div style=\"float: left; width: 80%;\">\n",
    "        <a id=\"52\"></a>\n",
    "        <font><b>Task 52:</b></font>\n",
    "        <br><br>\n",
    "        iloc with positional slicing\n",
    "    </div>\n",
    "    <div style=\"float: right;\">\n",
    "        <a href=\"#top\" class=\"btn btn-primary btn-sm\" role=\"button\" aria-pressed=\"true\" style=\"color:white\" data-toggle=\"popover\" title=\"go to Top\">Go to Top</a>\n",
    "    </div>\n",
    "    <br style=\"clear: left;\" />\n",
    "</div> "
   ]
  },
  {
   "cell_type": "code",
   "execution_count": 55,
   "metadata": {
    "execution": {
     "iopub.execute_input": "2020-09-23T01:20:46.721723Z",
     "iopub.status.busy": "2020-09-23T01:20:46.721067Z",
     "iopub.status.idle": "2020-09-23T01:20:46.724425Z",
     "shell.execute_reply": "2020-09-23T01:20:46.725153Z"
    },
    "papermill": {
     "duration": 0.106505,
     "end_time": "2020-09-23T01:20:46.725318",
     "exception": false,
     "start_time": "2020-09-23T01:20:46.618813",
     "status": "completed"
    },
    "tags": []
   },
   "outputs": [
    {
     "name": "stdout",
     "output_type": "stream",
     "text": [
      "Task 52:\n",
      "       age  movies  awards\n",
      "simbu   23      23      12\n",
      "kamal   65      87       4\n"
     ]
    }
   ],
   "source": [
    "print('Task 52:')  \n",
    "print(stars_df.iloc[1:3])"
   ]
  },
  {
   "cell_type": "markdown",
   "metadata": {
    "papermill": {
     "duration": 0.096163,
     "end_time": "2020-09-23T01:20:46.920640",
     "exception": false,
     "start_time": "2020-09-23T01:20:46.824477",
     "status": "completed"
    },
    "tags": []
   },
   "source": [
    "<div style=\"\">\n",
    "    <div style=\"float: left; width: 80%;\">\n",
    "        <a id=\"53\"></a>\n",
    "        <font><b>Task 53:</b></font>\n",
    "        <br><br>\n",
    "        Label between numbers\n",
    "    </div>\n",
    "    <div style=\"float: right;\">\n",
    "        <a href=\"#top\" class=\"btn btn-primary btn-sm\" role=\"button\" aria-pressed=\"true\" style=\"color:white\" data-toggle=\"popover\" title=\"go to Top\">Go to Top</a>\n",
    "    </div>\n",
    "    <br style=\"clear: left;\" />\n",
    "</div>"
   ]
  },
  {
   "cell_type": "code",
   "execution_count": 56,
   "metadata": {
    "execution": {
     "iopub.execute_input": "2020-09-23T01:20:47.125905Z",
     "iopub.status.busy": "2020-09-23T01:20:47.124961Z",
     "iopub.status.idle": "2020-09-23T01:20:47.129160Z",
     "shell.execute_reply": "2020-09-23T01:20:47.129585Z"
    },
    "papermill": {
     "duration": 0.111896,
     "end_time": "2020-09-23T01:20:47.129707",
     "exception": false,
     "start_time": "2020-09-23T01:20:47.017811",
     "status": "completed"
    },
    "tags": []
   },
   "outputs": [
    {
     "name": "stdout",
     "output_type": "stream",
     "text": [
      "Task 53:\n",
      "    one  two\n",
      "12   10    2\n",
      "14   50    6\n",
      "16   80   56\n",
      "18   40   45\n",
      "label between 12 and 16\n",
      "    one  two\n",
      "12   10    2\n",
      "14   50    6\n",
      "16   80   56\n",
      "index between 1 and 3\n",
      "    one  two\n",
      "14   50    6\n",
      "16   80   56\n"
     ]
    }
   ],
   "source": [
    "print('Task 53:')  \n",
    "numbers = pd.DataFrame({\n",
    "        'one' : [10, 50, 80, 40],\n",
    "        'two' : [2, 6, 56, 45]\n",
    "    },\n",
    "    index = [12, 14, 16, 18])\n",
    "print(numbers)\n",
    "\n",
    "print('label between 12 and 16')\n",
    "print(numbers.loc[12:16])\n",
    "\n",
    "print('index between 1 and 3')\n",
    "print(numbers.iloc[1:3])"
   ]
  },
  {
   "cell_type": "markdown",
   "metadata": {
    "papermill": {
     "duration": 0.096793,
     "end_time": "2020-09-23T01:20:47.323616",
     "exception": false,
     "start_time": "2020-09-23T01:20:47.226823",
     "status": "completed"
    },
    "tags": []
   },
   "source": [
    "<div style=\"\">\n",
    "    <div style=\"float: left; width: 80%;\">\n",
    "        <a id=\"54\"></a>\n",
    "        <font><b>Task 54:</b></font>\n",
    "        <br><br>\n",
    "        Stars with names\n",
    "    </div>\n",
    "    <div style=\"float: right;\">\n",
    "        <a href=\"#top\" class=\"btn btn-primary btn-sm\" role=\"button\" aria-pressed=\"true\" style=\"color:white\" data-toggle=\"popover\" title=\"go to Top\">Go to Top</a>\n",
    "    </div>\n",
    "    <br style=\"clear: left;\" />\n",
    "</div> "
   ]
  },
  {
   "cell_type": "code",
   "execution_count": 57,
   "metadata": {
    "execution": {
     "iopub.execute_input": "2020-09-23T01:20:47.529683Z",
     "iopub.status.busy": "2020-09-23T01:20:47.528887Z",
     "iopub.status.idle": "2020-09-23T01:20:47.532907Z",
     "shell.execute_reply": "2020-09-23T01:20:47.532364Z"
    },
    "papermill": {
     "duration": 0.11212,
     "end_time": "2020-09-23T01:20:47.533025",
     "exception": false,
     "start_time": "2020-09-23T01:20:47.420905",
     "status": "completed"
    },
    "tags": []
   },
   "outputs": [
    {
     "name": "stdout",
     "output_type": "stream",
     "text": [
      "Task 54:\n",
      "    one  two\n",
      "12   10    2\n",
      "14   50    6\n",
      "16   80   56\n",
      "18   40   45\n"
     ]
    }
   ],
   "source": [
    "print('Task 54:') \n",
    "stars = {\n",
    "    'age' : [31, 23, 65, 50],\n",
    "    'movies' : [51, 23, 87, 200],\n",
    "    'awards' : [42, 12, 4, 78]\n",
    "    }\n",
    "star_names = ['dhanush', 'simbu', 'kamal', 'vikram']\n",
    "stars_df = pd.DataFrame(data=stars, index=[star_names])\n",
    "numbers = pd.DataFrame({\n",
    "        'one' : [10, 50, 80, 40],\n",
    "        'two' : [2, 6, 56, 45]\n",
    "    },\n",
    "    index = [12, 14, 16, 18])\n",
    "print(numbers)"
   ]
  },
  {
   "cell_type": "markdown",
   "metadata": {
    "papermill": {
     "duration": 0.106106,
     "end_time": "2020-09-23T01:20:47.736398",
     "exception": false,
     "start_time": "2020-09-23T01:20:47.630292",
     "status": "completed"
    },
    "tags": []
   },
   "source": [
    "<div style=\"\">\n",
    "    <div style=\"float: left; width: 80%;\">\n",
    "        <a id=\"55\"></a>\n",
    "        <font><b>Task 55:</b></font>\n",
    "        <br><br>\n",
    "        Row label selection\n",
    "        <br>Age is above 25 and movies above 25\n",
    "    </div>\n",
    "    <div style=\"float: right;\">\n",
    "        <a href=\"#top\" class=\"btn btn-primary btn-sm\" role=\"button\" aria-pressed=\"true\" style=\"color:white\" data-toggle=\"popover\" title=\"go to Top\">Go to Top</a>\n",
    "    </div>\n",
    "    <br style=\"clear: left;\" />\n",
    "</div>"
   ]
  },
  {
   "cell_type": "code",
   "execution_count": 58,
   "metadata": {
    "execution": {
     "iopub.execute_input": "2020-09-23T01:20:47.941162Z",
     "iopub.status.busy": "2020-09-23T01:20:47.939489Z",
     "iopub.status.idle": "2020-09-23T01:20:47.943322Z",
     "shell.execute_reply": "2020-09-23T01:20:47.943794Z"
    },
    "papermill": {
     "duration": 0.110136,
     "end_time": "2020-09-23T01:20:47.943929",
     "exception": false,
     "start_time": "2020-09-23T01:20:47.833793",
     "status": "completed"
    },
    "tags": []
   },
   "outputs": [
    {
     "name": "stdout",
     "output_type": "stream",
     "text": [
      "Task 55:\n",
      "         age  movies  awards\n",
      "dhanush   31      51      42\n",
      "kamal     65      87       4\n",
      "vikram    50     200      78\n"
     ]
    }
   ],
   "source": [
    "print('Task 55:')\n",
    "\n",
    "age_movies_25 = stars_df[(stars_df.movies > 25 ) & (stars_df.age > 25)]  \n",
    "print(age_movies_25)"
   ]
  },
  {
   "cell_type": "markdown",
   "metadata": {
    "papermill": {
     "duration": 0.097143,
     "end_time": "2020-09-23T01:20:48.138790",
     "exception": false,
     "start_time": "2020-09-23T01:20:48.041647",
     "status": "completed"
    },
    "tags": []
   },
   "source": [
    "<div style=\"\">\n",
    "    <div style=\"float: left; width: 80%;\">\n",
    "        <a id=\"56\"></a>\n",
    "        <font><b>Task 56:</b></font>\n",
    "        <br><br>\n",
    "        Stars in in certain ages\n",
    "    </div>\n",
    "    <div style=\"float: right;\">\n",
    "        <a href=\"#top\" class=\"btn btn-primary btn-sm\" role=\"button\" aria-pressed=\"true\" style=\"color:white\" data-toggle=\"popover\" title=\"go to Top\">Go to Top</a>\n",
    "    </div>\n",
    "    <br style=\"clear: left;\" />\n",
    "</div> "
   ]
  },
  {
   "cell_type": "code",
   "execution_count": 59,
   "metadata": {
    "execution": {
     "iopub.execute_input": "2020-09-23T01:20:48.337868Z",
     "iopub.status.busy": "2020-09-23T01:20:48.336982Z",
     "iopub.status.idle": "2020-09-23T01:20:48.345599Z",
     "shell.execute_reply": "2020-09-23T01:20:48.345101Z"
    },
    "papermill": {
     "duration": 0.109117,
     "end_time": "2020-09-23T01:20:48.345694",
     "exception": false,
     "start_time": "2020-09-23T01:20:48.236577",
     "status": "completed"
    },
    "tags": []
   },
   "outputs": [
    {
     "name": "stdout",
     "output_type": "stream",
     "text": [
      "Task 56:\n",
      "         age  movies  awards\n",
      "dhanush   31      51      42\n",
      "kamal     65      87       4\n"
     ]
    }
   ],
   "source": [
    "print('Task 56:')  \n",
    "custom_stars = stars_df[stars_df.age.isin([31, 65])]\n",
    "print(custom_stars)"
   ]
  },
  {
   "cell_type": "markdown",
   "metadata": {
    "papermill": {
     "duration": 0.099387,
     "end_time": "2020-09-23T01:20:48.544415",
     "exception": false,
     "start_time": "2020-09-23T01:20:48.445028",
     "status": "completed"
    },
    "tags": []
   },
   "source": [
    "<div style=\"\">\n",
    "    <div style=\"float: left; width: 80%;\">\n",
    "        <a id=\"57\"></a>\n",
    "        <font><b>Task 57:</b></font>\n",
    "        <br><br>\n",
    "        inverse opeartor\n",
    "         <br>!( above one.45 and below two.50 )\n",
    "    </div>\n",
    "    <div style=\"float: right;\">\n",
    "        <a href=\"#top\" class=\"btn btn-primary btn-sm\" role=\"button\" aria-pressed=\"true\" style=\"color:white\" data-toggle=\"popover\" title=\"go to Top\">Go to Top</a>\n",
    "    </div>\n",
    "    <br style=\"clear: left;\" />\n",
    "</div> "
   ]
  },
  {
   "cell_type": "code",
   "execution_count": 60,
   "metadata": {
    "execution": {
     "iopub.execute_input": "2020-09-23T01:20:48.744034Z",
     "iopub.status.busy": "2020-09-23T01:20:48.743510Z",
     "iopub.status.idle": "2020-09-23T01:20:48.754041Z",
     "shell.execute_reply": "2020-09-23T01:20:48.753107Z"
    },
    "papermill": {
     "duration": 0.111709,
     "end_time": "2020-09-23T01:20:48.754190",
     "exception": false,
     "start_time": "2020-09-23T01:20:48.642481",
     "status": "completed"
    },
    "tags": []
   },
   "outputs": [
    {
     "name": "stdout",
     "output_type": "stream",
     "text": [
      "Task 57:\n",
      "    one  two\n",
      "12   10    2\n",
      "14   50    6\n",
      "16   80   56\n",
      "18   40   45\n",
      "    one  two\n",
      "12   10    2\n",
      "16   80   56\n",
      "18   40   45\n"
     ]
    }
   ],
   "source": [
    "print('Task 57:')  \n",
    "print(numbers)\n",
    "print(numbers[~( (numbers.one > 45) & (numbers.two < 50) )])"
   ]
  },
  {
   "cell_type": "markdown",
   "metadata": {
    "papermill": {
     "duration": 0.10068,
     "end_time": "2020-09-23T01:20:48.956035",
     "exception": false,
     "start_time": "2020-09-23T01:20:48.855355",
     "status": "completed"
    },
    "tags": []
   },
   "source": [
    "<div style=\"\">\n",
    "    <div style=\"float: left; width: 80%;\">\n",
    "        <a id=\"58\"></a>\n",
    "        <font><b>Task 58:</b></font>\n",
    "        <br><br>\n",
    "        Apply custom function\n",
    "    </div>\n",
    "    <div style=\"float: right;\">\n",
    "        <a href=\"#top\" class=\"btn btn-primary btn-sm\" role=\"button\" aria-pressed=\"true\" style=\"color:white\" data-toggle=\"popover\" title=\"go to Top\">Go to Top</a>\n",
    "    </div>\n",
    "    <br style=\"clear: left;\" />\n",
    "</div> "
   ]
  },
  {
   "cell_type": "code",
   "execution_count": 61,
   "metadata": {
    "execution": {
     "iopub.execute_input": "2020-09-23T01:20:49.177280Z",
     "iopub.status.busy": "2020-09-23T01:20:49.173455Z",
     "iopub.status.idle": "2020-09-23T01:20:49.183765Z",
     "shell.execute_reply": "2020-09-23T01:20:49.184246Z"
    },
    "papermill": {
     "duration": 0.127276,
     "end_time": "2020-09-23T01:20:49.184378",
     "exception": false,
     "start_time": "2020-09-23T01:20:49.057102",
     "status": "completed"
    },
    "tags": []
   },
   "outputs": [
    {
     "name": "stdout",
     "output_type": "stream",
     "text": [
      "Task 58:\n",
      "       size   weight  adult\n",
      "animal                     \n",
      "cat       L   9.4375   True\n",
      "dog       L  12.5000   True\n",
      "fish      L   1.2500   True\n"
     ]
    }
   ],
   "source": [
    "print('Task 58:')\n",
    "def GrowUp(x):\n",
    "    avg_weight =  sum(x[x['size'] == 'series1'].weight * 1.5)\n",
    "    avg_weight += sum(x[x['size'] == 'M'].weight * 1.25)\n",
    "    avg_weight += sum(x[x['size'] == 'L'].weight)\n",
    "    avg_weight /= len(x)\n",
    "    return pd.Series(['L',avg_weight,True], index=['size', 'weight', 'adult'])\n",
    "\n",
    "animals_df = pd.DataFrame({'animal': 'cat dog cat fish dog cat cat'.split(),\n",
    "                   'size': list('SSMMMLL'),\n",
    "                   'weight': [8, 10, 11, 1, 20, 12, 12],\n",
    "                   'adult' : [False] * 5 + [True] * 2})\n",
    "\n",
    "gb = animals_df.groupby(['animal'])\n",
    "\n",
    "expected_df = gb.apply(GrowUp)\n",
    "print(expected_df)"
   ]
  },
  {
   "cell_type": "markdown",
   "metadata": {
    "papermill": {
     "duration": 0.10028,
     "end_time": "2020-09-23T01:20:49.386372",
     "exception": false,
     "start_time": "2020-09-23T01:20:49.286092",
     "status": "completed"
    },
    "tags": []
   },
   "source": [
    "<div style=\"\">\n",
    "    <div style=\"float: left; width: 80%;\">\n",
    "        <a id=\"59\"></a>\n",
    "        <font><b>Task 59:</b></font>\n",
    "        <br><br>\n",
    "        Group by single column\n",
    "    </div>\n",
    "    <div style=\"float: right;\">\n",
    "        <a href=\"#top\" class=\"btn btn-primary btn-sm\" role=\"button\" aria-pressed=\"true\" style=\"color:white\" data-toggle=\"popover\" title=\"go to Top\">Go to Top</a>\n",
    "    </div>\n",
    "    <br style=\"clear: left;\" />\n",
    "</div> "
   ]
  },
  {
   "cell_type": "code",
   "execution_count": 62,
   "metadata": {
    "execution": {
     "iopub.execute_input": "2020-09-23T01:20:49.586736Z",
     "iopub.status.busy": "2020-09-23T01:20:49.586205Z",
     "iopub.status.idle": "2020-09-23T01:20:49.594656Z",
     "shell.execute_reply": "2020-09-23T01:20:49.595179Z"
    },
    "papermill": {
     "duration": 0.11036,
     "end_time": "2020-09-23T01:20:49.595299",
     "exception": false,
     "start_time": "2020-09-23T01:20:49.484939",
     "status": "completed"
    },
    "tags": []
   },
   "outputs": [
    {
     "name": "stdout",
     "output_type": "stream",
     "text": [
      "Task 59:\n",
      "  animal size  weight  adult\n",
      "4    dog    M      20  False\n"
     ]
    }
   ],
   "source": [
    "print('Task 59:')\n",
    "weights = animals_df.groupby(['weight']).get_group(20)  \n",
    "print(weights)"
   ]
  },
  {
   "cell_type": "markdown",
   "metadata": {
    "papermill": {
     "duration": 0.101536,
     "end_time": "2020-09-23T01:20:49.797278",
     "exception": false,
     "start_time": "2020-09-23T01:20:49.695742",
     "status": "completed"
    },
    "tags": []
   },
   "source": [
    "<div style=\"\">\n",
    "    <div style=\"float: left; width: 80%;\">\n",
    "        <a id=\"60\"></a>\n",
    "        <font><b>Task 60:</b></font>\n",
    "        <br><br>\n",
    "        Creating new Columns using Applymap\n",
    "        <br>Sides & applymap\n",
    "    </div>\n",
    "    <div style=\"float: right;\">\n",
    "        <a href=\"#top\" class=\"btn btn-primary btn-sm\" role=\"button\" aria-pressed=\"true\" style=\"color:white\" data-toggle=\"popover\" title=\"go to Top\">Go to Top</a>\n",
    "    </div>\n",
    "    <br style=\"clear: left;\" />\n",
    "</div>"
   ]
  },
  {
   "cell_type": "code",
   "execution_count": 63,
   "metadata": {
    "execution": {
     "iopub.execute_input": "2020-09-23T01:20:50.011562Z",
     "iopub.status.busy": "2020-09-23T01:20:50.010516Z",
     "iopub.status.idle": "2020-09-23T01:20:50.014355Z",
     "shell.execute_reply": "2020-09-23T01:20:50.014925Z"
    },
    "papermill": {
     "duration": 0.116806,
     "end_time": "2020-09-23T01:20:50.015085",
     "exception": false,
     "start_time": "2020-09-23T01:20:49.898279",
     "status": "completed"
    },
    "tags": []
   },
   "outputs": [
    {
     "name": "stdout",
     "output_type": "stream",
     "text": [
      "Task 60:\n",
      "   a  b\n",
      "0  1  2\n",
      "1  1  1\n",
      "2  2  3\n",
      "3  4  4\n",
      "Index(['a', 'b'], dtype='object')\n",
      "   a  b a_side b_side\n",
      "0  1  2  North   East\n",
      "1  1  1  North  North\n",
      "2  2  3   East  South\n",
      "3  4  4   West   West\n"
     ]
    }
   ],
   "source": [
    "print('Task 60:')\n",
    "sides_df = pd.DataFrame({\n",
    "    'a' : [1, 1, 2, 4],\n",
    "    'b' : [2, 1, 3, 4]\n",
    "    })  \n",
    "print(sides_df)\n",
    "source_cols = sides_df.columns\n",
    "print(source_cols)\n",
    "new_cols = [str(x)+\"_side\" for x in source_cols]\n",
    "side_category = {\n",
    "    1 : 'North',\n",
    "    2 : 'East',\n",
    "    3 : 'South', \n",
    "    4 : 'West'\n",
    "    }\n",
    "sides_df[new_cols] = sides_df[source_cols].applymap(side_category.get)\n",
    "print(sides_df)"
   ]
  },
  {
   "cell_type": "markdown",
   "metadata": {
    "papermill": {
     "duration": 0.101993,
     "end_time": "2020-09-23T01:20:50.218885",
     "exception": false,
     "start_time": "2020-09-23T01:20:50.116892",
     "status": "completed"
    },
    "tags": []
   },
   "source": [
    "<div style=\"\">\n",
    "    <div style=\"float: left; width: 80%;\">\n",
    "        <a id=\"61\"></a>\n",
    "        <font><b>Task 61:</b></font>\n",
    "        <br><br>\n",
    "        Replacing some values with mean of the rest of a group\n",
    "    </div>\n",
    "    <div style=\"float: right;\">\n",
    "        <a href=\"#top\" class=\"btn btn-primary btn-sm\" role=\"button\" aria-pressed=\"true\" style=\"color:white\" data-toggle=\"popover\" title=\"go to Top\">Go to Top</a>\n",
    "    </div>\n",
    "    <br style=\"clear: left;\" />\n",
    "</div> "
   ]
  },
  {
   "cell_type": "code",
   "execution_count": 64,
   "metadata": {
    "execution": {
     "iopub.execute_input": "2020-09-23T01:20:50.444778Z",
     "iopub.status.busy": "2020-09-23T01:20:50.443905Z",
     "iopub.status.idle": "2020-09-23T01:20:50.447984Z",
     "shell.execute_reply": "2020-09-23T01:20:50.446958Z"
    },
    "papermill": {
     "duration": 0.127578,
     "end_time": "2020-09-23T01:20:50.448153",
     "exception": false,
     "start_time": "2020-09-23T01:20:50.320575",
     "status": "completed"
    },
    "tags": []
   },
   "outputs": [
    {
     "name": "stdout",
     "output_type": "stream",
     "text": [
      "Task 61:\n",
      "   A  B\n",
      "0  1  1\n",
      "1  1 -1\n",
      "2  2  1\n",
      "3  2  2\n",
      "     B\n",
      "0  1.0\n",
      "1  1.0\n",
      "2  1.0\n",
      "3  2.0\n"
     ]
    }
   ],
   "source": [
    "print('Task 61:')  \n",
    "df = pd.DataFrame({'A' : [1, 1, 2, 2], 'B' : [1, -1, 1, 2]})\n",
    "print(df)\n",
    "\n",
    "gb = df.groupby('A')\n",
    "\n",
    "def replace(g):\n",
    "    mask = g < 0\n",
    "    g.loc[mask] = g[~mask].mean()\n",
    "    return g\n",
    "\n",
    "gbt = gb.transform(replace)\n",
    "\n",
    "print(gbt)"
   ]
  },
  {
   "cell_type": "markdown",
   "metadata": {
    "papermill": {
     "duration": 0.099948,
     "end_time": "2020-09-23T01:20:50.649408",
     "exception": false,
     "start_time": "2020-09-23T01:20:50.549460",
     "status": "completed"
    },
    "tags": []
   },
   "source": [
    "<div style=\"\">\n",
    "    <div style=\"float: left; width: 80%;\">\n",
    "        <a id=\"62\"></a>\n",
    "        <font><b>Task 62:</b></font>\n",
    "        <br><br>\n",
    "        Students passed in Language or Science (any one subject)\n",
    "    </div>\n",
    "    <div style=\"float: right;\">\n",
    "        <a href=\"#top\" class=\"btn btn-primary btn-sm\" role=\"button\" aria-pressed=\"true\" style=\"color:white\" data-toggle=\"popover\" title=\"go to Top\">Go to Top</a>\n",
    "    </div>\n",
    "    <br style=\"clear: left;\" />\n",
    "</div> "
   ]
  },
  {
   "cell_type": "code",
   "execution_count": 65,
   "metadata": {
    "execution": {
     "iopub.execute_input": "2020-09-23T01:20:50.863825Z",
     "iopub.status.busy": "2020-09-23T01:20:50.863250Z",
     "iopub.status.idle": "2020-09-23T01:20:50.867361Z",
     "shell.execute_reply": "2020-09-23T01:20:50.868086Z"
    },
    "papermill": {
     "duration": 0.116693,
     "end_time": "2020-09-23T01:20:50.868314",
     "exception": false,
     "start_time": "2020-09-23T01:20:50.751621",
     "status": "completed"
    },
    "tags": []
   },
   "outputs": [
    {
     "name": "stdout",
     "output_type": "stream",
     "text": [
      "Task 62:\n",
      "   Language  Math  Science\n",
      "0        60    90       45\n",
      "1        45    80       90\n",
      "2        78    23       95\n",
      "3         4    60       20\n",
      "   Language  Math  Science\n",
      "0        60    90       45\n",
      "1        45    80       90\n",
      "2        78    23       95\n"
     ]
    }
   ],
   "source": [
    "print('Task 62:') \n",
    "marks_df = pd.DataFrame({\n",
    "    'Language' : [60, 45, 78, 4], \n",
    "    'Math' : [90, 80, 23, 60],\n",
    "    'Science' : [45, 90, 95, 20]\n",
    "});\n",
    "print(marks_df)\n",
    "marks_df_passed_in_lang_or_sc = marks_df.loc[(marks_df.Language >=50) | (marks_df.Science >= 50)]\n",
    "print(marks_df_passed_in_lang_or_sc)"
   ]
  },
  {
   "cell_type": "markdown",
   "metadata": {
    "papermill": {
     "duration": 0.100886,
     "end_time": "2020-09-23T01:20:51.071074",
     "exception": false,
     "start_time": "2020-09-23T01:20:50.970188",
     "status": "completed"
    },
    "tags": []
   },
   "source": [
    "<div style=\"\">\n",
    "    <div style=\"float: left; width: 80%;\">\n",
    "        <a id=\"\"></a>\n",
    "        <font><b>Task 63:</b></font>\n",
    "        <br><br>\n",
    "        possible errors:\n",
    "        <br>TypeError: 'Series' objects are mutable, thus they cannot be hashed\n",
    "    </div>\n",
    "    <div style=\"float: right;\">\n",
    "        <a href=\"#top\" class=\"btn btn-primary btn-sm\" role=\"button\" aria-pressed=\"true\" style=\"color:white\" data-toggle=\"popover\" title=\"go to Top\">Go to Top</a>\n",
    "    </div>\n",
    "    <br style=\"clear: left;\" />\n",
    "</div> "
   ]
  },
  {
   "cell_type": "code",
   "execution_count": 66,
   "metadata": {
    "execution": {
     "iopub.execute_input": "2020-09-23T01:20:51.315047Z",
     "iopub.status.busy": "2020-09-23T01:20:51.314456Z",
     "iopub.status.idle": "2020-09-23T01:20:51.318925Z",
     "shell.execute_reply": "2020-09-23T01:20:51.318474Z"
    },
    "papermill": {
     "duration": 0.112467,
     "end_time": "2020-09-23T01:20:51.319048",
     "exception": false,
     "start_time": "2020-09-23T01:20:51.206581",
     "status": "completed"
    },
    "tags": []
   },
   "outputs": [
    {
     "name": "stdout",
     "output_type": "stream",
     "text": [
      "Task 63:\n",
      "   Language  Math  Science passed_one_subject\n",
      "0        60    90       45               Pass\n",
      "1        45    80       90               Fail\n",
      "2        78    23       95               Pass\n",
      "3         4    60       20               Fail\n"
     ]
    }
   ],
   "source": [
    "print('Task 63:')  \n",
    "marks_df['passed_one_subject'] = 'Fail' \n",
    "marks_df.loc[(marks_df.Language >=50) , 'passed_one_subject'] = 'Pass'\n",
    "print(marks_df)"
   ]
  },
  {
   "cell_type": "markdown",
   "metadata": {
    "papermill": {
     "duration": 0.100625,
     "end_time": "2020-09-23T01:20:51.520521",
     "exception": false,
     "start_time": "2020-09-23T01:20:51.419896",
     "status": "completed"
    },
    "tags": []
   },
   "source": [
    "<div style=\"\">\n",
    "    <div style=\"float: left; width: 80%;\">\n",
    "        <a id=\"64\"></a>\n",
    "        <font><b>Task 64:</b></font>\n",
    "        <br><br>\n",
    "        argsort\n",
    "        <br>Select rows with data closest to certain value using argsort\n",
    "    </div>\n",
    "    <div style=\"float: right;\">\n",
    "        <a href=\"#top\" class=\"btn btn-primary btn-sm\" role=\"button\" aria-pressed=\"true\" style=\"color:white\" data-toggle=\"popover\" title=\"go to Top\">Go to Top</a>\n",
    "    </div>\n",
    "    <br style=\"clear: left;\" />\n",
    "</div> "
   ]
  },
  {
   "cell_type": "code",
   "execution_count": 67,
   "metadata": {
    "execution": {
     "iopub.execute_input": "2020-09-23T01:20:51.725408Z",
     "iopub.status.busy": "2020-09-23T01:20:51.724502Z",
     "iopub.status.idle": "2020-09-23T01:20:51.740645Z",
     "shell.execute_reply": "2020-09-23T01:20:51.739737Z"
    },
    "papermill": {
     "duration": 0.119636,
     "end_time": "2020-09-23T01:20:51.740810",
     "exception": false,
     "start_time": "2020-09-23T01:20:51.621174",
     "status": "completed"
    },
    "tags": []
   },
   "outputs": [
    {
     "name": "stdout",
     "output_type": "stream",
     "text": [
      "Task 64:\n",
      "    a   b\n",
      "0  11   8\n",
      "1  52  28\n",
      "2  83  17\n",
      "3   5  67\n",
      "4  90   4\n",
      "with argsort\n",
      "    a   b\n",
      "1  52  28\n",
      "2  83  17\n",
      "4  90   4\n",
      "0  11   8\n",
      "3   5  67\n",
      "    a   b\n",
      "4  90   4\n",
      "0  11   8\n",
      "2  83  17\n",
      "1  52  28\n",
      "3   5  67\n"
     ]
    }
   ],
   "source": [
    "print('Task 64:')  \n",
    "df = pd.DataFrame({\n",
    "    \"a\": np.random.randint(0, 100, size=(5,)), \n",
    "    \"b\": np.random.randint(0, 70, size=(5,))\n",
    "})\n",
    "print(df)\n",
    "par = 65\n",
    "print('with argsort')\n",
    "df1 = df.loc[(df.a-par).abs().argsort()]\n",
    "print(df1)\n",
    "\n",
    "print(df.loc[(df.b-2).abs().argsort()])"
   ]
  },
  {
   "cell_type": "markdown",
   "metadata": {
    "papermill": {
     "duration": 0.100303,
     "end_time": "2020-09-23T01:20:51.943536",
     "exception": false,
     "start_time": "2020-09-23T01:20:51.843233",
     "status": "completed"
    },
    "tags": []
   },
   "source": [
    "<div style=\"\">\n",
    "    <div style=\"float: left; width: 80%;\">\n",
    "        <a id=\"65\"></a>\n",
    "        <font><b>Task 65:</b></font>\n",
    "        <br><br>\n",
    "        argsort with stars        \n",
    "        <br>old stars (near by 50 age) argsort\n",
    "    </div>\n",
    "    <div style=\"float: right;\">\n",
    "        <a href=\"#top\" class=\"btn btn-primary btn-sm\" role=\"button\" aria-pressed=\"true\" style=\"color:white\" data-toggle=\"popover\" title=\"go to Top\">Go to Top</a>\n",
    "    </div>\n",
    "    <br style=\"clear: left;\" />\n",
    "</div>"
   ]
  },
  {
   "cell_type": "code",
   "execution_count": 68,
   "metadata": {
    "execution": {
     "iopub.execute_input": "2020-09-23T01:20:52.155818Z",
     "iopub.status.busy": "2020-09-23T01:20:52.155292Z",
     "iopub.status.idle": "2020-09-23T01:20:52.157318Z",
     "shell.execute_reply": "2020-09-23T01:20:52.158027Z"
    },
    "papermill": {
     "duration": 0.111349,
     "end_time": "2020-09-23T01:20:52.158180",
     "exception": false,
     "start_time": "2020-09-23T01:20:52.046831",
     "status": "completed"
    },
    "tags": []
   },
   "outputs": [
    {
     "name": "stdout",
     "output_type": "stream",
     "text": [
      "Task 65:\n",
      "   age  movies\n",
      "1   50       3\n",
      "3   45      45\n",
      "4   65      34\n",
      "2   24      90\n",
      "5   18       2\n",
      "0   17       2\n"
     ]
    }
   ],
   "source": [
    "print('Task 65:')  \n",
    "stars = pd.DataFrame({\n",
    "    \"age\": [17, 50, 24, 45, 65, 18], \n",
    "    \"movies\": [2, 3, 90, 45, 34, 2] \n",
    "})\n",
    "print(stars.loc[(stars.age - 50).abs().argsort()])"
   ]
  },
  {
   "cell_type": "markdown",
   "metadata": {
    "papermill": {
     "duration": 0.104851,
     "end_time": "2020-09-23T01:20:52.363745",
     "exception": false,
     "start_time": "2020-09-23T01:20:52.258894",
     "status": "completed"
    },
    "tags": []
   },
   "source": [
    "<div style=\"\">\n",
    "    <div style=\"float: left; width: 80%;\">\n",
    "        <a id=\"66\"></a>\n",
    "        <font><b>Task 66:</b></font>\n",
    "        <br><br>\n",
    "        Argsort with actors\n",
    "\n",
    "        <br>young stars (near by 17)\n",
    "    </div>\n",
    "    <div style=\"float: right;\">\n",
    "        <a href=\"#top\" class=\"btn btn-primary btn-sm\" role=\"button\" aria-pressed=\"true\" style=\"color:white\" data-toggle=\"popover\" title=\"go to Top\">Go to Top</a>\n",
    "    </div>\n",
    "    <br style=\"clear: left;\" />\n",
    "</div> "
   ]
  },
  {
   "cell_type": "code",
   "execution_count": 69,
   "metadata": {
    "execution": {
     "iopub.execute_input": "2020-09-23T01:20:52.604813Z",
     "iopub.status.busy": "2020-09-23T01:20:52.604231Z",
     "iopub.status.idle": "2020-09-23T01:20:52.607298Z",
     "shell.execute_reply": "2020-09-23T01:20:52.606867Z"
    },
    "papermill": {
     "duration": 0.110885,
     "end_time": "2020-09-23T01:20:52.607402",
     "exception": false,
     "start_time": "2020-09-23T01:20:52.496517",
     "status": "completed"
    },
    "tags": []
   },
   "outputs": [
    {
     "name": "stdout",
     "output_type": "stream",
     "text": [
      "Task 66:\n",
      "   age  movies\n",
      "0   17       2\n",
      "5   18       2\n",
      "2   24      90\n",
      "3   45      45\n",
      "1   50       3\n",
      "4   65      34\n"
     ]
    }
   ],
   "source": [
    "print('Task 66:')  \n",
    "print(stars.loc[(stars.age - 17).abs().argsort()])"
   ]
  },
  {
   "cell_type": "markdown",
   "metadata": {
    "papermill": {
     "duration": 0.109185,
     "end_time": "2020-09-23T01:20:52.820128",
     "exception": false,
     "start_time": "2020-09-23T01:20:52.710943",
     "status": "completed"
    },
    "tags": []
   },
   "source": [
    "<div style=\"\">\n",
    "    <div style=\"float: left; width: 80%;\">\n",
    "        <a id=\"67\"></a>\n",
    "        <font><b>Task 67:</b></font>\n",
    "        <br><br>\n",
    "        Binary operators\n",
    "\n",
    "        <br>Stars with\n",
    "\n",
    "        <br>younger than 19 - very young\n",
    "\n",
    "        <br>more movies acted**\n",
    "    </div>\n",
    "    <div style=\"float: right;\">\n",
    "        <a href=\"#top\" class=\"btn btn-primary btn-sm\" role=\"button\" aria-pressed=\"true\" style=\"color:white\" data-toggle=\"popover\" title=\"go to Top\">Go to Top</a>\n",
    "    </div>\n",
    "    <br style=\"clear: left;\" />\n",
    "</div> "
   ]
  },
  {
   "cell_type": "code",
   "execution_count": 70,
   "metadata": {
    "execution": {
     "iopub.execute_input": "2020-09-23T01:20:53.037535Z",
     "iopub.status.busy": "2020-09-23T01:20:53.036624Z",
     "iopub.status.idle": "2020-09-23T01:20:53.040545Z",
     "shell.execute_reply": "2020-09-23T01:20:53.039739Z"
    },
    "papermill": {
     "duration": 0.117996,
     "end_time": "2020-09-23T01:20:53.040647",
     "exception": false,
     "start_time": "2020-09-23T01:20:52.922651",
     "status": "completed"
    },
    "tags": []
   },
   "outputs": [
    {
     "name": "stdout",
     "output_type": "stream",
     "text": [
      "Task 67:\n",
      "   age  movies\n",
      "0   17      22\n",
      "1   50      33\n",
      "2   24      90\n",
      "3   45      75\n",
      "4   65      34\n",
      "5   18       2\n",
      "Young and more movies acted\n",
      "   age  movies\n",
      "2   24      90\n"
     ]
    }
   ],
   "source": [
    "print('Task 67:')\n",
    "stars = pd.DataFrame({\n",
    "    \"age\": [17, 50, 24, 45, 65, 18], \n",
    "    \"movies\": [22, 33, 90, 75, 34, 2] \n",
    "})  \n",
    "print(stars)\n",
    "print('Young and more movies acted')\n",
    "young = stars.age < 30    \n",
    "more_movies = stars.movies > 30\n",
    "young_more = [young, more_movies]\n",
    "young_more_Criteria = functools.reduce(lambda x, y : x & y, young_more)\n",
    "print(stars[young_more_Criteria])"
   ]
  },
  {
   "cell_type": "markdown",
   "metadata": {
    "papermill": {
     "duration": 0.101111,
     "end_time": "2020-09-23T01:20:53.244933",
     "exception": false,
     "start_time": "2020-09-23T01:20:53.143822",
     "status": "completed"
    },
    "tags": []
   },
   "source": [
    "<div style=\"\">\n",
    "    <div style=\"float: left; width: 80%;\">\n",
    "        <a id=\"68\"></a>\n",
    "        <font><b>Task 68:</b></font>\n",
    "        <br><br>\n",
    "        Young, Higher Salary, and Higher Position\n",
    "    </div>\n",
    "    <div style=\"float: right;\">\n",
    "        <a href=\"#top\" class=\"btn btn-primary btn-sm\" role=\"button\" aria-pressed=\"true\" style=\"color:white\" data-toggle=\"popover\" title=\"go to Top\">Go to Top</a>\n",
    "    </div>\n",
    "    <br style=\"clear: left;\" />\n",
    "</div> "
   ]
  },
  {
   "cell_type": "code",
   "execution_count": 71,
   "metadata": {
    "execution": {
     "iopub.execute_input": "2020-09-23T01:20:53.460462Z",
     "iopub.status.busy": "2020-09-23T01:20:53.459881Z",
     "iopub.status.idle": "2020-09-23T01:20:53.465190Z",
     "shell.execute_reply": "2020-09-23T01:20:53.465766Z"
    },
    "papermill": {
     "duration": 0.118957,
     "end_time": "2020-09-23T01:20:53.465944",
     "exception": false,
     "start_time": "2020-09-23T01:20:53.346987",
     "status": "completed"
    },
    "tags": []
   },
   "outputs": [
    {
     "name": "stdout",
     "output_type": "stream",
     "text": [
      "Task 68:\n",
      "   age  salary  grade\n",
      "0   17      75      7\n",
      "1   50      33      8\n",
      "2   24      90      9\n",
      "3   45     175      2\n",
      "4   65     134      7\n",
      "5   18      78      8\n",
      "Young, Higher Salary, and Higher Position\n",
      "   age  salary  grade\n",
      "0   17      75      7\n",
      "2   24      90      9\n",
      "5   18      78      8\n"
     ]
    }
   ],
   "source": [
    "print('Task 68:')  \n",
    "employees = pd.DataFrame({\n",
    "    \"age\": [17, 50, 24, 45, 65, 18], \n",
    "    \"salary\": [75, 33, 90, 175, 134, 78],\n",
    "    \"grade\" : [7, 8, 9, 2, 7, 8] \n",
    "})  \n",
    "print(employees)\n",
    "print('Young, Higher Salary, and Higher Position')\n",
    "young = employees.age < 30\n",
    "high_salary = employees.salary > 60\n",
    "high_position = employees.grade > 6\n",
    "young_salary_position = [young, high_salary, high_position]\n",
    "young_salary_position_Criteria = functools.reduce(lambda x, y : x & y, young_salary_position)\n",
    "print(employees[young_salary_position_Criteria])"
   ]
  },
  {
   "cell_type": "markdown",
   "metadata": {
    "papermill": {
     "duration": 0.101575,
     "end_time": "2020-09-23T01:20:53.669392",
     "exception": false,
     "start_time": "2020-09-23T01:20:53.567817",
     "status": "completed"
    },
    "tags": []
   },
   "source": [
    "<div style=\"\">\n",
    "    <div style=\"float: left; width: 80%;\">\n",
    "        <a id=\"69\"></a>\n",
    "        <font><b>Task 69:</b></font>\n",
    "        <br><br>\n",
    "        Rename columns\n",
    "    </div>\n",
    "    <div style=\"float: right;\">\n",
    "        <a href=\"#top\" class=\"btn btn-primary btn-sm\" role=\"button\" aria-pressed=\"true\" style=\"color:white\" data-toggle=\"popover\" title=\"go to Top\">Go to Top</a>\n",
    "    </div>\n",
    "    <br style=\"clear: left;\" />\n",
    "</div>"
   ]
  },
  {
   "cell_type": "code",
   "execution_count": 72,
   "metadata": {
    "execution": {
     "iopub.execute_input": "2020-09-23T01:20:53.900990Z",
     "iopub.status.busy": "2020-09-23T01:20:53.900168Z",
     "iopub.status.idle": "2020-09-23T01:20:53.912060Z",
     "shell.execute_reply": "2020-09-23T01:20:53.911405Z"
    },
    "papermill": {
     "duration": 0.134002,
     "end_time": "2020-09-23T01:20:53.912203",
     "exception": false,
     "start_time": "2020-09-23T01:20:53.778201",
     "status": "completed"
    },
    "tags": []
   },
   "outputs": [
    {
     "name": "stdout",
     "output_type": "stream",
     "text": [
      "Task 69:\n",
      "   age  salary  grade\n",
      "0   17      75      7\n",
      "1   50      33      8\n",
      "2   24      90      9\n",
      "3   45     175      2\n",
      "4   65     134      7\n",
      "5   18      78      8\n",
      "   User Age  Salary 2018  grade\n",
      "0        17           75      7\n",
      "1        50           33      8\n",
      "2        24           90      9\n",
      "3        45          175      2\n",
      "4        65          134      7\n",
      "5        18           78      8\n"
     ]
    }
   ],
   "source": [
    "print('Task 69:')  \n",
    "employees = pd.DataFrame({\n",
    "    \"age\": [17, 50, 24, 45, 65, 18], \n",
    "    \"salary\": [75, 33, 90, 175, 134, 78],\n",
    "    \"grade\" : [7, 8, 9, 2, 7, 8] \n",
    "})  \n",
    "print(employees)\n",
    "employees.rename(columns={'age': 'User Age', 'salary': 'Salary 2018'}, inplace=True)\n",
    "print(employees)"
   ]
  },
  {
   "cell_type": "markdown",
   "metadata": {
    "papermill": {
     "duration": 0.102304,
     "end_time": "2020-09-23T01:20:54.118974",
     "exception": false,
     "start_time": "2020-09-23T01:20:54.016670",
     "status": "completed"
    },
    "tags": []
   },
   "source": [
    "<div style=\"\">\n",
    "    <div style=\"float: left; width: 80%;\">\n",
    "        <a id=\"70\"></a>\n",
    "        <font><b>Task 70:</b></font>\n",
    "        <br><br>\n",
    "        Add a new column\n",
    "    </div>\n",
    "    <div style=\"float: right;\">\n",
    "        <a href=\"#top\" class=\"btn btn-primary btn-sm\" role=\"button\" aria-pressed=\"true\" style=\"color:white\" data-toggle=\"popover\" title=\"go to Top\">Go to Top</a>\n",
    "    </div>\n",
    "    <br style=\"clear: left;\" />\n",
    "</div>"
   ]
  },
  {
   "cell_type": "code",
   "execution_count": 73,
   "metadata": {
    "execution": {
     "iopub.execute_input": "2020-09-23T01:20:54.336082Z",
     "iopub.status.busy": "2020-09-23T01:20:54.335195Z",
     "iopub.status.idle": "2020-09-23T01:20:54.339122Z",
     "shell.execute_reply": "2020-09-23T01:20:54.339585Z"
    },
    "papermill": {
     "duration": 0.118158,
     "end_time": "2020-09-23T01:20:54.339722",
     "exception": false,
     "start_time": "2020-09-23T01:20:54.221564",
     "status": "completed"
    },
    "tags": []
   },
   "outputs": [
    {
     "name": "stdout",
     "output_type": "stream",
     "text": [
      "Task 70:\n",
      "   age  salary  grade\n",
      "0   17      75      7\n",
      "1   50      33      8\n",
      "2   24      90      9\n",
      "3   45     175      2\n",
      "4   65     134      7\n",
      "5   18      78      8\n",
      "   age  salary  grade     group\n",
      "0   17      75      7 -1.762914\n",
      "1   50      33      8  0.493142\n",
      "2   24      90      9 -0.092532\n",
      "3   45     175      2 -0.505258\n",
      "4   65     134      7  1.275650\n",
      "5   18      78      8  0.894237\n"
     ]
    }
   ],
   "source": [
    "print('Task 70:')  \n",
    "employees = pd.DataFrame({\n",
    "    \"age\": [17, 50, 24, 45, 65, 18], \n",
    "    \"salary\": [75, 33, 90, 175, 134, 78],\n",
    "    \"grade\" : [7, 8, 9, 2, 7, 8] \n",
    "})  \n",
    "print(employees)\n",
    "employees['group'] = pd.Series(np.random.randn(len(employees)))\n",
    "print(employees)"
   ]
  },
  {
   "cell_type": "markdown",
   "metadata": {
    "papermill": {
     "duration": 0.10204,
     "end_time": "2020-09-23T01:20:54.545145",
     "exception": false,
     "start_time": "2020-09-23T01:20:54.443105",
     "status": "completed"
    },
    "tags": []
   },
   "source": [
    "<div style=\"\">\n",
    "    <div style=\"float: left; width: 80%;\">\n",
    "        <a id=\"71\"></a>\n",
    "        <font><b>Task 71:</b></font>\n",
    "        <br><br>\n",
    "        Drop a column\n",
    "    </div>\n",
    "    <div style=\"float: right;\">\n",
    "        <a href=\"#top\" class=\"btn btn-primary btn-sm\" role=\"button\" aria-pressed=\"true\" style=\"color:white\" data-toggle=\"popover\" title=\"go to Top\">Go to Top</a>\n",
    "    </div>\n",
    "    <br style=\"clear: left;\" />\n",
    "</div> "
   ]
  },
  {
   "cell_type": "code",
   "execution_count": 74,
   "metadata": {
    "execution": {
     "iopub.execute_input": "2020-09-23T01:20:54.764952Z",
     "iopub.status.busy": "2020-09-23T01:20:54.764409Z",
     "iopub.status.idle": "2020-09-23T01:20:54.768302Z",
     "shell.execute_reply": "2020-09-23T01:20:54.767830Z"
    },
    "papermill": {
     "duration": 0.12051,
     "end_time": "2020-09-23T01:20:54.768402",
     "exception": false,
     "start_time": "2020-09-23T01:20:54.647892",
     "status": "completed"
    },
    "tags": []
   },
   "outputs": [
    {
     "name": "stdout",
     "output_type": "stream",
     "text": [
      "Task 71:\n",
      "   age  salary  grade\n",
      "0   17      75      7\n",
      "1   50      33      8\n",
      "2   24      90      9\n",
      "3   45     175      2\n",
      "4   65     134      7\n",
      "5   18      78      8\n",
      "   age  salary  grade     group\n",
      "0   17      75      7  0.928772\n",
      "1   50      33      8  0.528208\n",
      "2   24      90      9 -0.014559\n",
      "3   45     175      2  1.675595\n",
      "4   65     134      7 -0.945159\n",
      "5   18      78      8 -0.255768\n",
      "   salary  grade     group\n",
      "0      75      7  0.928772\n",
      "1      33      8  0.528208\n",
      "2      90      9 -0.014559\n",
      "3     175      2  1.675595\n",
      "4     134      7 -0.945159\n",
      "5      78      8 -0.255768\n"
     ]
    }
   ],
   "source": [
    "print('Task 71:')  \n",
    "employees = pd.DataFrame({\n",
    "    \"age\": [17, 50, 24, 45, 65, 18], \n",
    "    \"salary\": [75, 33, 90, 175, 134, 78],\n",
    "    \"grade\" : [7, 8, 9, 2, 7, 8] \n",
    "})  \n",
    "print(employees)\n",
    "employees['group'] = pd.Series(np.random.randn(len(employees)))\n",
    "print(employees)\n",
    "employees.drop(employees.columns[[0]], axis=1, inplace = True)\n",
    "print(employees)"
   ]
  },
  {
   "cell_type": "markdown",
   "metadata": {
    "papermill": {
     "duration": 0.103732,
     "end_time": "2020-09-23T01:20:54.979120",
     "exception": false,
     "start_time": "2020-09-23T01:20:54.875388",
     "status": "completed"
    },
    "tags": []
   },
   "source": [
    "<div style=\"\">\n",
    "    <div style=\"float: left; width: 80%;\">\n",
    "        <a id=\"72\"></a>\n",
    "        <font><b>Task 72:</b></font>\n",
    "        <br><br>\n",
    "        Drop multiple columns\n",
    "    </div>\n",
    "    <div style=\"float: right;\">\n",
    "        <a href=\"#top\" class=\"btn btn-primary btn-sm\" role=\"button\" aria-pressed=\"true\" style=\"color:white\" data-toggle=\"popover\" title=\"go to Top\">Go to Top</a>\n",
    "    </div>\n",
    "    <br style=\"clear: left;\" />\n",
    "</div> "
   ]
  },
  {
   "cell_type": "code",
   "execution_count": 75,
   "metadata": {
    "execution": {
     "iopub.execute_input": "2020-09-23T01:20:55.208262Z",
     "iopub.status.busy": "2020-09-23T01:20:55.207700Z",
     "iopub.status.idle": "2020-09-23T01:20:55.213254Z",
     "shell.execute_reply": "2020-09-23T01:20:55.212783Z"
    },
    "papermill": {
     "duration": 0.124857,
     "end_time": "2020-09-23T01:20:55.213378",
     "exception": false,
     "start_time": "2020-09-23T01:20:55.088521",
     "status": "completed"
    },
    "tags": []
   },
   "outputs": [
    {
     "name": "stdout",
     "output_type": "stream",
     "text": [
      "Task 72:\n",
      "   age  salary  grade\n",
      "0   17      75      7\n",
      "1   50      33      8\n",
      "2   24      90      9\n",
      "3   45     175      2\n",
      "4   65     134      7\n",
      "5   18      78      8\n",
      "   age  salary  grade     group\n",
      "0   17      75      7  0.518635\n",
      "1   50      33      8  0.343568\n",
      "2   24      90      9 -0.237964\n",
      "3   45     175      2  0.930362\n",
      "4   65     134      7 -0.164214\n",
      "5   18      78      8 -0.399851\n",
      "   age     group\n",
      "0   17  0.518635\n",
      "1   50  0.343568\n",
      "2   24 -0.237964\n",
      "3   45  0.930362\n",
      "4   65 -0.164214\n",
      "5   18 -0.399851\n"
     ]
    }
   ],
   "source": [
    "print('Task 72:')  \n",
    "employees = pd.DataFrame({\n",
    "    \"age\": [17, 50, 24, 45, 65, 18], \n",
    "    \"salary\": [75, 33, 90, 175, 134, 78],\n",
    "    \"grade\" : [7, 8, 9, 2, 7, 8] \n",
    "})  \n",
    "print(employees)\n",
    "employees['group'] = pd.Series(np.random.randn(len(employees)))\n",
    "print(employees)\n",
    "employees.drop(employees.columns[[1, 2]], axis=1, inplace = True)\n",
    "print(employees)"
   ]
  },
  {
   "cell_type": "markdown",
   "metadata": {
    "papermill": {
     "duration": 0.102773,
     "end_time": "2020-09-23T01:20:55.420366",
     "exception": false,
     "start_time": "2020-09-23T01:20:55.317593",
     "status": "completed"
    },
    "tags": []
   },
   "source": [
    "<div style=\"\">\n",
    "    <div style=\"float: left; width: 80%;\">\n",
    "        <a id=\"73\"></a>\n",
    "        <font><b>Task 73:</b></font>\n",
    "        <br><br>\n",
    "        Drop first and last column\n",
    "    </div>\n",
    "    <div style=\"float: right;\">\n",
    "        <a href=\"#top\" class=\"btn btn-primary btn-sm\" role=\"button\" aria-pressed=\"true\" style=\"color:white\" data-toggle=\"popover\" title=\"go to Top\">Go to Top</a>\n",
    "    </div>\n",
    "    <br style=\"clear: left;\" />\n",
    "</div> "
   ]
  },
  {
   "cell_type": "code",
   "execution_count": 76,
   "metadata": {
    "execution": {
     "iopub.execute_input": "2020-09-23T01:20:55.637478Z",
     "iopub.status.busy": "2020-09-23T01:20:55.636868Z",
     "iopub.status.idle": "2020-09-23T01:20:55.640138Z",
     "shell.execute_reply": "2020-09-23T01:20:55.640807Z"
    },
    "papermill": {
     "duration": 0.117876,
     "end_time": "2020-09-23T01:20:55.640992",
     "exception": false,
     "start_time": "2020-09-23T01:20:55.523116",
     "status": "completed"
    },
    "tags": []
   },
   "outputs": [
    {
     "name": "stdout",
     "output_type": "stream",
     "text": [
      "Task 73:\n",
      "   age  salary  grade  group\n",
      "0   17      75      7      1\n",
      "1   50      33      8      1\n",
      "2   24      90      9      2\n",
      "3   45     175      2      2\n",
      "4   65     134      7      2\n",
      "5   18      78      8      1\n",
      "   salary  grade\n",
      "0      75      7\n",
      "1      33      8\n",
      "2      90      9\n",
      "3     175      2\n",
      "4     134      7\n",
      "5      78      8\n"
     ]
    }
   ],
   "source": [
    "print('Task 73:')  \n",
    "employees = pd.DataFrame({\n",
    "    \"age\": [17, 50, 24, 45, 65, 18], \n",
    "    \"salary\": [75, 33, 90, 175, 134, 78],\n",
    "    \"grade\" : [7, 8, 9, 2, 7, 8],\n",
    "    \"group\" : [1, 1, 2, 2, 2, 1] \n",
    "    \n",
    "})  \n",
    "print(employees)\n",
    "employees.drop(employees.columns[[0, len(employees.columns)-1]], axis=1, inplace = True)\n",
    "print(employees)"
   ]
  },
  {
   "cell_type": "markdown",
   "metadata": {
    "papermill": {
     "duration": 0.140456,
     "end_time": "2020-09-23T01:20:55.888122",
     "exception": false,
     "start_time": "2020-09-23T01:20:55.747666",
     "status": "completed"
    },
    "tags": []
   },
   "source": [
    "<div style=\"\">\n",
    "    <div style=\"float: left; width: 80%;\">\n",
    "        <a id=\"74\"></a>\n",
    "        <font><b>Task 74:</b></font>\n",
    "        <br><br>\n",
    "        Delete by pop function\n",
    "    </div>\n",
    "    <div style=\"float: right;\">\n",
    "        <a href=\"#top\" class=\"btn btn-primary btn-sm\" role=\"button\" aria-pressed=\"true\" style=\"color:white\" data-toggle=\"popover\" title=\"go to Top\">Go to Top</a>\n",
    "    </div>\n",
    "    <br style=\"clear: left;\" />\n",
    "</div>"
   ]
  },
  {
   "cell_type": "code",
   "execution_count": 77,
   "metadata": {
    "execution": {
     "iopub.execute_input": "2020-09-23T01:20:56.110998Z",
     "iopub.status.busy": "2020-09-23T01:20:56.110426Z",
     "iopub.status.idle": "2020-09-23T01:20:56.120000Z",
     "shell.execute_reply": "2020-09-23T01:20:56.119252Z"
    },
    "papermill": {
     "duration": 0.120522,
     "end_time": "2020-09-23T01:20:56.120174",
     "exception": false,
     "start_time": "2020-09-23T01:20:55.999652",
     "status": "completed"
    },
    "tags": []
   },
   "outputs": [
    {
     "name": "stdout",
     "output_type": "stream",
     "text": [
      "Task 74:\n",
      "   age  salary  grade  group\n",
      "0   17      75      7      1\n",
      "1   50      33      8      1\n",
      "2   24      90      9      2\n",
      "3   45     175      2      2\n",
      "4   65     134      7      2\n",
      "5   18      78      8      1\n",
      "   age  salary  grade\n",
      "0   17      75      7\n",
      "1   50      33      8\n",
      "2   24      90      9\n",
      "3   45     175      2\n",
      "4   65     134      7\n",
      "5   18      78      8\n",
      "0    1\n",
      "1    1\n",
      "2    2\n",
      "3    2\n",
      "4    2\n",
      "5    1\n",
      "Name: group, dtype: int64\n"
     ]
    }
   ],
   "source": [
    "print('Task 74:')  \n",
    "employees = pd.DataFrame({\n",
    "    \"age\": [17, 50, 24, 45, 65, 18], \n",
    "    \"salary\": [75, 33, 90, 175, 134, 78],\n",
    "    \"grade\" : [7, 8, 9, 2, 7, 8],\n",
    "    \"group\" : [1, 1, 2, 2, 2, 1] \n",
    "    \n",
    "})  \n",
    "print(employees)\n",
    "group = employees.pop('group')\n",
    "print(employees)\n",
    "print(group)"
   ]
  },
  {
   "cell_type": "markdown",
   "metadata": {
    "papermill": {
     "duration": 0.106023,
     "end_time": "2020-09-23T01:20:56.331175",
     "exception": false,
     "start_time": "2020-09-23T01:20:56.225152",
     "status": "completed"
    },
    "tags": []
   },
   "source": [
    "<div style=\"\">\n",
    "    <div style=\"float: left; width: 80%;\">\n",
    "        <a id=\"75\"></a>\n",
    "        <font><b>Task 75:</b></font>\n",
    "        <br><br>\n",
    "        DataFrame.from_items\n",
    "    </div>\n",
    "    <div style=\"float: right;\">\n",
    "        <a href=\"#top\" class=\"btn btn-primary btn-sm\" role=\"button\" aria-pressed=\"true\" style=\"color:white\" data-toggle=\"popover\" title=\"go to Top\">Go to Top</a>\n",
    "    </div>\n",
    "    <br style=\"clear: left;\" />\n",
    "</div>"
   ]
  },
  {
   "cell_type": "code",
   "execution_count": 78,
   "metadata": {
    "execution": {
     "iopub.execute_input": "2020-09-23T01:20:56.542572Z",
     "iopub.status.busy": "2020-09-23T01:20:56.542067Z",
     "iopub.status.idle": "2020-09-23T01:20:56.545704Z",
     "shell.execute_reply": "2020-09-23T01:20:56.546291Z"
    },
    "papermill": {
     "duration": 0.111677,
     "end_time": "2020-09-23T01:20:56.546415",
     "exception": false,
     "start_time": "2020-09-23T01:20:56.434738",
     "status": "completed"
    },
    "tags": []
   },
   "outputs": [
    {
     "name": "stdout",
     "output_type": "stream",
     "text": [
      "Task 75:\n"
     ]
    }
   ],
   "source": [
    "print('Task 75:')  \n",
    "# df = pd.DataFrame.from_items([('A', [1, 2, 3]), ('B', [4, 5, 6]), ('C', [7,8, 9])], orient='index', columns=['one', 'two', 'three'])\n",
    "# print(df) # throwing error"
   ]
  },
  {
   "cell_type": "markdown",
   "metadata": {
    "papermill": {
     "duration": 0.104468,
     "end_time": "2020-09-23T01:20:56.755906",
     "exception": false,
     "start_time": "2020-09-23T01:20:56.651438",
     "status": "completed"
    },
    "tags": []
   },
   "source": [
    "<div style=\"\">\n",
    "    <div style=\"float: left; width: 80%;\">\n",
    "        <a id=\"76\"></a>\n",
    "        <font><b>Task 76:</b></font>\n",
    "        <br><br>\n",
    "        Pandas to list\n",
    "    </div>\n",
    "    <div style=\"float: right;\">\n",
    "        <a href=\"#top\" class=\"btn btn-primary btn-sm\" role=\"button\" aria-pressed=\"true\" style=\"color:white\" data-toggle=\"popover\" title=\"go to Top\">Go to Top</a>\n",
    "    </div>\n",
    "    <br style=\"clear: left;\" />\n",
    "</div> "
   ]
  },
  {
   "cell_type": "code",
   "execution_count": 79,
   "metadata": {
    "execution": {
     "iopub.execute_input": "2020-09-23T01:20:56.971037Z",
     "iopub.status.busy": "2020-09-23T01:20:56.970202Z",
     "iopub.status.idle": "2020-09-23T01:20:56.980931Z",
     "shell.execute_reply": "2020-09-23T01:20:56.980517Z"
    },
    "papermill": {
     "duration": 0.117012,
     "end_time": "2020-09-23T01:20:56.981047",
     "exception": false,
     "start_time": "2020-09-23T01:20:56.864035",
     "status": "completed"
    },
    "tags": []
   },
   "outputs": [
    {
     "name": "stdout",
     "output_type": "stream",
     "text": [
      "Task 76:\n",
      "   age  salary  grade  group\n",
      "0   17      75      7      1\n",
      "1   50      33      8      1\n",
      "2   24      90      9      2\n",
      "3   45     175      2      2\n",
      "4   65     134      7      2\n",
      "5   18      78      8      1\n",
      "['age', 'salary', 'grade', 'group']\n",
      "[[17, 75, 7, 1], [50, 33, 8, 1], [24, 90, 9, 2], [45, 175, 2, 2], [65, 134, 7, 2], [18, 78, 8, 1]]\n"
     ]
    }
   ],
   "source": [
    "print('Task 76:')\n",
    "employees = pd.DataFrame({\n",
    "    \"age\": [17, 50, 24, 45, 65, 18], \n",
    "    \"salary\": [75, 33, 90, 175, 134, 78],\n",
    "    \"grade\" : [7, 8, 9, 2, 7, 8],\n",
    "    \"group\" : [1, 1, 2, 2, 2, 1] \n",
    "    \n",
    "})  \n",
    "print(employees)  \n",
    "employees_list1 = list(employees.columns.values) \n",
    "employees_list2 = employees.values.tolist()\n",
    "#employees_list = list(employees)\n",
    "print(employees_list1)\n",
    "print(employees_list2)"
   ]
  },
  {
   "cell_type": "markdown",
   "metadata": {
    "papermill": {
     "duration": 0.104693,
     "end_time": "2020-09-23T01:20:57.190933",
     "exception": false,
     "start_time": "2020-09-23T01:20:57.086240",
     "status": "completed"
    },
    "tags": []
   },
   "source": [
    "<div style=\"\">\n",
    "    <div style=\"float: left; width: 80%;\">\n",
    "        <a id=\"77\"></a>\n",
    "        <font><b>Task 77:</b></font>\n",
    "        <br><br>\n",
    "        Pandas rows to list\n",
    "    </div>\n",
    "    <div style=\"float: right;\">\n",
    "        <a href=\"#top\" class=\"btn btn-primary btn-sm\" role=\"button\" aria-pressed=\"true\" style=\"color:white\" data-toggle=\"popover\" title=\"go to Top\">Go to Top</a>\n",
    "    </div>\n",
    "    <br style=\"clear: left;\" />\n",
    "</div> "
   ]
  },
  {
   "cell_type": "code",
   "execution_count": 80,
   "metadata": {
    "execution": {
     "iopub.execute_input": "2020-09-23T01:20:57.402093Z",
     "iopub.status.busy": "2020-09-23T01:20:57.401233Z",
     "iopub.status.idle": "2020-09-23T01:20:57.412057Z",
     "shell.execute_reply": "2020-09-23T01:20:57.411329Z"
    },
    "papermill": {
     "duration": 0.117389,
     "end_time": "2020-09-23T01:20:57.412203",
     "exception": false,
     "start_time": "2020-09-23T01:20:57.294814",
     "status": "completed"
    },
    "tags": []
   },
   "outputs": [
    {
     "name": "stdout",
     "output_type": "stream",
     "text": [
      "Task 77:\n",
      "   age  salary  grade  group\n",
      "0   17      75      7      1\n",
      "1   50      33      8      1\n",
      "2   24      90      9      2\n",
      "3   45     175      2      2\n",
      "4   65     134      7      2\n",
      "5   18      78      8      1\n",
      "[[17, 75, 7, 1], [50, 33, 8, 1], [24, 90, 9, 2], [45, 175, 2, 2], [65, 134, 7, 2], [18, 78, 8, 1]]\n",
      "<class 'list'>\n",
      "6\n"
     ]
    }
   ],
   "source": [
    "print('Task 77:')\n",
    "employees = pd.DataFrame({\n",
    "    \"age\": [17, 50, 24, 45, 65, 18], \n",
    "    \"salary\": [75, 33, 90, 175, 134, 78],\n",
    "    \"grade\" : [7, 8, 9, 2, 7, 8],\n",
    "    \"group\" : [1, 1, 2, 2, 2, 1] \n",
    "    \n",
    "})  \n",
    "print(employees)  \n",
    "employees_list2 = employees.values.tolist()\n",
    "print(employees_list2)\n",
    "print(type(employees_list2))\n",
    "print(len(employees_list2))"
   ]
  },
  {
   "cell_type": "markdown",
   "metadata": {
    "papermill": {
     "duration": 0.113436,
     "end_time": "2020-09-23T01:20:57.636211",
     "exception": false,
     "start_time": "2020-09-23T01:20:57.522775",
     "status": "completed"
    },
    "tags": []
   },
   "source": [
    "<div style=\"\">\n",
    "    <div style=\"float: left; width: 80%;\">\n",
    "        <a id=\"78\"></a>\n",
    "        <font><b>Task 78:</b></font>\n",
    "        <br><br>\n",
    "        XPandas rows to array \n",
    "\n",
    "        <br>Note: as_matrix is deprecatedYZ\n",
    "    </div>\n",
    "    <div style=\"float: right;\">\n",
    "        <a href=\"#top\" class=\"btn btn-primary btn-sm\" role=\"button\" aria-pressed=\"true\" style=\"color:white\" data-toggle=\"popover\" title=\"go to Top\">Go to Top</a>\n",
    "    </div>\n",
    "    <br style=\"clear: left;\" />\n",
    "</div> "
   ]
  },
  {
   "cell_type": "code",
   "execution_count": 81,
   "metadata": {
    "execution": {
     "iopub.execute_input": "2020-09-23T01:20:57.857316Z",
     "iopub.status.busy": "2020-09-23T01:20:57.856758Z",
     "iopub.status.idle": "2020-09-23T01:20:57.871469Z",
     "shell.execute_reply": "2020-09-23T01:20:57.870641Z"
    },
    "papermill": {
     "duration": 0.128715,
     "end_time": "2020-09-23T01:20:57.871687",
     "exception": false,
     "start_time": "2020-09-23T01:20:57.742972",
     "status": "completed"
    },
    "tags": []
   },
   "outputs": [
    {
     "name": "stdout",
     "output_type": "stream",
     "text": [
      "Task 78:\n",
      "   age  salary  grade  group\n",
      "0   17      75      7      1\n",
      "1   50      33      8      1\n",
      "2   24      90      9      2\n",
      "3   45     175      2      2\n",
      "4   65     134      7      2\n",
      "5   18      78      8      1\n",
      "[[ 17  75   7   1]\n",
      " [ 50  33   8   1]\n",
      " [ 24  90   9   2]\n",
      " [ 45 175   2   2]\n",
      " [ 65 134   7   2]\n",
      " [ 18  78   8   1]]\n",
      "<class 'numpy.ndarray'>\n",
      "(6, 4)\n"
     ]
    }
   ],
   "source": [
    "print('Task 78:')\n",
    "employees = pd.DataFrame({\n",
    "    \"age\": [17, 50, 24, 45, 65, 18], \n",
    "    \"salary\": [75, 33, 90, 175, 134, 78],\n",
    "    \"grade\" : [7, 8, 9, 2, 7, 8],\n",
    "    \"group\" : [1, 1, 2, 2, 2, 1] \n",
    "    \n",
    "})  \n",
    "print(employees)  \n",
    "employees_list2 = employees.values\n",
    "print(employees_list2)\n",
    "print(type(employees_list2))\n",
    "print(employees_list2.shape)"
   ]
  },
  {
   "cell_type": "markdown",
   "metadata": {
    "papermill": {
     "duration": 0.125114,
     "end_time": "2020-09-23T01:20:58.111821",
     "exception": false,
     "start_time": "2020-09-23T01:20:57.986707",
     "status": "completed"
    },
    "tags": []
   },
   "source": [
    "<div style=\"\">\n",
    "    <div style=\"float: left; width: 80%;\">\n",
    "        <a id=\"79\"></a>\n",
    "        <font><b>Task 79:</b></font>\n",
    "        <br><br>\n",
    "        Pandas rows to map\n",
    "    </div>\n",
    "    <div style=\"float: right;\">\n",
    "        <a href=\"#top\" class=\"btn btn-primary btn-sm\" role=\"button\" aria-pressed=\"true\" style=\"color:white\" data-toggle=\"popover\" title=\"go to Top\">Go to Top</a>\n",
    "    </div>\n",
    "    <br style=\"clear: left;\" />\n",
    "</div> "
   ]
  },
  {
   "cell_type": "code",
   "execution_count": 82,
   "metadata": {
    "execution": {
     "iopub.execute_input": "2020-09-23T01:20:58.334664Z",
     "iopub.status.busy": "2020-09-23T01:20:58.334152Z",
     "iopub.status.idle": "2020-09-23T01:20:58.343567Z",
     "shell.execute_reply": "2020-09-23T01:20:58.344287Z"
    },
    "papermill": {
     "duration": 0.118582,
     "end_time": "2020-09-23T01:20:58.344473",
     "exception": false,
     "start_time": "2020-09-23T01:20:58.225891",
     "status": "completed"
    },
    "tags": []
   },
   "outputs": [
    {
     "name": "stdout",
     "output_type": "stream",
     "text": [
      "Task 79:\n",
      "   age  salary  grade  group\n",
      "0   17      75      7      1\n",
      "1   50      33      8      1\n",
      "2   24      90      9      2\n",
      "3   45     175      2      2\n",
      "4   65     134      7      2\n",
      "5   18      78      8      1\n",
      "<map object at 0x7fec578f5890>\n",
      "<class 'map'>\n"
     ]
    }
   ],
   "source": [
    "print('Task 79:')\n",
    "employees = pd.DataFrame({\n",
    "    \"age\": [17, 50, 24, 45, 65, 18], \n",
    "    \"salary\": [75, 33, 90, 175, 134, 78],\n",
    "    \"grade\" : [7, 8, 9, 2, 7, 8],\n",
    "    \"group\" : [1, 1, 2, 2, 2, 1] \n",
    "    \n",
    "})  \n",
    "print(employees)  \n",
    "employees_list2 = map(list, employees.values)\n",
    "print(employees_list2)\n",
    "print(type(employees_list2))"
   ]
  },
  {
   "cell_type": "markdown",
   "metadata": {
    "papermill": {
     "duration": 0.106196,
     "end_time": "2020-09-23T01:20:58.557431",
     "exception": false,
     "start_time": "2020-09-23T01:20:58.451235",
     "status": "completed"
    },
    "tags": []
   },
   "source": [
    "<div style=\"\">\n",
    "    <div style=\"float: left; width: 80%;\">\n",
    "        <a id=\"80\"></a>\n",
    "        <font><b>Task 80:</b></font>\n",
    "        <br><br>\n",
    "        Pandas rows to map\n",
    "    </div>\n",
    "    <div style=\"float: right;\">\n",
    "        <a href=\"#top\" class=\"btn btn-primary btn-sm\" role=\"button\" aria-pressed=\"true\" style=\"color:white\" data-toggle=\"popover\" title=\"go to Top\">Go to Top</a>\n",
    "    </div>\n",
    "    <br style=\"clear: left;\" />\n",
    "</div>"
   ]
  },
  {
   "cell_type": "code",
   "execution_count": 83,
   "metadata": {
    "execution": {
     "iopub.execute_input": "2020-09-23T01:20:58.773480Z",
     "iopub.status.busy": "2020-09-23T01:20:58.772931Z",
     "iopub.status.idle": "2020-09-23T01:20:58.783619Z",
     "shell.execute_reply": "2020-09-23T01:20:58.784242Z"
    },
    "papermill": {
     "duration": 0.120257,
     "end_time": "2020-09-23T01:20:58.784421",
     "exception": false,
     "start_time": "2020-09-23T01:20:58.664164",
     "status": "completed"
    },
    "tags": []
   },
   "outputs": [
    {
     "name": "stdout",
     "output_type": "stream",
     "text": [
      "Task 80:\n",
      "   age  salary  grade  group\n",
      "0   17      75      7      1\n",
      "1   50      33      8      1\n",
      "2   24      90      9      2\n",
      "3   45     175      2      2\n",
      "4   65     134      7      2\n",
      "5   18      78      8      1\n",
      "[[17, 75, 7, 1], [50, 33, 8, 1], [24, 90, 9, 2], [45, 175, 2, 2], [65, 134, 7, 2], [18, 78, 8, 1]]\n",
      "<class 'list'>\n"
     ]
    }
   ],
   "source": [
    "print('Task 80:')\n",
    "employees = pd.DataFrame({\n",
    "    \"age\": [17, 50, 24, 45, 65, 18], \n",
    "    \"salary\": [75, 33, 90, 175, 134, 78],\n",
    "    \"grade\" : [7, 8, 9, 2, 7, 8],\n",
    "    \"group\" : [1, 1, 2, 2, 2, 1] \n",
    "    \n",
    "})  \n",
    "print(employees)  \n",
    "employees_list2 = list(map(list, employees.values))\n",
    "print(employees_list2)\n",
    "print(type(employees_list2))"
   ]
  },
  {
   "cell_type": "markdown",
   "metadata": {
    "papermill": {
     "duration": 0.107696,
     "end_time": "2020-09-23T01:20:59.001390",
     "exception": false,
     "start_time": "2020-09-23T01:20:58.893694",
     "status": "completed"
    },
    "tags": []
   },
   "source": [
    "<div style=\"\">\n",
    "    <div style=\"float: left; width: 80%;\">\n",
    "        <a id=\"81\"></a>\n",
    "        <font><b>Task 81:</b></font>\n",
    "        <br><br>\n",
    "        Drop duplicates\n",
    "    </div>\n",
    "    <div style=\"float: right;\">\n",
    "        <a href=\"#top\" class=\"btn btn-primary btn-sm\" role=\"button\" aria-pressed=\"true\" style=\"color:white\" data-toggle=\"popover\" title=\"go to Top\">Go to Top</a>\n",
    "    </div>\n",
    "    <br style=\"clear: left;\" />\n",
    "</div> "
   ]
  },
  {
   "cell_type": "code",
   "execution_count": 84,
   "metadata": {
    "execution": {
     "iopub.execute_input": "2020-09-23T01:20:59.221710Z",
     "iopub.status.busy": "2020-09-23T01:20:59.220838Z",
     "iopub.status.idle": "2020-09-23T01:20:59.233976Z",
     "shell.execute_reply": "2020-09-23T01:20:59.233417Z"
    },
    "papermill": {
     "duration": 0.126446,
     "end_time": "2020-09-23T01:20:59.234103",
     "exception": false,
     "start_time": "2020-09-23T01:20:59.107657",
     "status": "completed"
    },
    "tags": []
   },
   "outputs": [
    {
     "name": "stdout",
     "output_type": "stream",
     "text": [
      "Task 81:\n",
      "   id      city  count\n",
      "0   1   Toronto      7\n",
      "1   1  Montreal      8\n",
      "2   2   Calgary      9\n",
      "3   2  Montreal      2\n",
      "4   3  Montreal      7\n",
      "5   3    Ottawa      8\n",
      "   id      city  count\n",
      "1   1  Montreal      8\n",
      "3   2  Montreal      2\n",
      "5   3    Ottawa      8\n"
     ]
    }
   ],
   "source": [
    "print('Task 81:')  \n",
    "users = pd.DataFrame({\n",
    "    \"id\": [1, 1, 2, 2, 3, 3], \n",
    "    \"city\": ['Toronto', 'Montreal', 'Calgary', 'Montreal', 'Montreal', 'Ottawa'],\n",
    "    \"count\" : [7, 8, 9, 2, 7, 8] \n",
    "    \n",
    "}) \n",
    "print(users)\n",
    "users.drop_duplicates('id', inplace=True, keep='last')\n",
    "print(users)"
   ]
  },
  {
   "cell_type": "markdown",
   "metadata": {
    "papermill": {
     "duration": 0.106875,
     "end_time": "2020-09-23T01:20:59.448534",
     "exception": false,
     "start_time": "2020-09-23T01:20:59.341659",
     "status": "completed"
    },
    "tags": []
   },
   "source": [
    "<div style=\"\">\n",
    "    <div style=\"float: left; width: 80%;\">\n",
    "        <a id=\"82\"></a>\n",
    "        <font><b>Task 82:</b></font>\n",
    "        <br><br>\n",
    "        Selecting multiple columns\n",
    "    </div>\n",
    "    <div style=\"float: right;\">\n",
    "        <a href=\"#top\" class=\"btn btn-primary btn-sm\" role=\"button\" aria-pressed=\"true\" style=\"color:white\" data-toggle=\"popover\" title=\"go to Top\">Go to Top</a>\n",
    "    </div>\n",
    "    <br style=\"clear: left;\" />\n",
    "</div> "
   ]
  },
  {
   "cell_type": "code",
   "execution_count": 85,
   "metadata": {
    "execution": {
     "iopub.execute_input": "2020-09-23T01:20:59.673131Z",
     "iopub.status.busy": "2020-09-23T01:20:59.672256Z",
     "iopub.status.idle": "2020-09-23T01:20:59.675762Z",
     "shell.execute_reply": "2020-09-23T01:20:59.675210Z"
    },
    "papermill": {
     "duration": 0.121457,
     "end_time": "2020-09-23T01:20:59.675861",
     "exception": false,
     "start_time": "2020-09-23T01:20:59.554404",
     "status": "completed"
    },
    "tags": []
   },
   "outputs": [
    {
     "name": "stdout",
     "output_type": "stream",
     "text": [
      "Task 82:\n",
      "   id      city  count\n",
      "0   1   Toronto      7\n",
      "1   1  Montreal      8\n",
      "2   2   Calgary      9\n",
      "3   2  Montreal      2\n",
      "4   3  Montreal      7\n",
      "5   3    Ottawa      8\n",
      "   id      city\n",
      "0   1   Toronto\n",
      "1   1  Montreal\n",
      "2   2   Calgary\n",
      "3   2  Montreal\n",
      "4   3  Montreal\n",
      "5   3    Ottawa\n"
     ]
    }
   ],
   "source": [
    "print('Task 82:')  \n",
    "users = pd.DataFrame({\n",
    "    \"id\": [1, 1, 2, 2, 3, 3], \n",
    "    \"city\": ['Toronto', 'Montreal', 'Calgary', 'Montreal', 'Montreal', 'Ottawa'],\n",
    "    \"count\" : [7, 8, 9, 2, 7, 8] \n",
    "    \n",
    "}) \n",
    "print(users)\n",
    "users1 = users[['id', 'city']]\n",
    "print(users1)"
   ]
  },
  {
   "cell_type": "markdown",
   "metadata": {
    "papermill": {
     "duration": 0.119968,
     "end_time": "2020-09-23T01:20:59.904786",
     "exception": false,
     "start_time": "2020-09-23T01:20:59.784818",
     "status": "completed"
    },
    "tags": []
   },
   "source": [
    "<div style=\"\">\n",
    "    <div style=\"float: left; width: 80%;\">\n",
    "        <a id=\"83\"></a>\n",
    "        <font><b>Task 83:</b></font>\n",
    "        <br><br>\n",
    "        Selecting multiple columns\n",
    "    </div>\n",
    "    <div style=\"float: right;\">\n",
    "        <a href=\"#top\" class=\"btn btn-primary btn-sm\" role=\"button\" aria-pressed=\"true\" style=\"color:white\" data-toggle=\"popover\" title=\"go to Top\">Go to Top</a>\n",
    "    </div>\n",
    "    <br style=\"clear: left;\" />\n",
    "</div>"
   ]
  },
  {
   "cell_type": "code",
   "execution_count": 86,
   "metadata": {
    "execution": {
     "iopub.execute_input": "2020-09-23T01:21:00.133682Z",
     "iopub.status.busy": "2020-09-23T01:21:00.132762Z",
     "iopub.status.idle": "2020-09-23T01:21:00.137317Z",
     "shell.execute_reply": "2020-09-23T01:21:00.136523Z"
    },
    "papermill": {
     "duration": 0.124873,
     "end_time": "2020-09-23T01:21:00.137455",
     "exception": false,
     "start_time": "2020-09-23T01:21:00.012582",
     "status": "completed"
    },
    "tags": []
   },
   "outputs": [
    {
     "name": "stdout",
     "output_type": "stream",
     "text": [
      "Task 83:\n",
      "   id      city  count\n",
      "0   1   Toronto      7\n",
      "1   1  Montreal      8\n",
      "2   2   Calgary      9\n",
      "3   2  Montreal      2\n",
      "4   3  Montreal      7\n",
      "5   3    Ottawa      8\n",
      "   id  count\n",
      "0   1      7\n",
      "1   1      8\n",
      "2   2      9\n",
      "3   2      2\n",
      "4   3      7\n",
      "5   3      8\n"
     ]
    }
   ],
   "source": [
    "print('Task 83:')  \n",
    "users = pd.DataFrame({\n",
    "    \"id\": [1, 1, 2, 2, 3, 3], \n",
    "    \"city\": ['Toronto', 'Montreal', 'Calgary', 'Montreal', 'Montreal', 'Ottawa'],\n",
    "    \"count\" : [7, 8, 9, 2, 7, 8] \n",
    "}) \n",
    "print(users)\n",
    "columns = ['id', 'count']\n",
    "users1 = pd.DataFrame(users, columns=columns)\n",
    "print(users1)"
   ]
  },
  {
   "cell_type": "markdown",
   "metadata": {
    "papermill": {
     "duration": 0.10745,
     "end_time": "2020-09-23T01:21:00.353714",
     "exception": false,
     "start_time": "2020-09-23T01:21:00.246264",
     "status": "completed"
    },
    "tags": []
   },
   "source": [
    "<div style=\"\">\n",
    "    <div style=\"float: left; width: 80%;\">\n",
    "        <a id=\"84\"></a>\n",
    "        <font><b>Task 84:</b></font>\n",
    "        <br><br>\n",
    "        Row and Column Slicing\n",
    "    </div>\n",
    "    <div style=\"float: right;\">\n",
    "        <a href=\"#top\" class=\"btn btn-primary btn-sm\" role=\"button\" aria-pressed=\"true\" style=\"color:white\" data-toggle=\"popover\" title=\"go to Top\">Go to Top</a>\n",
    "    </div>\n",
    "    <br style=\"clear: left;\" />\n",
    "</div> "
   ]
  },
  {
   "cell_type": "code",
   "execution_count": 87,
   "metadata": {
    "execution": {
     "iopub.execute_input": "2020-09-23T01:21:00.578848Z",
     "iopub.status.busy": "2020-09-23T01:21:00.578208Z",
     "iopub.status.idle": "2020-09-23T01:21:00.583964Z",
     "shell.execute_reply": "2020-09-23T01:21:00.583544Z"
    },
    "papermill": {
     "duration": 0.123276,
     "end_time": "2020-09-23T01:21:00.584089",
     "exception": false,
     "start_time": "2020-09-23T01:21:00.460813",
     "status": "completed"
    },
    "tags": []
   },
   "outputs": [
    {
     "name": "stdout",
     "output_type": "stream",
     "text": [
      "Task 84:\n",
      "   id      city  count\n",
      "0   1   Toronto      7\n",
      "1   1  Montreal      8\n",
      "2   2   Calgary      9\n",
      "3   2  Montreal      2\n",
      "4   3  Montreal      7\n",
      "5   3    Ottawa      8\n",
      "       city  count\n",
      "0   Toronto      7\n",
      "1  Montreal      8\n"
     ]
    }
   ],
   "source": [
    "print('Task 84:')  \n",
    "users = pd.DataFrame({\n",
    "    \"id\": [1, 1, 2, 2, 3, 3], \n",
    "    \"city\": ['Toronto', 'Montreal', 'Calgary', 'Montreal', 'Montreal', 'Ottawa'],\n",
    "    \"count\" : [7, 8, 9, 2, 7, 8] \n",
    "    \n",
    "}) \n",
    "print(users)    \n",
    "users1 = users.iloc[0:2, 1:3]\n",
    "print(users1)"
   ]
  },
  {
   "cell_type": "markdown",
   "metadata": {
    "papermill": {
     "duration": 0.14635,
     "end_time": "2020-09-23T01:21:00.840246",
     "exception": false,
     "start_time": "2020-09-23T01:21:00.693896",
     "status": "completed"
    },
    "tags": []
   },
   "source": [
    "<div style=\"\">\n",
    "    <div style=\"float: left; width: 80%;\">\n",
    "        <a id=\"85\"></a>\n",
    "        <font><b>Task 85:</b></font>\n",
    "        <br><br>\n",
    "        Iterating rows\n",
    "    </div>\n",
    "    <div style=\"float: right;\">\n",
    "        <a href=\"#top\" class=\"btn btn-primary btn-sm\" role=\"button\" aria-pressed=\"true\" style=\"color:white\" data-toggle=\"popover\" title=\"go to Top\">Go to Top</a>\n",
    "    </div>\n",
    "    <br style=\"clear: left;\" />\n",
    "</div>"
   ]
  },
  {
   "cell_type": "code",
   "execution_count": 88,
   "metadata": {
    "execution": {
     "iopub.execute_input": "2020-09-23T01:21:01.068867Z",
     "iopub.status.busy": "2020-09-23T01:21:01.068309Z",
     "iopub.status.idle": "2020-09-23T01:21:01.074232Z",
     "shell.execute_reply": "2020-09-23T01:21:01.075042Z"
    },
    "papermill": {
     "duration": 0.125461,
     "end_time": "2020-09-23T01:21:01.075202",
     "exception": false,
     "start_time": "2020-09-23T01:21:00.949741",
     "status": "completed"
    },
    "tags": []
   },
   "outputs": [
    {
     "name": "stdout",
     "output_type": "stream",
     "text": [
      "Task 85:\n",
      "   id      city  count\n",
      "0   1   Toronto      7\n",
      "1   1  Montreal      8\n",
      "2   2   Calgary      9\n",
      "3   2  Montreal      2\n",
      "4   3  Montreal      7\n",
      "5   3    Ottawa      8\n",
      "Toronto ==> 7\n",
      "Montreal ==> 8\n",
      "Calgary ==> 9\n",
      "Montreal ==> 2\n",
      "Montreal ==> 7\n",
      "Ottawa ==> 8\n"
     ]
    }
   ],
   "source": [
    "print('Task 85:')  \n",
    "users = pd.DataFrame({\n",
    "    \"id\": [1, 1, 2, 2, 3, 3], \n",
    "    \"city\": ['Toronto', 'Montreal', 'Calgary', 'Montreal', 'Montreal', 'Ottawa'],\n",
    "    \"count\" : [7, 8, 9, 2, 7, 8] \n",
    "    \n",
    "}) \n",
    "print(users)    \n",
    "for index, row in users.iterrows():\n",
    "    print(row['city'], \"==>\", row['count'])"
   ]
  },
  {
   "cell_type": "markdown",
   "metadata": {
    "papermill": {
     "duration": 0.110066,
     "end_time": "2020-09-23T01:21:01.302179",
     "exception": false,
     "start_time": "2020-09-23T01:21:01.192113",
     "status": "completed"
    },
    "tags": []
   },
   "source": [
    "<div style=\"\">\n",
    "    <div style=\"float: left; width: 80%;\">\n",
    "        <a id=\"86\"></a>\n",
    "        <font><b>Task 86:</b></font>\n",
    "        <br><br>\n",
    "        Iterating tuples\n",
    "    </div>\n",
    "    <div style=\"float: right;\">\n",
    "        <a href=\"#top\" class=\"btn btn-primary btn-sm\" role=\"button\" aria-pressed=\"true\" style=\"color:white\" data-toggle=\"popover\" title=\"go to Top\">Go to Top</a>\n",
    "    </div>\n",
    "    <br style=\"clear: left;\" />\n",
    "</div> "
   ]
  },
  {
   "cell_type": "code",
   "execution_count": 89,
   "metadata": {
    "execution": {
     "iopub.execute_input": "2020-09-23T01:21:01.532266Z",
     "iopub.status.busy": "2020-09-23T01:21:01.531689Z",
     "iopub.status.idle": "2020-09-23T01:21:01.536772Z",
     "shell.execute_reply": "2020-09-23T01:21:01.536316Z"
    },
    "papermill": {
     "duration": 0.125102,
     "end_time": "2020-09-23T01:21:01.536910",
     "exception": false,
     "start_time": "2020-09-23T01:21:01.411808",
     "status": "completed"
    },
    "tags": []
   },
   "outputs": [
    {
     "name": "stdout",
     "output_type": "stream",
     "text": [
      "Task 86:\n",
      "   id      city  count\n",
      "0   1   Toronto      7\n",
      "1   1  Montreal      8\n",
      "2   2   Calgary      9\n",
      "3   2  Montreal      2\n",
      "4   3  Montreal      7\n",
      "5   3    Ottawa      8\n",
      "Toronto\n",
      "Montreal\n",
      "Calgary\n",
      "Montreal\n",
      "Montreal\n",
      "Ottawa\n",
      "7\n",
      "8\n",
      "9\n",
      "2\n",
      "7\n",
      "8\n"
     ]
    }
   ],
   "source": [
    "print('Task 86:')  \n",
    "users = pd.DataFrame({\n",
    "    \"id\": [1, 1, 2, 2, 3, 3], \n",
    "    \"city\": ['Toronto', 'Montreal', 'Calgary', 'Montreal', 'Montreal', 'Ottawa'],\n",
    "    \"count\" : [7, 8, 9, 2, 7, 8] \n",
    "    \n",
    "}) \n",
    "print(users)    \n",
    "for row in users.itertuples(index=True, name='Pandas'):\n",
    "    print(getattr(row, 'city'))\n",
    "    \n",
    "for row in users.itertuples(index=True, name='Pandas'):\n",
    "    print(row.count)"
   ]
  },
  {
   "cell_type": "markdown",
   "metadata": {
    "papermill": {
     "duration": 0.127816,
     "end_time": "2020-09-23T01:21:01.781741",
     "exception": false,
     "start_time": "2020-09-23T01:21:01.653925",
     "status": "completed"
    },
    "tags": []
   },
   "source": [
    "<div style=\"\">\n",
    "    <div style=\"float: left; width: 80%;\">\n",
    "        <a id=\"87\"></a>\n",
    "        <font><b>Task 87:</b></font>\n",
    "        <br><br>\n",
    "        Iterating rows and columns\n",
    "    </div>\n",
    "    <div style=\"float: right;\">\n",
    "        <a href=\"#top\" class=\"btn btn-primary btn-sm\" role=\"button\" aria-pressed=\"true\" style=\"color:white\" data-toggle=\"popover\" title=\"go to Top\">Go to Top</a>\n",
    "    </div>\n",
    "    <br style=\"clear: left;\" />\n",
    "</div> "
   ]
  },
  {
   "cell_type": "code",
   "execution_count": 90,
   "metadata": {
    "execution": {
     "iopub.execute_input": "2020-09-23T01:21:02.023761Z",
     "iopub.status.busy": "2020-09-23T01:21:02.022427Z",
     "iopub.status.idle": "2020-09-23T01:21:02.027674Z",
     "shell.execute_reply": "2020-09-23T01:21:02.028356Z"
    },
    "papermill": {
     "duration": 0.123741,
     "end_time": "2020-09-23T01:21:02.028554",
     "exception": false,
     "start_time": "2020-09-23T01:21:01.904813",
     "status": "completed"
    },
    "tags": []
   },
   "outputs": [
    {
     "name": "stdout",
     "output_type": "stream",
     "text": [
      "Task 87:\n",
      "   id      city  count\n",
      "0   1   Toronto      7\n",
      "1   1  Montreal      8\n",
      "2   2   Calgary      9\n",
      "3   2  Montreal      2\n",
      "4   3  Montreal      7\n",
      "5   3    Ottawa      8\n",
      "1\n",
      "Toronto\n",
      "7\n",
      "1\n",
      "Montreal\n",
      "8\n",
      "2\n",
      "Calgary\n",
      "9\n",
      "2\n",
      "Montreal\n",
      "2\n",
      "3\n",
      "Montreal\n",
      "7\n",
      "3\n",
      "Ottawa\n",
      "8\n"
     ]
    }
   ],
   "source": [
    "print('Task 87:')  \n",
    "users = pd.DataFrame({\n",
    "    \"id\": [1, 1, 2, 2, 3, 3], \n",
    "    \"city\": ['Toronto', 'Montreal', 'Calgary', 'Montreal', 'Montreal', 'Ottawa'],\n",
    "    \"count\" : [7, 8, 9, 2, 7, 8] \n",
    "    \n",
    "}) \n",
    "print(users)    \n",
    "for i, row in users.iterrows():\n",
    "    for j, col in row.iteritems():    \n",
    "        print(col)"
   ]
  },
  {
   "cell_type": "markdown",
   "metadata": {
    "papermill": {
     "duration": 0.109274,
     "end_time": "2020-09-23T01:21:02.249346",
     "exception": false,
     "start_time": "2020-09-23T01:21:02.140072",
     "status": "completed"
    },
    "tags": []
   },
   "source": [
    "<div style=\"\">\n",
    "    <div style=\"float: left; width: 80%;\">\n",
    "        <a id=\"88\"></a>\n",
    "        <font><b>Task 88:</b></font>\n",
    "        <br><br>\n",
    "        List of Dictionary to Dataframe\n",
    "    </div>\n",
    "    <div style=\"float: right;\">\n",
    "        <a href=\"#top\" class=\"btn btn-primary btn-sm\" role=\"button\" aria-pressed=\"true\" style=\"color:white\" data-toggle=\"popover\" title=\"go to Top\">Go to Top</a>\n",
    "    </div>\n",
    "    <br style=\"clear: left;\" />\n",
    "</div> "
   ]
  },
  {
   "cell_type": "code",
   "execution_count": 91,
   "metadata": {
    "execution": {
     "iopub.execute_input": "2020-09-23T01:21:02.474410Z",
     "iopub.status.busy": "2020-09-23T01:21:02.473840Z",
     "iopub.status.idle": "2020-09-23T01:21:02.492679Z",
     "shell.execute_reply": "2020-09-23T01:21:02.493492Z"
    },
    "papermill": {
     "duration": 0.135173,
     "end_time": "2020-09-23T01:21:02.493663",
     "exception": false,
     "start_time": "2020-09-23T01:21:02.358490",
     "status": "completed"
    },
    "tags": []
   },
   "outputs": [
    {
     "name": "stdout",
     "output_type": "stream",
     "text": [
      "Task 88:\n",
      "[{'points': 50, 'time': '5:00', 'year': 2010}, {'points': 25, 'time': '6:00', 'month': 'february'}, {'points': 90, 'time': '9:00', 'month': 'january'}, {'points_h1': 20, 'month': 'june'}]\n",
      "   points  time    year     month  points_h1\n",
      "0    50.0  5:00  2010.0       NaN        NaN\n",
      "1    25.0  6:00     NaN  february        NaN\n",
      "2    90.0  9:00     NaN   january        NaN\n",
      "3     NaN   NaN     NaN      june       20.0\n",
      "   points  time    year     month  points_h1\n",
      "0    50.0  5:00  2010.0       NaN        NaN\n",
      "1    25.0  6:00     NaN  february        NaN\n",
      "2    90.0  9:00     NaN   january        NaN\n",
      "3     NaN   NaN     NaN      june       20.0\n"
     ]
    }
   ],
   "source": [
    "print('Task 88:')  \n",
    "pointlist = [\n",
    "                {'points': 50, 'time': '5:00', 'year': 2010}, \n",
    "                {'points': 25, 'time': '6:00', 'month': \"february\"}, \n",
    "                {'points':90, 'time': '9:00', 'month': 'january'}, \n",
    "                {'points_h1':20, 'month': 'june'}\n",
    "            ]\n",
    "print(pointlist)\n",
    "pointDf = pd.DataFrame(pointlist)\n",
    "print(pointDf)\n",
    "\n",
    "pointDf1 = pd.DataFrame.from_dict(pointlist)\n",
    "print(pointDf1)"
   ]
  },
  {
   "cell_type": "markdown",
   "metadata": {
    "papermill": {
     "duration": 0.110753,
     "end_time": "2020-09-23T01:21:02.724748",
     "exception": false,
     "start_time": "2020-09-23T01:21:02.613995",
     "status": "completed"
    },
    "tags": []
   },
   "source": [
    "<div style=\"\">\n",
    "    <div style=\"float: left; width: 80%;\">\n",
    "        <a id=\"89\"></a>\n",
    "        <font><b>Task 89:</b></font>\n",
    "        <br><br>\n",
    "        NaN values\n",
    "    </div>\n",
    "    <div style=\"float: right;\">\n",
    "        <a href=\"#top\" class=\"btn btn-primary btn-sm\" role=\"button\" aria-pressed=\"true\" style=\"color:white\" data-toggle=\"popover\" title=\"go to Top\">Go to Top</a>\n",
    "    </div>\n",
    "    <br style=\"clear: left;\" />\n",
    "</div> "
   ]
  },
  {
   "cell_type": "code",
   "execution_count": 92,
   "metadata": {
    "execution": {
     "iopub.execute_input": "2020-09-23T01:21:02.947944Z",
     "iopub.status.busy": "2020-09-23T01:21:02.947350Z",
     "iopub.status.idle": "2020-09-23T01:21:02.960268Z",
     "shell.execute_reply": "2020-09-23T01:21:02.960714Z"
    },
    "papermill": {
     "duration": 0.127245,
     "end_time": "2020-09-23T01:21:02.960847",
     "exception": false,
     "start_time": "2020-09-23T01:21:02.833602",
     "status": "completed"
    },
    "tags": []
   },
   "outputs": [
    {
     "name": "stdout",
     "output_type": "stream",
     "text": [
      "Task 89:\n",
      "          0         1         2         3         4         5\n",
      "0 -0.724385 -0.162374  0.596732  0.056910  0.342571 -1.164010\n",
      "1  0.978954       NaN  0.386500 -1.088329  0.708504 -1.343270\n",
      "2  0.104197       NaN -1.774602  0.393889  0.406433  0.516792\n",
      "3  0.315415  0.066453 -1.014366  0.423163  0.327167  0.439981\n",
      "4  0.048377 -0.691932  1.678571 -0.478618  0.295601  0.055524\n",
      "5 -0.712447  0.189270 -0.540667       NaN  0.872861  1.558597\n",
      "6  1.216490 -0.859854  0.165220  2.068764  1.185704 -0.661413\n",
      "7  2.660536  0.075344 -0.422865  0.231542  1.992949       NaN\n",
      "8 -2.511943  0.592386  1.181017 -0.922385 -0.449863       NaN\n",
      "9  0.725690 -0.475886 -1.088156 -0.122753 -0.674674  0.723302\n",
      "       0      1      2      3      4      5\n",
      "0  False  False  False  False  False  False\n",
      "1  False   True  False  False  False  False\n",
      "2  False   True  False  False  False  False\n",
      "3  False  False  False  False  False  False\n",
      "4  False  False  False  False  False  False\n",
      "5  False  False  False   True  False  False\n",
      "6  False  False  False  False  False  False\n",
      "7  False  False  False  False  False   True\n",
      "8  False  False  False  False  False   True\n",
      "9  False  False  False  False  False  False\n"
     ]
    }
   ],
   "source": [
    "print('Task 89:')\n",
    "df = pd.DataFrame(np.random.randn(10,6))\n",
    "# Make a few areas have NaN values\n",
    "df.iloc[1:3,1] = np.nan\n",
    "df.iloc[5,3] = np.nan\n",
    "df.iloc[7:9,5] = np.nan\n",
    "print(df)\n",
    "df1 = df.isnull()\n",
    "print(df1)"
   ]
  },
  {
   "cell_type": "markdown",
   "metadata": {
    "papermill": {
     "duration": 0.109713,
     "end_time": "2020-09-23T01:21:03.182191",
     "exception": false,
     "start_time": "2020-09-23T01:21:03.072478",
     "status": "completed"
    },
    "tags": []
   },
   "source": [
    "<div style=\"\">\n",
    "    <div style=\"float: left; width: 80%;\">\n",
    "        <a id=\"90\"></a>\n",
    "        <font><b>Task 90:</b></font>\n",
    "        <br><br>\n",
    "        Sum of all nan\n",
    "    </div>\n",
    "    <div style=\"float: right;\">\n",
    "        <a href=\"#top\" class=\"btn btn-primary btn-sm\" role=\"button\" aria-pressed=\"true\" style=\"color:white\" data-toggle=\"popover\" title=\"go to Top\">Go to Top</a>\n",
    "    </div>\n",
    "    <br style=\"clear: left;\" />\n",
    "</div>"
   ]
  },
  {
   "cell_type": "code",
   "execution_count": 93,
   "metadata": {
    "execution": {
     "iopub.execute_input": "2020-09-23T01:21:03.404967Z",
     "iopub.status.busy": "2020-09-23T01:21:03.404113Z",
     "iopub.status.idle": "2020-09-23T01:21:03.418832Z",
     "shell.execute_reply": "2020-09-23T01:21:03.418378Z"
    },
    "papermill": {
     "duration": 0.126972,
     "end_time": "2020-09-23T01:21:03.418931",
     "exception": false,
     "start_time": "2020-09-23T01:21:03.291959",
     "status": "completed"
    },
    "tags": []
   },
   "outputs": [
    {
     "name": "stdout",
     "output_type": "stream",
     "text": [
      "Task 90:\n",
      "          0         1         2         3         4         5\n",
      "0  1.072101 -1.424975 -0.403288 -0.322279 -1.127026  1.283520\n",
      "1  1.166972       NaN -0.117690  0.872842  0.645396  0.565484\n",
      "2 -0.031790       NaN -1.435663 -2.097579  1.274894  0.102230\n",
      "3  0.079205  0.261354 -0.761078 -0.711952 -0.593822  0.068208\n",
      "4  0.434716 -0.635458  0.097012 -0.277223 -0.456305  0.870897\n",
      "5  1.380832 -1.658834  0.061825       NaN -0.877171  0.239338\n",
      "6  1.141208 -0.002818  1.986307  0.837410  0.054983 -1.045019\n",
      "7 -0.690187 -0.481038  1.526725  0.531156 -1.010643       NaN\n",
      "8 -1.970881 -0.181395 -0.472930 -0.364932 -0.821994       NaN\n",
      "9 -0.570989  0.307818  0.159102 -1.140811  2.056116 -1.208915\n",
      "0    0\n",
      "1    2\n",
      "2    0\n",
      "3    1\n",
      "4    0\n",
      "5    2\n",
      "dtype: int64\n",
      "0    0\n",
      "1    1\n",
      "2    1\n",
      "3    0\n",
      "4    0\n",
      "5    1\n",
      "6    0\n",
      "7    1\n",
      "8    1\n",
      "9    0\n",
      "dtype: int64\n",
      "[0, 2, 0, 1, 0, 2]\n"
     ]
    }
   ],
   "source": [
    "print('Task 90:')  \n",
    "df = pd.DataFrame(np.random.randn(10,6))\n",
    "# Make a few areas have NaN values\n",
    "df.iloc[1:3,1] = np.nan\n",
    "df.iloc[5,3] = np.nan\n",
    "df.iloc[7:9,5] = np.nan\n",
    "print(df)\n",
    "print(df.isnull().sum())\n",
    "print(df.isnull().sum(axis=1))\n",
    "print(df.isnull().sum().tolist())"
   ]
  },
  {
   "cell_type": "markdown",
   "metadata": {
    "papermill": {
     "duration": 0.11206,
     "end_time": "2020-09-23T01:21:03.641635",
     "exception": false,
     "start_time": "2020-09-23T01:21:03.529575",
     "status": "completed"
    },
    "tags": []
   },
   "source": [
    "<div style=\"\">\n",
    "    <div style=\"float: left; width: 80%;\">\n",
    "        <a id=\"91\"></a>\n",
    "        <font><b>Task 91:</b></font>\n",
    "        <br><br>\n",
    "        Sum of all nan rowwise\n",
    "    </div>\n",
    "    <div style=\"float: right;\">\n",
    "        <a href=\"#top\" class=\"btn btn-primary btn-sm\" role=\"button\" aria-pressed=\"true\" style=\"color:white\" data-toggle=\"popover\" title=\"go to Top\">Go to Top</a>\n",
    "    </div>\n",
    "    <br style=\"clear: left;\" />\n",
    "</div> "
   ]
  },
  {
   "cell_type": "code",
   "execution_count": 94,
   "metadata": {
    "execution": {
     "iopub.execute_input": "2020-09-23T01:21:03.874151Z",
     "iopub.status.busy": "2020-09-23T01:21:03.873405Z",
     "iopub.status.idle": "2020-09-23T01:21:03.876384Z",
     "shell.execute_reply": "2020-09-23T01:21:03.877029Z"
    },
    "papermill": {
     "duration": 0.12548,
     "end_time": "2020-09-23T01:21:03.877209",
     "exception": false,
     "start_time": "2020-09-23T01:21:03.751729",
     "status": "completed"
    },
    "tags": []
   },
   "outputs": [
    {
     "name": "stdout",
     "output_type": "stream",
     "text": [
      "Task 91:\n",
      "          0         1         2         3         4         5\n",
      "0  0.707128 -0.500186  0.034871 -0.041294  1.427341  0.361541\n",
      "1 -1.729198       NaN -1.102852  1.121821 -0.356699 -1.635606\n",
      "2  1.595241       NaN -0.009071  1.191791 -1.050860 -0.655320\n",
      "3 -0.793856 -1.215854  0.459087 -0.145051  0.712892 -2.084324\n",
      "4  0.250326 -1.189857 -1.025468 -0.202507  2.516507 -0.838178\n",
      "5  1.254554 -0.308622  0.234713       NaN -1.045311  0.063656\n",
      "6 -1.329934 -0.975707  0.817330  0.664158 -1.381307  0.202366\n",
      "7  1.055936 -0.646105  0.411823  1.251757 -0.257394       NaN\n",
      "8 -0.522509 -0.895137 -0.669433  0.494551 -0.473884       NaN\n",
      "9 -0.801061  0.376699  0.745950  1.848197  0.960274  0.821127\n",
      "0    0\n",
      "1    1\n",
      "2    1\n",
      "3    0\n",
      "4    0\n",
      "5    1\n",
      "6    0\n",
      "7    1\n",
      "8    1\n",
      "9    0\n",
      "dtype: int64\n"
     ]
    }
   ],
   "source": [
    "print('Task 91:')  \n",
    "df = pd.DataFrame(np.random.randn(10,6))\n",
    "# Make a few areas have NaN values\n",
    "df.iloc[1:3,1] = np.nan\n",
    "df.iloc[5,3] = np.nan\n",
    "df.iloc[7:9,5] = np.nan\n",
    "print(df)\n",
    "print(df.isnull().sum(axis=1))"
   ]
  },
  {
   "cell_type": "markdown",
   "metadata": {
    "papermill": {
     "duration": 0.110167,
     "end_time": "2020-09-23T01:21:04.098747",
     "exception": false,
     "start_time": "2020-09-23T01:21:03.988580",
     "status": "completed"
    },
    "tags": []
   },
   "source": [
    "<div style=\"\">\n",
    "    <div style=\"float: left; width: 80%;\">\n",
    "        <a id=\"92\"></a>\n",
    "        <font><b>Task 92:</b></font>\n",
    "        <br><br>\n",
    "        Sum of all nan as list\n",
    "    </div>\n",
    "    <div style=\"float: right;\">\n",
    "        <a href=\"#top\" class=\"btn btn-primary btn-sm\" role=\"button\" aria-pressed=\"true\" style=\"color:white\" data-toggle=\"popover\" title=\"go to Top\">Go to Top</a>\n",
    "    </div>\n",
    "    <br style=\"clear: left;\" />\n",
    "</div> "
   ]
  },
  {
   "cell_type": "code",
   "execution_count": 95,
   "metadata": {
    "execution": {
     "iopub.execute_input": "2020-09-23T01:21:04.328034Z",
     "iopub.status.busy": "2020-09-23T01:21:04.327431Z",
     "iopub.status.idle": "2020-09-23T01:21:04.330843Z",
     "shell.execute_reply": "2020-09-23T01:21:04.330246Z"
    },
    "papermill": {
     "duration": 0.122479,
     "end_time": "2020-09-23T01:21:04.330942",
     "exception": false,
     "start_time": "2020-09-23T01:21:04.208463",
     "status": "completed"
    },
    "tags": []
   },
   "outputs": [
    {
     "name": "stdout",
     "output_type": "stream",
     "text": [
      "Task 92:\n",
      "          0         1         2         3         4         5\n",
      "0 -0.990831  0.398904 -2.801803 -1.069442 -0.771641  0.409495\n",
      "1  1.131073       NaN -0.672425 -0.736132 -0.627207  2.485986\n",
      "2 -1.251513       NaN  1.846002  1.826509 -0.929159 -1.618506\n",
      "3  0.502050 -0.578389 -0.887619 -0.892361  0.440889  1.638700\n",
      "4 -0.171411  0.036537  0.958454  1.811572 -2.181450 -0.248959\n",
      "5 -1.206243  1.243162 -0.272960       NaN -0.905182  0.332198\n",
      "6 -0.992972  0.259820  0.684029 -0.619992  0.481058  0.323773\n",
      "7  0.669588 -0.400062  1.842876 -0.379580 -1.530090       NaN\n",
      "8 -0.202812  0.226487 -1.464066 -0.797324  0.220648       NaN\n",
      "9 -0.770362  1.139157 -0.928587 -0.754032 -0.263329  0.618385\n",
      "[0, 2, 0, 1, 0, 2]\n"
     ]
    }
   ],
   "source": [
    "print('Task 92:')  \n",
    "df = pd.DataFrame(np.random.randn(10,6))\n",
    "# Make a few areas have NaN values\n",
    "df.iloc[1:3,1] = np.nan\n",
    "df.iloc[5,3] = np.nan\n",
    "df.iloc[7:9,5] = np.nan\n",
    "print(df)\n",
    "print(df.isnull().sum().tolist())"
   ]
  },
  {
   "cell_type": "markdown",
   "metadata": {
    "papermill": {
     "duration": 0.109532,
     "end_time": "2020-09-23T01:21:04.550986",
     "exception": false,
     "start_time": "2020-09-23T01:21:04.441454",
     "status": "completed"
    },
    "tags": []
   },
   "source": [
    "<div style=\"\">\n",
    "    <div style=\"float: left; width: 80%;\">\n",
    "        <a id=\"93\"></a>\n",
    "        <font><b>Task 93:</b></font>\n",
    "        <br><br>\n",
    "        Change the order of columns\n",
    "\n",
    "        Note:\n",
    "            FutureWarning: '.reindex_axis' is deprecated and will be removed in a future version \n",
    "    </div>\n",
    "    <div style=\"float: right;\">\n",
    "        <a href=\"#top\" class=\"btn btn-primary btn-sm\" role=\"button\" aria-pressed=\"true\" style=\"color:white\" data-toggle=\"popover\" title=\"go to Top\">Go to Top</a>\n",
    "    </div>\n",
    "    <br style=\"clear: left;\" />\n",
    "</div>"
   ]
  },
  {
   "cell_type": "code",
   "execution_count": 96,
   "metadata": {
    "execution": {
     "iopub.execute_input": "2020-09-23T01:21:04.783352Z",
     "iopub.status.busy": "2020-09-23T01:21:04.782716Z",
     "iopub.status.idle": "2020-09-23T01:21:04.786931Z",
     "shell.execute_reply": "2020-09-23T01:21:04.786001Z"
    },
    "papermill": {
     "duration": 0.125758,
     "end_time": "2020-09-23T01:21:04.787114",
     "exception": false,
     "start_time": "2020-09-23T01:21:04.661356",
     "status": "completed"
    },
    "tags": []
   },
   "outputs": [
    {
     "name": "stdout",
     "output_type": "stream",
     "text": [
      "Task 93:\n",
      "   id      city  count\n",
      "0   1   Toronto      7\n",
      "1   1  Montreal      8\n",
      "2   2   Calgary      9\n",
      "3   2  Montreal      2\n",
      "4   3  Montreal      7\n",
      "5   3    Ottawa      8\n",
      "       city  id  count\n",
      "0   Toronto   1      7\n",
      "1  Montreal   1      8\n",
      "2   Calgary   2      9\n",
      "3  Montreal   2      2\n",
      "4  Montreal   3      7\n",
      "5    Ottawa   3      8\n"
     ]
    }
   ],
   "source": [
    "print('Task 93:')  \n",
    "users = pd.DataFrame({\n",
    "    \"id\": [1, 1, 2, 2, 3, 3], \n",
    "    \"city\": ['Toronto', 'Montreal', 'Calgary', 'Montreal', 'Montreal', 'Ottawa'],\n",
    "    \"count\" : [7, 8, 9, 2, 7, 8] \n",
    "    \n",
    "}) \n",
    "print(users)\n",
    "\n",
    "# below line throws error\n",
    "# users1 = users.reindex_axis(['city', 'count', 'id'], axis=1)\n",
    "# print(users1)\n",
    "\n",
    "users2 = users.reindex(columns=['city', 'id', 'count'])\n",
    "print(users2)"
   ]
  },
  {
   "cell_type": "markdown",
   "metadata": {
    "papermill": {
     "duration": 0.112579,
     "end_time": "2020-09-23T01:21:05.015211",
     "exception": false,
     "start_time": "2020-09-23T01:21:04.902632",
     "status": "completed"
    },
    "tags": []
   },
   "source": [
    "<div style=\"\">\n",
    "    <div style=\"float: left; width: 80%;\">\n",
    "        <a id=\"94\"></a>\n",
    "        <font><b>Task 94:</b></font>\n",
    "        <br><br>\n",
    "        Drop multiple rows\n",
    "    </div>\n",
    "    <div style=\"float: right;\">\n",
    "        <a href=\"#top\" class=\"btn btn-primary btn-sm\" role=\"button\" aria-pressed=\"true\" style=\"color:white\" data-toggle=\"popover\" title=\"go to Top\">Go to Top</a>\n",
    "    </div>\n",
    "    <br style=\"clear: left;\" />\n",
    "</div> "
   ]
  },
  {
   "cell_type": "code",
   "execution_count": 97,
   "metadata": {
    "execution": {
     "iopub.execute_input": "2020-09-23T01:21:05.250182Z",
     "iopub.status.busy": "2020-09-23T01:21:05.249402Z",
     "iopub.status.idle": "2020-09-23T01:21:05.254189Z",
     "shell.execute_reply": "2020-09-23T01:21:05.253330Z"
    },
    "papermill": {
     "duration": 0.127954,
     "end_time": "2020-09-23T01:21:05.254328",
     "exception": false,
     "start_time": "2020-09-23T01:21:05.126374",
     "status": "completed"
    },
    "tags": []
   },
   "outputs": [
    {
     "name": "stdout",
     "output_type": "stream",
     "text": [
      "Task 94:\n",
      "   id  number\n",
      "0   1      10\n",
      "1   2      20\n",
      "2   3      30\n",
      "3   4      30\n",
      "4   5      23\n",
      "5   6      12\n",
      "   id  number\n",
      "1   2      20\n",
      "2   3      30\n",
      "4   5      23\n"
     ]
    }
   ],
   "source": [
    "print('Task 94:')\n",
    "numbers = pd.DataFrame({\n",
    "    \"id\": [1, 2, 3, 4, 5, 6], \n",
    "    \"number\": [10, 20, 30, 30, 23, 12]\n",
    "    \n",
    "})  \n",
    "print(numbers)\n",
    "numbers.drop(numbers.index[[0, 3, 5]], inplace=True)\n",
    "print(numbers)"
   ]
  },
  {
   "cell_type": "markdown",
   "metadata": {
    "papermill": {
     "duration": 0.111157,
     "end_time": "2020-09-23T01:21:05.478380",
     "exception": false,
     "start_time": "2020-09-23T01:21:05.367223",
     "status": "completed"
    },
    "tags": []
   },
   "source": [
    "<div style=\"\">\n",
    "    <div style=\"float: left; width: 80%;\">\n",
    "        <a id=\"95\"></a>\n",
    "        <font><b>Task 95:</b></font>\n",
    "        <br><br>\n",
    "        Drop multiple rows by row name\n",
    "    </div>\n",
    "    <div style=\"float: right;\">\n",
    "        <a href=\"#top\" class=\"btn btn-primary btn-sm\" role=\"button\" aria-pressed=\"true\" style=\"color:white\" data-toggle=\"popover\" title=\"go to Top\">Go to Top</a>\n",
    "    </div>\n",
    "    <br style=\"clear: left;\" />\n",
    "</div>"
   ]
  },
  {
   "cell_type": "code",
   "execution_count": 98,
   "metadata": {
    "execution": {
     "iopub.execute_input": "2020-09-23T01:21:05.714473Z",
     "iopub.status.busy": "2020-09-23T01:21:05.713860Z",
     "iopub.status.idle": "2020-09-23T01:21:05.718632Z",
     "shell.execute_reply": "2020-09-23T01:21:05.717659Z"
    },
    "papermill": {
     "duration": 0.128391,
     "end_time": "2020-09-23T01:21:05.718783",
     "exception": false,
     "start_time": "2020-09-23T01:21:05.590392",
     "status": "completed"
    },
    "tags": []
   },
   "outputs": [
    {
     "name": "stdout",
     "output_type": "stream",
     "text": [
      "Task 95:\n",
      "       id  number\n",
      "one     1      10\n",
      "two     2      20\n",
      "three   3      30\n",
      "four    4      30\n",
      "five    5      23\n",
      "six     6      12\n",
      "       id  number\n",
      "one     1      10\n",
      "three   3      30\n",
      "four    4      30\n",
      "five    5      23\n",
      "       id  number\n",
      "one     1      10\n",
      "three   3      30\n",
      "four    4      30\n",
      "five    5      23\n",
      "six     6      12\n"
     ]
    }
   ],
   "source": [
    "print('Task 95:')  \n",
    "numbers = pd.DataFrame({\n",
    "    \"id\": [1, 2, 3, 4, 5, 6], \n",
    "    \"number\": [10, 20, 30, 30, 23, 12]\n",
    "    \n",
    "}, index=['one', 'two', 'three', 'four', 'five', 'six'])  \n",
    "print(numbers)\n",
    "numbers1 = numbers.drop(['two','six'])\n",
    "print(numbers1)\n",
    "numbers2 = numbers.drop('two')\n",
    "print(numbers2)"
   ]
  },
  {
   "cell_type": "markdown",
   "metadata": {
    "papermill": {
     "duration": 0.112985,
     "end_time": "2020-09-23T01:21:05.948140",
     "exception": false,
     "start_time": "2020-09-23T01:21:05.835155",
     "status": "completed"
    },
    "tags": []
   },
   "source": [
    "<div style=\"\">\n",
    "    <div style=\"float: left; width: 80%;\">\n",
    "        <a id=\"96\"></a>\n",
    "        <font><b>Task :</b></font>\n",
    "        <br><br>\n",
    "        Get group\n",
    "    </div>\n",
    "    <div style=\"float: right;\">\n",
    "        <a href=\"#top\" class=\"btn btn-primary btn-sm\" role=\"button\" aria-pressed=\"true\" style=\"color:white\" data-toggle=\"popover\" title=\"go to Top\">Go to Top</a>\n",
    "    </div>\n",
    "    <br style=\"clear: left;\" />\n",
    "</div> "
   ]
  },
  {
   "cell_type": "code",
   "execution_count": 99,
   "metadata": {
    "execution": {
     "iopub.execute_input": "2020-09-23T01:21:06.180826Z",
     "iopub.status.busy": "2020-09-23T01:21:06.179987Z",
     "iopub.status.idle": "2020-09-23T01:21:06.185372Z",
     "shell.execute_reply": "2020-09-23T01:21:06.184750Z"
    },
    "papermill": {
     "duration": 0.125378,
     "end_time": "2020-09-23T01:21:06.185512",
     "exception": false,
     "start_time": "2020-09-23T01:21:06.060134",
     "status": "completed"
    },
    "tags": []
   },
   "outputs": [
    {
     "name": "stdout",
     "output_type": "stream",
     "text": [
      "Task 96:\n",
      "  animal size  weight  adult\n",
      "0    cat    S       8  False\n",
      "2    cat    M      11  False\n",
      "5    cat    L      12   True\n",
      "6    cat    L      12   True\n"
     ]
    }
   ],
   "source": [
    "print('Task 96:')\n",
    "cats = animals_df.groupby(['animal']).get_group('cat')\n",
    "print(cats)"
   ]
  },
  {
   "cell_type": "markdown",
   "metadata": {
    "papermill": {
     "duration": 0.111602,
     "end_time": "2020-09-23T01:21:06.409444",
     "exception": false,
     "start_time": "2020-09-23T01:21:06.297842",
     "status": "completed"
    },
    "tags": []
   },
   "source": []
  },
  {
   "cell_type": "markdown",
   "metadata": {
    "papermill": {
     "duration": 0.111486,
     "end_time": "2020-09-23T01:21:06.632136",
     "exception": false,
     "start_time": "2020-09-23T01:21:06.520650",
     "status": "completed"
    },
    "tags": []
   },
   "source": [
    "<div style=\"\">\n",
    "    <div style=\"float: left; width: 80%;\">\n",
    "        <a id=\"97\"></a>\n",
    "        <font><b>Task 97:</b></font>\n",
    "        <br><br>\n",
    "        Get the the odd row\n",
    "    </div>\n",
    "    <div style=\"float: right;\">\n",
    "        <a href=\"#top\" class=\"btn btn-primary btn-sm\" role=\"button\" aria-pressed=\"true\" style=\"color:white\" data-toggle=\"popover\" title=\"go to Top\">Go to Top</a>\n",
    "    </div>\n",
    "    <br style=\"clear: left;\" />\n",
    "</div>"
   ]
  },
  {
   "cell_type": "code",
   "execution_count": 100,
   "metadata": {
    "execution": {
     "iopub.execute_input": "2020-09-23T01:21:06.874834Z",
     "iopub.status.busy": "2020-09-23T01:21:06.873935Z",
     "iopub.status.idle": "2020-09-23T01:21:06.881529Z",
     "shell.execute_reply": "2020-09-23T01:21:06.882258Z"
    },
    "papermill": {
     "duration": 0.138314,
     "end_time": "2020-09-23T01:21:06.882395",
     "exception": false,
     "start_time": "2020-09-23T01:21:06.744081",
     "status": "completed"
    },
    "tags": []
   },
   "outputs": [
    {
     "name": "stdout",
     "output_type": "stream",
     "text": [
      "Task 97:\n",
      "[[ 1  2  3  4  5]\n",
      " [ 6  7  8  9 10]\n",
      " [11 12 13 14 15]\n",
      " [16 17 18 19 20]]\n",
      "[[ 1  2  3  4  5]\n",
      " [11 12 13 14 15]]\n"
     ]
    }
   ],
   "source": [
    "print('Task 97:')  \n",
    "x = numpy.array([\n",
    "                    [ 1,  2,  3,  4,  5],\n",
    "                    [ 6,  7,  8,  9, 10],\n",
    "                    [11, 12, 13, 14, 15],\n",
    "                    [16, 17, 18, 19, 20]\n",
    "                ]\n",
    "    )\n",
    "print(x)\n",
    "print(x[::2])"
   ]
  },
  {
   "cell_type": "markdown",
   "metadata": {
    "papermill": {
     "duration": 0.113518,
     "end_time": "2020-09-23T01:21:07.123450",
     "exception": false,
     "start_time": "2020-09-23T01:21:07.009932",
     "status": "completed"
    },
    "tags": []
   },
   "source": [
    "<div style=\"\">\n",
    "    <div style=\"float: left; width: 80%;\">\n",
    "        <a id=\"98\"></a>\n",
    "        <font><b>Task 98:</b></font>\n",
    "        <br><br>\n",
    "        Get the even columns\n",
    "    </div>\n",
    "    <div style=\"float: right;\">\n",
    "        <a href=\"#top\" class=\"btn btn-primary btn-sm\" role=\"button\" aria-pressed=\"true\" style=\"color:white\" data-toggle=\"popover\" title=\"go to Top\">Go to Top</a>\n",
    "    </div>\n",
    "    <br style=\"clear: left;\" />\n",
    "</div> "
   ]
  },
  {
   "cell_type": "code",
   "execution_count": 101,
   "metadata": {
    "execution": {
     "iopub.execute_input": "2020-09-23T01:21:07.351795Z",
     "iopub.status.busy": "2020-09-23T01:21:07.351293Z",
     "iopub.status.idle": "2020-09-23T01:21:07.359352Z",
     "shell.execute_reply": "2020-09-23T01:21:07.360039Z"
    },
    "papermill": {
     "duration": 0.12348,
     "end_time": "2020-09-23T01:21:07.360235",
     "exception": false,
     "start_time": "2020-09-23T01:21:07.236755",
     "status": "completed"
    },
    "tags": []
   },
   "outputs": [
    {
     "name": "stdout",
     "output_type": "stream",
     "text": [
      "Task 98:\n",
      "[[ 1  2  3  4  5]\n",
      " [ 6  7  8  9 10]\n",
      " [11 12 13 14 15]\n",
      " [16 17 18 19 20]]\n",
      "[[ 2  4]\n",
      " [ 7  9]\n",
      " [12 14]\n",
      " [17 19]]\n"
     ]
    }
   ],
   "source": [
    "print('Task 98:')  \n",
    "x = numpy.array([\n",
    "                    [ 1,  2,  3,  4,  5],\n",
    "                    [ 6,  7,  8,  9, 10],\n",
    "                    [11, 12, 13, 14, 15],\n",
    "                    [16, 17, 18, 19, 20]\n",
    "                ]\n",
    "    )\n",
    "print(x)\n",
    "print(x[:, 1::2])"
   ]
  },
  {
   "cell_type": "markdown",
   "metadata": {
    "papermill": {
     "duration": 0.113248,
     "end_time": "2020-09-23T01:21:07.587106",
     "exception": false,
     "start_time": "2020-09-23T01:21:07.473858",
     "status": "completed"
    },
    "tags": []
   },
   "source": [
    "<div style=\"\">\n",
    "    <div style=\"float: left; width: 80%;\">\n",
    "        <a id=\"99\"></a>\n",
    "        <font><b>Task 99:</b></font>\n",
    "        <br><br>\n",
    "        Odd rows and even columns\n",
    "    </div>\n",
    "    <div style=\"float: right;\">\n",
    "        <a href=\"#top\" class=\"btn btn-primary btn-sm\" role=\"button\" aria-pressed=\"true\" style=\"color:white\" data-toggle=\"popover\" title=\"go to Top\">Go to Top</a>\n",
    "    </div>\n",
    "    <br style=\"clear: left;\" />\n",
    "</div> "
   ]
  },
  {
   "cell_type": "code",
   "execution_count": 102,
   "metadata": {
    "execution": {
     "iopub.execute_input": "2020-09-23T01:21:07.820620Z",
     "iopub.status.busy": "2020-09-23T01:21:07.819429Z",
     "iopub.status.idle": "2020-09-23T01:21:07.824211Z",
     "shell.execute_reply": "2020-09-23T01:21:07.822982Z"
    },
    "papermill": {
     "duration": 0.123346,
     "end_time": "2020-09-23T01:21:07.824346",
     "exception": false,
     "start_time": "2020-09-23T01:21:07.701000",
     "status": "completed"
    },
    "tags": []
   },
   "outputs": [
    {
     "name": "stdout",
     "output_type": "stream",
     "text": [
      "Task 99:\n",
      "[[ 1  2  3  4  5]\n",
      " [ 6  7  8  9 10]\n",
      " [11 12 13 14 15]\n",
      " [16 17 18 19 20]]\n",
      "[[ 2  4]\n",
      " [12 14]]\n"
     ]
    }
   ],
   "source": [
    "print('Task 99:')  \n",
    "\n",
    "x = numpy.array([\n",
    "                    [ 1,  2,  3,  4,  5],\n",
    "                    [ 6,  7,  8,  9, 10],\n",
    "                    [11, 12, 13, 14, 15],\n",
    "                    [16, 17, 18, 19, 20]\n",
    "                ]\n",
    "    )\n",
    "print(x)\n",
    "print(x[::2, 1::2])"
   ]
  },
  {
   "cell_type": "markdown",
   "metadata": {
    "papermill": {
     "duration": 0.113653,
     "end_time": "2020-09-23T01:21:08.056742",
     "exception": false,
     "start_time": "2020-09-23T01:21:07.943089",
     "status": "completed"
    },
    "tags": []
   },
   "source": [
    "<div style=\"\">\n",
    "    <div style=\"float: left; width: 80%;\">\n",
    "        <a id=\"100\"></a>\n",
    "        <font><b>Task 100:</b></font>\n",
    "        <br><br>\n",
    "        Drop duplicates\n",
    "    </div>\n",
    "    <div style=\"float: right;\">\n",
    "        <a href=\"#top\" class=\"btn btn-primary btn-sm\" role=\"button\" aria-pressed=\"true\" style=\"color:white\" data-toggle=\"popover\" title=\"go to Top\">Go to Top</a>\n",
    "    </div>\n",
    "    <br style=\"clear: left;\" />\n",
    "</div>"
   ]
  },
  {
   "cell_type": "code",
   "execution_count": 103,
   "metadata": {
    "execution": {
     "iopub.execute_input": "2020-09-23T01:21:08.293963Z",
     "iopub.status.busy": "2020-09-23T01:21:08.292957Z",
     "iopub.status.idle": "2020-09-23T01:21:08.300481Z",
     "shell.execute_reply": "2020-09-23T01:21:08.301101Z"
    },
    "papermill": {
     "duration": 0.132225,
     "end_time": "2020-09-23T01:21:08.301303",
     "exception": false,
     "start_time": "2020-09-23T01:21:08.169078",
     "status": "completed"
    },
    "tags": []
   },
   "outputs": [
    {
     "name": "stdout",
     "output_type": "stream",
     "text": [
      "Task 100:\n",
      "   id      city  count\n",
      "0   1   Toronto      7\n",
      "1   1  Montreal      8\n",
      "2   2   Calgary      9\n",
      "3   2  Montreal      2\n",
      "4   3  Montreal      7\n",
      "5   3    Ottawa      8\n",
      "   id      city  count\n",
      "0   1   Toronto      7\n",
      "2   2   Calgary      9\n",
      "4   3  Montreal      7\n"
     ]
    }
   ],
   "source": [
    "print('Task 100:')  \n",
    "users = pd.DataFrame({\n",
    "    \"id\": [1, 1, 2, 2, 3, 3], \n",
    "    \"city\": ['Toronto', 'Montreal', 'Calgary', 'Montreal', 'Montreal', 'Ottawa'],\n",
    "    \"count\" : [7, 8, 9, 2, 7, 8] \n",
    "    \n",
    "}) \n",
    "print(users)\n",
    "users.drop_duplicates('id', inplace=True)\n",
    "print(users)"
   ]
  },
  {
   "cell_type": "markdown",
   "metadata": {
    "papermill": {
     "duration": 0.112727,
     "end_time": "2020-09-23T01:21:08.529261",
     "exception": false,
     "start_time": "2020-09-23T01:21:08.416534",
     "status": "completed"
    },
    "tags": []
   },
   "source": [
    "<div style=\"\">\n",
    "    <div style=\"float: left; width: 80%;\">\n",
    "        <a id=\"101\"></a>\n",
    "        <font><b>Task 101:</b></font>\n",
    "        <br><br>\n",
    "        Drop all duplicates\n",
    "    </div>\n",
    "    <div style=\"float: right;\">\n",
    "        <a href=\"#top\" class=\"btn btn-primary btn-sm\" role=\"button\" aria-pressed=\"true\" style=\"color:white\" data-toggle=\"popover\" title=\"go to Top\">Go to Top</a>\n",
    "    </div>\n",
    "    <br style=\"clear: left;\" />\n",
    "</div>"
   ]
  },
  {
   "cell_type": "code",
   "execution_count": 104,
   "metadata": {
    "execution": {
     "iopub.execute_input": "2020-09-23T01:21:08.761820Z",
     "iopub.status.busy": "2020-09-23T01:21:08.760936Z",
     "iopub.status.idle": "2020-09-23T01:21:08.773862Z",
     "shell.execute_reply": "2020-09-23T01:21:08.774581Z"
    },
    "papermill": {
     "duration": 0.132841,
     "end_time": "2020-09-23T01:21:08.774803",
     "exception": false,
     "start_time": "2020-09-23T01:21:08.641962",
     "status": "completed"
    },
    "tags": []
   },
   "outputs": [
    {
     "name": "stdout",
     "output_type": "stream",
     "text": [
      "Task 101:\n",
      "    name      city  count\n",
      "0  kevin   Toronto      7\n",
      "1  james  Montreal      8\n",
      "2  kumar   Calgary      9\n",
      "3  kevin  Montreal      2\n",
      "4  kevin  Montreal      7\n",
      "5  james    Ottawa      8\n",
      "    name      city  count\n",
      "2  kumar   Calgary      9\n",
      "4  kevin  Montreal      7\n",
      "5  james    Ottawa      8\n",
      "    name      city  count\n",
      "2  kumar   Calgary      9\n",
      "4  kevin  Montreal      7\n",
      "5  james    Ottawa      8\n"
     ]
    }
   ],
   "source": [
    "print('Task 101:')  \n",
    "users = pd.DataFrame({\n",
    "    \"name\": ['kevin', 'james', 'kumar', 'kevin', 'kevin', 'james'], \n",
    "    \"city\": ['Toronto', 'Montreal', 'Calgary', 'Montreal', 'Montreal', 'Ottawa'],\n",
    "    \"count\" : [7, 8, 9, 2, 7, 8] \n",
    "    \n",
    "}) \n",
    "print(users)\n",
    "users.drop_duplicates('name', inplace=True, keep='last')\n",
    "print(users)\n",
    "users1 = users.drop_duplicates('name', keep=False)\n",
    "print(users1)"
   ]
  },
  {
   "cell_type": "markdown",
   "metadata": {
    "papermill": {
     "duration": 0.112966,
     "end_time": "2020-09-23T01:21:09.006709",
     "exception": false,
     "start_time": "2020-09-23T01:21:08.893743",
     "status": "completed"
    },
    "tags": []
   },
   "source": [
    "<div style=\"\">\n",
    "    <div style=\"float: left; width: 80%;\">\n",
    "        <a id=\"102\"></a>\n",
    "        <font><b>Task 102:</b></font>\n",
    "        <br><br>\n",
    "        Basic group by\n",
    "    </div>\n",
    "    <div style=\"float: right;\">\n",
    "        <a href=\"#top\" class=\"btn btn-primary btn-sm\" role=\"button\" aria-pressed=\"true\" style=\"color:white\" data-toggle=\"popover\" title=\"go to Top\">Go to Top</a>\n",
    "    </div>\n",
    "    <br style=\"clear: left;\" />\n",
    "</div> "
   ]
  },
  {
   "cell_type": "code",
   "execution_count": 105,
   "metadata": {
    "execution": {
     "iopub.execute_input": "2020-09-23T01:21:09.242319Z",
     "iopub.status.busy": "2020-09-23T01:21:09.241708Z",
     "iopub.status.idle": "2020-09-23T01:21:09.246237Z",
     "shell.execute_reply": "2020-09-23T01:21:09.246805Z"
    },
    "papermill": {
     "duration": 0.126765,
     "end_time": "2020-09-23T01:21:09.246980",
     "exception": false,
     "start_time": "2020-09-23T01:21:09.120215",
     "status": "completed"
    },
    "tags": []
   },
   "outputs": [
    {
     "name": "stdout",
     "output_type": "stream",
     "text": [
      "Task 102:\n",
      "animal\n",
      "cat     L\n",
      "dog     M\n",
      "fish    M\n",
      "dtype: object\n"
     ]
    }
   ],
   "source": [
    "print('Task 102:')\n",
    "animals_df1 = animals_df.groupby('animal').apply(lambda x: x['size'][x['weight'].idxmax()])\n",
    "print(animals_df1)"
   ]
  },
  {
   "cell_type": "markdown",
   "metadata": {
    "papermill": {
     "duration": 0.114225,
     "end_time": "2020-09-23T01:21:09.476813",
     "exception": false,
     "start_time": "2020-09-23T01:21:09.362588",
     "status": "completed"
    },
    "tags": []
   },
   "source": [
    "<div style=\"\">\n",
    "    <div style=\"float: left; width: 80%;\">\n",
    "        <a id=\"102\"></a>\n",
    "        <font><b>Task 103:</b></font>\n",
    "        <br><br>\n",
    "        Missing Data:\n",
    "        Make A'th 3rd coulmn Nan\n",
    "    </div>\n",
    "    <div style=\"float: right;\">\n",
    "        <a href=\"#top\" class=\"btn btn-primary btn-sm\" role=\"button\" aria-pressed=\"true\" style=\"color:white\" data-toggle=\"popover\" title=\"go to Top\">Go to Top</a>\n",
    "    </div>\n",
    "    <br style=\"clear: left;\" />\n",
    "</div> "
   ]
  },
  {
   "cell_type": "code",
   "execution_count": 106,
   "metadata": {
    "execution": {
     "iopub.execute_input": "2020-09-23T01:21:09.710080Z",
     "iopub.status.busy": "2020-09-23T01:21:09.709541Z",
     "iopub.status.idle": "2020-09-23T01:21:09.721971Z",
     "shell.execute_reply": "2020-09-23T01:21:09.721572Z"
    },
    "papermill": {
     "duration": 0.13005,
     "end_time": "2020-09-23T01:21:09.722091",
     "exception": false,
     "start_time": "2020-09-23T01:21:09.592041",
     "status": "completed"
    },
    "tags": []
   },
   "outputs": [
    {
     "name": "stdout",
     "output_type": "stream",
     "text": [
      "Task 103:\n",
      "                   A\n",
      "2013-08-01 -0.349232\n",
      "2013-08-02 -2.369664\n",
      "2013-08-05 -0.473008\n",
      "2013-08-06 -1.115885\n",
      "2013-08-07  1.513614\n",
      "2013-08-08  0.389187\n",
      "                   A\n",
      "2013-08-01 -0.349232\n",
      "2013-08-02 -2.369664\n",
      "2013-08-05 -0.473008\n",
      "2013-08-06       NaN\n",
      "2013-08-07  1.513614\n",
      "2013-08-08  0.389187\n"
     ]
    }
   ],
   "source": [
    "print('Task 103:')  \n",
    "df = pd.DataFrame(np.random.randn(6,1), index=pd.date_range('2013-08-01', periods=6, freq='B'), columns=list('A'))\n",
    "print(df)\n",
    "df.loc[df.index[3], 'A'] = np.nan\n",
    "print(df)"
   ]
  },
  {
   "cell_type": "markdown",
   "metadata": {
    "papermill": {
     "duration": 0.116339,
     "end_time": "2020-09-23T01:21:09.952428",
     "exception": false,
     "start_time": "2020-09-23T01:21:09.836089",
     "status": "completed"
    },
    "tags": []
   },
   "source": [
    "<div style=\"\">\n",
    "    <div style=\"float: left; width: 80%;\">\n",
    "        <a id=\"104\"></a>\n",
    "        <font><b>Task 104:</b></font>\n",
    "        <br><br>\n",
    "        reindex\n",
    "    </div>\n",
    "    <div style=\"float: right;\">\n",
    "        <a href=\"#top\" class=\"btn btn-primary btn-sm\" role=\"button\" aria-pressed=\"true\" style=\"color:white\" data-toggle=\"popover\" title=\"go to Top\">Go to Top</a>\n",
    "    </div>\n",
    "    <br style=\"clear: left;\" />\n",
    "</div> "
   ]
  },
  {
   "cell_type": "code",
   "execution_count": 107,
   "metadata": {
    "execution": {
     "iopub.execute_input": "2020-09-23T01:21:10.195509Z",
     "iopub.status.busy": "2020-09-23T01:21:10.194609Z",
     "iopub.status.idle": "2020-09-23T01:21:10.197642Z",
     "shell.execute_reply": "2020-09-23T01:21:10.198090Z"
    },
    "papermill": {
     "duration": 0.130362,
     "end_time": "2020-09-23T01:21:10.198224",
     "exception": false,
     "start_time": "2020-09-23T01:21:10.067862",
     "status": "completed"
    },
    "tags": []
   },
   "outputs": [
    {
     "name": "stdout",
     "output_type": "stream",
     "text": [
      "Task 104:\n",
      "                   A\n",
      "2013-08-08  0.389187\n",
      "2013-08-07  1.513614\n",
      "2013-08-06  1.513614\n",
      "2013-08-05 -0.473008\n",
      "2013-08-02 -2.369664\n",
      "2013-08-01 -0.349232\n"
     ]
    }
   ],
   "source": [
    "print('Task 104:')\n",
    "df1 = df.reindex(df.index[::-1]).ffill()\n",
    "print(df1)"
   ]
  },
  {
   "cell_type": "markdown",
   "metadata": {
    "papermill": {
     "duration": 0.116702,
     "end_time": "2020-09-23T01:21:10.431680",
     "exception": false,
     "start_time": "2020-09-23T01:21:10.314978",
     "status": "completed"
    },
    "tags": []
   },
   "source": [
    "<div style=\"\">\n",
    "    <div style=\"float: left; width: 80%;\">\n",
    "        <a id=\"105\"></a>\n",
    "        <font><b>Task 105:</b></font>\n",
    "        <br><br>\n",
    "        Column reset Nan\n",
    "    </div>\n",
    "    <div style=\"float: right;\">\n",
    "        <a href=\"#top\" class=\"btn btn-primary btn-sm\" role=\"button\" aria-pressed=\"true\" style=\"color:white\" data-toggle=\"popover\" title=\"go to Top\">Go to Top</a>\n",
    "    </div>\n",
    "    <br style=\"clear: left;\" />\n",
    "</div>"
   ]
  },
  {
   "cell_type": "code",
   "execution_count": 108,
   "metadata": {
    "execution": {
     "iopub.execute_input": "2020-09-23T01:21:10.674671Z",
     "iopub.status.busy": "2020-09-23T01:21:10.673741Z",
     "iopub.status.idle": "2020-09-23T01:21:10.678872Z",
     "shell.execute_reply": "2020-09-23T01:21:10.679605Z"
    },
    "papermill": {
     "duration": 0.131979,
     "end_time": "2020-09-23T01:21:10.679789",
     "exception": false,
     "start_time": "2020-09-23T01:21:10.547810",
     "status": "completed"
    },
    "tags": []
   },
   "outputs": [
    {
     "name": "stdout",
     "output_type": "stream",
     "text": [
      "Task 105:\n",
      "  animal size  weight  adult\n",
      "0    cat    S       8  False\n",
      "1    dog    S      10  False\n",
      "2    cat    M      11  False\n",
      "3   fish    M       1  False\n",
      "4    dog    M      20  False\n",
      "5    cat    L      12   True\n",
      "6    cat    L      12   True\n"
     ]
    }
   ],
   "source": [
    "print('Task 105:')\n",
    "animals_df = pd.DataFrame({'animal': 'cat dog cat fish dog cat cat'.split(),\n",
    "                   'size': list('SSMMMLL'),\n",
    "                   'weight': [8, 10, 11, 1, 20, 12, 12],\n",
    "                   'adult' : [False] * 5 + [True] * 2})\n",
    "print(animals_df)"
   ]
  },
  {
   "cell_type": "markdown",
   "metadata": {
    "papermill": {
     "duration": 0.119196,
     "end_time": "2020-09-23T01:21:10.917931",
     "exception": false,
     "start_time": "2020-09-23T01:21:10.798735",
     "status": "completed"
    },
    "tags": []
   },
   "source": [
    "### Extras"
   ]
  },
  {
   "cell_type": "code",
   "execution_count": 109,
   "metadata": {
    "execution": {
     "iopub.execute_input": "2020-09-23T01:21:11.160264Z",
     "iopub.status.busy": "2020-09-23T01:21:11.159368Z",
     "iopub.status.idle": "2020-09-23T01:21:11.166555Z",
     "shell.execute_reply": "2020-09-23T01:21:11.166079Z"
    },
    "papermill": {
     "duration": 0.133626,
     "end_time": "2020-09-23T01:21:11.166661",
     "exception": false,
     "start_time": "2020-09-23T01:21:11.033035",
     "status": "completed"
    },
    "tags": []
   },
   "outputs": [
    {
     "name": "stdout",
     "output_type": "stream",
     "text": [
      "Before changing columns : \n",
      "    name      city\n",
      "0  kevin   Toronto\n",
      "1  james  Montreal\n",
      "2  kumar   Calgary\n",
      "3  kevin  Montreal\n",
      "4  kevin  Montreal\n",
      "5  james    Ottawa\n",
      "\n",
      "After changing columns : \n",
      "  first_name current_city\n",
      "0      kevin      Toronto\n",
      "1      james     Montreal\n",
      "2      kumar      Calgary\n",
      "3      kevin     Montreal\n",
      "4      kevin     Montreal\n",
      "5      james       Ottawa\n"
     ]
    }
   ],
   "source": [
    "# Change columns\n",
    "users = pd.DataFrame({\n",
    "    \"name\": ['kevin', 'james', 'kumar', 'kevin', 'kevin', 'james'], \n",
    "    \"city\": ['Toronto', 'Montreal', 'Calgary', 'Montreal', 'Montreal', 'Ottawa']\n",
    "}) \n",
    "\n",
    "print('Before changing columns : ')\n",
    "print(users)\n",
    "\n",
    "# change columns\n",
    "users_new = users.rename({'name': 'first_name', 'city': 'current_city'}, axis = 1)\n",
    "\n",
    "print('\\nAfter changing columns : ')\n",
    "print(users_new)"
   ]
  },
  {
   "cell_type": "code",
   "execution_count": 110,
   "metadata": {
    "execution": {
     "iopub.execute_input": "2020-09-23T01:21:11.409953Z",
     "iopub.status.busy": "2020-09-23T01:21:11.409224Z",
     "iopub.status.idle": "2020-09-23T01:21:11.412020Z",
     "shell.execute_reply": "2020-09-23T01:21:11.412453Z"
    },
    "papermill": {
     "duration": 0.12994,
     "end_time": "2020-09-23T01:21:11.412575",
     "exception": false,
     "start_time": "2020-09-23T01:21:11.282635",
     "status": "completed"
    },
    "tags": []
   },
   "outputs": [
    {
     "name": "stdout",
     "output_type": "stream",
     "text": [
      "Original Dataframe:\n",
      "    name      city\n",
      "0  kevin   Toronto\n",
      "1  james  Montreal\n",
      "2  kumar   Calgary\n",
      "3  kevin  Montreal\n",
      "4  kevin  Montreal\n",
      "5  james    Ottawa\n",
      "\n",
      "Finding `Montreal` in any cell :\n",
      "    name      city\n",
      "1  james  Montreal\n",
      "3  kevin  Montreal\n",
      "4  kevin  Montreal\n"
     ]
    }
   ],
   "source": [
    "# Find any matching value\n",
    "\n",
    "users = pd.DataFrame({\n",
    "    \"name\": ['kevin', 'james', 'kumar', 'kevin', 'kevin', 'james'], \n",
    "    \"city\": ['Toronto', 'Montreal', 'Calgary', 'Montreal', 'Montreal', 'Ottawa']\n",
    "}) \n",
    "\n",
    "print('Original Dataframe:')\n",
    "print(users)\n",
    "\n",
    "print('\\nFinding `Montreal` in any cell :')\n",
    "print(users[users.eq('Montreal').any(1)])"
   ]
  },
  {
   "cell_type": "code",
   "execution_count": 111,
   "metadata": {
    "execution": {
     "iopub.execute_input": "2020-09-23T01:21:11.710116Z",
     "iopub.status.busy": "2020-09-23T01:21:11.709185Z",
     "iopub.status.idle": "2020-09-23T01:21:11.714915Z",
     "shell.execute_reply": "2020-09-23T01:21:11.714315Z"
    },
    "papermill": {
     "duration": 0.187208,
     "end_time": "2020-09-23T01:21:11.715041",
     "exception": false,
     "start_time": "2020-09-23T01:21:11.527833",
     "status": "completed"
    },
    "tags": []
   },
   "outputs": [
    {
     "name": "stdout",
     "output_type": "stream",
     "text": [
      "Original Dataframe:\n",
      "    name      city\n",
      "0  kevin   Toronto\n",
      "1  james  Montreal\n",
      "2  kumar   Calgary\n",
      "3  kevin  Montreal\n",
      "4  kevin  Montreal\n",
      "5  james    Ottawa\n",
      "\n",
      "Finding `Montreal` in by using isin function :\n"
     ]
    },
    {
     "data": {
      "text/plain": [
       "name    False\n",
       "city     True\n",
       "dtype: bool"
      ]
     },
     "execution_count": 111,
     "metadata": {},
     "output_type": "execute_result"
    }
   ],
   "source": [
    "# Match with isin function\n",
    "users = pd.DataFrame({\n",
    "    \"name\": ['kevin', 'james', 'kumar', 'kevin', 'kevin', 'james'], \n",
    "    \"city\": ['Toronto', 'Montreal', 'Calgary', 'Montreal', 'Montreal', 'Ottawa']\n",
    "}) \n",
    "\n",
    "print('Original Dataframe:')\n",
    "print(users)\n",
    "\n",
    "print('\\nFinding `Montreal` in by using isin function :')\n",
    "\n",
    "users.isin(['Montreal']).any()"
   ]
  },
  {
   "cell_type": "code",
   "execution_count": 112,
   "metadata": {
    "execution": {
     "iopub.execute_input": "2020-09-23T01:21:11.960248Z",
     "iopub.status.busy": "2020-09-23T01:21:11.959663Z",
     "iopub.status.idle": "2020-09-23T01:21:11.963471Z",
     "shell.execute_reply": "2020-09-23T01:21:11.964165Z"
    },
    "papermill": {
     "duration": 0.133158,
     "end_time": "2020-09-23T01:21:11.964377",
     "exception": false,
     "start_time": "2020-09-23T01:21:11.831219",
     "status": "completed"
    },
    "tags": []
   },
   "outputs": [
    {
     "name": "stdout",
     "output_type": "stream",
     "text": [
      "Original Dataframe: \n",
      "    name      city\n",
      "0  kevin   Toronto\n",
      "1  james  Montreal\n",
      "2  kumar   Calgary\n",
      "3  kevin  Montreal\n",
      "4  kevin  Montreal\n",
      "5  james    Ottawa\n",
      "\n",
      "Finding `Montreal` in using isin and stack them: \n",
      "1  city    Montreal\n",
      "3  city    Montreal\n",
      "4  city    Montreal\n",
      "dtype: object\n"
     ]
    }
   ],
   "source": [
    "# Finding specific items by using `isin` function\n",
    "\n",
    "users = pd.DataFrame({\n",
    "    \"name\": ['kevin', 'james', 'kumar', 'kevin', 'kevin', 'james'], \n",
    "    \"city\": ['Toronto', 'Montreal', 'Calgary', 'Montreal', 'Montreal', 'Ottawa']\n",
    "}) \n",
    "\n",
    "print('Original Dataframe: ')\n",
    "print(users)\n",
    "\n",
    "print('\\nFinding `Montreal` in using isin and stack them: ')\n",
    "print(users[users.isin(['Montreal'])].stack())"
   ]
  },
  {
   "cell_type": "code",
   "execution_count": 113,
   "metadata": {
    "execution": {
     "iopub.execute_input": "2020-09-23T01:21:12.207912Z",
     "iopub.status.busy": "2020-09-23T01:21:12.207317Z",
     "iopub.status.idle": "2020-09-23T01:21:12.215672Z",
     "shell.execute_reply": "2020-09-23T01:21:12.215233Z"
    },
    "papermill": {
     "duration": 0.131059,
     "end_time": "2020-09-23T01:21:12.215769",
     "exception": false,
     "start_time": "2020-09-23T01:21:12.084710",
     "status": "completed"
    },
    "tags": []
   },
   "outputs": [
    {
     "name": "stdout",
     "output_type": "stream",
     "text": [
      "Original Dataframe: \n",
      "    name      city\n",
      "0  kevin   Toronto\n",
      "1  james  Montreal\n",
      "2  kumar   Calgary\n",
      "3  kevin  Montreal\n",
      "4  kevin  Montreal\n",
      "5  james    Ottawa\n",
      "\n",
      "Excluding `Montreal` in using isin and stack them: \n",
      "0  name      kevin\n",
      "   city    Toronto\n",
      "1  name      james\n",
      "2  name      kumar\n",
      "   city    Calgary\n",
      "3  name      kevin\n",
      "4  name      kevin\n",
      "5  name      james\n",
      "   city     Ottawa\n",
      "dtype: object\n"
     ]
    }
   ],
   "source": [
    "# Exclude specific matching\n",
    "\n",
    "users = pd.DataFrame({\n",
    "    \"name\": ['kevin', 'james', 'kumar', 'kevin', 'kevin', 'james'], \n",
    "    \"city\": ['Toronto', 'Montreal', 'Calgary', 'Montreal', 'Montreal', 'Ottawa']\n",
    "}) \n",
    "\n",
    "print('Original Dataframe: ')\n",
    "print(users)\n",
    "\n",
    "print('\\nExcluding `Montreal` in using isin and stack them: ')\n",
    "print(users[~users.isin(['Montreal'])].stack())"
   ]
  },
  {
   "cell_type": "code",
   "execution_count": 114,
   "metadata": {
    "execution": {
     "iopub.execute_input": "2020-09-23T01:21:12.450787Z",
     "iopub.status.busy": "2020-09-23T01:21:12.449921Z",
     "iopub.status.idle": "2020-09-23T01:21:12.462501Z",
     "shell.execute_reply": "2020-09-23T01:21:12.463216Z"
    },
    "papermill": {
     "duration": 0.131302,
     "end_time": "2020-09-23T01:21:12.463387",
     "exception": false,
     "start_time": "2020-09-23T01:21:12.332085",
     "status": "completed"
    },
    "tags": []
   },
   "outputs": [
    {
     "name": "stdout",
     "output_type": "stream",
     "text": [
      "Original Dataframe: \n",
      "   CIBC    TD\n",
      "0   200  1200\n",
      "1  4200   800\n",
      "2   300  4000\n",
      "3   300  2000\n",
      "Dataframe after applying the custom function: \n",
      "   CIBC    TD  Total\n",
      "0   200  1200   1200\n",
      "1  4200   800   5000\n",
      "2   300  4000   4000\n",
      "3   300  2000   2000\n"
     ]
    }
   ],
   "source": [
    "# Apply a custom function on multiple columns\n",
    "\n",
    "amounts = pd.DataFrame({\n",
    "    \"CIBC\": [200, 4200, 300, 300], \n",
    "    \"TD\": [1200, 800, 4000, 2000]\n",
    "})\n",
    "\n",
    "print('Original Dataframe: ')\n",
    "print(amounts)\n",
    "\n",
    "def get_total_amount(x):\n",
    "    \n",
    "    # if the amount is less than 500, skip it\n",
    "    total_amount = 0\n",
    "    \n",
    "    if(x['CIBC'] > 499):\n",
    "        total_amount += x['CIBC']\n",
    "        \n",
    "    if(x['TD'] > 499):\n",
    "        total_amount += x['TD']\n",
    "    \n",
    "    return total_amount\n",
    "\n",
    "amounts['Total'] = amounts.apply(get_total_amount, axis = 1)\n",
    "\n",
    "print('Dataframe after applying the custom function: ')\n",
    "print(amounts)"
   ]
  },
  {
   "cell_type": "markdown",
   "metadata": {
    "papermill": {
     "duration": 0.11867,
     "end_time": "2020-09-23T01:21:12.699620",
     "exception": false,
     "start_time": "2020-09-23T01:21:12.580950",
     "status": "completed"
    },
    "tags": []
   },
   "source": [
    "To do:\n",
    "\n",
    "* Clean up some buggy exercises\n",
    "* Remove duplicate exercises\n",
    "* Add more documentation"
   ]
  },
  {
   "cell_type": "markdown",
   "metadata": {
    "papermill": {
     "duration": 0.118237,
     "end_time": "2020-09-23T01:21:12.935915",
     "exception": false,
     "start_time": "2020-09-23T01:21:12.817678",
     "status": "completed"
    },
    "tags": []
   },
   "source": [
    "**Final Notes:**\n",
    "\n",
    "I am adding things still. You can come back and check for more information.\n",
    "\n",
    "Also, if you **like my notebook**, <font style=\"color:blue;size:14px;\">please upvote it</font> as it will motivate me to come up with better approach in the upcoming notebooks."
   ]
  },
  {
   "cell_type": "markdown",
   "metadata": {
    "papermill": {
     "duration": 0.116461,
     "end_time": "2020-09-23T01:21:13.169666",
     "exception": false,
     "start_time": "2020-09-23T01:21:13.053205",
     "status": "completed"
    },
    "tags": []
   },
   "source": [
    "<font color=\"blue\" size=+1.5><b>Check out my other kernels</b></font>\n",
    "\n",
    "<table style=\"font-family: 'Trebuchet MS', Arial, Helvetica, sans-serif;border-collapse: collapse;width: 100%;\">\t\n",
    "  <tr>\n",
    "    <th style=\"border: 1px solid #ddd;padding: 8px; padding-top: 12px;padding-bottom: 12px;text-align: left;background-color: #2987E7;color: white;\">Notebook</th>\n",
    "    <th style=\"border: 1px solid #ddd;padding: 8px; padding-top: 12px;padding-bottom: 12px;text-align: left;background-color: #2987E7;color: white;\">Tags</th>\n",
    "  </tr>\n",
    "  <tr>\n",
    "    <td style=\"text-align: left\"><a href=\"https://www.kaggle.com/rajacsp/reviews-with-nlp-wip\">Amazon Alexa Reviews with NLP</a> </td>\n",
    "    <td style=\"text-align: left\">NLP, Spacy</td>\n",
    "  </tr>\n",
    "  <tr>\n",
    "    <td style=\"text-align: left\"><a href=\"https://www.kaggle.com/rajacsp/sof-questions-eda-and-visual\">SOF Questions - EDA and Visual</a> </td>\n",
    "    <td style=\"text-align: left\">Data Visual, Plotly</td>\n",
    "  </tr>\n",
    "  <tr>\n",
    "    <td style=\"background-color: #f2f2f2;text-align: left\"><a href=\"https://www.kaggle.com/rajacsp/netflix-visualization-plotly-plots-treemap\">Netflix - Visualization, Plotly, Plots, and Treemap</a> </td>\n",
    "    <td style=\"background-color: #f2f2f2;text-align: left\">Data Visual, Data Cleaning, Plotly</td>\n",
    "  </tr>\n",
    "  <tr>\n",
    "    <td style=\"text-align: left\"><a href=\"https://www.kaggle.com/rajacsp/prediction-with-various-algorithms\">Prediction with various Algorithms</a> </td>\n",
    "    <td style=\"text-align: left\">Random Forest, Logistic Regression</td>\n",
    "  </tr>\n",
    "  <tr>\n",
    "    <td style=\"background-color: #f2f2f2;text-align: left\"><a href=\"https://www.kaggle.com/rajacsp/eda-and-visualization\">EDA and Visualization</a> </td>\n",
    "    <td style=\"background-color: #f2f2f2;text-align: left\">Data Cleaning, Data Visual</td>\n",
    "  </tr>\n",
    "  <tr>\n",
    "    <td style=\"text-align: left\"><a href=\"https://www.kaggle.com/rajacsp/job-analysis-eda-visual\">Job Analysis - EDA and Visual</a> </td>\n",
    "    <td style=\"text-align: left\">Data Visual, EDA, Plotly</td>\n",
    "  </tr>   \n",
    "  <tr>\n",
    "    <td style=\"background-color: #f2f2f2;text-align: left\"><a href=\"https://www.kaggle.com/rajacsp/estonia-disaster-visualization\">Estonia Disaster - Visualization</a> </td>\n",
    "    <td style=\"background-color: #f2f2f2;text-align: left\">Data Visual, EDA, Data Cleaning</td>\n",
    "  </tr>\n",
    "    \n",
    "  <tr>\n",
    "    <td style=\"text-align: left\"><a href=\"https://www.kaggle.com/rajacsp/pandas-dundas-challenge-100\" >Pandas 100+ exercises collection</a></td>\n",
    "    <td style=\"text-align: left\">Pandas, Data Manipulation</td>\n",
    "  </tr>   \n",
    "  <tr>\n",
    "    <td style=\"background-color: #f2f2f2;text-align: left\"><a href=\"https://www.kaggle.com/rajacsp/prediction-with-various-algorithms\">Credit Card Fraud - Prediction with various algorithms</a></td>\n",
    "    <td style=\"background-color: #f2f2f2;text-align: left\">Various ML Algorithms</td>\n",
    "  </tr>  \n",
    "  <tr>\n",
    "    <td style=\"text-align: left\"><a href=\"https://www.kaggle.com/rajacsp/linear-equations-real-time\">Linear Equations - Real Time</a> </td>\n",
    "    <td style=\"text-align: left\">Linear Equation</td>\n",
    "  </tr>  \n",
    "</table>\n",
    "\n"
   ]
  },
  {
   "cell_type": "code",
   "execution_count": null,
   "metadata": {
    "papermill": {
     "duration": 0.119428,
     "end_time": "2020-09-23T01:21:13.404839",
     "exception": false,
     "start_time": "2020-09-23T01:21:13.285411",
     "status": "completed"
    },
    "tags": []
   },
   "outputs": [],
   "source": []
  }
 ],
 "metadata": {
  "kernelspec": {
   "display_name": "Python 3",
   "language": "python",
   "name": "python3"
  },
  "language_info": {
   "codemirror_mode": {
    "name": "ipython",
    "version": 3
   },
   "file_extension": ".py",
   "mimetype": "text/x-python",
   "name": "python",
   "nbconvert_exporter": "python",
   "pygments_lexer": "ipython3",
   "version": "3.7.6"
  },
  "papermill": {
   "duration": 50.981991,
   "end_time": "2020-09-23T01:21:13.628182",
   "environment_variables": {},
   "exception": null,
   "input_path": "__notebook__.ipynb",
   "output_path": "__notebook__.ipynb",
   "parameters": {},
   "start_time": "2020-09-23T01:20:22.646191",
   "version": "2.1.0"
  }
 },
 "nbformat": 4,
 "nbformat_minor": 4
}
