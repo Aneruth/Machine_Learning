{
 "metadata": {
  "language_info": {
   "codemirror_mode": {
    "name": "ipython",
    "version": 3
   },
   "file_extension": ".py",
   "mimetype": "text/x-python",
   "name": "python",
   "nbconvert_exporter": "python",
   "pygments_lexer": "ipython3",
   "version": "3.8.5-final"
  },
  "orig_nbformat": 2,
  "kernelspec": {
   "name": "python_defaultSpec_1600053843475",
   "display_name": "Python 3.7.6 64-bit ('base': conda)"
  }
 },
 "nbformat": 4,
 "nbformat_minor": 2,
 "cells": [
  {
   "cell_type": "code",
   "execution_count": 1,
   "metadata": {},
   "outputs": [],
   "source": [
    "import numpy as np\n",
    "import pandas as pd\n",
    "from numpy.random import randn"
   ]
  },
  {
   "cell_type": "code",
   "execution_count": 2,
   "metadata": {},
   "outputs": [],
   "source": [
    "labels = ['a','b','c']\n",
    "my_data = [10,20,30]\n",
    "arr = np.array(my_data)"
   ]
  },
  {
   "cell_type": "code",
   "execution_count": 3,
   "metadata": {},
   "outputs": [
    {
     "output_type": "execute_result",
     "data": {
      "text/plain": "a    10\nb    20\nc    30\ndtype: int64"
     },
     "metadata": {},
     "execution_count": 3
    }
   ],
   "source": [
    "pd.Series(data = my_data,index = labels)"
   ]
  },
  {
   "cell_type": "code",
   "execution_count": 4,
   "metadata": {},
   "outputs": [],
   "source": [
    "dict = {'Aneruth':'Belgium','Abishek':'Belgium','Adithya':'France'}"
   ]
  },
  {
   "cell_type": "code",
   "execution_count": 5,
   "metadata": {},
   "outputs": [],
   "source": [
    "ser1 = pd.Series(dict)"
   ]
  },
  {
   "cell_type": "code",
   "execution_count": 6,
   "metadata": {},
   "outputs": [
    {
     "output_type": "execute_result",
     "data": {
      "text/plain": "Aneruth    Belgium\nAbishek    Belgium\nAdithya     France\ndtype: object"
     },
     "metadata": {},
     "execution_count": 6
    }
   ],
   "source": [
    "ser1"
   ]
  },
  {
   "cell_type": "code",
   "execution_count": 7,
   "metadata": {},
   "outputs": [
    {
     "output_type": "execute_result",
     "data": {
      "text/plain": "'Belgium'"
     },
     "metadata": {},
     "execution_count": 7
    }
   ],
   "source": [
    "ser1['Aneruth']"
   ]
  },
  {
   "cell_type": "code",
   "execution_count": 8,
   "metadata": {},
   "outputs": [],
   "source": [
    "ser2 = pd.Series(data=labels)"
   ]
  },
  {
   "cell_type": "code",
   "execution_count": 9,
   "metadata": {},
   "outputs": [
    {
     "output_type": "execute_result",
     "data": {
      "text/plain": "0    a\n1    b\n2    c\ndtype: object"
     },
     "metadata": {},
     "execution_count": 9
    }
   ],
   "source": [
    "ser2"
   ]
  },
  {
   "cell_type": "code",
   "execution_count": 10,
   "metadata": {},
   "outputs": [
    {
     "output_type": "execute_result",
     "data": {
      "text/plain": "0          NaN\n1          NaN\n2          NaN\nAbishek    NaN\nAdithya    NaN\nAneruth    NaN\ndtype: object"
     },
     "metadata": {},
     "execution_count": 10
    }
   ],
   "source": [
    "ser1 + ser2"
   ]
  },
  {
   "cell_type": "code",
   "execution_count": 11,
   "metadata": {
    "tags": []
   },
   "outputs": [
    {
     "output_type": "stream",
     "name": "stdout",
     "text": "\n"
    }
   ],
   "source": [
    "data = [1,2,3,4,5]\n",
    "data1 = [6,7,8,9,0]\n",
    "ane = pd.Series(data=data)\n",
    "ane1 = pd.Series(data=data1)\n",
    "abc = ''\n",
    "for i in range(0,1):\n",
    "    if data == data1:\n",
    "        abc = ane + ane1\n",
    "        print(abc)\n",
    "    # else:\n",
    "    #     print('Nice Play')\n",
    "print(abc)"
   ]
  },
  {
   "cell_type": "code",
   "execution_count": 12,
   "metadata": {},
   "outputs": [],
   "source": [
    "########################Dataframes#######################"
   ]
  },
  {
   "cell_type": "code",
   "execution_count": 13,
   "metadata": {},
   "outputs": [],
   "source": [
    "np.random.seed(100)"
   ]
  },
  {
   "cell_type": "code",
   "execution_count": 14,
   "metadata": {},
   "outputs": [
    {
     "output_type": "execute_result",
     "data": {
      "text/plain": "        Ane       Abi       Adi\na -1.749765  0.342680  1.153036\nb -0.252436  0.981321  0.514219\nc  0.221180 -1.070043 -0.189496\nd  0.255001 -0.458027  0.435163",
      "text/html": "<div>\n<style scoped>\n    .dataframe tbody tr th:only-of-type {\n        vertical-align: middle;\n    }\n\n    .dataframe tbody tr th {\n        vertical-align: top;\n    }\n\n    .dataframe thead th {\n        text-align: right;\n    }\n</style>\n<table border=\"1\" class=\"dataframe\">\n  <thead>\n    <tr style=\"text-align: right;\">\n      <th></th>\n      <th>Ane</th>\n      <th>Abi</th>\n      <th>Adi</th>\n    </tr>\n  </thead>\n  <tbody>\n    <tr>\n      <th>a</th>\n      <td>-1.749765</td>\n      <td>0.342680</td>\n      <td>1.153036</td>\n    </tr>\n    <tr>\n      <th>b</th>\n      <td>-0.252436</td>\n      <td>0.981321</td>\n      <td>0.514219</td>\n    </tr>\n    <tr>\n      <th>c</th>\n      <td>0.221180</td>\n      <td>-1.070043</td>\n      <td>-0.189496</td>\n    </tr>\n    <tr>\n      <th>d</th>\n      <td>0.255001</td>\n      <td>-0.458027</td>\n      <td>0.435163</td>\n    </tr>\n  </tbody>\n</table>\n</div>"
     },
     "metadata": {},
     "execution_count": 14
    }
   ],
   "source": [
    "abi = pd.DataFrame(randn(4,3),['a','b','c','d'],['Ane','Abi','Adi'])\n",
    "abi "
   ]
  },
  {
   "cell_type": "code",
   "execution_count": 15,
   "metadata": {},
   "outputs": [
    {
     "output_type": "execute_result",
     "data": {
      "text/plain": "a   -1.749765\nb   -0.252436\nc    0.221180\nd    0.255001\nName: Ane, dtype: float64"
     },
     "metadata": {},
     "execution_count": 15
    }
   ],
   "source": [
    "abi['Ane']"
   ]
  },
  {
   "cell_type": "code",
   "execution_count": 16,
   "metadata": {},
   "outputs": [
    {
     "output_type": "execute_result",
     "data": {
      "text/plain": "pandas.core.series.Series"
     },
     "metadata": {},
     "execution_count": 16
    }
   ],
   "source": [
    "type(abi['Ane'])"
   ]
  },
  {
   "cell_type": "code",
   "execution_count": 17,
   "metadata": {},
   "outputs": [
    {
     "output_type": "execute_result",
     "data": {
      "text/plain": "a    0.342680\nb    0.981321\nc   -1.070043\nd   -0.458027\nName: Abi, dtype: float64"
     },
     "metadata": {},
     "execution_count": 17
    }
   ],
   "source": [
    "abi.Abi"
   ]
  },
  {
   "cell_type": "code",
   "execution_count": 18,
   "metadata": {},
   "outputs": [
    {
     "output_type": "execute_result",
     "data": {
      "text/plain": "        Abi       Ane\na  0.342680 -1.749765\nb  0.981321 -0.252436\nc -1.070043  0.221180\nd -0.458027  0.255001",
      "text/html": "<div>\n<style scoped>\n    .dataframe tbody tr th:only-of-type {\n        vertical-align: middle;\n    }\n\n    .dataframe tbody tr th {\n        vertical-align: top;\n    }\n\n    .dataframe thead th {\n        text-align: right;\n    }\n</style>\n<table border=\"1\" class=\"dataframe\">\n  <thead>\n    <tr style=\"text-align: right;\">\n      <th></th>\n      <th>Abi</th>\n      <th>Ane</th>\n    </tr>\n  </thead>\n  <tbody>\n    <tr>\n      <th>a</th>\n      <td>0.342680</td>\n      <td>-1.749765</td>\n    </tr>\n    <tr>\n      <th>b</th>\n      <td>0.981321</td>\n      <td>-0.252436</td>\n    </tr>\n    <tr>\n      <th>c</th>\n      <td>-1.070043</td>\n      <td>0.221180</td>\n    </tr>\n    <tr>\n      <th>d</th>\n      <td>-0.458027</td>\n      <td>0.255001</td>\n    </tr>\n  </tbody>\n</table>\n</div>"
     },
     "metadata": {},
     "execution_count": 18
    }
   ],
   "source": [
    "abi[['Abi','Ane']]"
   ]
  },
  {
   "cell_type": "code",
   "execution_count": 19,
   "metadata": {},
   "outputs": [
    {
     "output_type": "execute_result",
     "data": {
      "text/plain": "        Ane       Abi       Adi     Aishu\na -1.749765  0.342680  1.153036  1.495716\nb -0.252436  0.981321  0.514219  1.495540\nc  0.221180 -1.070043 -0.189496 -1.259539\nd  0.255001 -0.458027  0.435163 -0.022863",
      "text/html": "<div>\n<style scoped>\n    .dataframe tbody tr th:only-of-type {\n        vertical-align: middle;\n    }\n\n    .dataframe tbody tr th {\n        vertical-align: top;\n    }\n\n    .dataframe thead th {\n        text-align: right;\n    }\n</style>\n<table border=\"1\" class=\"dataframe\">\n  <thead>\n    <tr style=\"text-align: right;\">\n      <th></th>\n      <th>Ane</th>\n      <th>Abi</th>\n      <th>Adi</th>\n      <th>Aishu</th>\n    </tr>\n  </thead>\n  <tbody>\n    <tr>\n      <th>a</th>\n      <td>-1.749765</td>\n      <td>0.342680</td>\n      <td>1.153036</td>\n      <td>1.495716</td>\n    </tr>\n    <tr>\n      <th>b</th>\n      <td>-0.252436</td>\n      <td>0.981321</td>\n      <td>0.514219</td>\n      <td>1.495540</td>\n    </tr>\n    <tr>\n      <th>c</th>\n      <td>0.221180</td>\n      <td>-1.070043</td>\n      <td>-0.189496</td>\n      <td>-1.259539</td>\n    </tr>\n    <tr>\n      <th>d</th>\n      <td>0.255001</td>\n      <td>-0.458027</td>\n      <td>0.435163</td>\n      <td>-0.022863</td>\n    </tr>\n  </tbody>\n</table>\n</div>"
     },
     "metadata": {},
     "execution_count": 19
    }
   ],
   "source": [
    "# Creating a new column\n",
    "abi['Aishu'] = abi['Abi'] + abi['Adi']\n",
    "abi"
   ]
  },
  {
   "cell_type": "code",
   "execution_count": 20,
   "metadata": {},
   "outputs": [
    {
     "output_type": "execute_result",
     "data": {
      "text/plain": "        Ane       Abi       Adi\na -1.749765  0.342680  1.153036\nb -0.252436  0.981321  0.514219\nc  0.221180 -1.070043 -0.189496\nd  0.255001 -0.458027  0.435163",
      "text/html": "<div>\n<style scoped>\n    .dataframe tbody tr th:only-of-type {\n        vertical-align: middle;\n    }\n\n    .dataframe tbody tr th {\n        vertical-align: top;\n    }\n\n    .dataframe thead th {\n        text-align: right;\n    }\n</style>\n<table border=\"1\" class=\"dataframe\">\n  <thead>\n    <tr style=\"text-align: right;\">\n      <th></th>\n      <th>Ane</th>\n      <th>Abi</th>\n      <th>Adi</th>\n    </tr>\n  </thead>\n  <tbody>\n    <tr>\n      <th>a</th>\n      <td>-1.749765</td>\n      <td>0.342680</td>\n      <td>1.153036</td>\n    </tr>\n    <tr>\n      <th>b</th>\n      <td>-0.252436</td>\n      <td>0.981321</td>\n      <td>0.514219</td>\n    </tr>\n    <tr>\n      <th>c</th>\n      <td>0.221180</td>\n      <td>-1.070043</td>\n      <td>-0.189496</td>\n    </tr>\n    <tr>\n      <th>d</th>\n      <td>0.255001</td>\n      <td>-0.458027</td>\n      <td>0.435163</td>\n    </tr>\n  </tbody>\n</table>\n</div>"
     },
     "metadata": {},
     "execution_count": 20
    }
   ],
   "source": [
    "abi.drop('Aishu',axis=1)"
   ]
  },
  {
   "cell_type": "code",
   "execution_count": 21,
   "metadata": {},
   "outputs": [
    {
     "output_type": "execute_result",
     "data": {
      "text/plain": "        Ane       Abi       Adi     Aishu\na -1.749765  0.342680  1.153036  1.495716\nb -0.252436  0.981321  0.514219  1.495540\nc  0.221180 -1.070043 -0.189496 -1.259539\nd  0.255001 -0.458027  0.435163 -0.022863",
      "text/html": "<div>\n<style scoped>\n    .dataframe tbody tr th:only-of-type {\n        vertical-align: middle;\n    }\n\n    .dataframe tbody tr th {\n        vertical-align: top;\n    }\n\n    .dataframe thead th {\n        text-align: right;\n    }\n</style>\n<table border=\"1\" class=\"dataframe\">\n  <thead>\n    <tr style=\"text-align: right;\">\n      <th></th>\n      <th>Ane</th>\n      <th>Abi</th>\n      <th>Adi</th>\n      <th>Aishu</th>\n    </tr>\n  </thead>\n  <tbody>\n    <tr>\n      <th>a</th>\n      <td>-1.749765</td>\n      <td>0.342680</td>\n      <td>1.153036</td>\n      <td>1.495716</td>\n    </tr>\n    <tr>\n      <th>b</th>\n      <td>-0.252436</td>\n      <td>0.981321</td>\n      <td>0.514219</td>\n      <td>1.495540</td>\n    </tr>\n    <tr>\n      <th>c</th>\n      <td>0.221180</td>\n      <td>-1.070043</td>\n      <td>-0.189496</td>\n      <td>-1.259539</td>\n    </tr>\n    <tr>\n      <th>d</th>\n      <td>0.255001</td>\n      <td>-0.458027</td>\n      <td>0.435163</td>\n      <td>-0.022863</td>\n    </tr>\n  </tbody>\n</table>\n</div>"
     },
     "metadata": {},
     "execution_count": 21
    }
   ],
   "source": [
    "abi"
   ]
  },
  {
   "cell_type": "code",
   "execution_count": 22,
   "metadata": {},
   "outputs": [
    {
     "output_type": "execute_result",
     "data": {
      "text/plain": "        Ane       Abi       Adi     Aishu\na -1.749765  0.342680  1.153036  1.495716\nb -0.252436  0.981321  0.514219  1.495540\nc  0.221180 -1.070043 -0.189496 -1.259539\nd  0.255001 -0.458027  0.435163 -0.022863",
      "text/html": "<div>\n<style scoped>\n    .dataframe tbody tr th:only-of-type {\n        vertical-align: middle;\n    }\n\n    .dataframe tbody tr th {\n        vertical-align: top;\n    }\n\n    .dataframe thead th {\n        text-align: right;\n    }\n</style>\n<table border=\"1\" class=\"dataframe\">\n  <thead>\n    <tr style=\"text-align: right;\">\n      <th></th>\n      <th>Ane</th>\n      <th>Abi</th>\n      <th>Adi</th>\n      <th>Aishu</th>\n    </tr>\n  </thead>\n  <tbody>\n    <tr>\n      <th>a</th>\n      <td>-1.749765</td>\n      <td>0.342680</td>\n      <td>1.153036</td>\n      <td>1.495716</td>\n    </tr>\n    <tr>\n      <th>b</th>\n      <td>-0.252436</td>\n      <td>0.981321</td>\n      <td>0.514219</td>\n      <td>1.495540</td>\n    </tr>\n    <tr>\n      <th>c</th>\n      <td>0.221180</td>\n      <td>-1.070043</td>\n      <td>-0.189496</td>\n      <td>-1.259539</td>\n    </tr>\n    <tr>\n      <th>d</th>\n      <td>0.255001</td>\n      <td>-0.458027</td>\n      <td>0.435163</td>\n      <td>-0.022863</td>\n    </tr>\n  </tbody>\n</table>\n</div>"
     },
     "metadata": {},
     "execution_count": 22
    }
   ],
   "source": [
    "abi"
   ]
  },
  {
   "cell_type": "code",
   "execution_count": 23,
   "metadata": {},
   "outputs": [],
   "source": [
    "# To remove the column in the main table \n",
    "abi.drop('Aishu',axis=1,inplace=True)"
   ]
  },
  {
   "cell_type": "code",
   "execution_count": 24,
   "metadata": {},
   "outputs": [
    {
     "output_type": "execute_result",
     "data": {
      "text/plain": "        Ane       Abi       Adi\na -1.749765  0.342680  1.153036\nb -0.252436  0.981321  0.514219\nc  0.221180 -1.070043 -0.189496\nd  0.255001 -0.458027  0.435163",
      "text/html": "<div>\n<style scoped>\n    .dataframe tbody tr th:only-of-type {\n        vertical-align: middle;\n    }\n\n    .dataframe tbody tr th {\n        vertical-align: top;\n    }\n\n    .dataframe thead th {\n        text-align: right;\n    }\n</style>\n<table border=\"1\" class=\"dataframe\">\n  <thead>\n    <tr style=\"text-align: right;\">\n      <th></th>\n      <th>Ane</th>\n      <th>Abi</th>\n      <th>Adi</th>\n    </tr>\n  </thead>\n  <tbody>\n    <tr>\n      <th>a</th>\n      <td>-1.749765</td>\n      <td>0.342680</td>\n      <td>1.153036</td>\n    </tr>\n    <tr>\n      <th>b</th>\n      <td>-0.252436</td>\n      <td>0.981321</td>\n      <td>0.514219</td>\n    </tr>\n    <tr>\n      <th>c</th>\n      <td>0.221180</td>\n      <td>-1.070043</td>\n      <td>-0.189496</td>\n    </tr>\n    <tr>\n      <th>d</th>\n      <td>0.255001</td>\n      <td>-0.458027</td>\n      <td>0.435163</td>\n    </tr>\n  </tbody>\n</table>\n</div>"
     },
     "metadata": {},
     "execution_count": 24
    }
   ],
   "source": [
    "abi"
   ]
  },
  {
   "cell_type": "code",
   "execution_count": 25,
   "metadata": {},
   "outputs": [],
   "source": [
    "# To drop a row(s)\n",
    "abi.drop('d',inplace=True)"
   ]
  },
  {
   "cell_type": "code",
   "execution_count": 26,
   "metadata": {},
   "outputs": [
    {
     "output_type": "execute_result",
     "data": {
      "text/plain": "        Ane       Abi       Adi\na -1.749765  0.342680  1.153036\nb -0.252436  0.981321  0.514219\nc  0.221180 -1.070043 -0.189496",
      "text/html": "<div>\n<style scoped>\n    .dataframe tbody tr th:only-of-type {\n        vertical-align: middle;\n    }\n\n    .dataframe tbody tr th {\n        vertical-align: top;\n    }\n\n    .dataframe thead th {\n        text-align: right;\n    }\n</style>\n<table border=\"1\" class=\"dataframe\">\n  <thead>\n    <tr style=\"text-align: right;\">\n      <th></th>\n      <th>Ane</th>\n      <th>Abi</th>\n      <th>Adi</th>\n    </tr>\n  </thead>\n  <tbody>\n    <tr>\n      <th>a</th>\n      <td>-1.749765</td>\n      <td>0.342680</td>\n      <td>1.153036</td>\n    </tr>\n    <tr>\n      <th>b</th>\n      <td>-0.252436</td>\n      <td>0.981321</td>\n      <td>0.514219</td>\n    </tr>\n    <tr>\n      <th>c</th>\n      <td>0.221180</td>\n      <td>-1.070043</td>\n      <td>-0.189496</td>\n    </tr>\n  </tbody>\n</table>\n</div>"
     },
     "metadata": {},
     "execution_count": 26
    }
   ],
   "source": [
    "abi"
   ]
  },
  {
   "cell_type": "code",
   "execution_count": 27,
   "metadata": {},
   "outputs": [
    {
     "output_type": "execute_result",
     "data": {
      "text/plain": "(3, 3)"
     },
     "metadata": {},
     "execution_count": 27
    }
   ],
   "source": [
    "abi.shape"
   ]
  },
  {
   "cell_type": "code",
   "execution_count": 28,
   "metadata": {},
   "outputs": [
    {
     "output_type": "execute_result",
     "data": {
      "text/plain": "        Ane       Abi       Adi\na -1.749765  0.342680  1.153036\nb -0.252436  0.981321  0.514219",
      "text/html": "<div>\n<style scoped>\n    .dataframe tbody tr th:only-of-type {\n        vertical-align: middle;\n    }\n\n    .dataframe tbody tr th {\n        vertical-align: top;\n    }\n\n    .dataframe thead th {\n        text-align: right;\n    }\n</style>\n<table border=\"1\" class=\"dataframe\">\n  <thead>\n    <tr style=\"text-align: right;\">\n      <th></th>\n      <th>Ane</th>\n      <th>Abi</th>\n      <th>Adi</th>\n    </tr>\n  </thead>\n  <tbody>\n    <tr>\n      <th>a</th>\n      <td>-1.749765</td>\n      <td>0.342680</td>\n      <td>1.153036</td>\n    </tr>\n    <tr>\n      <th>b</th>\n      <td>-0.252436</td>\n      <td>0.981321</td>\n      <td>0.514219</td>\n    </tr>\n  </tbody>\n</table>\n</div>"
     },
     "metadata": {},
     "execution_count": 28
    }
   ],
   "source": [
    "# To get the information of a particular row \n",
    "abi.loc[['a','b']]"
   ]
  },
  {
   "cell_type": "code",
   "execution_count": 29,
   "metadata": {},
   "outputs": [
    {
     "output_type": "execute_result",
     "data": {
      "text/plain": "        Ane       Abi       Adi\nb -0.252436  0.981321  0.514219",
      "text/html": "<div>\n<style scoped>\n    .dataframe tbody tr th:only-of-type {\n        vertical-align: middle;\n    }\n\n    .dataframe tbody tr th {\n        vertical-align: top;\n    }\n\n    .dataframe thead th {\n        text-align: right;\n    }\n</style>\n<table border=\"1\" class=\"dataframe\">\n  <thead>\n    <tr style=\"text-align: right;\">\n      <th></th>\n      <th>Ane</th>\n      <th>Abi</th>\n      <th>Adi</th>\n    </tr>\n  </thead>\n  <tbody>\n    <tr>\n      <th>b</th>\n      <td>-0.252436</td>\n      <td>0.981321</td>\n      <td>0.514219</td>\n    </tr>\n  </tbody>\n</table>\n</div>"
     },
     "metadata": {},
     "execution_count": 29
    }
   ],
   "source": [
    "abi.iloc[[1]]"
   ]
  },
  {
   "cell_type": "code",
   "execution_count": 30,
   "metadata": {},
   "outputs": [
    {
     "output_type": "execute_result",
     "data": {
      "text/plain": "        Abi\nc -1.070043",
      "text/html": "<div>\n<style scoped>\n    .dataframe tbody tr th:only-of-type {\n        vertical-align: middle;\n    }\n\n    .dataframe tbody tr th {\n        vertical-align: top;\n    }\n\n    .dataframe thead th {\n        text-align: right;\n    }\n</style>\n<table border=\"1\" class=\"dataframe\">\n  <thead>\n    <tr style=\"text-align: right;\">\n      <th></th>\n      <th>Abi</th>\n    </tr>\n  </thead>\n  <tbody>\n    <tr>\n      <th>c</th>\n      <td>-1.070043</td>\n    </tr>\n  </tbody>\n</table>\n</div>"
     },
     "metadata": {},
     "execution_count": 30
    }
   ],
   "source": [
    "# to fetch a subset c row and 'Abi' col with value -1.070043\n",
    "abi.iloc[[2],[1]]"
   ]
  },
  {
   "cell_type": "code",
   "execution_count": 31,
   "metadata": {},
   "outputs": [
    {
     "output_type": "execute_result",
     "data": {
      "text/plain": "        Ane       Adi\na -1.749765  1.153036\nb -0.252436  0.514219",
      "text/html": "<div>\n<style scoped>\n    .dataframe tbody tr th:only-of-type {\n        vertical-align: middle;\n    }\n\n    .dataframe tbody tr th {\n        vertical-align: top;\n    }\n\n    .dataframe thead th {\n        text-align: right;\n    }\n</style>\n<table border=\"1\" class=\"dataframe\">\n  <thead>\n    <tr style=\"text-align: right;\">\n      <th></th>\n      <th>Ane</th>\n      <th>Adi</th>\n    </tr>\n  </thead>\n  <tbody>\n    <tr>\n      <th>a</th>\n      <td>-1.749765</td>\n      <td>1.153036</td>\n    </tr>\n    <tr>\n      <th>b</th>\n      <td>-0.252436</td>\n      <td>0.514219</td>\n    </tr>\n  </tbody>\n</table>\n</div>"
     },
     "metadata": {},
     "execution_count": 31
    }
   ],
   "source": [
    "abi.loc[['a','b'],['Ane','Adi']]"
   ]
  },
  {
   "cell_type": "code",
   "execution_count": 32,
   "metadata": {},
   "outputs": [],
   "source": [
    "df = pd.DataFrame(randn(5,4),['a','b','c','d','e'],['w','x','y','z'])"
   ]
  },
  {
   "cell_type": "code",
   "execution_count": 33,
   "metadata": {},
   "outputs": [
    {
     "output_type": "execute_result",
     "data": {
      "text/plain": "          w         x         y         z\na -0.583595  0.816847  0.672721 -0.104411\nb -0.531280  1.029733 -0.438136 -1.118318\nc  1.618982  1.541605 -0.251879 -0.842436\nd  0.184519  0.937082  0.731000  1.361556\ne -0.326238  0.055676  0.222400 -1.443217",
      "text/html": "<div>\n<style scoped>\n    .dataframe tbody tr th:only-of-type {\n        vertical-align: middle;\n    }\n\n    .dataframe tbody tr th {\n        vertical-align: top;\n    }\n\n    .dataframe thead th {\n        text-align: right;\n    }\n</style>\n<table border=\"1\" class=\"dataframe\">\n  <thead>\n    <tr style=\"text-align: right;\">\n      <th></th>\n      <th>w</th>\n      <th>x</th>\n      <th>y</th>\n      <th>z</th>\n    </tr>\n  </thead>\n  <tbody>\n    <tr>\n      <th>a</th>\n      <td>-0.583595</td>\n      <td>0.816847</td>\n      <td>0.672721</td>\n      <td>-0.104411</td>\n    </tr>\n    <tr>\n      <th>b</th>\n      <td>-0.531280</td>\n      <td>1.029733</td>\n      <td>-0.438136</td>\n      <td>-1.118318</td>\n    </tr>\n    <tr>\n      <th>c</th>\n      <td>1.618982</td>\n      <td>1.541605</td>\n      <td>-0.251879</td>\n      <td>-0.842436</td>\n    </tr>\n    <tr>\n      <th>d</th>\n      <td>0.184519</td>\n      <td>0.937082</td>\n      <td>0.731000</td>\n      <td>1.361556</td>\n    </tr>\n    <tr>\n      <th>e</th>\n      <td>-0.326238</td>\n      <td>0.055676</td>\n      <td>0.222400</td>\n      <td>-1.443217</td>\n    </tr>\n  </tbody>\n</table>\n</div>"
     },
     "metadata": {},
     "execution_count": 33
    }
   ],
   "source": [
    "df"
   ]
  },
  {
   "cell_type": "code",
   "execution_count": 34,
   "metadata": {},
   "outputs": [
    {
     "output_type": "execute_result",
     "data": {
      "text/plain": "          w         x         y         z\na       NaN  0.816847  0.672721       NaN\nb       NaN  1.029733       NaN       NaN\nc  1.618982  1.541605       NaN       NaN\nd  0.184519  0.937082  0.731000  1.361556\ne       NaN  0.055676  0.222400       NaN",
      "text/html": "<div>\n<style scoped>\n    .dataframe tbody tr th:only-of-type {\n        vertical-align: middle;\n    }\n\n    .dataframe tbody tr th {\n        vertical-align: top;\n    }\n\n    .dataframe thead th {\n        text-align: right;\n    }\n</style>\n<table border=\"1\" class=\"dataframe\">\n  <thead>\n    <tr style=\"text-align: right;\">\n      <th></th>\n      <th>w</th>\n      <th>x</th>\n      <th>y</th>\n      <th>z</th>\n    </tr>\n  </thead>\n  <tbody>\n    <tr>\n      <th>a</th>\n      <td>NaN</td>\n      <td>0.816847</td>\n      <td>0.672721</td>\n      <td>NaN</td>\n    </tr>\n    <tr>\n      <th>b</th>\n      <td>NaN</td>\n      <td>1.029733</td>\n      <td>NaN</td>\n      <td>NaN</td>\n    </tr>\n    <tr>\n      <th>c</th>\n      <td>1.618982</td>\n      <td>1.541605</td>\n      <td>NaN</td>\n      <td>NaN</td>\n    </tr>\n    <tr>\n      <th>d</th>\n      <td>0.184519</td>\n      <td>0.937082</td>\n      <td>0.731000</td>\n      <td>1.361556</td>\n    </tr>\n    <tr>\n      <th>e</th>\n      <td>NaN</td>\n      <td>0.055676</td>\n      <td>0.222400</td>\n      <td>NaN</td>\n    </tr>\n  </tbody>\n</table>\n</div>"
     },
     "metadata": {},
     "execution_count": 34
    }
   ],
   "source": [
    "# TO check the boolean value\n",
    "booldf = df > 0\n",
    "df[booldf]"
   ]
  },
  {
   "cell_type": "code",
   "execution_count": 35,
   "metadata": {
    "tags": []
   },
   "outputs": [
    {
     "output_type": "stream",
     "name": "stdout",
     "text": "a    False\nb    False\nc     True\nd     True\ne    False\nName: w, dtype: bool\na   -0.583595\nb   -0.531280\nc    1.618982\nd    0.184519\ne   -0.326238\nName: w, dtype: float64\n"
    }
   ],
   "source": [
    "print(df['w'] > 0)\n",
    "print(df['w'])"
   ]
  },
  {
   "cell_type": "code",
   "execution_count": 36,
   "metadata": {},
   "outputs": [
    {
     "output_type": "execute_result",
     "data": {
      "text/plain": "          w         x         y         z\nc  1.618982  1.541605 -0.251879 -0.842436\nd  0.184519  0.937082  0.731000  1.361556",
      "text/html": "<div>\n<style scoped>\n    .dataframe tbody tr th:only-of-type {\n        vertical-align: middle;\n    }\n\n    .dataframe tbody tr th {\n        vertical-align: top;\n    }\n\n    .dataframe thead th {\n        text-align: right;\n    }\n</style>\n<table border=\"1\" class=\"dataframe\">\n  <thead>\n    <tr style=\"text-align: right;\">\n      <th></th>\n      <th>w</th>\n      <th>x</th>\n      <th>y</th>\n      <th>z</th>\n    </tr>\n  </thead>\n  <tbody>\n    <tr>\n      <th>c</th>\n      <td>1.618982</td>\n      <td>1.541605</td>\n      <td>-0.251879</td>\n      <td>-0.842436</td>\n    </tr>\n    <tr>\n      <th>d</th>\n      <td>0.184519</td>\n      <td>0.937082</td>\n      <td>0.731000</td>\n      <td>1.361556</td>\n    </tr>\n  </tbody>\n</table>\n</div>"
     },
     "metadata": {},
     "execution_count": 36
    }
   ],
   "source": [
    "#Return row which has true value\n",
    "df[df['w']>0]"
   ]
  },
  {
   "cell_type": "code",
   "execution_count": 37,
   "metadata": {},
   "outputs": [
    {
     "output_type": "execute_result",
     "data": {
      "text/plain": "          w         x         y         z\na -0.583595  0.816847  0.672721 -0.104411\nb -0.531280  1.029733 -0.438136 -1.118318\nc  1.618982  1.541605 -0.251879 -0.842436\ne -0.326238  0.055676  0.222400 -1.443217",
      "text/html": "<div>\n<style scoped>\n    .dataframe tbody tr th:only-of-type {\n        vertical-align: middle;\n    }\n\n    .dataframe tbody tr th {\n        vertical-align: top;\n    }\n\n    .dataframe thead th {\n        text-align: right;\n    }\n</style>\n<table border=\"1\" class=\"dataframe\">\n  <thead>\n    <tr style=\"text-align: right;\">\n      <th></th>\n      <th>w</th>\n      <th>x</th>\n      <th>y</th>\n      <th>z</th>\n    </tr>\n  </thead>\n  <tbody>\n    <tr>\n      <th>a</th>\n      <td>-0.583595</td>\n      <td>0.816847</td>\n      <td>0.672721</td>\n      <td>-0.104411</td>\n    </tr>\n    <tr>\n      <th>b</th>\n      <td>-0.531280</td>\n      <td>1.029733</td>\n      <td>-0.438136</td>\n      <td>-1.118318</td>\n    </tr>\n    <tr>\n      <th>c</th>\n      <td>1.618982</td>\n      <td>1.541605</td>\n      <td>-0.251879</td>\n      <td>-0.842436</td>\n    </tr>\n    <tr>\n      <th>e</th>\n      <td>-0.326238</td>\n      <td>0.055676</td>\n      <td>0.222400</td>\n      <td>-1.443217</td>\n    </tr>\n  </tbody>\n</table>\n</div>"
     },
     "metadata": {},
     "execution_count": 37
    }
   ],
   "source": [
    "# Grab all the rows where z is less than 0 \n",
    "df[df['z'] < 0]"
   ]
  },
  {
   "cell_type": "code",
   "execution_count": 38,
   "metadata": {},
   "outputs": [
    {
     "output_type": "execute_result",
     "data": {
      "text/plain": "          w         x         z         y\nc  1.618982  1.541605 -0.842436 -0.251879\nd  0.184519  0.937082  1.361556  0.731000",
      "text/html": "<div>\n<style scoped>\n    .dataframe tbody tr th:only-of-type {\n        vertical-align: middle;\n    }\n\n    .dataframe tbody tr th {\n        vertical-align: top;\n    }\n\n    .dataframe thead th {\n        text-align: right;\n    }\n</style>\n<table border=\"1\" class=\"dataframe\">\n  <thead>\n    <tr style=\"text-align: right;\">\n      <th></th>\n      <th>w</th>\n      <th>x</th>\n      <th>z</th>\n      <th>y</th>\n    </tr>\n  </thead>\n  <tbody>\n    <tr>\n      <th>c</th>\n      <td>1.618982</td>\n      <td>1.541605</td>\n      <td>-0.842436</td>\n      <td>-0.251879</td>\n    </tr>\n    <tr>\n      <th>d</th>\n      <td>0.184519</td>\n      <td>0.937082</td>\n      <td>1.361556</td>\n      <td>0.731000</td>\n    </tr>\n  </tbody>\n</table>\n</div>"
     },
     "metadata": {},
     "execution_count": 38
    }
   ],
   "source": [
    "# To grab a row form the table \n",
    "result = df[df['w']>0]\n",
    "result[['w','x','z','y']]"
   ]
  },
  {
   "cell_type": "code",
   "execution_count": 39,
   "metadata": {},
   "outputs": [
    {
     "output_type": "execute_result",
     "data": {
      "text/plain": "          w         x         y         z\na -0.583595  0.816847  0.672721 -0.104411\nb -0.531280  1.029733 -0.438136 -1.118318\nc  1.618982  1.541605 -0.251879 -0.842436\nd  0.184519  0.937082  0.731000  1.361556\ne -0.326238  0.055676  0.222400 -1.443217",
      "text/html": "<div>\n<style scoped>\n    .dataframe tbody tr th:only-of-type {\n        vertical-align: middle;\n    }\n\n    .dataframe tbody tr th {\n        vertical-align: top;\n    }\n\n    .dataframe thead th {\n        text-align: right;\n    }\n</style>\n<table border=\"1\" class=\"dataframe\">\n  <thead>\n    <tr style=\"text-align: right;\">\n      <th></th>\n      <th>w</th>\n      <th>x</th>\n      <th>y</th>\n      <th>z</th>\n    </tr>\n  </thead>\n  <tbody>\n    <tr>\n      <th>a</th>\n      <td>-0.583595</td>\n      <td>0.816847</td>\n      <td>0.672721</td>\n      <td>-0.104411</td>\n    </tr>\n    <tr>\n      <th>b</th>\n      <td>-0.531280</td>\n      <td>1.029733</td>\n      <td>-0.438136</td>\n      <td>-1.118318</td>\n    </tr>\n    <tr>\n      <th>c</th>\n      <td>1.618982</td>\n      <td>1.541605</td>\n      <td>-0.251879</td>\n      <td>-0.842436</td>\n    </tr>\n    <tr>\n      <th>d</th>\n      <td>0.184519</td>\n      <td>0.937082</td>\n      <td>0.731000</td>\n      <td>1.361556</td>\n    </tr>\n    <tr>\n      <th>e</th>\n      <td>-0.326238</td>\n      <td>0.055676</td>\n      <td>0.222400</td>\n      <td>-1.443217</td>\n    </tr>\n  </tbody>\n</table>\n</div>"
     },
     "metadata": {},
     "execution_count": 39
    }
   ],
   "source": [
    "df"
   ]
  },
  {
   "cell_type": "code",
   "execution_count": 40,
   "metadata": {},
   "outputs": [],
   "source": [
    "# Creataion of new dataframe\n",
    "list = pd.DataFrame(randn(4,6),['a','b','c','d'],['Q','W','E','R','T','Y'])"
   ]
  },
  {
   "cell_type": "code",
   "execution_count": 41,
   "metadata": {},
   "outputs": [
    {
     "output_type": "execute_result",
     "data": {
      "text/plain": "          Q         W         E         R         T         Y\na -0.756352  0.816454  0.750445 -0.455947  1.189622 -1.690617\nb -1.356399 -1.232435 -0.544439 -0.668172  0.007315 -0.612939\nc  1.299748 -1.733096 -0.983310  0.357508 -1.613579  1.470714\nd -1.188018 -0.549746 -0.940046 -0.827932  0.108863  0.507810",
      "text/html": "<div>\n<style scoped>\n    .dataframe tbody tr th:only-of-type {\n        vertical-align: middle;\n    }\n\n    .dataframe tbody tr th {\n        vertical-align: top;\n    }\n\n    .dataframe thead th {\n        text-align: right;\n    }\n</style>\n<table border=\"1\" class=\"dataframe\">\n  <thead>\n    <tr style=\"text-align: right;\">\n      <th></th>\n      <th>Q</th>\n      <th>W</th>\n      <th>E</th>\n      <th>R</th>\n      <th>T</th>\n      <th>Y</th>\n    </tr>\n  </thead>\n  <tbody>\n    <tr>\n      <th>a</th>\n      <td>-0.756352</td>\n      <td>0.816454</td>\n      <td>0.750445</td>\n      <td>-0.455947</td>\n      <td>1.189622</td>\n      <td>-1.690617</td>\n    </tr>\n    <tr>\n      <th>b</th>\n      <td>-1.356399</td>\n      <td>-1.232435</td>\n      <td>-0.544439</td>\n      <td>-0.668172</td>\n      <td>0.007315</td>\n      <td>-0.612939</td>\n    </tr>\n    <tr>\n      <th>c</th>\n      <td>1.299748</td>\n      <td>-1.733096</td>\n      <td>-0.983310</td>\n      <td>0.357508</td>\n      <td>-1.613579</td>\n      <td>1.470714</td>\n    </tr>\n    <tr>\n      <th>d</th>\n      <td>-1.188018</td>\n      <td>-0.549746</td>\n      <td>-0.940046</td>\n      <td>-0.827932</td>\n      <td>0.108863</td>\n      <td>0.507810</td>\n    </tr>\n  </tbody>\n</table>\n</div>"
     },
     "metadata": {},
     "execution_count": 41
    }
   ],
   "source": [
    "list"
   ]
  },
  {
   "cell_type": "code",
   "execution_count": 42,
   "metadata": {},
   "outputs": [],
   "source": [
    "res = list['W']>0"
   ]
  },
  {
   "cell_type": "code",
   "execution_count": 43,
   "metadata": {},
   "outputs": [
    {
     "output_type": "execute_result",
     "data": {
      "text/plain": "a     True\nb    False\nc    False\nd    False\nName: W, dtype: bool"
     },
     "metadata": {},
     "execution_count": 43
    }
   ],
   "source": [
    "res"
   ]
  },
  {
   "cell_type": "code",
   "execution_count": 44,
   "metadata": {},
   "outputs": [
    {
     "output_type": "execute_result",
     "data": {
      "text/plain": "          Q         W         E         R         T         Y\na -0.756352  0.816454  0.750445 -0.455947  1.189622 -1.690617",
      "text/html": "<div>\n<style scoped>\n    .dataframe tbody tr th:only-of-type {\n        vertical-align: middle;\n    }\n\n    .dataframe tbody tr th {\n        vertical-align: top;\n    }\n\n    .dataframe thead th {\n        text-align: right;\n    }\n</style>\n<table border=\"1\" class=\"dataframe\">\n  <thead>\n    <tr style=\"text-align: right;\">\n      <th></th>\n      <th>Q</th>\n      <th>W</th>\n      <th>E</th>\n      <th>R</th>\n      <th>T</th>\n      <th>Y</th>\n    </tr>\n  </thead>\n  <tbody>\n    <tr>\n      <th>a</th>\n      <td>-0.756352</td>\n      <td>0.816454</td>\n      <td>0.750445</td>\n      <td>-0.455947</td>\n      <td>1.189622</td>\n      <td>-1.690617</td>\n    </tr>\n  </tbody>\n</table>\n</div>"
     },
     "metadata": {},
     "execution_count": 44
    }
   ],
   "source": [
    "res1 = list[list['W']>0]\n",
    "res1"
   ]
  },
  {
   "cell_type": "code",
   "execution_count": 45,
   "metadata": {},
   "outputs": [
    {
     "output_type": "execute_result",
     "data": {
      "text/plain": "          E         R         T\na  0.750445 -0.455947  1.189622\nb -0.544439 -0.668172  0.007315\nc -0.983310  0.357508 -1.613579\nd -0.940046 -0.827932  0.108863",
      "text/html": "<div>\n<style scoped>\n    .dataframe tbody tr th:only-of-type {\n        vertical-align: middle;\n    }\n\n    .dataframe tbody tr th {\n        vertical-align: top;\n    }\n\n    .dataframe thead th {\n        text-align: right;\n    }\n</style>\n<table border=\"1\" class=\"dataframe\">\n  <thead>\n    <tr style=\"text-align: right;\">\n      <th></th>\n      <th>E</th>\n      <th>R</th>\n      <th>T</th>\n    </tr>\n  </thead>\n  <tbody>\n    <tr>\n      <th>a</th>\n      <td>0.750445</td>\n      <td>-0.455947</td>\n      <td>1.189622</td>\n    </tr>\n    <tr>\n      <th>b</th>\n      <td>-0.544439</td>\n      <td>-0.668172</td>\n      <td>0.007315</td>\n    </tr>\n    <tr>\n      <th>c</th>\n      <td>-0.983310</td>\n      <td>0.357508</td>\n      <td>-1.613579</td>\n    </tr>\n    <tr>\n      <th>d</th>\n      <td>-0.940046</td>\n      <td>-0.827932</td>\n      <td>0.108863</td>\n    </tr>\n  </tbody>\n</table>\n</div>"
     },
     "metadata": {},
     "execution_count": 45
    }
   ],
   "source": [
    "res2 = list[list['Q']!=0][['E','R','T']]\n",
    "res2"
   ]
  },
  {
   "cell_type": "code",
   "execution_count": 46,
   "metadata": {},
   "outputs": [
    {
     "output_type": "execute_result",
     "data": {
      "text/plain": "          Q         W         E         R         T         Y\na -0.756352  0.816454  0.750445 -0.455947  1.189622 -1.690617",
      "text/html": "<div>\n<style scoped>\n    .dataframe tbody tr th:only-of-type {\n        vertical-align: middle;\n    }\n\n    .dataframe tbody tr th {\n        vertical-align: top;\n    }\n\n    .dataframe thead th {\n        text-align: right;\n    }\n</style>\n<table border=\"1\" class=\"dataframe\">\n  <thead>\n    <tr style=\"text-align: right;\">\n      <th></th>\n      <th>Q</th>\n      <th>W</th>\n      <th>E</th>\n      <th>R</th>\n      <th>T</th>\n      <th>Y</th>\n    </tr>\n  </thead>\n  <tbody>\n    <tr>\n      <th>a</th>\n      <td>-0.756352</td>\n      <td>0.816454</td>\n      <td>0.750445</td>\n      <td>-0.455947</td>\n      <td>1.189622</td>\n      <td>-1.690617</td>\n    </tr>\n  </tbody>\n</table>\n</div>"
     },
     "metadata": {},
     "execution_count": 46
    }
   ],
   "source": [
    "res3 = list[(list['W']>=0) | (list['R']>=1)]\n",
    "res3"
   ]
  },
  {
   "cell_type": "code",
   "execution_count": 47,
   "metadata": {},
   "outputs": [
    {
     "output_type": "execute_result",
     "data": {
      "text/plain": "          Q         W         E         R         T         Y\na -0.756352  0.816454  0.750445 -0.455947  1.189622 -1.690617\nb -1.356399 -1.232435 -0.544439 -0.668172  0.007315 -0.612939\nc  1.299748 -1.733096 -0.983310  0.357508 -1.613579  1.470714\nd -1.188018 -0.549746 -0.940046 -0.827932  0.108863  0.507810",
      "text/html": "<div>\n<style scoped>\n    .dataframe tbody tr th:only-of-type {\n        vertical-align: middle;\n    }\n\n    .dataframe tbody tr th {\n        vertical-align: top;\n    }\n\n    .dataframe thead th {\n        text-align: right;\n    }\n</style>\n<table border=\"1\" class=\"dataframe\">\n  <thead>\n    <tr style=\"text-align: right;\">\n      <th></th>\n      <th>Q</th>\n      <th>W</th>\n      <th>E</th>\n      <th>R</th>\n      <th>T</th>\n      <th>Y</th>\n    </tr>\n  </thead>\n  <tbody>\n    <tr>\n      <th>a</th>\n      <td>-0.756352</td>\n      <td>0.816454</td>\n      <td>0.750445</td>\n      <td>-0.455947</td>\n      <td>1.189622</td>\n      <td>-1.690617</td>\n    </tr>\n    <tr>\n      <th>b</th>\n      <td>-1.356399</td>\n      <td>-1.232435</td>\n      <td>-0.544439</td>\n      <td>-0.668172</td>\n      <td>0.007315</td>\n      <td>-0.612939</td>\n    </tr>\n    <tr>\n      <th>c</th>\n      <td>1.299748</td>\n      <td>-1.733096</td>\n      <td>-0.983310</td>\n      <td>0.357508</td>\n      <td>-1.613579</td>\n      <td>1.470714</td>\n    </tr>\n    <tr>\n      <th>d</th>\n      <td>-1.188018</td>\n      <td>-0.549746</td>\n      <td>-0.940046</td>\n      <td>-0.827932</td>\n      <td>0.108863</td>\n      <td>0.507810</td>\n    </tr>\n  </tbody>\n</table>\n</div>"
     },
     "metadata": {},
     "execution_count": 47
    }
   ],
   "source": [
    "list"
   ]
  },
  {
   "cell_type": "code",
   "execution_count": 48,
   "metadata": {},
   "outputs": [
    {
     "output_type": "execute_result",
     "data": {
      "text/plain": "       Q      W      E      R      T      Y\na  False   True   True  False   True  False\nb  False  False  False  False   True  False\nc   True  False  False   True  False   True\nd  False  False  False  False   True   True",
      "text/html": "<div>\n<style scoped>\n    .dataframe tbody tr th:only-of-type {\n        vertical-align: middle;\n    }\n\n    .dataframe tbody tr th {\n        vertical-align: top;\n    }\n\n    .dataframe thead th {\n        text-align: right;\n    }\n</style>\n<table border=\"1\" class=\"dataframe\">\n  <thead>\n    <tr style=\"text-align: right;\">\n      <th></th>\n      <th>Q</th>\n      <th>W</th>\n      <th>E</th>\n      <th>R</th>\n      <th>T</th>\n      <th>Y</th>\n    </tr>\n  </thead>\n  <tbody>\n    <tr>\n      <th>a</th>\n      <td>False</td>\n      <td>True</td>\n      <td>True</td>\n      <td>False</td>\n      <td>True</td>\n      <td>False</td>\n    </tr>\n    <tr>\n      <th>b</th>\n      <td>False</td>\n      <td>False</td>\n      <td>False</td>\n      <td>False</td>\n      <td>True</td>\n      <td>False</td>\n    </tr>\n    <tr>\n      <th>c</th>\n      <td>True</td>\n      <td>False</td>\n      <td>False</td>\n      <td>True</td>\n      <td>False</td>\n      <td>True</td>\n    </tr>\n    <tr>\n      <th>d</th>\n      <td>False</td>\n      <td>False</td>\n      <td>False</td>\n      <td>False</td>\n      <td>True</td>\n      <td>True</td>\n    </tr>\n  </tbody>\n</table>\n</div>"
     },
     "metadata": {},
     "execution_count": 48
    }
   ],
   "source": [
    "bool_list = list > 0\n",
    "bool_list"
   ]
  },
  {
   "cell_type": "code",
   "execution_count": 49,
   "metadata": {
    "tags": []
   },
   "outputs": [
    {
     "output_type": "stream",
     "name": "stdout",
     "text": "Q      W      E      R      T      Y\na   True  False  False   True  False   True\nb   True   True   True   True  False   True\nc  False   True   True  False   True  False\nd   True   True   True   True  False  False\n\n\n          Q         W         E         R         T         Y\na -0.756352  0.816454  0.750445 -0.455947  1.189622 -1.690617\nb -1.356399 -1.232435 -0.544439 -0.668172  0.007315 -0.612939\nc  1.299748 -1.733096 -0.983310  0.357508 -1.613579  1.470714\nd -1.188018 -0.549746 -0.940046 -0.827932  0.108863  0.507810\n"
    }
   ],
   "source": [
    "print(bool_list[['Q','W','E','R','T','Y']] <= 0)\n",
    "print('\\n')\n",
    "print(list[['Q','W','E','R','T','Y']])"
   ]
  },
  {
   "cell_type": "code",
   "execution_count": 50,
   "metadata": {},
   "outputs": [
    {
     "output_type": "execute_result",
     "data": {
      "text/plain": "          Q         W         E         R         T         Y\na -0.756352  0.816454  0.750445 -0.455947  1.189622 -1.690617\nb -1.356399 -1.232435 -0.544439 -0.668172  0.007315 -0.612939\nc  1.299748 -1.733096 -0.983310  0.357508 -1.613579  1.470714\nd -1.188018 -0.549746 -0.940046 -0.827932  0.108863  0.507810",
      "text/html": "<div>\n<style scoped>\n    .dataframe tbody tr th:only-of-type {\n        vertical-align: middle;\n    }\n\n    .dataframe tbody tr th {\n        vertical-align: top;\n    }\n\n    .dataframe thead th {\n        text-align: right;\n    }\n</style>\n<table border=\"1\" class=\"dataframe\">\n  <thead>\n    <tr style=\"text-align: right;\">\n      <th></th>\n      <th>Q</th>\n      <th>W</th>\n      <th>E</th>\n      <th>R</th>\n      <th>T</th>\n      <th>Y</th>\n    </tr>\n  </thead>\n  <tbody>\n    <tr>\n      <th>a</th>\n      <td>-0.756352</td>\n      <td>0.816454</td>\n      <td>0.750445</td>\n      <td>-0.455947</td>\n      <td>1.189622</td>\n      <td>-1.690617</td>\n    </tr>\n    <tr>\n      <th>b</th>\n      <td>-1.356399</td>\n      <td>-1.232435</td>\n      <td>-0.544439</td>\n      <td>-0.668172</td>\n      <td>0.007315</td>\n      <td>-0.612939</td>\n    </tr>\n    <tr>\n      <th>c</th>\n      <td>1.299748</td>\n      <td>-1.733096</td>\n      <td>-0.983310</td>\n      <td>0.357508</td>\n      <td>-1.613579</td>\n      <td>1.470714</td>\n    </tr>\n    <tr>\n      <th>d</th>\n      <td>-1.188018</td>\n      <td>-0.549746</td>\n      <td>-0.940046</td>\n      <td>-0.827932</td>\n      <td>0.108863</td>\n      <td>0.507810</td>\n    </tr>\n  </tbody>\n</table>\n</div>"
     },
     "metadata": {},
     "execution_count": 50
    }
   ],
   "source": [
    "list "
   ]
  },
  {
   "cell_type": "code",
   "execution_count": 51,
   "metadata": {},
   "outputs": [
    {
     "output_type": "execute_result",
     "data": {
      "text/plain": "          Q         W         E         R         T         Y\na  0.572069  0.666597  0.563167  0.207888  1.415201  2.858185\nb  1.839818  1.518895  0.296414  0.446453  0.000054  0.375694\nc  1.689345  3.003620  0.966899  0.127812  2.603636  2.162999\nd  1.411386  0.302221  0.883687  0.685472  0.011851  0.257871",
      "text/html": "<div>\n<style scoped>\n    .dataframe tbody tr th:only-of-type {\n        vertical-align: middle;\n    }\n\n    .dataframe tbody tr th {\n        vertical-align: top;\n    }\n\n    .dataframe thead th {\n        text-align: right;\n    }\n</style>\n<table border=\"1\" class=\"dataframe\">\n  <thead>\n    <tr style=\"text-align: right;\">\n      <th></th>\n      <th>Q</th>\n      <th>W</th>\n      <th>E</th>\n      <th>R</th>\n      <th>T</th>\n      <th>Y</th>\n    </tr>\n  </thead>\n  <tbody>\n    <tr>\n      <th>a</th>\n      <td>0.572069</td>\n      <td>0.666597</td>\n      <td>0.563167</td>\n      <td>0.207888</td>\n      <td>1.415201</td>\n      <td>2.858185</td>\n    </tr>\n    <tr>\n      <th>b</th>\n      <td>1.839818</td>\n      <td>1.518895</td>\n      <td>0.296414</td>\n      <td>0.446453</td>\n      <td>0.000054</td>\n      <td>0.375694</td>\n    </tr>\n    <tr>\n      <th>c</th>\n      <td>1.689345</td>\n      <td>3.003620</td>\n      <td>0.966899</td>\n      <td>0.127812</td>\n      <td>2.603636</td>\n      <td>2.162999</td>\n    </tr>\n    <tr>\n      <th>d</th>\n      <td>1.411386</td>\n      <td>0.302221</td>\n      <td>0.883687</td>\n      <td>0.685472</td>\n      <td>0.011851</td>\n      <td>0.257871</td>\n    </tr>\n  </tbody>\n</table>\n</div>"
     },
     "metadata": {},
     "execution_count": 51
    }
   ],
   "source": [
    "list2 = list ** 2 \n",
    "list2 "
   ]
  },
  {
   "cell_type": "code",
   "execution_count": 52,
   "metadata": {
    "tags": []
   },
   "outputs": [
    {
     "output_type": "stream",
     "name": "stdout",
     "text": "Q         W         E         R         T         Y\nb -1.356399 -1.232435 -0.544439 -0.668172  0.007315 -0.612939\nc  1.299748 -1.733096 -0.983310  0.357508 -1.613579  1.470714\nd -1.188018 -0.549746 -0.940046 -0.827932  0.108863  0.507810\n"
    }
   ],
   "source": [
    "bool_list1 = list[(list['W']<0) | (list['Q']>=1)]\n",
    "# def func(list):\n",
    "#     while bool_list1 is True:\n",
    "#         if list1['W'] >= 0:\n",
    "#             print(list1['Q'])\n",
    "#         else:\n",
    "#             print(list)\n",
    "\n",
    "# func(bool_list1)\n",
    "print(bool_list1)"
   ]
  },
  {
   "cell_type": "code",
   "execution_count": null,
   "metadata": {},
   "outputs": [],
   "source": []
  }
 ]
}