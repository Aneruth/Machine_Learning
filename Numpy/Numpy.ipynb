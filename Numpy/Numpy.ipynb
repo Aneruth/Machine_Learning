{
 "metadata": {
  "language_info": {
   "codemirror_mode": {
    "name": "ipython",
    "version": 3
   },
   "file_extension": ".py",
   "mimetype": "text/x-python",
   "name": "python",
   "nbconvert_exporter": "python",
   "pygments_lexer": "ipython3",
   "version": "3.7.6-final"
  },
  "orig_nbformat": 2,
  "kernelspec": {
   "name": "python_defaultSpec_1598355801945",
   "display_name": "Python 3.7.6 64-bit ('base': conda)"
  }
 },
 "nbformat": 4,
 "nbformat_minor": 2,
 "cells": [
  {
   "cell_type": "code",
   "execution_count": 1,
   "metadata": {},
   "outputs": [
    {
     "output_type": "execute_result",
     "data": {
      "text/plain": "array([['Ane', 'Abi', 'Adi'],\n       ['Belgium', 'Belgium', 'France'],\n       ['Brussels', 'Brussels', 'Paris']], dtype='<U8')"
     },
     "metadata": {},
     "execution_count": 1
    }
   ],
   "source": [
    "# (NumPy)\n",
    "\n",
    "import numpy as np\n",
    "\n",
    "arr = [['Ane','Abi','Adi'],['Belgium','Belgium','France'],['Brussels','Brussels','Paris']]\n",
    "\n",
    "np.array(arr)"
   ]
  },
  {
   "cell_type": "code",
   "execution_count": 2,
   "metadata": {},
   "outputs": [
    {
     "output_type": "execute_result",
     "data": {
      "text/plain": "array([ 0,  2,  4,  6,  8, 10, 12, 14, 16, 18])"
     },
     "metadata": {},
     "execution_count": 2
    }
   ],
   "source": [
    "# built in Python range for NumPy\n",
    "\n",
    "np.arange(0,20,2)"
   ]
  },
  {
   "cell_type": "code",
   "execution_count": 3,
   "metadata": {},
   "outputs": [
    {
     "output_type": "execute_result",
     "data": {
      "text/plain": "array([[0., 0., 0.],\n       [0., 0., 0.],\n       [0., 0., 0.]])"
     },
     "metadata": {},
     "execution_count": 3
    }
   ],
   "source": [
    "np.zeros((3,3))"
   ]
  },
  {
   "cell_type": "code",
   "execution_count": 4,
   "metadata": {},
   "outputs": [
    {
     "output_type": "execute_result",
     "data": {
      "text/plain": "array([2.   , 1.125, 0.25 ])"
     },
     "metadata": {},
     "execution_count": 4
    }
   ],
   "source": [
    "np.linspace(2,.25,3)"
   ]
  },
  {
   "cell_type": "code",
   "execution_count": 5,
   "metadata": {},
   "outputs": [
    {
     "output_type": "execute_result",
     "data": {
      "text/plain": "array([[1., 0., 0.],\n       [0., 1., 0.],\n       [0., 0., 1.]])"
     },
     "metadata": {},
     "execution_count": 5
    }
   ],
   "source": [
    "# CREATE IDENDTITY MATRIX\n",
    "\n",
    "np.eye(3)"
   ]
  },
  {
   "cell_type": "code",
   "execution_count": 6,
   "metadata": {},
   "outputs": [
    {
     "output_type": "execute_result",
     "data": {
      "text/plain": "array([[0.95245941, 0.94825178, 0.21517668],\n       [0.21017474, 0.12356784, 0.20149443],\n       [0.2766662 , 0.71192073, 0.6226115 ]])"
     },
     "metadata": {},
     "execution_count": 6
    }
   ],
   "source": [
    "# GENERATE RANDOM NUMBERS\n",
    "\n",
    "# 1D Array\n",
    "np.random.rand(2)\n",
    "\n",
    "# 2D Array\n",
    "np.random.rand(3,3) # unlike the other methods where we pass it on as tuple instead we pass it with comma "
   ]
  },
  {
   "cell_type": "code",
   "execution_count": 7,
   "metadata": {},
   "outputs": [
    {
     "output_type": "execute_result",
     "data": {
      "text/plain": "array([[-0.5979326 ,  0.15237058,  1.20361733],\n       [-1.92328607, -1.34501332, -0.19646409],\n       [-0.03816831,  0.87248307, -0.20311504]])"
     },
     "metadata": {},
     "execution_count": 7
    }
   ],
   "source": [
    "# gaussian and normal distribution \n",
    "np.random.randn(3,3)"
   ]
  },
  {
   "cell_type": "code",
   "execution_count": 8,
   "metadata": {
    "tags": []
   },
   "outputs": [
    {
     "output_type": "execute_result",
     "data": {
      "text/plain": "5"
     },
     "metadata": {},
     "execution_count": 8
    }
   ],
   "source": [
    " a= np.random.randint(50,1000,9)\n",
    " a.argmax()"
   ]
  },
  {
   "cell_type": "code",
   "execution_count": 9,
   "metadata": {},
   "outputs": [
    {
     "output_type": "execute_result",
     "data": {
      "text/plain": "array([[ 0,  1,  2,  3,  4],\n       [ 5,  6,  7,  8,  9],\n       [10, 11, 12, 13, 14]])"
     },
     "metadata": {},
     "execution_count": 9
    }
   ],
   "source": [
    "arr = np.arange(15)\n",
    "arr.reshape(3,5)"
   ]
  },
  {
   "cell_type": "code",
   "execution_count": 10,
   "metadata": {
    "tags": []
   },
   "outputs": [
    {
     "output_type": "stream",
     "name": "stdout",
     "text": "Better Luck Next Time :-(\n"
    }
   ],
   "source": [
    "ane = np.random.randint(1,50,10)\n",
    "\n",
    "if 10 in ane:\n",
    "    print(\"The max value is : \",ane.max())\n",
    "else:\n",
    "    print(\"Better Luck Next Time :-(\")"
   ]
  },
  {
   "cell_type": "code",
   "execution_count": 11,
   "metadata": {},
   "outputs": [
    {
     "output_type": "execute_result",
     "data": {
      "text/plain": "array([21, 15,  1,  4, 36,  1, 17, 30, 29, 24])"
     },
     "metadata": {},
     "execution_count": 11
    }
   ],
   "source": [
    "ane"
   ]
  },
  {
   "cell_type": "code",
   "execution_count": 12,
   "metadata": {
    "tags": []
   },
   "outputs": [
    {
     "output_type": "stream",
     "name": "stdout",
     "text": "36\n"
    },
    {
     "output_type": "execute_result",
     "data": {
      "text/plain": "4"
     },
     "metadata": {},
     "execution_count": 12
    }
   ],
   "source": [
    "print(ane.max())\n",
    "ane.argmax()"
   ]
  },
  {
   "cell_type": "code",
   "execution_count": 13,
   "metadata": {
    "tags": []
   },
   "outputs": [
    {
     "output_type": "stream",
     "name": "stdout",
     "text": "Better Luck Next Time :-(\nPosition of the maximum value is:  8\nPosition of minimum value is:  0\n"
    }
   ],
   "source": [
    "a2 = int(input('Enter the number: '))\n",
    "ane = np.random.randint(1,50,10)\n",
    "\n",
    "for a2 in range(1):\n",
    "    if a2 in ane:\n",
    "        print(\"The max value is : \",ane.max())\n",
    "    elif a2 in ane:\n",
    "        print('The min value is : ',ane.min())\n",
    "    else:\n",
    "        print(\"Better Luck Next Time :-(\")\n",
    "    print(\"Position of the maximum value is: \",ane.argmax())\n",
    "    print('Position of minimum value is: ',ane.argmin())"
   ]
  },
  {
   "cell_type": "code",
   "execution_count": 14,
   "metadata": {},
   "outputs": [],
   "source": [
    "a2 = ane.reshape(2,5)"
   ]
  },
  {
   "cell_type": "code",
   "execution_count": 15,
   "metadata": {},
   "outputs": [
    {
     "output_type": "execute_result",
     "data": {
      "text/plain": "(2, 5)"
     },
     "metadata": {},
     "execution_count": 15
    }
   ],
   "source": [
    "a2.shape"
   ]
  },
  {
   "cell_type": "code",
   "execution_count": 16,
   "metadata": {},
   "outputs": [
    {
     "output_type": "execute_result",
     "data": {
      "text/plain": "dtype('int64')"
     },
     "metadata": {},
     "execution_count": 16
    }
   ],
   "source": [
    "a2.dtype"
   ]
  },
  {
   "cell_type": "code",
   "execution_count": 17,
   "metadata": {},
   "outputs": [
    {
     "output_type": "execute_result",
     "data": {
      "text/plain": "array([[ 1, 27, 31, 27, 35],\n       [16, 30, 10, 48, 21]])"
     },
     "metadata": {},
     "execution_count": 17
    }
   ],
   "source": [
    "a2"
   ]
  },
  {
   "cell_type": "code",
   "execution_count": 18,
   "metadata": {},
   "outputs": [
    {
     "output_type": "execute_result",
     "data": {
      "text/plain": "array([ 0,  1,  2,  3,  4,  5,  6,  7,  8,  9, 10, 11, 12, 13, 14])"
     },
     "metadata": {},
     "execution_count": 18
    }
   ],
   "source": [
    "arr"
   ]
  },
  {
   "cell_type": "code",
   "execution_count": 19,
   "metadata": {},
   "outputs": [
    {
     "output_type": "execute_result",
     "data": {
      "text/plain": "8"
     },
     "metadata": {},
     "execution_count": 19
    }
   ],
   "source": [
    "arr[8]"
   ]
  },
  {
   "cell_type": "code",
   "execution_count": 20,
   "metadata": {},
   "outputs": [
    {
     "output_type": "execute_result",
     "data": {
      "text/plain": "array([10, 11, 12, 13, 14])"
     },
     "metadata": {},
     "execution_count": 20
    }
   ],
   "source": [
    "arr[10:]"
   ]
  },
  {
   "cell_type": "code",
   "execution_count": 21,
   "metadata": {},
   "outputs": [],
   "source": [
    "slice_arr = arr[0:5]"
   ]
  },
  {
   "cell_type": "code",
   "execution_count": 22,
   "metadata": {},
   "outputs": [
    {
     "output_type": "execute_result",
     "data": {
      "text/plain": "array([0, 1, 2, 3, 4])"
     },
     "metadata": {},
     "execution_count": 22
    }
   ],
   "source": [
    "slice_arr"
   ]
  },
  {
   "cell_type": "code",
   "execution_count": 23,
   "metadata": {},
   "outputs": [],
   "source": [
    "slice_arr[:] = int(input())"
   ]
  },
  {
   "cell_type": "code",
   "execution_count": 24,
   "metadata": {},
   "outputs": [
    {
     "output_type": "execute_result",
     "data": {
      "text/plain": "array([23, 23, 23, 23, 23])"
     },
     "metadata": {},
     "execution_count": 24
    }
   ],
   "source": [
    "slice_arr"
   ]
  },
  {
   "cell_type": "code",
   "execution_count": 25,
   "metadata": {},
   "outputs": [
    {
     "output_type": "execute_result",
     "data": {
      "text/plain": "array([23, 23, 23, 23, 23,  5,  6,  7,  8,  9, 10, 11, 12, 13, 14])"
     },
     "metadata": {},
     "execution_count": 25
    }
   ],
   "source": [
    "arr"
   ]
  },
  {
   "cell_type": "code",
   "execution_count": 26,
   "metadata": {},
   "outputs": [],
   "source": [
    "arr = np.arange(15)"
   ]
  },
  {
   "cell_type": "code",
   "execution_count": 27,
   "metadata": {},
   "outputs": [],
   "source": [
    "arr_2d = np.array([[1,2,3],[4,5,6],[7,8,9],[10,11,12],[13,14,15],[16,17,18]])"
   ]
  },
  {
   "cell_type": "code",
   "execution_count": 28,
   "metadata": {},
   "outputs": [
    {
     "output_type": "execute_result",
     "data": {
      "text/plain": "array([[ 1,  2,  3],\n       [ 4,  5,  6],\n       [ 7,  8,  9],\n       [10, 11, 12],\n       [13, 14, 15],\n       [16, 17, 18]])"
     },
     "metadata": {},
     "execution_count": 28
    }
   ],
   "source": [
    "arr_2d"
   ]
  },
  {
   "cell_type": "code",
   "execution_count": 29,
   "metadata": {},
   "outputs": [
    {
     "output_type": "execute_result",
     "data": {
      "text/plain": "12"
     },
     "metadata": {},
     "execution_count": 29
    }
   ],
   "source": [
    "arr_2d[3][2]"
   ]
  },
  {
   "cell_type": "code",
   "execution_count": 30,
   "metadata": {},
   "outputs": [],
   "source": [
    "arry_name = np.array([1,2,3])"
   ]
  },
  {
   "cell_type": "code",
   "execution_count": 31,
   "metadata": {},
   "outputs": [
    {
     "output_type": "execute_result",
     "data": {
      "text/plain": "array([1, 2, 3])"
     },
     "metadata": {},
     "execution_count": 31
    }
   ],
   "source": [
    "arry_name"
   ]
  },
  {
   "cell_type": "code",
   "execution_count": 32,
   "metadata": {},
   "outputs": [
    {
     "output_type": "execute_result",
     "data": {
      "text/plain": "array([[ 4,  5],\n       [ 7,  8],\n       [10, 11]])"
     },
     "metadata": {},
     "execution_count": 32
    }
   ],
   "source": [
    "arr_2d[1:4,:2]"
   ]
  },
  {
   "cell_type": "code",
   "execution_count": 33,
   "metadata": {},
   "outputs": [],
   "source": [
    "bool_arr = arr > 5"
   ]
  },
  {
   "cell_type": "code",
   "execution_count": 34,
   "metadata": {},
   "outputs": [
    {
     "output_type": "execute_result",
     "data": {
      "text/plain": "array([ 6,  7,  8,  9, 10, 11, 12, 13, 14])"
     },
     "metadata": {},
     "execution_count": 34
    }
   ],
   "source": [
    "arr[bool_arr]"
   ]
  },
  {
   "cell_type": "code",
   "execution_count": 35,
   "metadata": {},
   "outputs": [],
   "source": [
    "arr1 = np.arange(20).reshape(5,4) #another method to create a 2d matrix"
   ]
  },
  {
   "cell_type": "code",
   "execution_count": 36,
   "metadata": {},
   "outputs": [
    {
     "output_type": "execute_result",
     "data": {
      "text/plain": "array([[ 0,  1,  2,  3],\n       [ 4,  5,  6,  7],\n       [ 8,  9, 10, 11],\n       [12, 13, 14, 15],\n       [16, 17, 18, 19]])"
     },
     "metadata": {},
     "execution_count": 36
    }
   ],
   "source": [
    "arr1"
   ]
  },
  {
   "cell_type": "code",
   "execution_count": 37,
   "metadata": {},
   "outputs": [
    {
     "output_type": "execute_result",
     "data": {
      "text/plain": "array([[ 3],\n       [ 7],\n       [11],\n       [15],\n       [19]])"
     },
     "metadata": {},
     "execution_count": 37
    }
   ],
   "source": [
    "arr1[:,3:4]"
   ]
  },
  {
   "cell_type": "code",
   "execution_count": 38,
   "metadata": {},
   "outputs": [],
   "source": [
    "##################### Operations #######################"
   ]
  },
  {
   "cell_type": "code",
   "execution_count": 39,
   "metadata": {},
   "outputs": [],
   "source": [
    "add1 = np.arange(10)"
   ]
  },
  {
   "cell_type": "code",
   "execution_count": 40,
   "metadata": {},
   "outputs": [
    {
     "output_type": "execute_result",
     "data": {
      "text/plain": "array([0, 1, 2, 3, 4, 5, 6, 7, 8, 9])"
     },
     "metadata": {},
     "execution_count": 40
    }
   ],
   "source": [
    "add1"
   ]
  },
  {
   "cell_type": "code",
   "execution_count": 41,
   "metadata": {},
   "outputs": [
    {
     "output_type": "execute_result",
     "data": {
      "text/plain": "array([ 0,  3,  6,  9, 12, 15, 18, 21, 24, 27])"
     },
     "metadata": {},
     "execution_count": 41
    }
   ],
   "source": [
    "add1 * 3"
   ]
  },
  {
   "cell_type": "code",
   "execution_count": 42,
   "metadata": {},
   "outputs": [
    {
     "output_type": "execute_result",
     "data": {
      "text/plain": "array([nan,  1.,  1.,  1.,  1.,  1.,  1.,  1.,  1.,  1.])"
     },
     "metadata": {},
     "execution_count": 42
    }
   ],
   "source": [
    "add1 / add1"
   ]
  },
  {
   "cell_type": "code",
   "execution_count": 43,
   "metadata": {},
   "outputs": [
    {
     "output_type": "execute_result",
     "data": {
      "text/plain": "array([       inf, 1.        , 0.5       , 0.33333333, 0.25      ,\n       0.2       , 0.16666667, 0.14285714, 0.125     , 0.11111111])"
     },
     "metadata": {},
     "execution_count": 43
    }
   ],
   "source": [
    "1 / add1"
   ]
  },
  {
   "cell_type": "code",
   "execution_count": 44,
   "metadata": {},
   "outputs": [
    {
     "output_type": "execute_result",
     "data": {
      "text/plain": "array([0.00000000e+00, 1.17520119e+00, 3.62686041e+00, 1.00178749e+01,\n       2.72899172e+01, 7.42032106e+01, 2.01713157e+02, 5.48316123e+02,\n       1.49047883e+03, 4.05154190e+03])"
     },
     "metadata": {},
     "execution_count": 44
    }
   ],
   "source": [
    "np.sinh(add1)"
   ]
  },
  {
   "cell_type": "code",
   "execution_count": 49,
   "metadata": {},
   "outputs": [
    {
     "output_type": "execute_result",
     "data": {
      "text/plain": "array([      -inf, 0.        , 0.69314718, 1.09861229, 1.38629436,\n       1.60943791, 1.79175947, 1.94591015, 2.07944154, 2.19722458])"
     },
     "metadata": {},
     "execution_count": 49
    }
   ],
   "source": [
    "np.log(add1)"
   ]
  },
  {
   "cell_type": "code",
   "execution_count": 54,
   "metadata": {},
   "outputs": [
    {
     "output_type": "execute_result",
     "data": {
      "text/plain": "array([ 1, 27, 31, 27, 35, 16, 30, 10, 48, 21])"
     },
     "metadata": {},
     "execution_count": 54
    }
   ],
   "source": [
    "np.conj(ane)"
   ]
  },
  {
   "cell_type": "code",
   "execution_count": null,
   "metadata": {},
   "outputs": [],
   "source": []
  },
  {
   "cell_type": "code",
   "execution_count": null,
   "metadata": {},
   "outputs": [],
   "source": []
  },
  {
   "cell_type": "code",
   "execution_count": 55,
   "metadata": {},
   "outputs": [],
   "source": [
    "##############################Exe#######################"
   ]
  },
  {
   "cell_type": "code",
   "execution_count": 59,
   "metadata": {},
   "outputs": [
    {
     "output_type": "execute_result",
     "data": {
      "text/plain": "array([0., 0., 0., 0., 0., 0., 0., 0., 0., 0.])"
     },
     "metadata": {},
     "execution_count": 59
    }
   ],
   "source": [
    "# create array of 10 zeros\n",
    "np.zeros(10)"
   ]
  },
  {
   "cell_type": "code",
   "execution_count": 62,
   "metadata": {},
   "outputs": [
    {
     "output_type": "execute_result",
     "data": {
      "text/plain": "array([1., 1., 1., 1., 1., 1., 1., 1., 1., 1.])"
     },
     "metadata": {},
     "execution_count": 62
    }
   ],
   "source": [
    "# create array of 10 ones\n",
    "np.ones(10)"
   ]
  },
  {
   "cell_type": "code",
   "execution_count": 63,
   "metadata": {},
   "outputs": [
    {
     "output_type": "execute_result",
     "data": {
      "text/plain": "array([5., 5., 5., 5., 5., 5., 5., 5., 5., 5.])"
     },
     "metadata": {},
     "execution_count": 63
    }
   ],
   "source": [
    "# create array of 10 fives\n",
    "np.ones(10)*5\n",
    "# or we can do it as np.ones(10) + 5"
   ]
  },
  {
   "cell_type": "code",
   "execution_count": 62,
   "metadata": {},
   "outputs": [
    {
     "output_type": "execute_result",
     "data": {
      "text/plain": "array([10, 11, 12, 13, 14, 15, 16, 17, 18, 19, 20, 21, 22, 23, 24, 25, 26,\n       27, 28, 29, 30, 31, 32, 33, 34, 35, 36, 37, 38, 39, 40, 41, 42, 43,\n       44, 45, 46, 47, 48, 49, 50])"
     },
     "metadata": {},
     "execution_count": 62
    }
   ],
   "source": [
    "# array of integers from 10 to 50\n",
    "np.arange(10,51)"
   ]
  },
  {
   "cell_type": "code",
   "execution_count": 65,
   "metadata": {},
   "outputs": [
    {
     "output_type": "execute_result",
     "data": {
      "text/plain": "array([10, 12, 14, 16, 18, 20, 22, 24, 26, 28, 30, 32, 34, 36, 38, 40, 42,\n       44, 46, 48, 50])"
     },
     "metadata": {},
     "execution_count": 65
    }
   ],
   "source": [
    "# even numbers from 10 to 50\n",
    "np.arange(10,51,2)"
   ]
  },
  {
   "cell_type": "code",
   "execution_count": 66,
   "metadata": {},
   "outputs": [
    {
     "output_type": "execute_result",
     "data": {
      "text/plain": "array([[0, 1, 2],\n       [3, 4, 5],\n       [6, 7, 8]])"
     },
     "metadata": {},
     "execution_count": 66
    }
   ],
   "source": [
    "# 3x3 matrix from 0 to 8\n",
    "np.arange(0,9).reshape(3,3)"
   ]
  },
  {
   "cell_type": "code",
   "execution_count": 71,
   "metadata": {},
   "outputs": [
    {
     "output_type": "execute_result",
     "data": {
      "text/plain": "array([[1, 2, 3],\n       [4, 5, 6],\n       [7, 8, 9]])"
     },
     "metadata": {},
     "execution_count": 71
    }
   ],
   "source": [
    "arry_name = np.array([[1,2,3],[4,5,6],[7,8,9]])\n",
    "arry_name"
   ]
  },
  {
   "cell_type": "code",
   "execution_count": 72,
   "metadata": {},
   "outputs": [
    {
     "output_type": "execute_result",
     "data": {
      "text/plain": "array([-2.06652542e-01, -6.30991390e-02, -6.33722732e-01,  1.37109815e+00,\n       -1.40930364e-01,  5.81721370e-01, -3.84137568e-01, -7.53437334e-01,\n        8.66464338e-01, -9.09324279e-02, -7.29959594e-01,  4.74216271e-01,\n        4.04446711e-01, -1.95828331e-01,  1.44331079e-03,  2.06313668e+00,\n       -2.79901642e-01, -1.81724742e-01, -2.16204938e+00,  1.07034249e+00,\n       -1.26082553e+00, -8.83425410e-01,  1.51135597e-01,  3.04591290e-01,\n       -3.19106363e-01])"
     },
     "metadata": {},
     "execution_count": 72
    }
   ],
   "source": [
    "# random number for gausian and std deviation\n",
    "np.random.randn(25)"
   ]
  },
  {
   "cell_type": "code",
   "execution_count": 73,
   "metadata": {},
   "outputs": [
    {
     "output_type": "execute_result",
     "data": {
      "text/plain": "array([[1., 0., 0.],\n       [0., 1., 0.],\n       [0., 0., 1.]])"
     },
     "metadata": {},
     "execution_count": 73
    }
   ],
   "source": [
    "# 3x3 identity matrix\n",
    "np.eye(3)"
   ]
  },
  {
   "cell_type": "code",
   "execution_count": 9,
   "metadata": {},
   "outputs": [
    {
     "output_type": "execute_result",
     "data": {
      "text/plain": "array([0.89065627])"
     },
     "metadata": {},
     "execution_count": 9
    }
   ],
   "source": [
    "# random number btwn 0 and 1\n",
    "np.random.rand(1)"
   ]
  },
  {
   "cell_type": "code",
   "execution_count": 10,
   "metadata": {},
   "outputs": [
    {
     "output_type": "execute_result",
     "data": {
      "text/plain": "array([[0.07979665, 0.78929579, 0.28313918, 0.90631668, 0.17026705],\n       [0.33532868, 0.30450331, 0.18673787, 0.59254767, 0.07719621],\n       [0.79345075, 0.16316816, 0.85005133, 0.02083682, 0.4343564 ],\n       [0.29826049, 0.27847632, 0.97525091, 0.94213545, 0.60465779],\n       [0.83446973, 0.22788184, 0.80837372, 0.14929758, 0.40057828]])"
     },
     "metadata": {},
     "execution_count": 10
    }
   ],
   "source": [
    "np.random.rand(25).reshape(5,5)"
   ]
  },
  {
   "cell_type": "code",
   "execution_count": 67,
   "metadata": {},
   "outputs": [
    {
     "output_type": "execute_result",
     "data": {
      "text/plain": "array([[0.01, 0.02, 0.03, 0.04, 0.05, 0.06, 0.07, 0.08, 0.09, 0.1 ],\n       [0.11, 0.12, 0.13, 0.14, 0.15, 0.16, 0.17, 0.18, 0.19, 0.2 ],\n       [0.21, 0.22, 0.23, 0.24, 0.25, 0.26, 0.27, 0.28, 0.29, 0.3 ],\n       [0.31, 0.32, 0.33, 0.34, 0.35, 0.36, 0.37, 0.38, 0.39, 0.4 ],\n       [0.41, 0.42, 0.43, 0.44, 0.45, 0.46, 0.47, 0.48, 0.49, 0.5 ],\n       [0.51, 0.52, 0.53, 0.54, 0.55, 0.56, 0.57, 0.58, 0.59, 0.6 ],\n       [0.61, 0.62, 0.63, 0.64, 0.65, 0.66, 0.67, 0.68, 0.69, 0.7 ],\n       [0.71, 0.72, 0.73, 0.74, 0.75, 0.76, 0.77, 0.78, 0.79, 0.8 ],\n       [0.81, 0.82, 0.83, 0.84, 0.85, 0.86, 0.87, 0.88, 0.89, 0.9 ],\n       [0.91, 0.92, 0.93, 0.94, 0.95, 0.96, 0.97, 0.98, 0.99, 1.  ]])"
     },
     "metadata": {},
     "execution_count": 67
    }
   ],
   "source": [
    "np.linspace(0.01,1,100).reshape(10,10)\n",
    "# or we can tery like np.arange(1,101).reshape(10,10)/100"
   ]
  },
  {
   "cell_type": "code",
   "execution_count": 18,
   "metadata": {},
   "outputs": [
    {
     "output_type": "execute_result",
     "data": {
      "text/plain": "array([0.        , 0.05263158, 0.10526316, 0.15789474, 0.21052632,\n       0.26315789, 0.31578947, 0.36842105, 0.42105263, 0.47368421,\n       0.52631579, 0.57894737, 0.63157895, 0.68421053, 0.73684211,\n       0.78947368, 0.84210526, 0.89473684, 0.94736842, 1.        ])"
     },
     "metadata": {},
     "execution_count": 18
    }
   ],
   "source": [
    "np.linspace(0,1,20)"
   ]
  },
  {
   "cell_type": "code",
   "execution_count": 19,
   "metadata": {},
   "outputs": [
    {
     "output_type": "execute_result",
     "data": {
      "text/plain": "array([[ 1,  2,  3,  4,  5],\n       [ 6,  7,  8,  9, 10],\n       [11, 12, 13, 14, 15],\n       [16, 17, 18, 19, 20],\n       [21, 22, 23, 24, 25]])"
     },
     "metadata": {},
     "execution_count": 19
    }
   ],
   "source": [
    "# Slicing and Indexing\n",
    "mat = np.arange(1,26).reshape(5,5)\n",
    "mat"
   ]
  },
  {
   "cell_type": "code",
   "execution_count": 21,
   "metadata": {},
   "outputs": [
    {
     "output_type": "execute_result",
     "data": {
      "text/plain": "array([[12, 13, 14, 15],\n       [17, 18, 19, 20],\n       [22, 23, 24, 25]])"
     },
     "metadata": {},
     "execution_count": 21
    }
   ],
   "source": [
    "mat[2:,1:]"
   ]
  },
  {
   "cell_type": "code",
   "execution_count": 24,
   "metadata": {},
   "outputs": [
    {
     "output_type": "execute_result",
     "data": {
      "text/plain": "20"
     },
     "metadata": {},
     "execution_count": 24
    }
   ],
   "source": [
    "mat[3,4]"
   ]
  },
  {
   "cell_type": "code",
   "execution_count": 36,
   "metadata": {},
   "outputs": [
    {
     "output_type": "execute_result",
     "data": {
      "text/plain": "array([[ 2],\n       [ 7],\n       [12]])"
     },
     "metadata": {},
     "execution_count": 36
    }
   ],
   "source": [
    "mat[0:3,1:2]"
   ]
  },
  {
   "cell_type": "code",
   "execution_count": 37,
   "metadata": {},
   "outputs": [
    {
     "output_type": "execute_result",
     "data": {
      "text/plain": "array([21, 22, 23, 24, 25])"
     },
     "metadata": {},
     "execution_count": 37
    }
   ],
   "source": [
    "mat[4]"
   ]
  },
  {
   "cell_type": "code",
   "execution_count": 39,
   "metadata": {},
   "outputs": [
    {
     "output_type": "execute_result",
     "data": {
      "text/plain": "array([[16, 17, 18, 19, 20],\n       [21, 22, 23, 24, 25]])"
     },
     "metadata": {},
     "execution_count": 39
    }
   ],
   "source": [
    "mat[3:5]"
   ]
  },
  {
   "cell_type": "code",
   "execution_count": 45,
   "metadata": {},
   "outputs": [
    {
     "output_type": "execute_result",
     "data": {
      "text/plain": "325"
     },
     "metadata": {},
     "execution_count": 45
    }
   ],
   "source": [
    "np.sum(mat)"
   ]
  },
  {
   "cell_type": "code",
   "execution_count": 47,
   "metadata": {},
   "outputs": [
    {
     "output_type": "execute_result",
     "data": {
      "text/plain": "7.211102550927978"
     },
     "metadata": {},
     "execution_count": 47
    }
   ],
   "source": [
    "np.std(mat)"
   ]
  },
  {
   "cell_type": "code",
   "execution_count": 59,
   "metadata": {},
   "outputs": [
    {
     "output_type": "execute_result",
     "data": {
      "text/plain": "array([55, 60, 65, 70, 75])"
     },
     "metadata": {},
     "execution_count": 59
    }
   ],
   "source": [
    "column_sums = mat.sum(axis=0)\n",
    "column_sums"
   ]
  },
  {
   "cell_type": "code",
   "execution_count": 60,
   "metadata": {},
   "outputs": [
    {
     "output_type": "execute_result",
     "data": {
      "text/plain": "array([ 15,  40,  65,  90, 115])"
     },
     "metadata": {},
     "execution_count": 60
    }
   ],
   "source": [
    "mat.sum(axis=1) # sum of rows"
   ]
  },
  {
   "cell_type": "code",
   "execution_count": 1,
   "metadata": {
    "tags": []
   },
   "outputs": [
    {
     "output_type": "stream",
     "name": "stdout",
     "text": "Package                            Version\n---------------------------------- -------------------\nabsl-py                            0.9.0\nalabaster                          0.7.12\nanaconda-client                    1.7.2\nanaconda-navigator                 1.9.12\nanaconda-project                   0.8.3\napplaunchservices                  0.2.1\nappnope                            0.1.0\nappscript                          1.0.1\nargh                               0.26.2\nasgiref                            3.2.10\nasn1crypto                         1.3.0\nastroid                            2.3.3\nastropy                            4.0\nastunparse                         1.6.3\natomicwrites                       1.3.0\nattrs                              19.3.0\nautopep8                           1.4.4\nBabel                              2.8.0\nbackcall                           0.1.0\nbackports.functools-lru-cache      1.6.1\nbackports.shutil-get-terminal-size 1.0.0\nbackports.tempfile                 1.0\nbackports.weakref                  1.0.post1\nbeautifulsoup4                     4.8.2\nbitarray                           1.2.1\nbkcharts                           0.2\nbleach                             3.1.0\nbm3d                               3.0.7\nbokeh                              1.4.0\nboto                               2.49.0\nBottleneck                         1.3.2\ncachetools                         4.1.0\ncertifi                            2019.11.28\ncffi                               1.14.0\nchardet                            3.0.4\nClick                              7.0\ncloudpickle                        1.3.0\nclyent                             1.2.2\ncolorama                           0.4.3\nconda                              4.8.2\nconda-build                        3.18.11\nconda-package-handling             1.6.0\nconda-verify                       3.4.2\ncontextlib2                        0.6.0.post1\ncryptography                       2.8\ncycler                             0.10.0\nCython                             0.29.15\ncytoolz                            0.10.1\ndask                               2.11.0\ndecorator                          4.4.1\ndefusedxml                         0.6.0\ndiff-match-patch                   20181111\ndistributed                        2.11.0\nDjango                             3.0.8\ndnspython                          1.16.0\ndocutils                           0.16\nentrypoints                        0.3\net-xmlfile                         1.0.1\neventlet                           0.25.2\nfastcache                          1.1.0\nfilelock                           3.0.12\nflake8                             3.7.9\nFlask                              1.1.1\nfsspec                             0.6.2\nfuture                             0.18.2\ngast                               0.3.3\ngevent                             1.4.0\nglob2                              0.7\ngmpy2                              2.0.8\ngoogle-auth                        1.18.0\ngoogle-auth-oauthlib               0.4.1\ngoogle-pasta                       0.2.0\ngreenlet                           0.4.15\ngrpcio                             1.30.0\nh5py                               2.10.0\nHeapDict                           1.0.1\nhtml5lib                           1.0.1\nhypothesis                         5.5.4\nidna                               2.8\nimageio                            2.6.1\nimagesize                          1.2.0\nimportlib-metadata                 1.5.0\nintervaltree                       3.0.2\nipykernel                          5.1.4\nipython                            7.12.0\nipython-genutils                   0.2.0\nipywidgets                         7.5.1\nisort                              4.3.21\nitsdangerous                       1.1.0\njdcal                              1.4.1\njedi                               0.14.1\nJinja2                             2.11.1\njoblib                             0.14.1\njson5                              0.9.1\njsonschema                         3.2.0\njupyter                            1.0.0\njupyter-client                     5.3.4\njupyter-console                    6.1.0\njupyter-core                       4.6.1\njupyterlab                         1.2.6\njupyterlab-server                  1.0.6\nKeras-Preprocessing                1.1.2\nkeyring                            21.1.0\nkiwisolver                         1.1.0\nlazy-object-proxy                  1.4.3\nlibarchive-c                       2.8\nlief                               0.9.0\nllvmlite                           0.31.0\nlocket                             0.2.0\nlxml                               4.5.0\nMarkdown                           3.2.2\nMarkupSafe                         1.1.1\nmatplotlib                         3.1.3\nmccabe                             0.6.1\nmistune                            0.8.4\nmkl-fft                            1.0.15\nmkl-random                         1.1.0\nmkl-service                        2.3.0\nmock                               4.0.1\nmonotonic                          1.5\nmore-itertools                     8.2.0\nmpmath                             1.1.0\nmsgpack                            0.6.1\nmultipledispatch                   0.6.0\nnavigator-updater                  0.2.1\nnbconvert                          5.6.1\nnbformat                           5.0.4\nnetworkx                           2.4\nnltk                               3.4.5\nnose                               1.3.7\nnotebook                           6.0.3\nnumba                              0.48.0\nnumexpr                            2.7.1\nnumpy                              1.18.1\nnumpydoc                           0.9.2\noauthlib                           3.1.0\nolefile                            0.46\nopencv-python                      4.2.0.34\nopenpyxl                           3.0.3\nopt-einsum                         3.2.1\npackaging                          20.1\npandas                             1.0.1\npandocfilters                      1.4.2\nparso                              0.5.2\npartd                              1.1.0\npath                               13.1.0\npathlib2                           2.3.5\npathtools                          0.1.2\npatsy                              0.5.1\npep8                               1.7.1\npexpect                            4.8.0\npickleshare                        0.7.5\nPillow                             7.0.0\npip                                20.2.2\npkginfo                            1.5.0.1\npluggy                             0.13.1\nply                                3.11\nprometheus-client                  0.7.1\nprompt-toolkit                     3.0.3\nprotobuf                           3.12.2\npsutil                             5.6.7\nptyprocess                         0.6.0\npy                                 1.8.1\npyasn1                             0.4.8\npyasn1-modules                     0.2.8\npycodestyle                        2.5.0\npycosat                            0.6.3\npycparser                          2.19\npycrypto                           2.6.1\npycurl                             7.43.0.5\npydocstyle                         4.0.1\npyflakes                           2.1.1\nPygments                           2.5.2\npylint                             2.4.4\npyodbc                             4.0.0-unsupported\npyOpenSSL                          19.1.0\npyparsing                          2.4.6\npypng                              0.0.20\npyrsistent                         0.15.7\nPySocks                            1.7.1\npytest                             5.3.5\npytest-arraydiff                   0.3\npytest-astropy                     0.8.0\npytest-astropy-header              0.1.2\npytest-doctestplus                 0.5.0\npytest-openfiles                   0.4.0\npytest-remotedata                  0.3.2\npython-dateutil                    2.8.1\npython-jsonrpc-server              0.3.4\npython-language-server             0.31.7\npytz                               2019.3\nPyWavelets                         1.1.1\nPyYAML                             5.3\npyzmq                              18.1.1\nQDarkStyle                         2.8\nQtAwesome                          0.6.1\nqtconsole                          4.6.0\nQtPy                               1.9.0\nregex                              2020.4.4\nrequests                           2.22.0\nrequests-oauthlib                  1.3.0\nrope                               0.16.0\nrsa                                4.6\nRtree                              0.9.3\nruamel-yaml                        0.15.87\nscikit-image                       0.16.2\nscikit-learn                       0.22.1\nscipy                              1.4.1\nseaborn                            0.10.0\nSend2Trash                         1.5.0\nsetuptools                         46.0.0.post20200309\nsimplegeneric                      0.8.1\nsingledispatch                     3.4.0.3\nsix                                1.14.0\nsnowballstemmer                    2.0.0\nsortedcollections                  1.1.2\nsortedcontainers                   2.1.0\nsoupsieve                          1.9.5\nSphinx                             2.4.0\nsphinxcontrib-applehelp            1.0.1\nsphinxcontrib-devhelp              1.0.1\nsphinxcontrib-htmlhelp             1.0.2\nsphinxcontrib-jsmath               1.0.1\nsphinxcontrib-qthelp               1.0.2\nsphinxcontrib-serializinghtml      1.1.3\nsphinxcontrib-websupport           1.2.0\nspyder                             4.0.1\nspyder-kernels                     1.8.1\nSQLAlchemy                         1.3.13\nsqlparse                           0.3.1\nstatsmodels                        0.11.0\nsympy                              1.5.1\ntables                             3.6.1\ntabulate                           0.8.7\ntblib                              1.6.0\ntensorboard                        2.2.2\ntensorboard-plugin-wit             1.6.0.post3\ntensorflow-estimator               2.2.0\ntermcolor                          1.1.0\nterminado                          0.8.3\ntestpath                           0.4.4\ntoolz                              0.10.0\ntornado                            6.0.3\ntqdm                               4.42.1\ntraitlets                          4.3.3\nujson                              1.35\nunicodecsv                         0.14.1\nurllib3                            1.25.8\nwatchdog                           0.10.2\nwcwidth                            0.1.8\nwebencodings                       0.5.1\nWerkzeug                           1.0.0\nwheel                              0.34.2\nwidgetsnbextension                 3.5.1\nwrapt                              1.11.2\nwurlitzer                          2.0.0\nxlrd                               1.2.0\nXlsxWriter                         1.2.7\nxlwings                            0.17.1\nxlwt                               1.3.0\nxmltodict                          0.12.0\nyapf                               0.28.0\nzict                               1.0.0\nzipp                               2.2.0\nNote: you may need to restart the kernel to use updated packages.\n"
    }
   ],
   "source": [
    "pip list"
   ]
  },
  {
   "cell_type": "code",
   "execution_count": null,
   "metadata": {},
   "outputs": [],
   "source": []
  }
 ]
}